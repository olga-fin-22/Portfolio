{
 "cells": [
  {
   "cell_type": "markdown",
   "id": "762d4ce8",
   "metadata": {},
   "source": [
    " # Статистический анализ"
   ]
  },
  {
   "cell_type": "markdown",
   "id": "d7eb2a69",
   "metadata": {},
   "source": [
    "## Описание проекта, постановка цели и план работы"
   ]
  },
  {
   "cell_type": "markdown",
   "id": "a9da2d5b",
   "metadata": {},
   "source": [
    "Нам передали данные от популярного сервиса аренды самокатов GoFast о некоторых пользователях из нескольких городов, а также об их поездках. В основных данных есть информация о пользователях, их поездках и подписках. \n",
    "\n",
    "Цель данного проекта  проанализировать данные и проверить некоторые гипотезы, которые могут помочь бизнесу вырасти.\n",
    "\n",
    "Для этого нам необходимо загрузить данные и изучить общую информацию о каждом датафрейме. \n",
    "После проверить наличие пропущенных значений и дубликатов в датафреймах, обработать их, если такие значения присутствуют.\n",
    "Произвести исследовательский анализ на основе информации о пользователях и их поездках: частота встречаемости городов, возраст пользователей и т.д.\n",
    "Сравнить показатели расстояния и времени поездок по пользователям с подпиской и без нее.\n",
    "Вывести данные по прибыли от пользователей двух категорий.\n",
    "И рассмотреть некоторые гипотезы и постараться ответить на вопросы: Тратят ли пользователи с подпиской больше времени на поездки? Среднее расстояние, которое проезжают пользователи с подпиской за одну поездку, не превышает 3130 метров? Будет ли помесячная выручка от пользователей с подпиской по месяцам выше, чем выручка от пользователей без подписки?\n"
   ]
  },
  {
   "cell_type": "markdown",
   "id": "f29a6483",
   "metadata": {},
   "source": [
    "## Обзор данных"
   ]
  },
  {
   "cell_type": "code",
   "execution_count": 1,
   "id": "ef24bd75",
   "metadata": {},
   "outputs": [],
   "source": [
    "#импорт библиотеки pandas\n",
    "import pandas as pd\n",
    "import matplotlib.pyplot as plt\n",
    "import numpy as np\n",
    "from scipy import stats as st\n",
    "from math import sqrt\n",
    "import seaborn as sns"
   ]
  },
  {
   "cell_type": "code",
   "execution_count": 2,
   "id": "5fe5b9b9",
   "metadata": {},
   "outputs": [],
   "source": [
    "#cчитывание CSV-файла с данными с помощью библиотеки pandas и сохранение в датафрейм\n",
    "user = pd.read_csv('/datasets/users_go.csv')"
   ]
  },
  {
   "cell_type": "code",
   "execution_count": 3,
   "id": "4d817d05",
   "metadata": {},
   "outputs": [
    {
     "data": {
      "text/html": [
       "<div>\n",
       "<style scoped>\n",
       "    .dataframe tbody tr th:only-of-type {\n",
       "        vertical-align: middle;\n",
       "    }\n",
       "\n",
       "    .dataframe tbody tr th {\n",
       "        vertical-align: top;\n",
       "    }\n",
       "\n",
       "    .dataframe thead th {\n",
       "        text-align: right;\n",
       "    }\n",
       "</style>\n",
       "<table border=\"1\" class=\"dataframe\">\n",
       "  <thead>\n",
       "    <tr style=\"text-align: right;\">\n",
       "      <th></th>\n",
       "      <th>user_id</th>\n",
       "      <th>name</th>\n",
       "      <th>age</th>\n",
       "      <th>city</th>\n",
       "      <th>subscription_type</th>\n",
       "    </tr>\n",
       "  </thead>\n",
       "  <tbody>\n",
       "    <tr>\n",
       "      <th>0</th>\n",
       "      <td>1</td>\n",
       "      <td>Кира</td>\n",
       "      <td>22</td>\n",
       "      <td>Тюмень</td>\n",
       "      <td>ultra</td>\n",
       "    </tr>\n",
       "    <tr>\n",
       "      <th>1</th>\n",
       "      <td>2</td>\n",
       "      <td>Станислав</td>\n",
       "      <td>31</td>\n",
       "      <td>Омск</td>\n",
       "      <td>ultra</td>\n",
       "    </tr>\n",
       "    <tr>\n",
       "      <th>2</th>\n",
       "      <td>3</td>\n",
       "      <td>Алексей</td>\n",
       "      <td>20</td>\n",
       "      <td>Москва</td>\n",
       "      <td>ultra</td>\n",
       "    </tr>\n",
       "    <tr>\n",
       "      <th>3</th>\n",
       "      <td>4</td>\n",
       "      <td>Константин</td>\n",
       "      <td>26</td>\n",
       "      <td>Ростов-на-Дону</td>\n",
       "      <td>ultra</td>\n",
       "    </tr>\n",
       "    <tr>\n",
       "      <th>4</th>\n",
       "      <td>5</td>\n",
       "      <td>Адель</td>\n",
       "      <td>28</td>\n",
       "      <td>Омск</td>\n",
       "      <td>ultra</td>\n",
       "    </tr>\n",
       "    <tr>\n",
       "      <th>5</th>\n",
       "      <td>6</td>\n",
       "      <td>Регина</td>\n",
       "      <td>25</td>\n",
       "      <td>Краснодар</td>\n",
       "      <td>ultra</td>\n",
       "    </tr>\n",
       "    <tr>\n",
       "      <th>6</th>\n",
       "      <td>7</td>\n",
       "      <td>Игорь</td>\n",
       "      <td>23</td>\n",
       "      <td>Омск</td>\n",
       "      <td>ultra</td>\n",
       "    </tr>\n",
       "    <tr>\n",
       "      <th>7</th>\n",
       "      <td>8</td>\n",
       "      <td>Юрий</td>\n",
       "      <td>23</td>\n",
       "      <td>Краснодар</td>\n",
       "      <td>ultra</td>\n",
       "    </tr>\n",
       "    <tr>\n",
       "      <th>8</th>\n",
       "      <td>9</td>\n",
       "      <td>Ян</td>\n",
       "      <td>21</td>\n",
       "      <td>Пятигорск</td>\n",
       "      <td>ultra</td>\n",
       "    </tr>\n",
       "    <tr>\n",
       "      <th>9</th>\n",
       "      <td>10</td>\n",
       "      <td>Валерий</td>\n",
       "      <td>18</td>\n",
       "      <td>Екатеринбург</td>\n",
       "      <td>ultra</td>\n",
       "    </tr>\n",
       "  </tbody>\n",
       "</table>\n",
       "</div>"
      ],
      "text/plain": [
       "   user_id        name  age            city subscription_type\n",
       "0        1        Кира   22          Тюмень             ultra\n",
       "1        2   Станислав   31            Омск             ultra\n",
       "2        3     Алексей   20          Москва             ultra\n",
       "3        4  Константин   26  Ростов-на-Дону             ultra\n",
       "4        5       Адель   28            Омск             ultra\n",
       "5        6      Регина   25       Краснодар             ultra\n",
       "6        7       Игорь   23            Омск             ultra\n",
       "7        8        Юрий   23       Краснодар             ultra\n",
       "8        9          Ян   21       Пятигорск             ultra\n",
       "9       10     Валерий   18    Екатеринбург             ultra"
      ]
     },
     "execution_count": 3,
     "metadata": {},
     "output_type": "execute_result"
    }
   ],
   "source": [
    "#выведение первых 10 строчек датафрейма методом head()\n",
    "user.head(10)"
   ]
  },
  {
   "cell_type": "code",
   "execution_count": 4,
   "id": "d7bf04aa",
   "metadata": {},
   "outputs": [
    {
     "name": "stdout",
     "output_type": "stream",
     "text": [
      "<class 'pandas.core.frame.DataFrame'>\n",
      "RangeIndex: 1565 entries, 0 to 1564\n",
      "Data columns (total 5 columns):\n",
      " #   Column             Non-Null Count  Dtype \n",
      "---  ------             --------------  ----- \n",
      " 0   user_id            1565 non-null   int64 \n",
      " 1   name               1565 non-null   object\n",
      " 2   age                1565 non-null   int64 \n",
      " 3   city               1565 non-null   object\n",
      " 4   subscription_type  1565 non-null   object\n",
      "dtypes: int64(2), object(3)\n",
      "memory usage: 61.3+ KB\n"
     ]
    }
   ],
   "source": [
    "#выведение основной информации по датафрейму методом info()\n",
    "user.info()"
   ]
  },
  {
   "cell_type": "code",
   "execution_count": 5,
   "id": "cd9b7c61",
   "metadata": {},
   "outputs": [],
   "source": [
    "#cчитывание CSV-файла с данными с помощью библиотеки pandas и сохранение в датафрейм\n",
    "distance = pd.read_csv('/datasets/rides_go.csv')"
   ]
  },
  {
   "cell_type": "code",
   "execution_count": 6,
   "id": "e819e72f",
   "metadata": {},
   "outputs": [
    {
     "data": {
      "text/html": [
       "<div>\n",
       "<style scoped>\n",
       "    .dataframe tbody tr th:only-of-type {\n",
       "        vertical-align: middle;\n",
       "    }\n",
       "\n",
       "    .dataframe tbody tr th {\n",
       "        vertical-align: top;\n",
       "    }\n",
       "\n",
       "    .dataframe thead th {\n",
       "        text-align: right;\n",
       "    }\n",
       "</style>\n",
       "<table border=\"1\" class=\"dataframe\">\n",
       "  <thead>\n",
       "    <tr style=\"text-align: right;\">\n",
       "      <th></th>\n",
       "      <th>user_id</th>\n",
       "      <th>distance</th>\n",
       "      <th>duration</th>\n",
       "      <th>date</th>\n",
       "    </tr>\n",
       "  </thead>\n",
       "  <tbody>\n",
       "    <tr>\n",
       "      <th>18058</th>\n",
       "      <td>1534</td>\n",
       "      <td>195.447469</td>\n",
       "      <td>6.469074</td>\n",
       "      <td>2021-06-11</td>\n",
       "    </tr>\n",
       "    <tr>\n",
       "      <th>18059</th>\n",
       "      <td>1534</td>\n",
       "      <td>3214.021065</td>\n",
       "      <td>18.343604</td>\n",
       "      <td>2021-06-18</td>\n",
       "    </tr>\n",
       "    <tr>\n",
       "      <th>18060</th>\n",
       "      <td>1534</td>\n",
       "      <td>3644.708038</td>\n",
       "      <td>20.289416</td>\n",
       "      <td>2021-08-08</td>\n",
       "    </tr>\n",
       "    <tr>\n",
       "      <th>18061</th>\n",
       "      <td>1534</td>\n",
       "      <td>3977.744996</td>\n",
       "      <td>26.916544</td>\n",
       "      <td>2021-08-20</td>\n",
       "    </tr>\n",
       "    <tr>\n",
       "      <th>18062</th>\n",
       "      <td>1534</td>\n",
       "      <td>4928.173852</td>\n",
       "      <td>22.560373</td>\n",
       "      <td>2021-09-13</td>\n",
       "    </tr>\n",
       "    <tr>\n",
       "      <th>18063</th>\n",
       "      <td>1534</td>\n",
       "      <td>3781.098080</td>\n",
       "      <td>19.822962</td>\n",
       "      <td>2021-11-04</td>\n",
       "    </tr>\n",
       "    <tr>\n",
       "      <th>18064</th>\n",
       "      <td>1534</td>\n",
       "      <td>2840.423057</td>\n",
       "      <td>21.409799</td>\n",
       "      <td>2021-11-16</td>\n",
       "    </tr>\n",
       "    <tr>\n",
       "      <th>18065</th>\n",
       "      <td>1534</td>\n",
       "      <td>3826.185507</td>\n",
       "      <td>18.435051</td>\n",
       "      <td>2021-11-18</td>\n",
       "    </tr>\n",
       "    <tr>\n",
       "      <th>18066</th>\n",
       "      <td>1534</td>\n",
       "      <td>2902.308661</td>\n",
       "      <td>16.674362</td>\n",
       "      <td>2021-11-27</td>\n",
       "    </tr>\n",
       "    <tr>\n",
       "      <th>18067</th>\n",
       "      <td>1534</td>\n",
       "      <td>2371.711192</td>\n",
       "      <td>15.893917</td>\n",
       "      <td>2021-12-29</td>\n",
       "    </tr>\n",
       "  </tbody>\n",
       "</table>\n",
       "</div>"
      ],
      "text/plain": [
       "       user_id     distance   duration        date\n",
       "18058     1534   195.447469   6.469074  2021-06-11\n",
       "18059     1534  3214.021065  18.343604  2021-06-18\n",
       "18060     1534  3644.708038  20.289416  2021-08-08\n",
       "18061     1534  3977.744996  26.916544  2021-08-20\n",
       "18062     1534  4928.173852  22.560373  2021-09-13\n",
       "18063     1534  3781.098080  19.822962  2021-11-04\n",
       "18064     1534  2840.423057  21.409799  2021-11-16\n",
       "18065     1534  3826.185507  18.435051  2021-11-18\n",
       "18066     1534  2902.308661  16.674362  2021-11-27\n",
       "18067     1534  2371.711192  15.893917  2021-12-29"
      ]
     },
     "execution_count": 6,
     "metadata": {},
     "output_type": "execute_result"
    }
   ],
   "source": [
    "#выведение первых 10 строчек датафрейма методом head()\n",
    "distance.tail(10)"
   ]
  },
  {
   "cell_type": "code",
   "execution_count": 7,
   "id": "704f6b4d",
   "metadata": {},
   "outputs": [
    {
     "name": "stdout",
     "output_type": "stream",
     "text": [
      "<class 'pandas.core.frame.DataFrame'>\n",
      "RangeIndex: 18068 entries, 0 to 18067\n",
      "Data columns (total 4 columns):\n",
      " #   Column    Non-Null Count  Dtype  \n",
      "---  ------    --------------  -----  \n",
      " 0   user_id   18068 non-null  int64  \n",
      " 1   distance  18068 non-null  float64\n",
      " 2   duration  18068 non-null  float64\n",
      " 3   date      18068 non-null  object \n",
      "dtypes: float64(2), int64(1), object(1)\n",
      "memory usage: 564.8+ KB\n"
     ]
    }
   ],
   "source": [
    "#выведение основной информации по датафрейму методом info()\n",
    "distance.info()"
   ]
  },
  {
   "cell_type": "code",
   "execution_count": 8,
   "id": "afcabc43",
   "metadata": {},
   "outputs": [],
   "source": [
    "#cчитывание CSV-файла с данными с помощью библиотеки pandas и сохранение в датафрейм\n",
    "subscription_type = pd.read_csv('/datasets/subscriptions_go.csv')"
   ]
  },
  {
   "cell_type": "code",
   "execution_count": 9,
   "id": "89084199",
   "metadata": {},
   "outputs": [
    {
     "data": {
      "text/html": [
       "<div>\n",
       "<style scoped>\n",
       "    .dataframe tbody tr th:only-of-type {\n",
       "        vertical-align: middle;\n",
       "    }\n",
       "\n",
       "    .dataframe tbody tr th {\n",
       "        vertical-align: top;\n",
       "    }\n",
       "\n",
       "    .dataframe thead th {\n",
       "        text-align: right;\n",
       "    }\n",
       "</style>\n",
       "<table border=\"1\" class=\"dataframe\">\n",
       "  <thead>\n",
       "    <tr style=\"text-align: right;\">\n",
       "      <th></th>\n",
       "      <th>subscription_type</th>\n",
       "      <th>minute_price</th>\n",
       "      <th>start_ride_price</th>\n",
       "      <th>subscription_fee</th>\n",
       "    </tr>\n",
       "  </thead>\n",
       "  <tbody>\n",
       "    <tr>\n",
       "      <th>0</th>\n",
       "      <td>free</td>\n",
       "      <td>8</td>\n",
       "      <td>50</td>\n",
       "      <td>0</td>\n",
       "    </tr>\n",
       "    <tr>\n",
       "      <th>1</th>\n",
       "      <td>ultra</td>\n",
       "      <td>6</td>\n",
       "      <td>0</td>\n",
       "      <td>199</td>\n",
       "    </tr>\n",
       "  </tbody>\n",
       "</table>\n",
       "</div>"
      ],
      "text/plain": [
       "  subscription_type  minute_price  start_ride_price  subscription_fee\n",
       "0              free             8                50                 0\n",
       "1             ultra             6                 0               199"
      ]
     },
     "execution_count": 9,
     "metadata": {},
     "output_type": "execute_result"
    }
   ],
   "source": [
    "#выведение первых 5 строчек датафрейма методом head()\n",
    "subscription_type.head(5)"
   ]
  },
  {
   "cell_type": "code",
   "execution_count": 10,
   "id": "ac08a884",
   "metadata": {},
   "outputs": [
    {
     "name": "stdout",
     "output_type": "stream",
     "text": [
      "<class 'pandas.core.frame.DataFrame'>\n",
      "RangeIndex: 2 entries, 0 to 1\n",
      "Data columns (total 4 columns):\n",
      " #   Column             Non-Null Count  Dtype \n",
      "---  ------             --------------  ----- \n",
      " 0   subscription_type  2 non-null      object\n",
      " 1   minute_price       2 non-null      int64 \n",
      " 2   start_ride_price   2 non-null      int64 \n",
      " 3   subscription_fee   2 non-null      int64 \n",
      "dtypes: int64(3), object(1)\n",
      "memory usage: 192.0+ bytes\n"
     ]
    }
   ],
   "source": [
    "#выведение основной информации по датафрейму методом info()\n",
    "subscription_type.info()"
   ]
  },
  {
   "cell_type": "markdown",
   "id": "10d86e52",
   "metadata": {},
   "source": [
    "**Комментарий:**    *После загрузки данных и просмотрев информацию по каждому датафрему, можем сказать, что в первом датафрейме мы можем найти информацию: id, имя, возраст, город и тип подписки пользователя, объем данных составляет 1565 строчек и 5 столбцов, после выведения информации методом info() так же можем увидеть, что данные без пропусков; во втором датафрейме записана информация: id, расстояние, продолжительность и дата поездки пользователя, объем данных составляет 18068 строчек и 4 столбца, после выведения информации методом info() так же можем увидеть, что данные без пропусков; в третьем условия подписки и без нее, объем данных в 2 строчки и 4 столбца, после выведения информации методом info() так же можем увидеть, что данные без пропусков.*"
   ]
  },
  {
   "cell_type": "markdown",
   "id": "199bc877",
   "metadata": {},
   "source": [
    "## Предобработка данных"
   ]
  },
  {
   "cell_type": "markdown",
   "id": "194fe0a1",
   "metadata": {},
   "source": [
    "### Изменение типов данных"
   ]
  },
  {
   "cell_type": "code",
   "execution_count": 11,
   "id": "62b487ca",
   "metadata": {},
   "outputs": [],
   "source": [
    "#применение к временному столбцу датафрейма метода to_datetime и приведение к типу даты pandas\n",
    "distance['date'] = pd.to_datetime(distance['date'], format='%Y-%m-%d')"
   ]
  },
  {
   "cell_type": "code",
   "execution_count": 12,
   "id": "e2e4da2c",
   "metadata": {},
   "outputs": [],
   "source": [
    "#временной столбец датафрейма 'date' помещаем в класс DatetimeIndex и применяем к нему атрибут month\n",
    "distance['month'] = pd.DatetimeIndex(distance['date']).month"
   ]
  },
  {
   "cell_type": "code",
   "execution_count": 13,
   "id": "30de6c51",
   "metadata": {},
   "outputs": [
    {
     "data": {
      "text/plain": [
       "Timedelta('363 days 00:00:00')"
      ]
     },
     "execution_count": 13,
     "metadata": {},
     "output_type": "execute_result"
    }
   ],
   "source": [
    "# выведение временного промежутка данных\n",
    "date = distance['date'].max() - distance['date'].min()\n",
    "date"
   ]
  },
  {
   "cell_type": "markdown",
   "id": "9e129c8e",
   "metadata": {},
   "source": [
    "### Обработка пропущенных значений"
   ]
  },
  {
   "cell_type": "code",
   "execution_count": 15,
   "id": "521bca0d",
   "metadata": {},
   "outputs": [
    {
     "data": {
      "text/plain": [
       "user_id              0\n",
       "name                 0\n",
       "age                  0\n",
       "city                 0\n",
       "subscription_type    0\n",
       "dtype: int64"
      ]
     },
     "execution_count": 15,
     "metadata": {},
     "output_type": "execute_result"
    }
   ],
   "source": [
    "#выведение количества пропущенных значений методом isna()\n",
    "user.isna().sum()"
   ]
  },
  {
   "cell_type": "code",
   "execution_count": 16,
   "id": "8e878cd2",
   "metadata": {},
   "outputs": [
    {
     "data": {
      "text/plain": [
       "user_id     0\n",
       "distance    0\n",
       "duration    0\n",
       "date        0\n",
       "month       0\n",
       "dtype: int64"
      ]
     },
     "execution_count": 16,
     "metadata": {},
     "output_type": "execute_result"
    }
   ],
   "source": [
    "#выведение количества пропущенных значений методом isna()\n",
    "distance.isna().sum()"
   ]
  },
  {
   "cell_type": "code",
   "execution_count": 17,
   "id": "b48c4458",
   "metadata": {},
   "outputs": [
    {
     "data": {
      "text/plain": [
       "subscription_type    0\n",
       "minute_price         0\n",
       "start_ride_price     0\n",
       "subscription_fee     0\n",
       "dtype: int64"
      ]
     },
     "execution_count": 17,
     "metadata": {},
     "output_type": "execute_result"
    }
   ],
   "source": [
    "#выведение количества пропущенных значений методом isna()\n",
    "subscription_type.isna().sum()"
   ]
  },
  {
   "cell_type": "markdown",
   "id": "0b9d5ed4",
   "metadata": {},
   "source": [
    "### Обработка дубликатов"
   ]
  },
  {
   "cell_type": "code",
   "execution_count": 18,
   "id": "fcdc262c",
   "metadata": {},
   "outputs": [
    {
     "data": {
      "text/plain": [
       "31"
      ]
     },
     "execution_count": 18,
     "metadata": {},
     "output_type": "execute_result"
    }
   ],
   "source": [
    "#выведение количества явных дубликатов методом duplicated().sum()\n",
    "user.duplicated().sum()"
   ]
  },
  {
   "cell_type": "code",
   "execution_count": 19,
   "id": "c933b870",
   "metadata": {},
   "outputs": [],
   "source": [
    "#удаление явных дубликатов методом drop_duplicates()\n",
    "user = user.drop_duplicates()"
   ]
  },
  {
   "cell_type": "code",
   "execution_count": 20,
   "id": "8b9eee17",
   "metadata": {
    "scrolled": true
   },
   "outputs": [
    {
     "data": {
      "text/plain": [
       "0"
      ]
     },
     "execution_count": 20,
     "metadata": {},
     "output_type": "execute_result"
    }
   ],
   "source": [
    "#проверка количества явных дубликатов методом duplicated().sum()\n",
    "distance.duplicated().sum()"
   ]
  },
  {
   "cell_type": "markdown",
   "id": "9939406b",
   "metadata": {},
   "source": [
    "**Комментарий:**    *После обзора данных приступаем к предобработке данных, просматриваем по каждому датафрему количество пропущенных значений, как и предполагалось на этапе обзора данных, пропущенных значений не найдено, нам переданы полные данные, в связи с чем получим более точный анализ. После произвели поиск явных дубликатов с дальнейшим их удалением.*"
   ]
  },
  {
   "cell_type": "markdown",
   "id": "02fb6d89",
   "metadata": {},
   "source": [
    "##  Исследовательский анализ данных"
   ]
  },
  {
   "cell_type": "markdown",
   "id": "5fd9988a",
   "metadata": {},
   "source": [
    "### Частота встречаемости городов"
   ]
  },
  {
   "cell_type": "code",
   "execution_count": 21,
   "id": "3257f1d0",
   "metadata": {},
   "outputs": [
    {
     "data": {
      "text/plain": [
       "Пятигорск         219\n",
       "Екатеринбург      204\n",
       "Ростов-на-Дону    198\n",
       "Краснодар         193\n",
       "Сочи              189\n",
       "Омск              183\n",
       "Тюмень            180\n",
       "Москва            168\n",
       "Name: city, dtype: int64"
      ]
     },
     "execution_count": 21,
     "metadata": {},
     "output_type": "execute_result"
    }
   ],
   "source": [
    "user['city'].value_counts()"
   ]
  },
  {
   "cell_type": "code",
   "execution_count": 22,
   "id": "f74332a9",
   "metadata": {},
   "outputs": [
    {
     "data": {
      "image/png": "[encoded data removed]",
      "text/plain": [
       "<Figure size 1368x432 with 1 Axes>"
      ]
     },
     "metadata": {
      "needs_background": "light"
     },
     "output_type": "display_data"
    }
   ],
   "source": [
    "#построение баров с сортировкой по городам\n",
    "(user['city']\n",
    "      .value_counts()\n",
    "      .plot(kind = 'barh',x = 'city', y = 'количество пользователей', figsize = (19,6), rot = -5,\n",
    "                  legend = False, fontsize = 14)\n",
    "            .set_title('Частота встречаемости городов' + \"\\n\", fontsize = 18, color = 'SteelBlue')    \n",
    "        );    "
   ]
  },
  {
   "cell_type": "markdown",
   "id": "022563d1",
   "metadata": {},
   "source": [
    "### Соотношение пользователей с подпиской  и без подписки"
   ]
  },
  {
   "cell_type": "code",
   "execution_count": 23,
   "id": "911fbe60",
   "metadata": {},
   "outputs": [
    {
     "data": {
      "text/html": [
       "<div>\n",
       "<style scoped>\n",
       "    .dataframe tbody tr th:only-of-type {\n",
       "        vertical-align: middle;\n",
       "    }\n",
       "\n",
       "    .dataframe tbody tr th {\n",
       "        vertical-align: top;\n",
       "    }\n",
       "\n",
       "    .dataframe thead th {\n",
       "        text-align: right;\n",
       "    }\n",
       "</style>\n",
       "<table border=\"1\" class=\"dataframe\">\n",
       "  <thead>\n",
       "    <tr style=\"text-align: right;\">\n",
       "      <th></th>\n",
       "      <th>тип подписки</th>\n",
       "      <th>количество пользователей</th>\n",
       "    </tr>\n",
       "  </thead>\n",
       "  <tbody>\n",
       "    <tr>\n",
       "      <th>0</th>\n",
       "      <td>free</td>\n",
       "      <td>835</td>\n",
       "    </tr>\n",
       "    <tr>\n",
       "      <th>1</th>\n",
       "      <td>ultra</td>\n",
       "      <td>699</td>\n",
       "    </tr>\n",
       "  </tbody>\n",
       "</table>\n",
       "</div>"
      ],
      "text/plain": [
       "  тип подписки  количество пользователей\n",
       "0         free                       835\n",
       "1        ultra                       699"
      ]
     },
     "execution_count": 23,
     "metadata": {},
     "output_type": "execute_result"
    }
   ],
   "source": [
    "#формирование df группоривкой значений столбца 'subscription_type' и подсчет кол-ва значений столбца 'user_id' методом agg()\n",
    "user_subscription = user.groupby('subscription_type', as_index=False).agg({'user_id':'count'})\n",
    "user_subscription\n",
    "user_subscription.columns=['тип подписки', 'количество пользователей']\n",
    "user_subscription"
   ]
  },
  {
   "cell_type": "code",
   "execution_count": 24,
   "id": "bd582495",
   "metadata": {
    "scrolled": true
   },
   "outputs": [
    {
     "data": {
      "image/png": "[encoded data removed]",
      "text/plain": [
       "<Figure size 504x288 with 1 Axes>"
      ]
     },
     "metadata": {
      "needs_background": "light"
     },
     "output_type": "display_data"
    }
   ],
   "source": [
    "#построение баров по соотношению типов подписок\n",
    "(user_subscription\n",
    "            .plot(kind = 'bar',x = 'тип подписки', figsize = (7,4), legend = False, fontsize = 14)\n",
    "            .set_title('Соотношение пользователей с подпиской и без нее' + \"\\n\", fontsize = 18, color = 'SteelBlue')    \n",
    "        );   "
   ]
  },
  {
   "cell_type": "code",
   "execution_count": 25,
   "id": "5b463760",
   "metadata": {},
   "outputs": [
    {
     "data": {
      "image/png": "[encoded data removed]",
      "text/plain": [
       "<Figure size 1080x360 with 1 Axes>"
      ]
     },
     "metadata": {},
     "output_type": "display_data"
    }
   ],
   "source": [
    "#построение круговой диаграммы с процентным соотношением\n",
    "user_pie_subscription = user_subscription['тип подписки']\n",
    "user_pie_count_subscription = user_subscription['количество пользователей']\n",
    "\n",
    "fig, ax = plt.subplots(figsize = (15,5))\n",
    "ax.pie(user_pie_count_subscription, labels=user_pie_subscription, autopct='%1.1f%%',  shadow=True, \n",
    "       wedgeprops={'lw':1, 'ls':'--','edgecolor':'k'},rotatelabels=False)\n",
    "ax.axis('equal')\n",
    "plt.title('Соотношение пользователей с подпиской и без нее',fontsize = 16, color = 'SteelBlue')\n",
    "plt.show()"
   ]
  },
  {
   "cell_type": "markdown",
   "id": "8054a908",
   "metadata": {},
   "source": [
    "### Возраст пользователей"
   ]
  },
  {
   "cell_type": "code",
   "execution_count": 26,
   "id": "14e3752a",
   "metadata": {},
   "outputs": [
    {
     "data": {
      "text/html": [
       "<div>\n",
       "<style scoped>\n",
       "    .dataframe tbody tr th:only-of-type {\n",
       "        vertical-align: middle;\n",
       "    }\n",
       "\n",
       "    .dataframe tbody tr th {\n",
       "        vertical-align: top;\n",
       "    }\n",
       "\n",
       "    .dataframe thead th {\n",
       "        text-align: right;\n",
       "    }\n",
       "</style>\n",
       "<table border=\"1\" class=\"dataframe\">\n",
       "  <thead>\n",
       "    <tr style=\"text-align: right;\">\n",
       "      <th></th>\n",
       "      <th>возраст</th>\n",
       "      <th>количество пользователей</th>\n",
       "    </tr>\n",
       "  </thead>\n",
       "  <tbody>\n",
       "    <tr>\n",
       "      <th>28</th>\n",
       "      <td>43</td>\n",
       "      <td>1</td>\n",
       "    </tr>\n",
       "    <tr>\n",
       "      <th>27</th>\n",
       "      <td>39</td>\n",
       "      <td>1</td>\n",
       "    </tr>\n",
       "    <tr>\n",
       "      <th>26</th>\n",
       "      <td>38</td>\n",
       "      <td>3</td>\n",
       "    </tr>\n",
       "    <tr>\n",
       "      <th>25</th>\n",
       "      <td>37</td>\n",
       "      <td>2</td>\n",
       "    </tr>\n",
       "    <tr>\n",
       "      <th>24</th>\n",
       "      <td>36</td>\n",
       "      <td>6</td>\n",
       "    </tr>\n",
       "    <tr>\n",
       "      <th>23</th>\n",
       "      <td>35</td>\n",
       "      <td>15</td>\n",
       "    </tr>\n",
       "    <tr>\n",
       "      <th>22</th>\n",
       "      <td>34</td>\n",
       "      <td>19</td>\n",
       "    </tr>\n",
       "    <tr>\n",
       "      <th>21</th>\n",
       "      <td>33</td>\n",
       "      <td>39</td>\n",
       "    </tr>\n",
       "    <tr>\n",
       "      <th>20</th>\n",
       "      <td>32</td>\n",
       "      <td>41</td>\n",
       "    </tr>\n",
       "    <tr>\n",
       "      <th>19</th>\n",
       "      <td>31</td>\n",
       "      <td>48</td>\n",
       "    </tr>\n",
       "    <tr>\n",
       "      <th>18</th>\n",
       "      <td>30</td>\n",
       "      <td>68</td>\n",
       "    </tr>\n",
       "    <tr>\n",
       "      <th>17</th>\n",
       "      <td>29</td>\n",
       "      <td>68</td>\n",
       "    </tr>\n",
       "    <tr>\n",
       "      <th>16</th>\n",
       "      <td>28</td>\n",
       "      <td>112</td>\n",
       "    </tr>\n",
       "    <tr>\n",
       "      <th>15</th>\n",
       "      <td>27</td>\n",
       "      <td>119</td>\n",
       "    </tr>\n",
       "    <tr>\n",
       "      <th>14</th>\n",
       "      <td>26</td>\n",
       "      <td>131</td>\n",
       "    </tr>\n",
       "    <tr>\n",
       "      <th>13</th>\n",
       "      <td>25</td>\n",
       "      <td>145</td>\n",
       "    </tr>\n",
       "    <tr>\n",
       "      <th>12</th>\n",
       "      <td>24</td>\n",
       "      <td>132</td>\n",
       "    </tr>\n",
       "    <tr>\n",
       "      <th>11</th>\n",
       "      <td>23</td>\n",
       "      <td>129</td>\n",
       "    </tr>\n",
       "    <tr>\n",
       "      <th>10</th>\n",
       "      <td>22</td>\n",
       "      <td>119</td>\n",
       "    </tr>\n",
       "    <tr>\n",
       "      <th>9</th>\n",
       "      <td>21</td>\n",
       "      <td>93</td>\n",
       "    </tr>\n",
       "    <tr>\n",
       "      <th>8</th>\n",
       "      <td>20</td>\n",
       "      <td>71</td>\n",
       "    </tr>\n",
       "    <tr>\n",
       "      <th>7</th>\n",
       "      <td>19</td>\n",
       "      <td>47</td>\n",
       "    </tr>\n",
       "    <tr>\n",
       "      <th>6</th>\n",
       "      <td>18</td>\n",
       "      <td>46</td>\n",
       "    </tr>\n",
       "    <tr>\n",
       "      <th>5</th>\n",
       "      <td>17</td>\n",
       "      <td>26</td>\n",
       "    </tr>\n",
       "    <tr>\n",
       "      <th>4</th>\n",
       "      <td>16</td>\n",
       "      <td>19</td>\n",
       "    </tr>\n",
       "    <tr>\n",
       "      <th>3</th>\n",
       "      <td>15</td>\n",
       "      <td>13</td>\n",
       "    </tr>\n",
       "    <tr>\n",
       "      <th>2</th>\n",
       "      <td>14</td>\n",
       "      <td>9</td>\n",
       "    </tr>\n",
       "    <tr>\n",
       "      <th>1</th>\n",
       "      <td>13</td>\n",
       "      <td>8</td>\n",
       "    </tr>\n",
       "    <tr>\n",
       "      <th>0</th>\n",
       "      <td>12</td>\n",
       "      <td>4</td>\n",
       "    </tr>\n",
       "  </tbody>\n",
       "</table>\n",
       "</div>"
      ],
      "text/plain": [
       "    возраст  количество пользователей\n",
       "28       43                         1\n",
       "27       39                         1\n",
       "26       38                         3\n",
       "25       37                         2\n",
       "24       36                         6\n",
       "23       35                        15\n",
       "22       34                        19\n",
       "21       33                        39\n",
       "20       32                        41\n",
       "19       31                        48\n",
       "18       30                        68\n",
       "17       29                        68\n",
       "16       28                       112\n",
       "15       27                       119\n",
       "14       26                       131\n",
       "13       25                       145\n",
       "12       24                       132\n",
       "11       23                       129\n",
       "10       22                       119\n",
       "9        21                        93\n",
       "8        20                        71\n",
       "7        19                        47\n",
       "6        18                        46\n",
       "5        17                        26\n",
       "4        16                        19\n",
       "3        15                        13\n",
       "2        14                         9\n",
       "1        13                         8\n",
       "0        12                         4"
      ]
     },
     "execution_count": 26,
     "metadata": {},
     "output_type": "execute_result"
    }
   ],
   "source": [
    "#формирование df группоривкой значений столбца 'age' и подсчет кол-ва значений столбца 'user_id' методом agg() с сортировкой\n",
    "user_age = (user.groupby('age', as_index=False)\n",
    "             .agg({'user_id':'count'})\n",
    "             .sort_values(by='age', ascending=False)\n",
    "             )\n",
    "user_age.columns=['возраст', 'количество пользователей']\n",
    "user_age"
   ]
  },
  {
   "cell_type": "code",
   "execution_count": 27,
   "id": "7cdabc3f",
   "metadata": {},
   "outputs": [
    {
     "data": {
      "image/png": "[encoded data removed]",
      "text/plain": [
       "<Figure size 1368x432 with 1 Axes>"
      ]
     },
     "metadata": {
      "needs_background": "light"
     },
     "output_type": "display_data"
    }
   ],
   "source": [
    "#построение баров по df\n",
    "(user_age\n",
    "            .sort_values(by = 'возраст', ascending = True)\n",
    "            .plot(kind = 'barh',x = 'возраст', y = 'количество пользователей', figsize = (19,6), rot = -3,\n",
    "                  legend = False, fontsize = 10)\n",
    "            .set_title('Возраст пользователей' + \"\\n\", fontsize = 18, color = 'SteelBlue')    \n",
    "        );    "
   ]
  },
  {
   "cell_type": "markdown",
   "id": "e81f2154",
   "metadata": {},
   "source": [
    "### Расстояние, которое пользователь преодолел за одну поездку"
   ]
  },
  {
   "cell_type": "code",
   "execution_count": 28,
   "id": "7cb6fb00",
   "metadata": {},
   "outputs": [],
   "source": [
    "#округление значений столбца 'distance' методом round()\n",
    "distance['distance'] = round(distance['distance'],1)"
   ]
  },
  {
   "cell_type": "code",
   "execution_count": 29,
   "id": "a889ccb1",
   "metadata": {},
   "outputs": [
    {
     "data": {
      "text/plain": [
       "count    18068.000000\n",
       "mean      3070.659841\n",
       "std       1116.831106\n",
       "min          0.900000\n",
       "25%       2543.200000\n",
       "50%       3133.600000\n",
       "75%       3776.225000\n",
       "max       7211.000000\n",
       "Name: distance, dtype: float64"
      ]
     },
     "execution_count": 29,
     "metadata": {},
     "output_type": "execute_result"
    }
   ],
   "source": [
    "#описательная характеристика значений столбца 'distance'\n",
    "distance['distance'].describe()"
   ]
  },
  {
   "cell_type": "code",
   "execution_count": 30,
   "id": "aa323d38",
   "metadata": {},
   "outputs": [
    {
     "data": {
      "image/png": "[encoded data removed]",
      "text/plain": [
       "<Figure size 1080x216 with 1 Axes>"
      ]
     },
     "metadata": {
      "needs_background": "light"
     },
     "output_type": "display_data"
    }
   ],
   "source": [
    "#построение гистограммы по столбцу 'distance' методом hist()\n",
    "distance['distance'].hist(bins=150, figsize = (15,3), range=(0,7500))\n",
    "plt.title('Гистограмма распределения значений расстояния, которое пользователь проехал за одну поездку', fontsize=14,\n",
    "          color='SteelBlue')\n",
    "plt.xlabel('Расстояние в метрах')\n",
    "plt.ylabel('Количество пользователей')\n",
    "plt.show()"
   ]
  },
  {
   "cell_type": "code",
   "execution_count": 31,
   "id": "80457d6a",
   "metadata": {},
   "outputs": [
    {
     "data": {
      "image/png": "[encoded data removed]",
      "text/plain": [
       "<Figure size 1224x144 with 1 Axes>"
      ]
     },
     "metadata": {
      "needs_background": "light"
     },
     "output_type": "display_data"
    }
   ],
   "source": [
    "#построения ящика с усами по значениям столбца 'distance'\n",
    "fig, ax = plt.subplots(figsize = (17,2))\n",
    "ax = distance[['distance']].boxplot(vert = False, ax =ax)\n",
    "ax.set_title('Диаграмма размаха значений расстояния, которое пользователь проехал за одну поездку', fontsize=14, \n",
    "             color='SteelBlue')\n",
    "ax.set_xlabel('Расстояние в метрах')\n",
    "ax.set_xlim(0, 7500);"
   ]
  },
  {
   "cell_type": "markdown",
   "id": "ed94d18e",
   "metadata": {},
   "source": [
    "### Продолжительность поездок"
   ]
  },
  {
   "cell_type": "code",
   "execution_count": 32,
   "id": "8bf71cf9",
   "metadata": {},
   "outputs": [],
   "source": [
    "#округление значений столбца 'duration' методом round()\n",
    "distance['duration'] = round(distance['duration'],1)"
   ]
  },
  {
   "cell_type": "code",
   "execution_count": 33,
   "id": "804a2a5f",
   "metadata": {},
   "outputs": [
    {
     "data": {
      "text/plain": [
       "count    18068.000000\n",
       "mean        17.804920\n",
       "std          6.091365\n",
       "min          0.500000\n",
       "25%         13.600000\n",
       "50%         17.700000\n",
       "75%         21.700000\n",
       "max         40.800000\n",
       "Name: duration, dtype: float64"
      ]
     },
     "execution_count": 33,
     "metadata": {},
     "output_type": "execute_result"
    }
   ],
   "source": [
    "#описательная характеристика значений столбца 'duration'\n",
    "distance['duration'].describe()"
   ]
  },
  {
   "cell_type": "code",
   "execution_count": 34,
   "id": "49ba2b16",
   "metadata": {},
   "outputs": [
    {
     "data": {
      "image/png": "[encoded data removed]",
      "text/plain": [
       "<Figure size 1080x216 with 1 Axes>"
      ]
     },
     "metadata": {
      "needs_background": "light"
     },
     "output_type": "display_data"
    }
   ],
   "source": [
    "#построение гистограммы по столбцу 'duration' методом hist()\n",
    "distance['duration'].hist(bins=150, figsize = (15,3), range=(0,50))\n",
    "plt.title('Гистограмма распределения значений продолжительности поездок', fontsize=14,\n",
    "          color='SteelBlue')\n",
    "plt.xlabel('Продолжительность сессии в минутах')\n",
    "plt.ylabel('Количество пользователей')\n",
    "plt.show()"
   ]
  },
  {
   "cell_type": "code",
   "execution_count": 35,
   "id": "2c96a47e",
   "metadata": {},
   "outputs": [
    {
     "data": {
      "text/html": [
       "<div>\n",
       "<style scoped>\n",
       "    .dataframe tbody tr th:only-of-type {\n",
       "        vertical-align: middle;\n",
       "    }\n",
       "\n",
       "    .dataframe tbody tr th {\n",
       "        vertical-align: top;\n",
       "    }\n",
       "\n",
       "    .dataframe thead th {\n",
       "        text-align: right;\n",
       "    }\n",
       "</style>\n",
       "<table border=\"1\" class=\"dataframe\">\n",
       "  <thead>\n",
       "    <tr style=\"text-align: right;\">\n",
       "      <th></th>\n",
       "      <th>user_id</th>\n",
       "      <th>distance</th>\n",
       "      <th>duration</th>\n",
       "      <th>date</th>\n",
       "      <th>month</th>\n",
       "    </tr>\n",
       "  </thead>\n",
       "  <tbody>\n",
       "    <tr>\n",
       "      <th>6531</th>\n",
       "      <td>701</td>\n",
       "      <td>4196.4</td>\n",
       "      <td>0.5</td>\n",
       "      <td>2021-08-31</td>\n",
       "      <td>8</td>\n",
       "    </tr>\n",
       "    <tr>\n",
       "      <th>6570</th>\n",
       "      <td>704</td>\n",
       "      <td>4830.8</td>\n",
       "      <td>0.5</td>\n",
       "      <td>2021-10-14</td>\n",
       "      <td>10</td>\n",
       "    </tr>\n",
       "    <tr>\n",
       "      <th>6680</th>\n",
       "      <td>712</td>\n",
       "      <td>4684.0</td>\n",
       "      <td>0.5</td>\n",
       "      <td>2021-03-04</td>\n",
       "      <td>3</td>\n",
       "    </tr>\n",
       "    <tr>\n",
       "      <th>6695</th>\n",
       "      <td>713</td>\n",
       "      <td>5215.6</td>\n",
       "      <td>0.5</td>\n",
       "      <td>2021-02-25</td>\n",
       "      <td>2</td>\n",
       "    </tr>\n",
       "    <tr>\n",
       "      <th>6768</th>\n",
       "      <td>718</td>\n",
       "      <td>5197.4</td>\n",
       "      <td>0.5</td>\n",
       "      <td>2021-02-11</td>\n",
       "      <td>2</td>\n",
       "    </tr>\n",
       "    <tr>\n",
       "      <th>6860</th>\n",
       "      <td>724</td>\n",
       "      <td>6225.5</td>\n",
       "      <td>0.5</td>\n",
       "      <td>2021-12-16</td>\n",
       "      <td>12</td>\n",
       "    </tr>\n",
       "    <tr>\n",
       "      <th>6883</th>\n",
       "      <td>726</td>\n",
       "      <td>4452.5</td>\n",
       "      <td>0.5</td>\n",
       "      <td>2021-03-01</td>\n",
       "      <td>3</td>\n",
       "    </tr>\n",
       "    <tr>\n",
       "      <th>7018</th>\n",
       "      <td>735</td>\n",
       "      <td>4407.0</td>\n",
       "      <td>0.5</td>\n",
       "      <td>2021-04-13</td>\n",
       "      <td>4</td>\n",
       "    </tr>\n",
       "    <tr>\n",
       "      <th>7160</th>\n",
       "      <td>745</td>\n",
       "      <td>5286.2</td>\n",
       "      <td>0.5</td>\n",
       "      <td>2021-08-17</td>\n",
       "      <td>8</td>\n",
       "    </tr>\n",
       "    <tr>\n",
       "      <th>7364</th>\n",
       "      <td>760</td>\n",
       "      <td>4881.4</td>\n",
       "      <td>0.5</td>\n",
       "      <td>2021-08-29</td>\n",
       "      <td>8</td>\n",
       "    </tr>\n",
       "    <tr>\n",
       "      <th>7437</th>\n",
       "      <td>766</td>\n",
       "      <td>4539.1</td>\n",
       "      <td>0.5</td>\n",
       "      <td>2021-12-22</td>\n",
       "      <td>12</td>\n",
       "    </tr>\n",
       "    <tr>\n",
       "      <th>7508</th>\n",
       "      <td>772</td>\n",
       "      <td>4718.8</td>\n",
       "      <td>0.5</td>\n",
       "      <td>2021-05-22</td>\n",
       "      <td>5</td>\n",
       "    </tr>\n",
       "    <tr>\n",
       "      <th>7537</th>\n",
       "      <td>774</td>\n",
       "      <td>5488.1</td>\n",
       "      <td>0.5</td>\n",
       "      <td>2021-05-27</td>\n",
       "      <td>5</td>\n",
       "    </tr>\n",
       "    <tr>\n",
       "      <th>7612</th>\n",
       "      <td>780</td>\n",
       "      <td>6112.6</td>\n",
       "      <td>0.5</td>\n",
       "      <td>2021-11-23</td>\n",
       "      <td>11</td>\n",
       "    </tr>\n",
       "    <tr>\n",
       "      <th>7679</th>\n",
       "      <td>784</td>\n",
       "      <td>5202.8</td>\n",
       "      <td>0.5</td>\n",
       "      <td>2021-06-03</td>\n",
       "      <td>6</td>\n",
       "    </tr>\n",
       "    <tr>\n",
       "      <th>7791</th>\n",
       "      <td>792</td>\n",
       "      <td>5353.2</td>\n",
       "      <td>0.5</td>\n",
       "      <td>2021-11-06</td>\n",
       "      <td>11</td>\n",
       "    </tr>\n",
       "    <tr>\n",
       "      <th>7830</th>\n",
       "      <td>795</td>\n",
       "      <td>6262.3</td>\n",
       "      <td>0.5</td>\n",
       "      <td>2021-09-09</td>\n",
       "      <td>9</td>\n",
       "    </tr>\n",
       "    <tr>\n",
       "      <th>7883</th>\n",
       "      <td>800</td>\n",
       "      <td>5052.4</td>\n",
       "      <td>0.5</td>\n",
       "      <td>2021-07-19</td>\n",
       "      <td>7</td>\n",
       "    </tr>\n",
       "    <tr>\n",
       "      <th>7932</th>\n",
       "      <td>804</td>\n",
       "      <td>5547.8</td>\n",
       "      <td>0.5</td>\n",
       "      <td>2021-05-10</td>\n",
       "      <td>5</td>\n",
       "    </tr>\n",
       "    <tr>\n",
       "      <th>8329</th>\n",
       "      <td>836</td>\n",
       "      <td>4958.9</td>\n",
       "      <td>0.5</td>\n",
       "      <td>2021-01-12</td>\n",
       "      <td>1</td>\n",
       "    </tr>\n",
       "  </tbody>\n",
       "</table>\n",
       "</div>"
      ],
      "text/plain": [
       "      user_id  distance  duration       date  month\n",
       "6531      701    4196.4       0.5 2021-08-31      8\n",
       "6570      704    4830.8       0.5 2021-10-14     10\n",
       "6680      712    4684.0       0.5 2021-03-04      3\n",
       "6695      713    5215.6       0.5 2021-02-25      2\n",
       "6768      718    5197.4       0.5 2021-02-11      2\n",
       "6860      724    6225.5       0.5 2021-12-16     12\n",
       "6883      726    4452.5       0.5 2021-03-01      3\n",
       "7018      735    4407.0       0.5 2021-04-13      4\n",
       "7160      745    5286.2       0.5 2021-08-17      8\n",
       "7364      760    4881.4       0.5 2021-08-29      8\n",
       "7437      766    4539.1       0.5 2021-12-22     12\n",
       "7508      772    4718.8       0.5 2021-05-22      5\n",
       "7537      774    5488.1       0.5 2021-05-27      5\n",
       "7612      780    6112.6       0.5 2021-11-23     11\n",
       "7679      784    5202.8       0.5 2021-06-03      6\n",
       "7791      792    5353.2       0.5 2021-11-06     11\n",
       "7830      795    6262.3       0.5 2021-09-09      9\n",
       "7883      800    5052.4       0.5 2021-07-19      7\n",
       "7932      804    5547.8       0.5 2021-05-10      5\n",
       "8329      836    4958.9       0.5 2021-01-12      1"
      ]
     },
     "execution_count": 35,
     "metadata": {},
     "output_type": "execute_result"
    }
   ],
   "source": [
    "#формирование  df c продолжительностью поездки меньше минуты\n",
    "distance_min = distance[distance['duration'] < 1]\n",
    "distance_min.head(20)"
   ]
  },
  {
   "cell_type": "code",
   "execution_count": 36,
   "id": "4c8fb123",
   "metadata": {},
   "outputs": [
    {
     "data": {
      "text/plain": [
       "user_id     95\n",
       "distance    95\n",
       "duration    95\n",
       "date        95\n",
       "month       95\n",
       "dtype: int64"
      ]
     },
     "execution_count": 36,
     "metadata": {},
     "output_type": "execute_result"
    }
   ],
   "source": [
    "# подсчет значений df методом count()\n",
    "distance_min.count()"
   ]
  },
  {
   "cell_type": "code",
   "execution_count": 37,
   "id": "69215d1c",
   "metadata": {},
   "outputs": [
    {
     "data": {
      "image/png": "[encoded data removed]",
      "text/plain": [
       "<Figure size 1080x216 with 1 Axes>"
      ]
     },
     "metadata": {
      "needs_background": "light"
     },
     "output_type": "display_data"
    }
   ],
   "source": [
    "#построение гистограммы по df с поездкой меньше минуты\n",
    "distance_min['duration'].hist(bins=150, figsize = (15,3))\n",
    "plt.title('Гистограмма распределения значений продолжительности поездок меньше минуты', fontsize=14,\n",
    "          color='SteelBlue')\n",
    "plt.xlabel('Продолжительность сессии в минутах')\n",
    "plt.ylabel('Количество пользователей')\n",
    "plt.show()"
   ]
  },
  {
   "cell_type": "code",
   "execution_count": 38,
   "id": "5b024db2",
   "metadata": {},
   "outputs": [
    {
     "data": {
      "image/png": "[encoded data removed]",
      "text/plain": [
       "<Figure size 1080x216 with 1 Axes>"
      ]
     },
     "metadata": {
      "needs_background": "light"
     },
     "output_type": "display_data"
    }
   ],
   "source": [
    "#построение гистограммы распределения расстояния, которое преодалел пользователь в df с продолжительность меньше минуты\n",
    "distance_min['distance'].hist(bins=150, figsize = (15,3))\n",
    "plt.title('Гистограмма распределения значений расстояния, которое преодолел пользователь поездкой меньше минуты', fontsize=14,\n",
    "          color='SteelBlue')\n",
    "plt.xlabel('Расстояние в метрах')\n",
    "plt.ylabel('Количество пользователей')\n",
    "plt.show()"
   ]
  },
  {
   "cell_type": "code",
   "execution_count": 39,
   "id": "48d3c63f",
   "metadata": {
    "scrolled": true
   },
   "outputs": [
    {
     "data": {
      "image/png": "[encoded data removed]",
      "text/plain": [
       "<Figure size 1224x144 with 1 Axes>"
      ]
     },
     "metadata": {
      "needs_background": "light"
     },
     "output_type": "display_data"
    }
   ],
   "source": [
    "#построения ящика с усами по значениям столбца 'duration'\n",
    "fig, ax = plt.subplots(figsize = (17,2))\n",
    "ax = distance[['duration']].boxplot(vert = False, ax =ax)\n",
    "ax.set_title('Диаграмма размаха значений продолжительности поездок', fontsize=14, \n",
    "             color='SteelBlue')\n",
    "ax.set_xlabel('Продолжительность сессии в минутах')\n",
    "ax.set_xlim(0, 50);"
   ]
  },
  {
   "cell_type": "code",
   "execution_count": 40,
   "id": "8975c1e2",
   "metadata": {},
   "outputs": [
    {
     "data": {
      "text/html": [
       "<style  type=\"text/css\" >\n",
       "</style><table id=\"T_d21e8_\" ><thead>    <tr>        <th class=\"blank level0\" ></th>        <th class=\"col_heading level0 col0\" >duration</th>        <th class=\"col_heading level0 col1\" >distance</th>    </tr></thead><tbody>\n",
       "                <tr>\n",
       "                        <th id=\"T_d21e8_level0_row0\" class=\"row_heading level0 row0\" >count</th>\n",
       "                        <td id=\"T_d21e8_row0_col0\" class=\"data row0 col0\" >18,068.00</td>\n",
       "                        <td id=\"T_d21e8_row0_col1\" class=\"data row0 col1\" >18,068.00</td>\n",
       "            </tr>\n",
       "            <tr>\n",
       "                        <th id=\"T_d21e8_level0_row1\" class=\"row_heading level0 row1\" >min</th>\n",
       "                        <td id=\"T_d21e8_row1_col0\" class=\"data row1 col0\" >0.50</td>\n",
       "                        <td id=\"T_d21e8_row1_col1\" class=\"data row1 col1\" >0.90</td>\n",
       "            </tr>\n",
       "            <tr>\n",
       "                        <th id=\"T_d21e8_level0_row2\" class=\"row_heading level0 row2\" >median</th>\n",
       "                        <td id=\"T_d21e8_row2_col0\" class=\"data row2 col0\" >17.70</td>\n",
       "                        <td id=\"T_d21e8_row2_col1\" class=\"data row2 col1\" >3,133.60</td>\n",
       "            </tr>\n",
       "            <tr>\n",
       "                        <th id=\"T_d21e8_level0_row3\" class=\"row_heading level0 row3\" >max</th>\n",
       "                        <td id=\"T_d21e8_row3_col0\" class=\"data row3 col0\" >40.80</td>\n",
       "                        <td id=\"T_d21e8_row3_col1\" class=\"data row3 col1\" >7,211.00</td>\n",
       "            </tr>\n",
       "    </tbody></table>"
      ],
      "text/plain": [
       "<pandas.io.formats.style.Styler at 0x7f9aef477250>"
      ]
     },
     "execution_count": 40,
     "metadata": {},
     "output_type": "execute_result"
    }
   ],
   "source": [
    "#выведение описательных характеристик 'duration', 'distance'\n",
    "(\n",
    "    distance[['duration', 'distance']]\n",
    "    .apply (['count', 'min', 'median', 'max'])   \n",
    "    .style.format(\"{:,.2f}\")\n",
    ")"
   ]
  },
  {
   "cell_type": "markdown",
   "id": "e61e31f3",
   "metadata": {},
   "source": [
    "**Комментарий:**    *При рассмотрении данных и анализе по частоте встречаемости городов, видим по процентному соотношению, что распредление по городом почти равномерное, больше всего данных из городов Пятигорск, Екатеринбург, Ростов-на-Дону, наименьшее количество пользователей в данных из Москвы.\n",
    "При анализе соотношения пользователей с подпиской и без подписки в данных видим, что пользователей без подписки больше(54.4%), чем с подпиской(45.6%).\n",
    "При рассмотрении показателя возраста пользователей в данных, видим что больше всего пользователей в возрасте от 21-28 лет.\n",
    "При рассмотрении показателя расстояния, которое преодолел пользователь за одну поездку видим, что большее количество значений находится в промежутке от 2500 до 3800 метров. \n",
    "При рассмотрении продолжительности поездок можно увидеть, что большиство значений приходится в промежуток от 13 до 22 минут.* "
   ]
  },
  {
   "cell_type": "markdown",
   "id": "13bdb54b",
   "metadata": {},
   "source": [
    "## Объединение данных"
   ]
  },
  {
   "cell_type": "code",
   "execution_count": 41,
   "id": "a0258723",
   "metadata": {},
   "outputs": [],
   "source": [
    "#объединение двух df методом merge() по столбцу 'user_id'\n",
    "data_new = user.merge(distance, on='user_id')"
   ]
  },
  {
   "cell_type": "code",
   "execution_count": 42,
   "id": "c5517b75",
   "metadata": {},
   "outputs": [],
   "source": [
    "#объединение двух df методом merge() по столбцу 'subscription_type'\n",
    "data = data_new.merge(subscription_type, on='subscription_type')"
   ]
  },
  {
   "cell_type": "code",
   "execution_count": 43,
   "id": "7cf9fabe",
   "metadata": {},
   "outputs": [
    {
     "data": {
      "text/html": [
       "<div>\n",
       "<style scoped>\n",
       "    .dataframe tbody tr th:only-of-type {\n",
       "        vertical-align: middle;\n",
       "    }\n",
       "\n",
       "    .dataframe tbody tr th {\n",
       "        vertical-align: top;\n",
       "    }\n",
       "\n",
       "    .dataframe thead th {\n",
       "        text-align: right;\n",
       "    }\n",
       "</style>\n",
       "<table border=\"1\" class=\"dataframe\">\n",
       "  <thead>\n",
       "    <tr style=\"text-align: right;\">\n",
       "      <th></th>\n",
       "      <th>user_id</th>\n",
       "      <th>name</th>\n",
       "      <th>age</th>\n",
       "      <th>city</th>\n",
       "      <th>subscription_type</th>\n",
       "      <th>distance</th>\n",
       "      <th>duration</th>\n",
       "      <th>date</th>\n",
       "      <th>month</th>\n",
       "      <th>minute_price</th>\n",
       "      <th>start_ride_price</th>\n",
       "      <th>subscription_fee</th>\n",
       "    </tr>\n",
       "  </thead>\n",
       "  <tbody>\n",
       "    <tr>\n",
       "      <th>0</th>\n",
       "      <td>1</td>\n",
       "      <td>Кира</td>\n",
       "      <td>22</td>\n",
       "      <td>Тюмень</td>\n",
       "      <td>ultra</td>\n",
       "      <td>4409.9</td>\n",
       "      <td>25.6</td>\n",
       "      <td>2021-01-01</td>\n",
       "      <td>1</td>\n",
       "      <td>6</td>\n",
       "      <td>0</td>\n",
       "      <td>199</td>\n",
       "    </tr>\n",
       "    <tr>\n",
       "      <th>1</th>\n",
       "      <td>1</td>\n",
       "      <td>Кира</td>\n",
       "      <td>22</td>\n",
       "      <td>Тюмень</td>\n",
       "      <td>ultra</td>\n",
       "      <td>2617.6</td>\n",
       "      <td>15.8</td>\n",
       "      <td>2021-01-18</td>\n",
       "      <td>1</td>\n",
       "      <td>6</td>\n",
       "      <td>0</td>\n",
       "      <td>199</td>\n",
       "    </tr>\n",
       "    <tr>\n",
       "      <th>2</th>\n",
       "      <td>1</td>\n",
       "      <td>Кира</td>\n",
       "      <td>22</td>\n",
       "      <td>Тюмень</td>\n",
       "      <td>ultra</td>\n",
       "      <td>754.2</td>\n",
       "      <td>6.2</td>\n",
       "      <td>2021-04-20</td>\n",
       "      <td>4</td>\n",
       "      <td>6</td>\n",
       "      <td>0</td>\n",
       "      <td>199</td>\n",
       "    </tr>\n",
       "    <tr>\n",
       "      <th>3</th>\n",
       "      <td>1</td>\n",
       "      <td>Кира</td>\n",
       "      <td>22</td>\n",
       "      <td>Тюмень</td>\n",
       "      <td>ultra</td>\n",
       "      <td>2694.8</td>\n",
       "      <td>18.5</td>\n",
       "      <td>2021-08-11</td>\n",
       "      <td>8</td>\n",
       "      <td>6</td>\n",
       "      <td>0</td>\n",
       "      <td>199</td>\n",
       "    </tr>\n",
       "    <tr>\n",
       "      <th>4</th>\n",
       "      <td>1</td>\n",
       "      <td>Кира</td>\n",
       "      <td>22</td>\n",
       "      <td>Тюмень</td>\n",
       "      <td>ultra</td>\n",
       "      <td>4028.7</td>\n",
       "      <td>26.3</td>\n",
       "      <td>2021-08-28</td>\n",
       "      <td>8</td>\n",
       "      <td>6</td>\n",
       "      <td>0</td>\n",
       "      <td>199</td>\n",
       "    </tr>\n",
       "    <tr>\n",
       "      <th>5</th>\n",
       "      <td>1</td>\n",
       "      <td>Кира</td>\n",
       "      <td>22</td>\n",
       "      <td>Тюмень</td>\n",
       "      <td>ultra</td>\n",
       "      <td>2770.9</td>\n",
       "      <td>16.7</td>\n",
       "      <td>2021-10-09</td>\n",
       "      <td>10</td>\n",
       "      <td>6</td>\n",
       "      <td>0</td>\n",
       "      <td>199</td>\n",
       "    </tr>\n",
       "    <tr>\n",
       "      <th>6</th>\n",
       "      <td>1</td>\n",
       "      <td>Кира</td>\n",
       "      <td>22</td>\n",
       "      <td>Тюмень</td>\n",
       "      <td>ultra</td>\n",
       "      <td>3039.0</td>\n",
       "      <td>14.9</td>\n",
       "      <td>2021-10-19</td>\n",
       "      <td>10</td>\n",
       "      <td>6</td>\n",
       "      <td>0</td>\n",
       "      <td>199</td>\n",
       "    </tr>\n",
       "    <tr>\n",
       "      <th>7</th>\n",
       "      <td>1</td>\n",
       "      <td>Кира</td>\n",
       "      <td>22</td>\n",
       "      <td>Тюмень</td>\n",
       "      <td>ultra</td>\n",
       "      <td>2842.1</td>\n",
       "      <td>23.1</td>\n",
       "      <td>2021-11-06</td>\n",
       "      <td>11</td>\n",
       "      <td>6</td>\n",
       "      <td>0</td>\n",
       "      <td>199</td>\n",
       "    </tr>\n",
       "    <tr>\n",
       "      <th>8</th>\n",
       "      <td>1</td>\n",
       "      <td>Кира</td>\n",
       "      <td>22</td>\n",
       "      <td>Тюмень</td>\n",
       "      <td>ultra</td>\n",
       "      <td>3412.7</td>\n",
       "      <td>15.2</td>\n",
       "      <td>2021-11-14</td>\n",
       "      <td>11</td>\n",
       "      <td>6</td>\n",
       "      <td>0</td>\n",
       "      <td>199</td>\n",
       "    </tr>\n",
       "    <tr>\n",
       "      <th>9</th>\n",
       "      <td>1</td>\n",
       "      <td>Кира</td>\n",
       "      <td>22</td>\n",
       "      <td>Тюмень</td>\n",
       "      <td>ultra</td>\n",
       "      <td>748.7</td>\n",
       "      <td>15.0</td>\n",
       "      <td>2021-11-22</td>\n",
       "      <td>11</td>\n",
       "      <td>6</td>\n",
       "      <td>0</td>\n",
       "      <td>199</td>\n",
       "    </tr>\n",
       "  </tbody>\n",
       "</table>\n",
       "</div>"
      ],
      "text/plain": [
       "   user_id  name  age    city subscription_type  distance  duration  \\\n",
       "0        1  Кира   22  Тюмень             ultra    4409.9      25.6   \n",
       "1        1  Кира   22  Тюмень             ultra    2617.6      15.8   \n",
       "2        1  Кира   22  Тюмень             ultra     754.2       6.2   \n",
       "3        1  Кира   22  Тюмень             ultra    2694.8      18.5   \n",
       "4        1  Кира   22  Тюмень             ultra    4028.7      26.3   \n",
       "5        1  Кира   22  Тюмень             ultra    2770.9      16.7   \n",
       "6        1  Кира   22  Тюмень             ultra    3039.0      14.9   \n",
       "7        1  Кира   22  Тюмень             ultra    2842.1      23.1   \n",
       "8        1  Кира   22  Тюмень             ultra    3412.7      15.2   \n",
       "9        1  Кира   22  Тюмень             ultra     748.7      15.0   \n",
       "\n",
       "        date  month  minute_price  start_ride_price  subscription_fee  \n",
       "0 2021-01-01      1             6                 0               199  \n",
       "1 2021-01-18      1             6                 0               199  \n",
       "2 2021-04-20      4             6                 0               199  \n",
       "3 2021-08-11      8             6                 0               199  \n",
       "4 2021-08-28      8             6                 0               199  \n",
       "5 2021-10-09     10             6                 0               199  \n",
       "6 2021-10-19     10             6                 0               199  \n",
       "7 2021-11-06     11             6                 0               199  \n",
       "8 2021-11-14     11             6                 0               199  \n",
       "9 2021-11-22     11             6                 0               199  "
      ]
     },
     "execution_count": 43,
     "metadata": {},
     "output_type": "execute_result"
    }
   ],
   "source": [
    "#выведение первых 10 строчек полученного объединением df\n",
    "data.head(10)"
   ]
  },
  {
   "cell_type": "code",
   "execution_count": 44,
   "id": "4e822d93",
   "metadata": {},
   "outputs": [
    {
     "data": {
      "text/plain": [
       "18068"
      ]
     },
     "execution_count": 44,
     "metadata": {},
     "output_type": "execute_result"
    }
   ],
   "source": [
    "#выведение количество строк полученного df\n",
    "data.shape[0]"
   ]
  },
  {
   "cell_type": "markdown",
   "id": "4be7befa",
   "metadata": {},
   "source": [
    "### Создание и обзор датафреймов пользователей с подпиской и пользователей без подписки"
   ]
  },
  {
   "cell_type": "code",
   "execution_count": 45,
   "id": "04b9e310",
   "metadata": {},
   "outputs": [],
   "source": [
    "#формирование df пользователей с подпиской методом логической индексации\n",
    "data_ultra = data.loc[data['subscription_type'] == 'ultra']"
   ]
  },
  {
   "cell_type": "code",
   "execution_count": 46,
   "id": "510645e4",
   "metadata": {},
   "outputs": [],
   "source": [
    "#формирование df пользователей без подписки методом логической индексации\n",
    "data_free = data.loc[data['subscription_type'] == 'free']"
   ]
  },
  {
   "cell_type": "markdown",
   "id": "96e5e5d1",
   "metadata": {},
   "source": [
    "#### Расстояние, которое преодолели пользователи с подпиской и без нее"
   ]
  },
  {
   "cell_type": "code",
   "execution_count": 47,
   "id": "18b0602c",
   "metadata": {},
   "outputs": [
    {
     "data": {
      "text/plain": [
       "count    6500.000000\n",
       "mean     3115.444985\n",
       "std       836.895127\n",
       "min       244.200000\n",
       "25%      2785.400000\n",
       "50%      3148.600000\n",
       "75%      3560.600000\n",
       "max      5699.800000\n",
       "Name: distance, dtype: float64"
      ]
     },
     "execution_count": 47,
     "metadata": {},
     "output_type": "execute_result"
    }
   ],
   "source": [
    "#описательная характеристика значений столбца 'distance'\n",
    "data_ultra['distance'].describe()"
   ]
  },
  {
   "cell_type": "code",
   "execution_count": 48,
   "id": "47c9c661",
   "metadata": {},
   "outputs": [
    {
     "data": {
      "image/png": "[encoded data removed]",
      "text/plain": [
       "<Figure size 1080x216 with 1 Axes>"
      ]
     },
     "metadata": {
      "needs_background": "light"
     },
     "output_type": "display_data"
    }
   ],
   "source": [
    "#построение гистограммы по столбцу 'distance' методом hist()\n",
    "data_ultra['distance'].hist(bins=150, figsize = (15,3), range=(0,6000))\n",
    "plt.title('Гистограмма распределения значений расстояния, которое пользователь с подпиской проехал',\n",
    "          fontsize=14, color='SteelBlue')\n",
    "plt.xlabel('Расстояние в метрах')\n",
    "plt.ylabel('Количество пользователей')\n",
    "plt.show()"
   ]
  },
  {
   "cell_type": "code",
   "execution_count": 49,
   "id": "423fd976",
   "metadata": {},
   "outputs": [
    {
     "data": {
      "text/plain": [
       "count    11568.000000\n",
       "mean      3045.495297\n",
       "std       1246.173747\n",
       "min          0.900000\n",
       "25%       2366.600000\n",
       "50%       3114.650000\n",
       "75%       3905.700000\n",
       "max       7211.000000\n",
       "Name: distance, dtype: float64"
      ]
     },
     "execution_count": 49,
     "metadata": {},
     "output_type": "execute_result"
    }
   ],
   "source": [
    "#описательная характеристика значений столбца 'distance'\n",
    "data_free['distance'].describe()"
   ]
  },
  {
   "cell_type": "code",
   "execution_count": 50,
   "id": "c08ba13f",
   "metadata": {
    "scrolled": true
   },
   "outputs": [
    {
     "data": {
      "image/png": "[encoded data removed]",
      "text/plain": [
       "<Figure size 1080x216 with 1 Axes>"
      ]
     },
     "metadata": {
      "needs_background": "light"
     },
     "output_type": "display_data"
    }
   ],
   "source": [
    "#построение гистограммы по столбцу 'distance' методом hist()\n",
    "data_free['distance'].hist(bins=150, figsize = (15,3), range=(0,7500))\n",
    "plt.title('Гистограмма распределения значений расстояния, которое пользователь без подписки проехал', \n",
    "          fontsize=14, color='SteelBlue')\n",
    "plt.xlabel('Расстояние в метрах')\n",
    "plt.ylabel('Количество пользователей')\n",
    "plt.show()"
   ]
  },
  {
   "cell_type": "code",
   "execution_count": 51,
   "id": "1d4e13da",
   "metadata": {},
   "outputs": [
    {
     "data": {
      "image/png": "[encoded data removed]",
      "text/plain": [
       "<Figure size 432x288 with 1 Axes>"
      ]
     },
     "metadata": {
      "needs_background": "light"
     },
     "output_type": "display_data"
    }
   ],
   "source": [
    "#построение гистограмм по столбцу 'distance' методом hist() по двум df\n",
    "plt.hist([data_free['distance'], data_ultra['distance'] ], bins=40)\n",
    "plt.title('Гистограмма распределения значений расстояния, которое пользователь без подписки  и с подпиской проехал', \n",
    "          fontsize=14, color='SteelBlue')\n",
    "plt.xlabel('Расстояние в метрах')\n",
    "plt.ylabel('Количество пользователей')\n",
    "plt.show()"
   ]
  },
  {
   "cell_type": "markdown",
   "id": "32411417",
   "metadata": {},
   "source": [
    "#### Продолжительность поездок пользователей с подпиской и без нее "
   ]
  },
  {
   "cell_type": "code",
   "execution_count": 52,
   "id": "b98852b9",
   "metadata": {},
   "outputs": [
    {
     "data": {
      "text/plain": [
       "count    6500.000000\n",
       "mean       18.541692\n",
       "std         5.572126\n",
       "min         3.800000\n",
       "25%        14.500000\n",
       "50%        18.200000\n",
       "75%        21.900000\n",
       "max        40.800000\n",
       "Name: duration, dtype: float64"
      ]
     },
     "execution_count": 52,
     "metadata": {},
     "output_type": "execute_result"
    }
   ],
   "source": [
    "#описательная характеристика значений столбца 'duration'\n",
    "data_ultra['duration'].describe()"
   ]
  },
  {
   "cell_type": "code",
   "execution_count": 53,
   "id": "51c74d2d",
   "metadata": {},
   "outputs": [
    {
     "data": {
      "image/png": "[encoded data removed]",
      "text/plain": [
       "<Figure size 1080x216 with 1 Axes>"
      ]
     },
     "metadata": {
      "needs_background": "light"
     },
     "output_type": "display_data"
    }
   ],
   "source": [
    "#построение гистограммы по столбцу 'duration' методом hist()\n",
    "data_ultra['duration'].hist(bins=200, figsize = (15,3), range=(0,50))\n",
    "plt.title('Гистограмма распределения времени, которое пользователь с подпиской проехал',\n",
    "          fontsize=14, color='SteelBlue')\n",
    "plt.xlabel('Продолжительность поездки в минутах')\n",
    "plt.ylabel('Количество пользователей')\n",
    "plt.show()"
   ]
  },
  {
   "cell_type": "code",
   "execution_count": 54,
   "id": "c1470326",
   "metadata": {},
   "outputs": [
    {
     "data": {
      "text/plain": [
       "count    11568.000000\n",
       "mean        17.390932\n",
       "std          6.327256\n",
       "min          0.500000\n",
       "25%         13.000000\n",
       "50%         17.300000\n",
       "75%         21.600000\n",
       "max         34.900000\n",
       "Name: duration, dtype: float64"
      ]
     },
     "execution_count": 54,
     "metadata": {},
     "output_type": "execute_result"
    }
   ],
   "source": [
    "#описательная характеристика значений столбца 'duration'\n",
    "data_free['duration'].describe()"
   ]
  },
  {
   "cell_type": "code",
   "execution_count": 55,
   "id": "cd6973ad",
   "metadata": {},
   "outputs": [
    {
     "data": {
      "image/png": "[encoded data removed]",
      "text/plain": [
       "<Figure size 1080x216 with 1 Axes>"
      ]
     },
     "metadata": {
      "needs_background": "light"
     },
     "output_type": "display_data"
    }
   ],
   "source": [
    "#построение гистограммы по столбцу 'duration' методом hist()\n",
    "data_free['duration'].hist(bins=200, figsize = (15,3), range=(0,50))\n",
    "plt.title('Гистограмма распределения времени, которое пользователь без подписки проехал', \n",
    "          fontsize=14, color='SteelBlue')\n",
    "plt.xlabel('Продолжительность поездки в минутах')\n",
    "plt.ylabel('Количество пользователей')\n",
    "plt.show()"
   ]
  },
  {
   "cell_type": "code",
   "execution_count": 56,
   "id": "e4e482e4",
   "metadata": {},
   "outputs": [
    {
     "data": {
      "image/png": "[encoded data removed]",
      "text/plain": [
       "<Figure size 432x288 with 1 Axes>"
      ]
     },
     "metadata": {
      "needs_background": "light"
     },
     "output_type": "display_data"
    }
   ],
   "source": [
    "#построение гистограмм по столбцу 'distance' методом hist() по двум df\n",
    "plt.hist([data_free['duration'], data_ultra['duration'] ], bins=40)\n",
    "plt.title('Гистограмма распределения ввремени, которое пользователь без подписки  и с подпиской проехал', \n",
    "          fontsize=14, color='SteelBlue')\n",
    "plt.xlabel('Продолжительность поездки в минутах')\n",
    "plt.ylabel('Количество пользователей')\n",
    "plt.show()"
   ]
  },
  {
   "cell_type": "markdown",
   "id": "770effb8",
   "metadata": {},
   "source": [
    "**Комментарий:**    *При проведения сравнительного анализа расстояния и времени поездки двух датафреймов, сформированные на основе показателя подключения подписки, можем увидеть по показателю преодаления расстояния пользователем,если рассматривать небольшие расстояния, то пользователи без подписки чаще пользуются арендой самоката до 1500 метров, чем пользователи с подпиской. Если брать показатели на более длительные расстояния, то можно увидеть распределения значений у пользователей без подписки от 2500 до 4000 метров множественные значения распределены между собой с небольшим разбросом, но если рассматривать данные по пользователям с подпиской, то мы видим выраженное пиковое значение от 3000 до 3200 метров, данные пользватели чаще всего совершают поездки на длительные расстояния в пределах этого значения.\n",
    "Рассматривая сравнительный анализ длительности поездок двух категорий, то значения распределены равномерно в двух группах. Количество значений в группе без подписки значительно больше, чем у категории с подпиской, медианные значения групп близки к друг другу. Пользователи без подписки совершают больше коротких поездок, так как значения этой группы начинаются раньше (есть аномальные значения в начале графика около 0),, чем пользователи с подпиской, их минимальное значение с 4 минут.*"
   ]
  },
  {
   "cell_type": "markdown",
   "id": "ae249d66",
   "metadata": {},
   "source": [
    "## Подсчёт выручки"
   ]
  },
  {
   "cell_type": "code",
   "execution_count": 57,
   "id": "ef7a277e",
   "metadata": {},
   "outputs": [],
   "source": [
    "#округление значений столбца 'duration' с помощью метода \"потолок\" np.ceil()\n",
    "data['duration'] = np.ceil(data['duration'])"
   ]
  },
  {
   "cell_type": "code",
   "execution_count": 58,
   "id": "51b407eb",
   "metadata": {},
   "outputs": [],
   "source": [
    "#создание датафрейма с агрегированными данными о поездках на основе data методом groupby() и agg()\n",
    "data_revenue = (data\n",
    "              .groupby(['user_id','subscription_type','month'], as_index=False)\n",
    "              .agg({'distance':['sum','count'], 'duration':'sum'})\n",
    "             )\n",
    "data_revenue.columns = ['user_id','subscription_type','month','distance_sum','distance_count','duration_sum']\n"
   ]
  },
  {
   "cell_type": "code",
   "execution_count": 59,
   "id": "d4fc84d6",
   "metadata": {},
   "outputs": [
    {
     "data": {
      "text/html": [
       "<div>\n",
       "<style scoped>\n",
       "    .dataframe tbody tr th:only-of-type {\n",
       "        vertical-align: middle;\n",
       "    }\n",
       "\n",
       "    .dataframe tbody tr th {\n",
       "        vertical-align: top;\n",
       "    }\n",
       "\n",
       "    .dataframe thead th {\n",
       "        text-align: right;\n",
       "    }\n",
       "</style>\n",
       "<table border=\"1\" class=\"dataframe\">\n",
       "  <thead>\n",
       "    <tr style=\"text-align: right;\">\n",
       "      <th></th>\n",
       "      <th>user_id</th>\n",
       "      <th>subscription_type</th>\n",
       "      <th>month</th>\n",
       "      <th>distance_sum</th>\n",
       "      <th>distance_count</th>\n",
       "      <th>duration_sum</th>\n",
       "      <th>minute_price</th>\n",
       "      <th>start_ride_price</th>\n",
       "      <th>subscription_fee</th>\n",
       "    </tr>\n",
       "  </thead>\n",
       "  <tbody>\n",
       "    <tr>\n",
       "      <th>0</th>\n",
       "      <td>1</td>\n",
       "      <td>ultra</td>\n",
       "      <td>1</td>\n",
       "      <td>7027.5</td>\n",
       "      <td>2</td>\n",
       "      <td>42.0</td>\n",
       "      <td>6</td>\n",
       "      <td>0</td>\n",
       "      <td>199</td>\n",
       "    </tr>\n",
       "    <tr>\n",
       "      <th>1</th>\n",
       "      <td>1</td>\n",
       "      <td>ultra</td>\n",
       "      <td>4</td>\n",
       "      <td>754.2</td>\n",
       "      <td>1</td>\n",
       "      <td>7.0</td>\n",
       "      <td>6</td>\n",
       "      <td>0</td>\n",
       "      <td>199</td>\n",
       "    </tr>\n",
       "    <tr>\n",
       "      <th>2</th>\n",
       "      <td>1</td>\n",
       "      <td>ultra</td>\n",
       "      <td>8</td>\n",
       "      <td>6723.5</td>\n",
       "      <td>2</td>\n",
       "      <td>46.0</td>\n",
       "      <td>6</td>\n",
       "      <td>0</td>\n",
       "      <td>199</td>\n",
       "    </tr>\n",
       "    <tr>\n",
       "      <th>3</th>\n",
       "      <td>1</td>\n",
       "      <td>ultra</td>\n",
       "      <td>10</td>\n",
       "      <td>5809.9</td>\n",
       "      <td>2</td>\n",
       "      <td>32.0</td>\n",
       "      <td>6</td>\n",
       "      <td>0</td>\n",
       "      <td>199</td>\n",
       "    </tr>\n",
       "    <tr>\n",
       "      <th>4</th>\n",
       "      <td>1</td>\n",
       "      <td>ultra</td>\n",
       "      <td>11</td>\n",
       "      <td>7003.5</td>\n",
       "      <td>3</td>\n",
       "      <td>55.0</td>\n",
       "      <td>6</td>\n",
       "      <td>0</td>\n",
       "      <td>199</td>\n",
       "    </tr>\n",
       "    <tr>\n",
       "      <th>5</th>\n",
       "      <td>1</td>\n",
       "      <td>ultra</td>\n",
       "      <td>12</td>\n",
       "      <td>6751.6</td>\n",
       "      <td>2</td>\n",
       "      <td>28.0</td>\n",
       "      <td>6</td>\n",
       "      <td>0</td>\n",
       "      <td>199</td>\n",
       "    </tr>\n",
       "    <tr>\n",
       "      <th>6</th>\n",
       "      <td>2</td>\n",
       "      <td>ultra</td>\n",
       "      <td>3</td>\n",
       "      <td>10187.7</td>\n",
       "      <td>3</td>\n",
       "      <td>63.0</td>\n",
       "      <td>6</td>\n",
       "      <td>0</td>\n",
       "      <td>199</td>\n",
       "    </tr>\n",
       "    <tr>\n",
       "      <th>7</th>\n",
       "      <td>2</td>\n",
       "      <td>ultra</td>\n",
       "      <td>4</td>\n",
       "      <td>6164.4</td>\n",
       "      <td>2</td>\n",
       "      <td>40.0</td>\n",
       "      <td>6</td>\n",
       "      <td>0</td>\n",
       "      <td>199</td>\n",
       "    </tr>\n",
       "    <tr>\n",
       "      <th>8</th>\n",
       "      <td>2</td>\n",
       "      <td>ultra</td>\n",
       "      <td>6</td>\n",
       "      <td>3255.3</td>\n",
       "      <td>1</td>\n",
       "      <td>14.0</td>\n",
       "      <td>6</td>\n",
       "      <td>0</td>\n",
       "      <td>199</td>\n",
       "    </tr>\n",
       "    <tr>\n",
       "      <th>9</th>\n",
       "      <td>2</td>\n",
       "      <td>ultra</td>\n",
       "      <td>7</td>\n",
       "      <td>6780.7</td>\n",
       "      <td>2</td>\n",
       "      <td>47.0</td>\n",
       "      <td>6</td>\n",
       "      <td>0</td>\n",
       "      <td>199</td>\n",
       "    </tr>\n",
       "  </tbody>\n",
       "</table>\n",
       "</div>"
      ],
      "text/plain": [
       "   user_id subscription_type  month  distance_sum  distance_count  \\\n",
       "0        1             ultra      1        7027.5               2   \n",
       "1        1             ultra      4         754.2               1   \n",
       "2        1             ultra      8        6723.5               2   \n",
       "3        1             ultra     10        5809.9               2   \n",
       "4        1             ultra     11        7003.5               3   \n",
       "5        1             ultra     12        6751.6               2   \n",
       "6        2             ultra      3       10187.7               3   \n",
       "7        2             ultra      4        6164.4               2   \n",
       "8        2             ultra      6        3255.3               1   \n",
       "9        2             ultra      7        6780.7               2   \n",
       "\n",
       "   duration_sum  minute_price  start_ride_price  subscription_fee  \n",
       "0          42.0             6                 0               199  \n",
       "1           7.0             6                 0               199  \n",
       "2          46.0             6                 0               199  \n",
       "3          32.0             6                 0               199  \n",
       "4          55.0             6                 0               199  \n",
       "5          28.0             6                 0               199  \n",
       "6          63.0             6                 0               199  \n",
       "7          40.0             6                 0               199  \n",
       "8          14.0             6                 0               199  \n",
       "9          47.0             6                 0               199  "
      ]
     },
     "execution_count": 59,
     "metadata": {},
     "output_type": "execute_result"
    }
   ],
   "source": [
    "#объединение двух df методом merge() по столбцу 'subscription_type'\n",
    "data_revenue = data_revenue.merge(subscription_type, on='subscription_type')\n",
    "data_revenue.head(10)"
   ]
  },
  {
   "cell_type": "code",
   "execution_count": 60,
   "id": "537b6db3",
   "metadata": {},
   "outputs": [],
   "source": [
    "#создание нового столбца 'revenue' функцией\n",
    "def rev(data_revenue):\n",
    "    if data_revenue['subscription_type'] == 'free':\n",
    "        data_sum = data_revenue['duration_sum'] * data_revenue['minute_price']\n",
    "        data_fr = (data_revenue['distance_count'] * data_revenue['start_ride_price']) + data_revenue['subscription_fee']\n",
    "        return (data_fr + data_sum)\n",
    "    if data_revenue['subscription_type'] == 'ultra':\n",
    "        data_sum_ = data_revenue['duration_sum'] * data_revenue['minute_price']\n",
    "        data_ul = (data_revenue['distance_count'] * data_revenue['start_ride_price']) + data_revenue['subscription_fee']\n",
    "        return (data_sum_ + data_ul)\n",
    "   "
   ]
  },
  {
   "cell_type": "code",
   "execution_count": 61,
   "id": "61a5d12a",
   "metadata": {},
   "outputs": [],
   "source": [
    "data_revenue['revenue'] = data_revenue.apply(rev, axis=1)"
   ]
  },
  {
   "cell_type": "code",
   "execution_count": 62,
   "id": "23374817",
   "metadata": {},
   "outputs": [
    {
     "data": {
      "text/html": [
       "<div>\n",
       "<style scoped>\n",
       "    .dataframe tbody tr th:only-of-type {\n",
       "        vertical-align: middle;\n",
       "    }\n",
       "\n",
       "    .dataframe tbody tr th {\n",
       "        vertical-align: top;\n",
       "    }\n",
       "\n",
       "    .dataframe thead th {\n",
       "        text-align: right;\n",
       "    }\n",
       "</style>\n",
       "<table border=\"1\" class=\"dataframe\">\n",
       "  <thead>\n",
       "    <tr style=\"text-align: right;\">\n",
       "      <th></th>\n",
       "      <th>user_id</th>\n",
       "      <th>subscription_type</th>\n",
       "      <th>month</th>\n",
       "      <th>distance_sum</th>\n",
       "      <th>distance_count</th>\n",
       "      <th>duration_sum</th>\n",
       "      <th>minute_price</th>\n",
       "      <th>start_ride_price</th>\n",
       "      <th>subscription_fee</th>\n",
       "      <th>revenue</th>\n",
       "    </tr>\n",
       "  </thead>\n",
       "  <tbody>\n",
       "    <tr>\n",
       "      <th>11321</th>\n",
       "      <td>1533</td>\n",
       "      <td>free</td>\n",
       "      <td>8</td>\n",
       "      <td>4581.9</td>\n",
       "      <td>1</td>\n",
       "      <td>22.0</td>\n",
       "      <td>8</td>\n",
       "      <td>50</td>\n",
       "      <td>0</td>\n",
       "      <td>226.0</td>\n",
       "    </tr>\n",
       "    <tr>\n",
       "      <th>11322</th>\n",
       "      <td>1533</td>\n",
       "      <td>free</td>\n",
       "      <td>11</td>\n",
       "      <td>3414.4</td>\n",
       "      <td>1</td>\n",
       "      <td>26.0</td>\n",
       "      <td>8</td>\n",
       "      <td>50</td>\n",
       "      <td>0</td>\n",
       "      <td>258.0</td>\n",
       "    </tr>\n",
       "    <tr>\n",
       "      <th>11323</th>\n",
       "      <td>1534</td>\n",
       "      <td>free</td>\n",
       "      <td>1</td>\n",
       "      <td>4678.4</td>\n",
       "      <td>1</td>\n",
       "      <td>16.0</td>\n",
       "      <td>8</td>\n",
       "      <td>50</td>\n",
       "      <td>0</td>\n",
       "      <td>178.0</td>\n",
       "    </tr>\n",
       "    <tr>\n",
       "      <th>11324</th>\n",
       "      <td>1534</td>\n",
       "      <td>free</td>\n",
       "      <td>2</td>\n",
       "      <td>2103.9</td>\n",
       "      <td>1</td>\n",
       "      <td>14.0</td>\n",
       "      <td>8</td>\n",
       "      <td>50</td>\n",
       "      <td>0</td>\n",
       "      <td>162.0</td>\n",
       "    </tr>\n",
       "    <tr>\n",
       "      <th>11325</th>\n",
       "      <td>1534</td>\n",
       "      <td>free</td>\n",
       "      <td>4</td>\n",
       "      <td>3434.3</td>\n",
       "      <td>1</td>\n",
       "      <td>15.0</td>\n",
       "      <td>8</td>\n",
       "      <td>50</td>\n",
       "      <td>0</td>\n",
       "      <td>170.0</td>\n",
       "    </tr>\n",
       "    <tr>\n",
       "      <th>11326</th>\n",
       "      <td>1534</td>\n",
       "      <td>free</td>\n",
       "      <td>6</td>\n",
       "      <td>3409.4</td>\n",
       "      <td>2</td>\n",
       "      <td>26.0</td>\n",
       "      <td>8</td>\n",
       "      <td>50</td>\n",
       "      <td>0</td>\n",
       "      <td>308.0</td>\n",
       "    </tr>\n",
       "    <tr>\n",
       "      <th>11327</th>\n",
       "      <td>1534</td>\n",
       "      <td>free</td>\n",
       "      <td>8</td>\n",
       "      <td>7622.4</td>\n",
       "      <td>2</td>\n",
       "      <td>48.0</td>\n",
       "      <td>8</td>\n",
       "      <td>50</td>\n",
       "      <td>0</td>\n",
       "      <td>484.0</td>\n",
       "    </tr>\n",
       "    <tr>\n",
       "      <th>11328</th>\n",
       "      <td>1534</td>\n",
       "      <td>free</td>\n",
       "      <td>9</td>\n",
       "      <td>4928.2</td>\n",
       "      <td>1</td>\n",
       "      <td>23.0</td>\n",
       "      <td>8</td>\n",
       "      <td>50</td>\n",
       "      <td>0</td>\n",
       "      <td>234.0</td>\n",
       "    </tr>\n",
       "    <tr>\n",
       "      <th>11329</th>\n",
       "      <td>1534</td>\n",
       "      <td>free</td>\n",
       "      <td>11</td>\n",
       "      <td>13350.0</td>\n",
       "      <td>4</td>\n",
       "      <td>78.0</td>\n",
       "      <td>8</td>\n",
       "      <td>50</td>\n",
       "      <td>0</td>\n",
       "      <td>824.0</td>\n",
       "    </tr>\n",
       "    <tr>\n",
       "      <th>11330</th>\n",
       "      <td>1534</td>\n",
       "      <td>free</td>\n",
       "      <td>12</td>\n",
       "      <td>2371.7</td>\n",
       "      <td>1</td>\n",
       "      <td>16.0</td>\n",
       "      <td>8</td>\n",
       "      <td>50</td>\n",
       "      <td>0</td>\n",
       "      <td>178.0</td>\n",
       "    </tr>\n",
       "  </tbody>\n",
       "</table>\n",
       "</div>"
      ],
      "text/plain": [
       "       user_id subscription_type  month  distance_sum  distance_count  \\\n",
       "11321     1533              free      8        4581.9               1   \n",
       "11322     1533              free     11        3414.4               1   \n",
       "11323     1534              free      1        4678.4               1   \n",
       "11324     1534              free      2        2103.9               1   \n",
       "11325     1534              free      4        3434.3               1   \n",
       "11326     1534              free      6        3409.4               2   \n",
       "11327     1534              free      8        7622.4               2   \n",
       "11328     1534              free      9        4928.2               1   \n",
       "11329     1534              free     11       13350.0               4   \n",
       "11330     1534              free     12        2371.7               1   \n",
       "\n",
       "       duration_sum  minute_price  start_ride_price  subscription_fee  revenue  \n",
       "11321          22.0             8                50                 0    226.0  \n",
       "11322          26.0             8                50                 0    258.0  \n",
       "11323          16.0             8                50                 0    178.0  \n",
       "11324          14.0             8                50                 0    162.0  \n",
       "11325          15.0             8                50                 0    170.0  \n",
       "11326          26.0             8                50                 0    308.0  \n",
       "11327          48.0             8                50                 0    484.0  \n",
       "11328          23.0             8                50                 0    234.0  \n",
       "11329          78.0             8                50                 0    824.0  \n",
       "11330          16.0             8                50                 0    178.0  "
      ]
     },
     "execution_count": 62,
     "metadata": {},
     "output_type": "execute_result"
    }
   ],
   "source": [
    "#вывод последних 10 строчек полученного df\n",
    "data_revenue.tail(10)"
   ]
  },
  {
   "cell_type": "code",
   "execution_count": 63,
   "id": "2819b3a3",
   "metadata": {},
   "outputs": [],
   "source": [
    "data_revenue_ultra = data_revenue.loc[data_revenue['subscription_type'] == 'ultra']"
   ]
  },
  {
   "cell_type": "code",
   "execution_count": 64,
   "id": "0d9dedf7",
   "metadata": {},
   "outputs": [],
   "source": [
    "data_revenue_free = data_revenue.loc[data_revenue['subscription_type'] == 'free']"
   ]
  },
  {
   "cell_type": "markdown",
   "id": "ebbed3ad",
   "metadata": {},
   "source": [
    "## Проверка гипотез"
   ]
  },
  {
   "cell_type": "markdown",
   "id": "f682e697",
   "metadata": {},
   "source": [
    "**Гипотеза 1. Важно понять, тратят ли пользователи с подпиской больше времени на поездки? Если да, то пользователи с подпиской могут быть «выгоднее» для компании. Проверяем гипотезу. Используем исходные данные о продолжительности каждой сессии — отдельно для подписчиков и тех, у кого нет подписки.**"
   ]
  },
  {
   "cell_type": "markdown",
   "id": "accc6aa3",
   "metadata": {},
   "source": [
    "Формулируем двухстороннюю гипотезу:\n",
    "\n",
    "**Ho** = средняя продолжительность поездок пользователей с подпиской равна средней продолжительности поездок пользователей без подписки\n",
    "\n",
    "**Н1** = средняя продолжительность поездки пользователей с подпиской больше, чем продолжительность поезки у пользоватлей без подписки"
   ]
  },
  {
   "cell_type": "code",
   "execution_count": 65,
   "id": "fc1de5ce",
   "metadata": {},
   "outputs": [
    {
     "name": "stdout",
     "output_type": "stream",
     "text": [
      "Средняя продолжительность поездки пользователей с подпиской: 18.5\n",
      "Средняя продолжительность поездки пользователей без подписки: 17.4\n",
      "p-значение: 1.3448182372889e-34\n",
      "Отвергаем нулевую гипотезу\n"
     ]
    }
   ],
   "source": [
    "alpha = 0.05\n",
    "\n",
    "results = st.ttest_ind(data_ultra['duration'], data_free['duration'], alternative='greater')\n",
    "\n",
    "print('Средняя продолжительность поездки пользователей с подпиской:', round(data_ultra['duration'].mean(), 1))\n",
    "print('Средняя продолжительность поездки пользователей без подписки:', round(data_free['duration'].mean(), 1))\n",
    "\n",
    "print('p-значение:', results.pvalue)\n",
    "\n",
    "if results.pvalue < alpha:\n",
    "    print('Отвергаем нулевую гипотезу')\n",
    "else:\n",
    "    print('Не получилось отвергнуть нулевую гипотезу')"
   ]
  },
  {
   "cell_type": "markdown",
   "id": "9aee9109",
   "metadata": {},
   "source": [
    "**Вывод:**  *Слишком маленькая вероятность того, что средняя продолжительность поездок пользователей с подпиской равна средней продолжительности поездок пользователей без подписки, в связи с этим отвергаем данную гипотезу в сторону альтернативной: средняя продолжительность поездки пользователей с подпиской больше, чем продолжительность поезки у пользоватлей без подписки.*"
   ]
  },
  {
   "cell_type": "markdown",
   "id": "d3ac062c",
   "metadata": {},
   "source": [
    "**Гипотеза 2. Расстояние одной поездки в 3130 метров — оптимальное с точки зрения износа самоката. Можно ли сказать, что среднее расстояние, которое проезжают пользователи с подпиской за одну поездку, не превышает 3130 метров? Проверим гипотезу и сделаем выводы.**"
   ]
  },
  {
   "cell_type": "markdown",
   "id": "72a4aa77",
   "metadata": {},
   "source": [
    "Формулируем одностороннюю гипотезу:\n",
    "\n",
    "**Ho** = среднее растояние, которое проезжают пользователи с подпиской не превышает 3130 м\n",
    "\n",
    "**Н1** = среднее растояние, которое проезжают пользователи с подпиской значительно превышает 3130 м"
   ]
  },
  {
   "cell_type": "code",
   "execution_count": 66,
   "id": "c2217c0a",
   "metadata": {},
   "outputs": [
    {
     "name": "stdout",
     "output_type": "stream",
     "text": [
      "p-значение: 0.9195427368335852\n",
      "Не получилось отвергнуть нулевую гипотезу, среднее растояние, которое проезжают пользователи с подпиской не превышает 3130 м\n"
     ]
    }
   ],
   "source": [
    "interested_value = 3130\n",
    "\n",
    "alpha = 0.05\n",
    "\n",
    "results = st.ttest_1samp(\n",
    "    data_ultra['distance'], \n",
    "    interested_value, alternative='greater')\n",
    "\n",
    "print('p-значение:', results.pvalue)\n",
    "\n",
    "if results.pvalue < alpha:\n",
    "    print('Отвергаем нулевую гипотезу,среднее растояние, которое проезжают пользователи с подпиской значительно превышает 3130 м')\n",
    "else:\n",
    "    print('Не получилось отвергнуть нулевую гипотезу, среднее растояние, которое проезжают пользователи с подпиской не превышает 3130 м')"
   ]
  },
  {
   "cell_type": "markdown",
   "id": "51b4fd39",
   "metadata": {},
   "source": [
    "**Вывод:** *вероятность данной гипотезы 16%, поэтому вероятнее всего, что среднее расстояние, которое проезжают пользователи с подпиской за одну поездку, не превышает 3130 метров нельзя отвергнуть.*"
   ]
  },
  {
   "cell_type": "markdown",
   "id": "5a0b3c89",
   "metadata": {},
   "source": [
    "**Гипотеза 3. Проверим гипотезу о том, будет ли помесячная выручка от пользователей с подпиской по месяцам выше, чем выручка от пользователей без подписки. Сделаем вывод.**"
   ]
  },
  {
   "cell_type": "markdown",
   "id": "8de1525b",
   "metadata": {},
   "source": [
    "Формулируем двухстороннюю гипотезу:\n",
    "\n",
    "**Ho** = помесячная выручка от пользователей с подпиской по месяцам равна помесячной выручке от пользователей без подписки\n",
    "\n",
    "**Н1** = помесячная выручка от пользователей с подпиской по месяцам выше, чем у пользователей без подписки"
   ]
  },
  {
   "cell_type": "code",
   "execution_count": 67,
   "id": "3ce88ff5",
   "metadata": {},
   "outputs": [
    {
     "name": "stdout",
     "output_type": "stream",
     "text": [
      "Средняя выручка пользователей с подпиской: 362.4\n",
      "Средняя выручка пользователей без подписки: 328.0\n",
      "p-значение: 5.015631474144602e-32\n",
      "Отвергаем нулевую гипотезу\n"
     ]
    }
   ],
   "source": [
    "alpha = 0.05\n",
    "\n",
    "results = st.ttest_ind(data_revenue_ultra['revenue'], data_revenue_free['revenue'], alternative='greater')\n",
    "\n",
    "print('Средняя выручка пользователей с подпиской:', round(data_revenue_ultra['revenue'].mean(),1))\n",
    "print('Средняя выручка пользователей без подписки:', round(data_revenue_free['revenue'].mean(), 1))\n",
    "\n",
    "print('p-значение:', results.pvalue)\n",
    "\n",
    "if results.pvalue < alpha:\n",
    "    print('Отвергаем нулевую гипотезу')\n",
    "else:\n",
    "    print('Не получилось отвергнуть нулевую гипотезу') "
   ]
  },
  {
   "cell_type": "markdown",
   "id": "4b4eafed",
   "metadata": {},
   "source": [
    "**Вывод:** *Слишком маленькая вероятность того, что помесячная выручка от пользователей с подпиской по месяцам равна помесячной выручке от пользователей без подписки в связи с этим данная гипотеза отвергнута в сторону альтернативной гипотезы, что помесячная выручка от пользователей с подпиской по месяцам выше, чем у пользователей без подписки.*"
   ]
  },
  {
   "cell_type": "markdown",
   "id": "7bf64234",
   "metadata": {},
   "source": [
    "## Вывод"
   ]
  },
  {
   "cell_type": "markdown",
   "id": "081250d5",
   "metadata": {},
   "source": [
    "Нам передали данные от популярного сервиса аренды самокатов GoFast о некоторых пользователях из нескольких городов, а также об их поездках. Чтобы совершать поездки по городу, пользователи сервиса GoFast пользуются мобильным приложением. \n",
    "\n",
    "*После загрузки данных и их обзоре* видим информацию о пользователях, их поездках и подписках. Данные состоят из трех датафремов, где в первом мы можем найти информацию: id, имя, возраст, город и тип подписки пользователя; во втором: id, расстояние, продолжительность и дату поездки; в третьем условия подписки и без нее. \n",
    "\n",
    "После обзора данных приступили к *предобработке данных*, просматривая по каждому датафрему количество пропущенных значений, пропущенных знанений не найдено, нам переданы полные данные, в связи с чем получим более точный анализ. После произвели поиск явных дубликатов с дальнейшим их удалением.\n",
    "\n",
    "С обработанными данными произвели *исследовательский анализ*. При рассмотрении данных и анализе **по частоте встречаемости городов, видим по процентному соотношению, что распредление по городом почти равномерное, больше всего данных из городов Пятигорск, Екатеринбург, Ростов-на-Дону, наименьшее количество пользователей в данных из Москвы.**\n",
    "При анализе соотношения пользователей с подпиской и без подписки в данных видим, что **пользователей без подписки больше(54.4%), чем с подпиской(45.6%).**\n",
    "При рассмотрении показателя возраста пользователей в данных, видим что больше **всего пользователей в возрасте от 21-28 лет.**\n",
    "При рассмотрении показателя расстояния, которое **преодолел пользователь за одну поездку видим, что большее количество значений находится в промежутке от 2500 до 3800 метров.**\n",
    "При рассмотрении **продолжительности поездок можно увидеть, что большиство значений приходится в промежуток от 13 до 22 минут.**  \n",
    "\n",
    "При проведения *сравнительного анализа* расстояния и времени поездки двух датафреймов, сформированные на основе показателя подключения подписки, можем увидеть по показателю преодаления расстояния пользователем,если рассматривать **небольшие расстояния, то пользователи без подписки чаще пользуются арендой самоката до 1500 метров, чем пользователи с подпиской.** Если брать показатели на более длительные расстояния, то можно увидеть распределения значений у пользователей без подписки от 2500 до 4000 метров множественные значения распределены между собой с небольшим разбросом, но если рассматривать данные по пользователям с подпиской, то мы видим выраженное пиковое **значение от 3000 до 3200 метров, данные пользователи(с подпиской) чаще всего совершают поездки на длительные расстояния в пределах этого значения.**\n",
    "Рассматривая сравнительный анализ длительности поездок двух категорий, то значения распределены равномерно в двух группах. Количество значений в группе без подписки значительно больше, чем у категории с подпиской, **медианные значения продолжительности поездок групп близки к друг другу.** Пользователи без подписки совершают больше коротких поездок, так как значения этой группы начинаются раньше (есть аномальные значения в начале графика около 0), чем пользователи с подпиской, их минимальное значение с 4 минут.\n",
    "\n",
    "Далее рассматривали *ряд гипотез*. Первая гипотеза: тратят ли пользователи с подпиской больше времени на поездки?\n",
    "Мы получили слишком маленькую вероятность того, что средняя продолжительность поездок пользователей с подпиской равна средней продолжительности поездок пользователей без подписки, в связи с этим отвергли данную гипотезу в сторону альтернативной: **средняя продолжительность поездки пользователей с подпиской больше, чем продолжительность поезки у пользоватлей без подписки.**\n",
    "\n",
    "Вторая гипотеза: Можно ли сказать, что среднее расстояние, которое проезжают пользователи с подпиской за одну поездку, не превышает 3130 метров?\n",
    "**Мы получили вероятность данной гипотезы 16%, поэтому вероятнее всего, что среднее расстояние, которое проезжают пользователи с подпиской за одну поездку, не превышает 3130 метров нельзя отвергнуть. Данная гипотеза подтверждена**\n",
    "\n",
    "Третья гипотеза: будет ли помесячная выручка от пользователей с подпиской по месяцам выше, чем выручка от пользователей без подписки. \n",
    "Мы получили слишком маленькую вероятность того, что помесячная выручка от пользователей с подпиской по месяцам равна помесячной выручке от пользователей без подписки в связи с этим данную гипотезу отвергнули в сторону альтернативной гипотезы, что **помесячная выручка от пользователей с подпиской по месяцам выше, чем у пользователей без подписки.**\n",
    "\n",
    "Рекомендации после анализа: **для рассмотрения вектора увеличения пользователей с подпиской, так как данная категория является более выгодной для бизнеса, она приносит больший доход и пользуется услугой для длительных поездок, необходимо провести акционные мероприятия для группы без подписки для привлечения подключения услуги подписки ultra**"
   ]
  },
  {
   "cell_type": "code",
   "execution_count": null,
   "id": "7976da57",
   "metadata": {},
   "outputs": [],
   "source": []
  }
 ],
 "metadata": {
  "ExecuteTimeLog": [
   {
    "duration": 396,
    "start_time": "2023-10-10T13:09:28.367Z"
   },
   {
    "duration": 94,
    "start_time": "2023-10-10T13:11:03.282Z"
   },
   {
    "duration": 25,
    "start_time": "2023-10-10T13:11:16.726Z"
   },
   {
    "duration": 15,
    "start_time": "2023-10-10T13:11:32.767Z"
   },
   {
    "duration": 78,
    "start_time": "2023-10-10T13:13:06.865Z"
   },
   {
    "duration": 8,
    "start_time": "2023-10-10T13:13:22.811Z"
   },
   {
    "duration": 13,
    "start_time": "2023-10-10T13:13:45.273Z"
   },
   {
    "duration": 70,
    "start_time": "2023-10-10T13:15:40.678Z"
   },
   {
    "duration": 10,
    "start_time": "2023-10-10T13:15:54.258Z"
   },
   {
    "duration": 9,
    "start_time": "2023-10-10T13:16:44.628Z"
   },
   {
    "duration": 7,
    "start_time": "2023-10-10T13:16:46.029Z"
   },
   {
    "duration": 14,
    "start_time": "2023-10-10T13:16:56.480Z"
   },
   {
    "duration": 18,
    "start_time": "2023-10-10T13:28:18.483Z"
   },
   {
    "duration": 77,
    "start_time": "2023-10-10T13:30:40.507Z"
   },
   {
    "duration": 26,
    "start_time": "2023-10-10T13:30:53.480Z"
   },
   {
    "duration": 4,
    "start_time": "2023-10-10T13:56:38.524Z"
   },
   {
    "duration": 17,
    "start_time": "2023-10-10T13:56:56.427Z"
   },
   {
    "duration": 5,
    "start_time": "2023-10-10T13:57:04.320Z"
   },
   {
    "duration": 35,
    "start_time": "2023-10-10T13:57:13.053Z"
   },
   {
    "duration": 5,
    "start_time": "2023-10-10T14:07:08.985Z"
   },
   {
    "duration": 75,
    "start_time": "2023-10-10T14:07:23.382Z"
   },
   {
    "duration": 7,
    "start_time": "2023-10-10T14:07:34.986Z"
   },
   {
    "duration": 6,
    "start_time": "2023-10-10T14:07:59.615Z"
   },
   {
    "duration": 5,
    "start_time": "2023-10-10T14:14:03.365Z"
   },
   {
    "duration": 9,
    "start_time": "2023-10-10T16:12:10.998Z"
   },
   {
    "duration": 433,
    "start_time": "2023-10-10T16:12:41.265Z"
   },
   {
    "duration": 29,
    "start_time": "2023-10-10T16:12:41.700Z"
   },
   {
    "duration": 38,
    "start_time": "2023-10-10T16:12:41.730Z"
   },
   {
    "duration": 10,
    "start_time": "2023-10-10T16:12:41.772Z"
   },
   {
    "duration": 29,
    "start_time": "2023-10-10T16:12:41.784Z"
   },
   {
    "duration": 8,
    "start_time": "2023-10-10T16:12:41.815Z"
   },
   {
    "duration": 10,
    "start_time": "2023-10-10T16:12:41.824Z"
   },
   {
    "duration": 28,
    "start_time": "2023-10-10T16:12:41.836Z"
   },
   {
    "duration": 13,
    "start_time": "2023-10-10T16:12:41.865Z"
   },
   {
    "duration": 10,
    "start_time": "2023-10-10T16:12:41.879Z"
   },
   {
    "duration": 70,
    "start_time": "2023-10-10T16:12:41.890Z"
   },
   {
    "duration": 37,
    "start_time": "2023-10-10T16:12:41.961Z"
   },
   {
    "duration": 7,
    "start_time": "2023-10-10T16:12:42.000Z"
   },
   {
    "duration": 55,
    "start_time": "2023-10-10T16:12:42.010Z"
   },
   {
    "duration": 28,
    "start_time": "2023-10-10T16:12:42.066Z"
   },
   {
    "duration": 6,
    "start_time": "2023-10-10T16:12:42.095Z"
   },
   {
    "duration": 80,
    "start_time": "2023-10-10T16:12:42.102Z"
   },
   {
    "duration": 4,
    "start_time": "2023-10-10T16:13:26.915Z"
   },
   {
    "duration": 15,
    "start_time": "2023-10-10T16:14:01.483Z"
   },
   {
    "duration": 306,
    "start_time": "2023-10-10T16:30:14.611Z"
   },
   {
    "duration": 43,
    "start_time": "2023-10-10T16:31:52.323Z"
   },
   {
    "duration": 929,
    "start_time": "2023-10-10T16:32:15.938Z"
   },
   {
    "duration": 30,
    "start_time": "2023-10-10T16:32:16.877Z"
   },
   {
    "duration": 15,
    "start_time": "2023-10-10T16:32:16.908Z"
   },
   {
    "duration": 11,
    "start_time": "2023-10-10T16:32:16.925Z"
   },
   {
    "duration": 67,
    "start_time": "2023-10-10T16:32:16.938Z"
   },
   {
    "duration": 10,
    "start_time": "2023-10-10T16:32:17.006Z"
   },
   {
    "duration": 47,
    "start_time": "2023-10-10T16:32:17.017Z"
   },
   {
    "duration": 18,
    "start_time": "2023-10-10T16:32:17.085Z"
   },
   {
    "duration": 9,
    "start_time": "2023-10-10T16:32:17.105Z"
   },
   {
    "duration": 59,
    "start_time": "2023-10-10T16:32:17.117Z"
   },
   {
    "duration": 35,
    "start_time": "2023-10-10T16:32:17.178Z"
   },
   {
    "duration": 82,
    "start_time": "2023-10-10T16:32:17.219Z"
   },
   {
    "duration": 123,
    "start_time": "2023-10-10T16:32:17.303Z"
   },
   {
    "duration": 104,
    "start_time": "2023-10-10T16:32:17.428Z"
   },
   {
    "duration": 56,
    "start_time": "2023-10-10T16:32:17.534Z"
   },
   {
    "duration": 18,
    "start_time": "2023-10-10T16:32:17.600Z"
   },
   {
    "duration": 41,
    "start_time": "2023-10-10T16:32:17.619Z"
   },
   {
    "duration": 50,
    "start_time": "2023-10-10T16:32:17.668Z"
   },
   {
    "duration": 186,
    "start_time": "2023-10-10T16:32:17.719Z"
   },
   {
    "duration": 477,
    "start_time": "2023-10-10T16:34:12.536Z"
   },
   {
    "duration": 10,
    "start_time": "2023-10-10T16:36:01.524Z"
   },
   {
    "duration": 37,
    "start_time": "2023-10-10T16:37:00.639Z"
   },
   {
    "duration": 18,
    "start_time": "2023-10-10T16:38:35.085Z"
   },
   {
    "duration": 57,
    "start_time": "2023-10-10T16:38:53.281Z"
   },
   {
    "duration": 52,
    "start_time": "2023-10-10T16:39:24.552Z"
   },
   {
    "duration": 9,
    "start_time": "2023-10-10T16:40:01.587Z"
   },
   {
    "duration": 30,
    "start_time": "2023-10-10T16:40:12.070Z"
   },
   {
    "duration": 37,
    "start_time": "2023-10-10T16:40:26.456Z"
   },
   {
    "duration": 115,
    "start_time": "2023-10-10T16:44:24.753Z"
   },
   {
    "duration": 22,
    "start_time": "2023-10-10T16:44:51.973Z"
   },
   {
    "duration": 19,
    "start_time": "2023-10-10T16:45:53.789Z"
   },
   {
    "duration": 35,
    "start_time": "2023-10-10T16:46:15.033Z"
   },
   {
    "duration": 12,
    "start_time": "2023-10-10T16:46:44.401Z"
   },
   {
    "duration": 21,
    "start_time": "2023-10-10T16:47:35.052Z"
   },
   {
    "duration": 1419,
    "start_time": "2023-10-10T16:47:50.473Z"
   },
   {
    "duration": 750,
    "start_time": "2023-10-10T16:48:13.424Z"
   },
   {
    "duration": 33,
    "start_time": "2023-10-10T16:48:14.179Z"
   },
   {
    "duration": 12,
    "start_time": "2023-10-10T16:48:14.216Z"
   },
   {
    "duration": 61,
    "start_time": "2023-10-10T16:48:14.231Z"
   },
   {
    "duration": 33,
    "start_time": "2023-10-10T16:48:14.294Z"
   },
   {
    "duration": 35,
    "start_time": "2023-10-10T16:48:14.329Z"
   },
   {
    "duration": 23,
    "start_time": "2023-10-10T16:48:14.365Z"
   },
   {
    "duration": 32,
    "start_time": "2023-10-10T16:48:14.392Z"
   },
   {
    "duration": 8,
    "start_time": "2023-10-10T16:48:14.426Z"
   },
   {
    "duration": 31,
    "start_time": "2023-10-10T16:48:14.437Z"
   },
   {
    "duration": 30,
    "start_time": "2023-10-10T16:48:14.470Z"
   },
   {
    "duration": 5,
    "start_time": "2023-10-10T16:48:14.505Z"
   },
   {
    "duration": 11,
    "start_time": "2023-10-10T16:48:14.512Z"
   },
   {
    "duration": 12,
    "start_time": "2023-10-10T16:48:14.524Z"
   },
   {
    "duration": 30,
    "start_time": "2023-10-10T16:48:14.538Z"
   },
   {
    "duration": 14,
    "start_time": "2023-10-10T16:48:14.570Z"
   },
   {
    "duration": 12,
    "start_time": "2023-10-10T16:48:14.588Z"
   },
   {
    "duration": 12,
    "start_time": "2023-10-10T16:48:14.603Z"
   },
   {
    "duration": 15,
    "start_time": "2023-10-10T16:48:14.617Z"
   },
   {
    "duration": 1559,
    "start_time": "2023-10-10T16:48:14.634Z"
   },
   {
    "duration": 15,
    "start_time": "2023-10-10T16:49:19.703Z"
   },
   {
    "duration": 3,
    "start_time": "2023-10-10T16:51:21.492Z"
   },
   {
    "duration": 11,
    "start_time": "2023-10-10T16:51:23.221Z"
   },
   {
    "duration": 18,
    "start_time": "2023-10-10T16:51:24.783Z"
   },
   {
    "duration": 785,
    "start_time": "2023-10-10T16:51:51.220Z"
   },
   {
    "duration": 31,
    "start_time": "2023-10-10T16:51:52.007Z"
   },
   {
    "duration": 23,
    "start_time": "2023-10-10T16:51:52.045Z"
   },
   {
    "duration": 33,
    "start_time": "2023-10-10T16:51:52.070Z"
   },
   {
    "duration": 28,
    "start_time": "2023-10-10T16:51:52.105Z"
   },
   {
    "duration": 58,
    "start_time": "2023-10-10T16:51:52.135Z"
   },
   {
    "duration": 15,
    "start_time": "2023-10-10T16:51:52.197Z"
   },
   {
    "duration": 17,
    "start_time": "2023-10-10T16:51:52.214Z"
   },
   {
    "duration": 6,
    "start_time": "2023-10-10T16:51:52.232Z"
   },
   {
    "duration": 38,
    "start_time": "2023-10-10T16:51:52.254Z"
   },
   {
    "duration": 10,
    "start_time": "2023-10-10T16:51:52.296Z"
   },
   {
    "duration": 8,
    "start_time": "2023-10-10T16:51:52.308Z"
   },
   {
    "duration": 12,
    "start_time": "2023-10-10T16:51:52.318Z"
   },
   {
    "duration": 17,
    "start_time": "2023-10-10T16:51:52.331Z"
   },
   {
    "duration": 26,
    "start_time": "2023-10-10T16:51:52.361Z"
   },
   {
    "duration": 7,
    "start_time": "2023-10-10T16:51:52.395Z"
   },
   {
    "duration": 28,
    "start_time": "2023-10-10T16:51:52.404Z"
   },
   {
    "duration": 33,
    "start_time": "2023-10-10T16:51:52.434Z"
   },
   {
    "duration": 24,
    "start_time": "2023-10-10T16:51:52.469Z"
   },
   {
    "duration": 18,
    "start_time": "2023-10-10T16:51:52.498Z"
   },
   {
    "duration": 143,
    "start_time": "2023-10-10T16:51:52.517Z"
   },
   {
    "duration": 23,
    "start_time": "2023-10-10T16:52:34.761Z"
   },
   {
    "duration": 43,
    "start_time": "2023-10-10T16:52:57.437Z"
   },
   {
    "duration": 390,
    "start_time": "2023-10-10T16:53:36.024Z"
   },
   {
    "duration": 97,
    "start_time": "2023-10-10T16:54:21.234Z"
   },
   {
    "duration": 20,
    "start_time": "2023-10-10T16:54:45.071Z"
   },
   {
    "duration": 248,
    "start_time": "2023-10-10T16:56:36.307Z"
   },
   {
    "duration": 17001,
    "start_time": "2023-10-10T16:59:03.061Z"
   },
   {
    "duration": 10,
    "start_time": "2023-10-10T17:03:45.723Z"
   },
   {
    "duration": 125,
    "start_time": "2023-10-10T17:11:06.537Z"
   },
   {
    "duration": 275,
    "start_time": "2023-10-10T17:13:12.432Z"
   },
   {
    "duration": 225,
    "start_time": "2023-10-10T17:13:21.453Z"
   },
   {
    "duration": 218,
    "start_time": "2023-10-10T17:13:31.182Z"
   },
   {
    "duration": 392,
    "start_time": "2023-10-10T17:13:38.019Z"
   },
   {
    "duration": 158,
    "start_time": "2023-10-10T17:13:45.458Z"
   },
   {
    "duration": 8,
    "start_time": "2023-10-10T17:22:44.777Z"
   },
   {
    "duration": 17426,
    "start_time": "2023-10-10T17:22:57.091Z"
   },
   {
    "duration": 17940,
    "start_time": "2023-10-10T17:23:51.773Z"
   },
   {
    "duration": 185,
    "start_time": "2023-10-10T17:24:28.615Z"
   },
   {
    "duration": 163,
    "start_time": "2023-10-10T17:25:07.873Z"
   },
   {
    "duration": 492,
    "start_time": "2023-10-10T17:25:43.071Z"
   },
   {
    "duration": 97,
    "start_time": "2023-10-10T17:28:16.221Z"
   },
   {
    "duration": 126,
    "start_time": "2023-10-10T17:28:24.652Z"
   },
   {
    "duration": 158,
    "start_time": "2023-10-10T17:28:31.962Z"
   },
   {
    "duration": 83,
    "start_time": "2023-10-10T17:32:32.777Z"
   },
   {
    "duration": 205,
    "start_time": "2023-10-10T17:32:41.996Z"
   },
   {
    "duration": 211,
    "start_time": "2023-10-10T17:33:52.549Z"
   },
   {
    "duration": 202,
    "start_time": "2023-10-10T17:34:39.949Z"
   },
   {
    "duration": 377,
    "start_time": "2023-10-10T18:07:07.117Z"
   },
   {
    "duration": 11,
    "start_time": "2023-10-10T18:07:22.319Z"
   },
   {
    "duration": 14,
    "start_time": "2023-10-10T18:08:24.781Z"
   },
   {
    "duration": 19,
    "start_time": "2023-10-10T18:09:16.853Z"
   },
   {
    "duration": 22,
    "start_time": "2023-10-10T18:09:24.930Z"
   },
   {
    "duration": 11,
    "start_time": "2023-10-10T18:09:38.125Z"
   },
   {
    "duration": 42,
    "start_time": "2023-10-10T18:10:05.150Z"
   },
   {
    "duration": 15,
    "start_time": "2023-10-10T18:12:52.345Z"
   },
   {
    "duration": 12,
    "start_time": "2023-10-10T18:12:59.372Z"
   },
   {
    "duration": 29,
    "start_time": "2023-10-10T18:13:07.158Z"
   },
   {
    "duration": 11,
    "start_time": "2023-10-10T18:14:26.707Z"
   },
   {
    "duration": 18,
    "start_time": "2023-10-10T18:15:00.229Z"
   },
   {
    "duration": 33,
    "start_time": "2023-10-10T18:15:26.458Z"
   },
   {
    "duration": 316,
    "start_time": "2023-10-10T18:16:33.235Z"
   },
   {
    "duration": 182,
    "start_time": "2023-10-10T18:16:40.321Z"
   },
   {
    "duration": 275,
    "start_time": "2023-10-10T18:18:43.377Z"
   },
   {
    "duration": 227,
    "start_time": "2023-10-10T18:18:56.726Z"
   },
   {
    "duration": 242,
    "start_time": "2023-10-10T18:19:32.503Z"
   },
   {
    "duration": 365,
    "start_time": "2023-10-10T18:20:22.835Z"
   },
   {
    "duration": 251,
    "start_time": "2023-10-10T18:20:31.258Z"
   },
   {
    "duration": 36,
    "start_time": "2023-10-10T18:21:20.253Z"
   },
   {
    "duration": 306,
    "start_time": "2023-10-10T18:21:29.974Z"
   },
   {
    "duration": 162,
    "start_time": "2023-10-10T18:22:30.642Z"
   },
   {
    "duration": 195,
    "start_time": "2023-10-10T18:22:40.442Z"
   },
   {
    "duration": 150,
    "start_time": "2023-10-10T18:22:55.685Z"
   },
   {
    "duration": 176,
    "start_time": "2023-10-10T18:23:07.738Z"
   },
   {
    "duration": 164,
    "start_time": "2023-10-10T18:23:19.069Z"
   },
   {
    "duration": 188,
    "start_time": "2023-10-10T18:23:28.408Z"
   },
   {
    "duration": 151,
    "start_time": "2023-10-10T18:23:38.375Z"
   },
   {
    "duration": 202,
    "start_time": "2023-10-10T18:23:52.585Z"
   },
   {
    "duration": 142,
    "start_time": "2023-10-10T18:24:03.188Z"
   },
   {
    "duration": 13,
    "start_time": "2023-10-10T18:26:03.217Z"
   },
   {
    "duration": 45,
    "start_time": "2023-10-10T18:26:41.255Z"
   },
   {
    "duration": 482,
    "start_time": "2023-10-10T18:27:35.709Z"
   },
   {
    "duration": 620,
    "start_time": "2023-10-10T18:27:51.966Z"
   },
   {
    "duration": 582,
    "start_time": "2023-10-10T18:27:59.001Z"
   },
   {
    "duration": 500,
    "start_time": "2023-10-10T18:28:07.788Z"
   },
   {
    "duration": 451,
    "start_time": "2023-10-10T18:28:17.581Z"
   },
   {
    "duration": 385,
    "start_time": "2023-10-10T18:29:14.351Z"
   },
   {
    "duration": 318,
    "start_time": "2023-10-10T18:36:41.946Z"
   },
   {
    "duration": 537,
    "start_time": "2023-10-10T18:37:31.307Z"
   },
   {
    "duration": 183,
    "start_time": "2023-10-10T18:40:35.821Z"
   },
   {
    "duration": 204,
    "start_time": "2023-10-10T18:41:35.729Z"
   },
   {
    "duration": 1640,
    "start_time": "2023-10-10T18:41:55.028Z"
   },
   {
    "duration": 898,
    "start_time": "2023-10-10T18:42:35.567Z"
   },
   {
    "duration": 61,
    "start_time": "2023-10-10T18:42:36.471Z"
   },
   {
    "duration": 17,
    "start_time": "2023-10-10T18:42:36.533Z"
   },
   {
    "duration": 31,
    "start_time": "2023-10-10T18:42:36.553Z"
   },
   {
    "duration": 44,
    "start_time": "2023-10-10T18:42:36.585Z"
   },
   {
    "duration": 22,
    "start_time": "2023-10-10T18:42:36.632Z"
   },
   {
    "duration": 27,
    "start_time": "2023-10-10T18:42:36.656Z"
   },
   {
    "duration": 18,
    "start_time": "2023-10-10T18:42:36.687Z"
   },
   {
    "duration": 14,
    "start_time": "2023-10-10T18:42:36.709Z"
   },
   {
    "duration": 78,
    "start_time": "2023-10-10T18:42:36.730Z"
   },
   {
    "duration": 12,
    "start_time": "2023-10-10T18:42:36.817Z"
   },
   {
    "duration": 49,
    "start_time": "2023-10-10T18:42:36.831Z"
   },
   {
    "duration": 22,
    "start_time": "2023-10-10T18:42:36.892Z"
   },
   {
    "duration": 9,
    "start_time": "2023-10-10T18:42:36.916Z"
   },
   {
    "duration": 49,
    "start_time": "2023-10-10T18:42:36.927Z"
   },
   {
    "duration": 19,
    "start_time": "2023-10-10T18:42:36.977Z"
   },
   {
    "duration": 27,
    "start_time": "2023-10-10T18:42:36.997Z"
   },
   {
    "duration": 25,
    "start_time": "2023-10-10T18:42:37.026Z"
   },
   {
    "duration": 10,
    "start_time": "2023-10-10T18:42:37.054Z"
   },
   {
    "duration": 38,
    "start_time": "2023-10-10T18:42:37.066Z"
   },
   {
    "duration": 302,
    "start_time": "2023-10-10T18:42:37.108Z"
   },
   {
    "duration": 11,
    "start_time": "2023-10-10T18:42:37.416Z"
   },
   {
    "duration": 249,
    "start_time": "2023-10-10T18:42:37.428Z"
   },
   {
    "duration": 111,
    "start_time": "2023-10-10T18:42:37.685Z"
   },
   {
    "duration": 24,
    "start_time": "2023-10-10T18:42:37.802Z"
   },
   {
    "duration": 319,
    "start_time": "2023-10-10T18:42:37.828Z"
   },
   {
    "duration": 639,
    "start_time": "2023-10-10T18:42:38.149Z"
   },
   {
    "duration": 378,
    "start_time": "2023-10-10T18:43:06.910Z"
   },
   {
    "duration": 170,
    "start_time": "2023-10-10T18:43:42.249Z"
   },
   {
    "duration": 275,
    "start_time": "2023-10-10T18:44:03.889Z"
   },
   {
    "duration": 145,
    "start_time": "2023-10-10T18:46:29.562Z"
   },
   {
    "duration": 131,
    "start_time": "2023-10-10T18:47:02.881Z"
   },
   {
    "duration": 113,
    "start_time": "2023-10-10T18:47:37.897Z"
   },
   {
    "duration": 9,
    "start_time": "2023-10-10T18:48:29.015Z"
   },
   {
    "duration": 155,
    "start_time": "2023-10-10T18:48:44.111Z"
   },
   {
    "duration": 160,
    "start_time": "2023-10-10T18:53:58.022Z"
   },
   {
    "duration": 112,
    "start_time": "2023-10-10T18:57:10.123Z"
   },
   {
    "duration": 181,
    "start_time": "2023-10-10T18:57:46.413Z"
   },
   {
    "duration": 277,
    "start_time": "2023-10-10T18:58:02.509Z"
   },
   {
    "duration": 186,
    "start_time": "2023-10-10T18:58:11.609Z"
   },
   {
    "duration": 155,
    "start_time": "2023-10-10T19:00:25.086Z"
   },
   {
    "duration": 168,
    "start_time": "2023-10-10T19:00:34.793Z"
   },
   {
    "duration": 181,
    "start_time": "2023-10-10T19:01:11.312Z"
   },
   {
    "duration": 97,
    "start_time": "2023-10-10T19:03:26.896Z"
   },
   {
    "duration": 107,
    "start_time": "2023-10-10T19:03:48.305Z"
   },
   {
    "duration": 124,
    "start_time": "2023-10-10T19:04:10.008Z"
   },
   {
    "duration": 129,
    "start_time": "2023-10-10T19:04:30.091Z"
   },
   {
    "duration": 125,
    "start_time": "2023-10-10T19:06:05.381Z"
   },
   {
    "duration": 194,
    "start_time": "2023-10-10T19:06:16.278Z"
   },
   {
    "duration": 121,
    "start_time": "2023-10-10T19:08:46.984Z"
   },
   {
    "duration": 381,
    "start_time": "2023-10-10T19:08:58.349Z"
   },
   {
    "duration": 242,
    "start_time": "2023-10-10T19:10:02.362Z"
   },
   {
    "duration": 128,
    "start_time": "2023-10-10T19:10:25.693Z"
   },
   {
    "duration": 201,
    "start_time": "2023-10-10T19:11:33.320Z"
   },
   {
    "duration": 209,
    "start_time": "2023-10-10T19:11:49.861Z"
   },
   {
    "duration": 225,
    "start_time": "2023-10-10T19:12:09.904Z"
   },
   {
    "duration": 3,
    "start_time": "2023-10-10T19:16:39.498Z"
   },
   {
    "duration": 14,
    "start_time": "2023-10-10T19:17:21.038Z"
   },
   {
    "duration": 11,
    "start_time": "2023-10-10T19:17:35.898Z"
   },
   {
    "duration": 52,
    "start_time": "2023-10-11T09:41:43.449Z"
   },
   {
    "duration": 918,
    "start_time": "2023-10-11T09:41:53.429Z"
   },
   {
    "duration": 111,
    "start_time": "2023-10-11T09:41:54.350Z"
   },
   {
    "duration": 16,
    "start_time": "2023-10-11T09:41:54.463Z"
   },
   {
    "duration": 27,
    "start_time": "2023-10-11T09:41:54.481Z"
   },
   {
    "duration": 178,
    "start_time": "2023-10-11T09:41:54.510Z"
   },
   {
    "duration": 11,
    "start_time": "2023-10-11T09:41:54.690Z"
   },
   {
    "duration": 22,
    "start_time": "2023-10-11T09:41:54.703Z"
   },
   {
    "duration": 63,
    "start_time": "2023-10-11T09:41:54.727Z"
   },
   {
    "duration": 8,
    "start_time": "2023-10-11T09:41:54.792Z"
   },
   {
    "duration": 35,
    "start_time": "2023-10-11T09:41:54.803Z"
   },
   {
    "duration": 60,
    "start_time": "2023-10-11T09:41:54.841Z"
   },
   {
    "duration": 17,
    "start_time": "2023-10-11T09:41:54.903Z"
   },
   {
    "duration": 25,
    "start_time": "2023-10-11T09:41:54.921Z"
   },
   {
    "duration": 51,
    "start_time": "2023-10-11T09:41:54.948Z"
   },
   {
    "duration": 10,
    "start_time": "2023-10-11T09:41:55.001Z"
   },
   {
    "duration": 20,
    "start_time": "2023-10-11T09:41:55.012Z"
   },
   {
    "duration": 26,
    "start_time": "2023-10-11T09:41:55.033Z"
   },
   {
    "duration": 43,
    "start_time": "2023-10-11T09:41:55.061Z"
   },
   {
    "duration": 19,
    "start_time": "2023-10-11T09:41:55.106Z"
   },
   {
    "duration": 19,
    "start_time": "2023-10-11T09:41:55.127Z"
   },
   {
    "duration": 51,
    "start_time": "2023-10-11T09:41:55.148Z"
   },
   {
    "duration": 29,
    "start_time": "2023-10-11T09:41:55.201Z"
   },
   {
    "duration": 294,
    "start_time": "2023-10-11T09:41:55.232Z"
   },
   {
    "duration": 204,
    "start_time": "2023-10-11T09:41:55.528Z"
   },
   {
    "duration": 85,
    "start_time": "2023-10-11T09:41:55.734Z"
   },
   {
    "duration": 0,
    "start_time": "2023-10-11T09:41:55.821Z"
   },
   {
    "duration": 0,
    "start_time": "2023-10-11T09:41:55.823Z"
   },
   {
    "duration": 0,
    "start_time": "2023-10-11T09:41:55.824Z"
   },
   {
    "duration": 0,
    "start_time": "2023-10-11T09:41:55.825Z"
   },
   {
    "duration": 0,
    "start_time": "2023-10-11T09:41:55.826Z"
   },
   {
    "duration": 0,
    "start_time": "2023-10-11T09:41:55.827Z"
   },
   {
    "duration": 714,
    "start_time": "2023-10-11T09:42:51.171Z"
   },
   {
    "duration": 31,
    "start_time": "2023-10-11T09:42:51.887Z"
   },
   {
    "duration": 14,
    "start_time": "2023-10-11T09:42:51.923Z"
   },
   {
    "duration": 46,
    "start_time": "2023-10-11T09:42:51.939Z"
   },
   {
    "duration": 65,
    "start_time": "2023-10-11T09:42:51.987Z"
   },
   {
    "duration": 27,
    "start_time": "2023-10-11T09:42:52.053Z"
   },
   {
    "duration": 48,
    "start_time": "2023-10-11T09:42:52.081Z"
   },
   {
    "duration": 68,
    "start_time": "2023-10-11T09:42:52.131Z"
   },
   {
    "duration": 17,
    "start_time": "2023-10-11T09:42:52.202Z"
   },
   {
    "duration": 21,
    "start_time": "2023-10-11T09:42:52.220Z"
   },
   {
    "duration": 41,
    "start_time": "2023-10-11T09:42:52.242Z"
   },
   {
    "duration": 38,
    "start_time": "2023-10-11T09:42:52.285Z"
   },
   {
    "duration": 59,
    "start_time": "2023-10-11T09:42:52.325Z"
   },
   {
    "duration": 37,
    "start_time": "2023-10-11T09:42:52.386Z"
   },
   {
    "duration": 43,
    "start_time": "2023-10-11T09:42:52.425Z"
   },
   {
    "duration": 24,
    "start_time": "2023-10-11T09:42:52.470Z"
   },
   {
    "duration": 14,
    "start_time": "2023-10-11T09:42:52.496Z"
   },
   {
    "duration": 22,
    "start_time": "2023-10-11T09:42:52.513Z"
   },
   {
    "duration": 24,
    "start_time": "2023-10-11T09:42:52.537Z"
   },
   {
    "duration": 20,
    "start_time": "2023-10-11T09:42:52.563Z"
   },
   {
    "duration": 9,
    "start_time": "2023-10-11T09:42:52.585Z"
   },
   {
    "duration": 32,
    "start_time": "2023-10-11T09:42:52.596Z"
   },
   {
    "duration": 233,
    "start_time": "2023-10-11T09:42:52.629Z"
   },
   {
    "duration": 205,
    "start_time": "2023-10-11T09:42:52.863Z"
   },
   {
    "duration": 87,
    "start_time": "2023-10-11T09:42:53.071Z"
   },
   {
    "duration": 0,
    "start_time": "2023-10-11T09:42:53.159Z"
   },
   {
    "duration": 0,
    "start_time": "2023-10-11T09:42:53.161Z"
   },
   {
    "duration": 0,
    "start_time": "2023-10-11T09:42:53.162Z"
   },
   {
    "duration": 0,
    "start_time": "2023-10-11T09:42:53.163Z"
   },
   {
    "duration": 0,
    "start_time": "2023-10-11T09:42:53.164Z"
   },
   {
    "duration": 0,
    "start_time": "2023-10-11T09:42:53.165Z"
   },
   {
    "duration": 16,
    "start_time": "2023-10-11T09:44:38.923Z"
   },
   {
    "duration": 100,
    "start_time": "2023-10-11T09:44:42.486Z"
   },
   {
    "duration": 13,
    "start_time": "2023-10-11T09:44:59.472Z"
   },
   {
    "duration": 144,
    "start_time": "2023-10-11T09:45:14.140Z"
   },
   {
    "duration": 195,
    "start_time": "2023-10-11T09:45:21.818Z"
   },
   {
    "duration": 15,
    "start_time": "2023-10-11T09:45:46.411Z"
   },
   {
    "duration": 316,
    "start_time": "2023-10-11T09:45:50.249Z"
   },
   {
    "duration": 11,
    "start_time": "2023-10-11T09:45:54.372Z"
   },
   {
    "duration": 705,
    "start_time": "2023-10-11T09:46:06.616Z"
   },
   {
    "duration": 31,
    "start_time": "2023-10-11T09:46:07.323Z"
   },
   {
    "duration": 12,
    "start_time": "2023-10-11T09:46:07.356Z"
   },
   {
    "duration": 13,
    "start_time": "2023-10-11T09:46:07.370Z"
   },
   {
    "duration": 35,
    "start_time": "2023-10-11T09:46:07.384Z"
   },
   {
    "duration": 10,
    "start_time": "2023-10-11T09:46:07.421Z"
   },
   {
    "duration": 27,
    "start_time": "2023-10-11T09:46:07.432Z"
   },
   {
    "duration": 19,
    "start_time": "2023-10-11T09:46:07.462Z"
   },
   {
    "duration": 9,
    "start_time": "2023-10-11T09:46:07.482Z"
   },
   {
    "duration": 15,
    "start_time": "2023-10-11T09:46:07.495Z"
   },
   {
    "duration": 15,
    "start_time": "2023-10-11T09:46:07.512Z"
   },
   {
    "duration": 17,
    "start_time": "2023-10-11T09:46:07.529Z"
   },
   {
    "duration": 22,
    "start_time": "2023-10-11T09:46:07.548Z"
   },
   {
    "duration": 16,
    "start_time": "2023-10-11T09:46:07.571Z"
   },
   {
    "duration": 11,
    "start_time": "2023-10-11T09:46:07.589Z"
   },
   {
    "duration": 9,
    "start_time": "2023-10-11T09:46:07.601Z"
   },
   {
    "duration": 7,
    "start_time": "2023-10-11T09:46:07.611Z"
   },
   {
    "duration": 26,
    "start_time": "2023-10-11T09:46:07.620Z"
   },
   {
    "duration": 6,
    "start_time": "2023-10-11T09:46:07.648Z"
   },
   {
    "duration": 10,
    "start_time": "2023-10-11T09:46:07.656Z"
   },
   {
    "duration": 21,
    "start_time": "2023-10-11T09:46:07.668Z"
   },
   {
    "duration": 26,
    "start_time": "2023-10-11T09:46:07.691Z"
   },
   {
    "duration": 231,
    "start_time": "2023-10-11T09:46:07.719Z"
   },
   {
    "duration": 230,
    "start_time": "2023-10-11T09:46:07.952Z"
   },
   {
    "duration": 15,
    "start_time": "2023-10-11T09:46:08.184Z"
   },
   {
    "duration": 182,
    "start_time": "2023-10-11T09:46:08.201Z"
   },
   {
    "duration": 140,
    "start_time": "2023-10-11T09:46:08.386Z"
   },
   {
    "duration": 14,
    "start_time": "2023-10-11T09:46:08.529Z"
   },
   {
    "duration": 427,
    "start_time": "2023-10-11T09:46:08.557Z"
   },
   {
    "duration": 13,
    "start_time": "2023-10-11T09:46:08.986Z"
   },
   {
    "duration": 330,
    "start_time": "2023-10-11T09:48:39.901Z"
   },
   {
    "duration": 403,
    "start_time": "2023-10-11T09:48:58.866Z"
   },
   {
    "duration": 1575,
    "start_time": "2023-10-11T09:49:13.637Z"
   },
   {
    "duration": 1334,
    "start_time": "2023-10-11T09:49:29.406Z"
   },
   {
    "duration": 809,
    "start_time": "2023-10-11T09:49:49.960Z"
   },
   {
    "duration": 955,
    "start_time": "2023-10-11T09:52:04.514Z"
   },
   {
    "duration": 820,
    "start_time": "2023-10-11T09:52:47.227Z"
   },
   {
    "duration": 1015,
    "start_time": "2023-10-11T09:53:16.397Z"
   },
   {
    "duration": 181,
    "start_time": "2023-10-11T09:55:55.952Z"
   },
   {
    "duration": 10,
    "start_time": "2023-10-11T09:58:16.716Z"
   },
   {
    "duration": 766,
    "start_time": "2023-10-11T10:01:49.430Z"
   },
   {
    "duration": 31,
    "start_time": "2023-10-11T10:01:50.198Z"
   },
   {
    "duration": 33,
    "start_time": "2023-10-11T10:01:50.231Z"
   },
   {
    "duration": 43,
    "start_time": "2023-10-11T10:01:50.268Z"
   },
   {
    "duration": 72,
    "start_time": "2023-10-11T10:01:50.313Z"
   },
   {
    "duration": 12,
    "start_time": "2023-10-11T10:01:50.388Z"
   },
   {
    "duration": 40,
    "start_time": "2023-10-11T10:01:50.402Z"
   },
   {
    "duration": 29,
    "start_time": "2023-10-11T10:01:50.444Z"
   },
   {
    "duration": 57,
    "start_time": "2023-10-11T10:01:50.474Z"
   },
   {
    "duration": 78,
    "start_time": "2023-10-11T10:01:50.533Z"
   },
   {
    "duration": 37,
    "start_time": "2023-10-11T10:01:50.612Z"
   },
   {
    "duration": 57,
    "start_time": "2023-10-11T10:01:50.651Z"
   },
   {
    "duration": 13,
    "start_time": "2023-10-11T10:01:50.710Z"
   },
   {
    "duration": 26,
    "start_time": "2023-10-11T10:01:50.725Z"
   },
   {
    "duration": 27,
    "start_time": "2023-10-11T10:01:50.753Z"
   },
   {
    "duration": 35,
    "start_time": "2023-10-11T10:01:50.782Z"
   },
   {
    "duration": 17,
    "start_time": "2023-10-11T10:01:50.819Z"
   },
   {
    "duration": 57,
    "start_time": "2023-10-11T10:01:50.838Z"
   },
   {
    "duration": 56,
    "start_time": "2023-10-11T10:01:50.897Z"
   },
   {
    "duration": 51,
    "start_time": "2023-10-11T10:01:50.955Z"
   },
   {
    "duration": 253,
    "start_time": "2023-10-11T10:01:51.009Z"
   },
   {
    "duration": 236,
    "start_time": "2023-10-11T10:01:51.265Z"
   },
   {
    "duration": 14,
    "start_time": "2023-10-11T10:01:51.503Z"
   },
   {
    "duration": 173,
    "start_time": "2023-10-11T10:01:51.520Z"
   },
   {
    "duration": 144,
    "start_time": "2023-10-11T10:01:51.695Z"
   },
   {
    "duration": 22,
    "start_time": "2023-10-11T10:01:51.842Z"
   },
   {
    "duration": 413,
    "start_time": "2023-10-11T10:01:51.867Z"
   },
   {
    "duration": 4,
    "start_time": "2023-10-11T10:01:52.285Z"
   },
   {
    "duration": 16,
    "start_time": "2023-10-11T10:01:52.291Z"
   },
   {
    "duration": 914,
    "start_time": "2023-10-11T10:01:52.309Z"
   },
   {
    "duration": 186,
    "start_time": "2023-10-11T10:01:53.225Z"
   },
   {
    "duration": 5,
    "start_time": "2023-10-11T10:01:53.413Z"
   },
   {
    "duration": 105,
    "start_time": "2023-10-11T10:01:53.420Z"
   },
   {
    "duration": 1308,
    "start_time": "2023-10-11T10:01:53.528Z"
   },
   {
    "duration": 96,
    "start_time": "2023-10-11T10:01:54.838Z"
   },
   {
    "duration": 367,
    "start_time": "2023-10-11T10:02:24.796Z"
   },
   {
    "duration": 580,
    "start_time": "2023-10-11T10:02:36.049Z"
   },
   {
    "duration": 157,
    "start_time": "2023-10-11T10:04:24.113Z"
   },
   {
    "duration": 736,
    "start_time": "2023-10-11T10:07:13.902Z"
   },
   {
    "duration": 32,
    "start_time": "2023-10-11T10:07:14.641Z"
   },
   {
    "duration": 17,
    "start_time": "2023-10-11T10:07:14.675Z"
   },
   {
    "duration": 39,
    "start_time": "2023-10-11T10:07:14.694Z"
   },
   {
    "duration": 42,
    "start_time": "2023-10-11T10:07:14.736Z"
   },
   {
    "duration": 11,
    "start_time": "2023-10-11T10:07:14.780Z"
   },
   {
    "duration": 31,
    "start_time": "2023-10-11T10:07:14.793Z"
   },
   {
    "duration": 46,
    "start_time": "2023-10-11T10:07:14.826Z"
   },
   {
    "duration": 47,
    "start_time": "2023-10-11T10:07:14.875Z"
   },
   {
    "duration": 66,
    "start_time": "2023-10-11T10:07:14.925Z"
   },
   {
    "duration": 144,
    "start_time": "2023-10-11T10:07:14.993Z"
   },
   {
    "duration": 104,
    "start_time": "2023-10-11T10:07:15.139Z"
   },
   {
    "duration": 37,
    "start_time": "2023-10-11T10:07:15.245Z"
   },
   {
    "duration": 34,
    "start_time": "2023-10-11T10:07:15.287Z"
   },
   {
    "duration": 19,
    "start_time": "2023-10-11T10:07:15.324Z"
   },
   {
    "duration": 24,
    "start_time": "2023-10-11T10:07:15.346Z"
   },
   {
    "duration": 25,
    "start_time": "2023-10-11T10:07:15.372Z"
   },
   {
    "duration": 116,
    "start_time": "2023-10-11T10:07:15.399Z"
   },
   {
    "duration": 61,
    "start_time": "2023-10-11T10:07:15.518Z"
   },
   {
    "duration": 73,
    "start_time": "2023-10-11T10:07:15.581Z"
   },
   {
    "duration": 278,
    "start_time": "2023-10-11T10:07:15.656Z"
   },
   {
    "duration": 226,
    "start_time": "2023-10-11T10:07:15.936Z"
   },
   {
    "duration": 15,
    "start_time": "2023-10-11T10:07:16.165Z"
   },
   {
    "duration": 168,
    "start_time": "2023-10-11T10:07:16.182Z"
   },
   {
    "duration": 147,
    "start_time": "2023-10-11T10:07:16.352Z"
   },
   {
    "duration": 14,
    "start_time": "2023-10-11T10:07:16.501Z"
   },
   {
    "duration": 488,
    "start_time": "2023-10-11T10:07:16.517Z"
   },
   {
    "duration": 7,
    "start_time": "2023-10-11T10:07:17.008Z"
   },
   {
    "duration": 28,
    "start_time": "2023-10-11T10:07:17.017Z"
   },
   {
    "duration": 889,
    "start_time": "2023-10-11T10:07:17.047Z"
   },
   {
    "duration": 194,
    "start_time": "2023-10-11T10:07:17.938Z"
   },
   {
    "duration": 5,
    "start_time": "2023-10-11T10:07:18.134Z"
   },
   {
    "duration": 200,
    "start_time": "2023-10-11T10:07:18.141Z"
   },
   {
    "duration": 829,
    "start_time": "2023-10-11T10:07:18.342Z"
   },
   {
    "duration": 145,
    "start_time": "2023-10-11T10:07:19.174Z"
   },
   {
    "duration": 50,
    "start_time": "2023-10-11T10:17:26.746Z"
   },
   {
    "duration": 11,
    "start_time": "2023-10-11T10:38:36.498Z"
   },
   {
    "duration": 20,
    "start_time": "2023-10-11T10:38:52.386Z"
   },
   {
    "duration": 111,
    "start_time": "2023-10-11T10:39:12.583Z"
   },
   {
    "duration": 15,
    "start_time": "2023-10-11T10:39:22.604Z"
   },
   {
    "duration": 19,
    "start_time": "2023-10-11T10:39:30.015Z"
   },
   {
    "duration": 15,
    "start_time": "2023-10-11T10:41:56.450Z"
   },
   {
    "duration": 14,
    "start_time": "2023-10-11T10:41:57.242Z"
   },
   {
    "duration": 14,
    "start_time": "2023-10-11T10:41:58.982Z"
   },
   {
    "duration": 20,
    "start_time": "2023-10-11T10:42:09.054Z"
   },
   {
    "duration": 15,
    "start_time": "2023-10-11T10:43:19.328Z"
   },
   {
    "duration": 10,
    "start_time": "2023-10-11T10:44:21.948Z"
   },
   {
    "duration": 8,
    "start_time": "2023-10-11T10:45:10.275Z"
   },
   {
    "duration": 18,
    "start_time": "2023-10-11T10:45:31.240Z"
   },
   {
    "duration": 19,
    "start_time": "2023-10-11T10:45:48.305Z"
   },
   {
    "duration": 6,
    "start_time": "2023-10-11T10:46:55.087Z"
   },
   {
    "duration": 7,
    "start_time": "2023-10-11T10:46:56.061Z"
   },
   {
    "duration": 15,
    "start_time": "2023-10-11T10:47:30.511Z"
   },
   {
    "duration": 19,
    "start_time": "2023-10-11T10:47:48.913Z"
   },
   {
    "duration": 883,
    "start_time": "2023-10-11T10:53:04.816Z"
   },
   {
    "duration": 10,
    "start_time": "2023-10-11T10:53:45.640Z"
   },
   {
    "duration": 940,
    "start_time": "2023-10-11T10:54:34.883Z"
   },
   {
    "duration": 11,
    "start_time": "2023-10-11T10:55:13.950Z"
   },
   {
    "duration": 794,
    "start_time": "2023-10-11T10:55:36.320Z"
   },
   {
    "duration": 995,
    "start_time": "2023-10-11T10:55:49.226Z"
   },
   {
    "duration": 3,
    "start_time": "2023-10-11T11:58:09.317Z"
   },
   {
    "duration": 166,
    "start_time": "2023-10-11T12:01:09.033Z"
   },
   {
    "duration": 163,
    "start_time": "2023-10-11T12:01:42.639Z"
   },
   {
    "duration": 246,
    "start_time": "2023-10-11T12:02:11.815Z"
   },
   {
    "duration": 229,
    "start_time": "2023-10-11T12:02:37.132Z"
   },
   {
    "duration": 1026,
    "start_time": "2023-10-11T12:03:58.285Z"
   },
   {
    "duration": 946,
    "start_time": "2023-10-11T12:04:31.541Z"
   },
   {
    "duration": 225,
    "start_time": "2023-10-11T12:05:05.006Z"
   },
   {
    "duration": 269,
    "start_time": "2023-10-11T12:06:38.244Z"
   },
   {
    "duration": 9,
    "start_time": "2023-10-11T12:13:59.229Z"
   },
   {
    "duration": 771,
    "start_time": "2023-10-11T12:14:04.350Z"
   },
   {
    "duration": 479,
    "start_time": "2023-10-11T12:14:23.577Z"
   },
   {
    "duration": 419,
    "start_time": "2023-10-11T12:14:31.609Z"
   },
   {
    "duration": 10,
    "start_time": "2023-10-11T12:14:43.621Z"
   },
   {
    "duration": 780,
    "start_time": "2023-10-11T12:14:49.544Z"
   },
   {
    "duration": 545,
    "start_time": "2023-10-11T12:15:06.233Z"
   },
   {
    "duration": 269,
    "start_time": "2023-10-11T12:15:43.159Z"
   },
   {
    "duration": 306,
    "start_time": "2023-10-11T12:17:40.750Z"
   },
   {
    "duration": 319,
    "start_time": "2023-10-11T12:18:00.465Z"
   },
   {
    "duration": 274,
    "start_time": "2023-10-11T12:18:23.734Z"
   },
   {
    "duration": 31,
    "start_time": "2023-10-11T12:27:21.238Z"
   },
   {
    "duration": 31,
    "start_time": "2023-10-11T12:29:26.545Z"
   },
   {
    "duration": 18,
    "start_time": "2023-10-11T12:29:58.194Z"
   },
   {
    "duration": 149,
    "start_time": "2023-10-11T12:31:08.455Z"
   },
   {
    "duration": 27,
    "start_time": "2023-10-11T12:31:31.997Z"
   },
   {
    "duration": 40,
    "start_time": "2023-10-11T12:35:18.077Z"
   },
   {
    "duration": 36,
    "start_time": "2023-10-11T12:38:11.135Z"
   },
   {
    "duration": 42,
    "start_time": "2023-10-11T12:41:49.001Z"
   },
   {
    "duration": 13,
    "start_time": "2023-10-11T12:47:33.345Z"
   },
   {
    "duration": 3,
    "start_time": "2023-10-11T12:47:39.717Z"
   },
   {
    "duration": 2296,
    "start_time": "2023-10-11T12:47:40.518Z"
   },
   {
    "duration": 5,
    "start_time": "2023-10-11T12:50:59.155Z"
   },
   {
    "duration": 92,
    "start_time": "2023-10-11T12:51:00.302Z"
   },
   {
    "duration": 43,
    "start_time": "2023-10-11T12:51:16.095Z"
   },
   {
    "duration": 47,
    "start_time": "2023-10-11T12:51:31.819Z"
   },
   {
    "duration": 3,
    "start_time": "2023-10-11T12:51:32.954Z"
   },
   {
    "duration": 97,
    "start_time": "2023-10-11T12:51:33.526Z"
   },
   {
    "duration": 33,
    "start_time": "2023-10-11T12:51:36.631Z"
   },
   {
    "duration": 4,
    "start_time": "2023-10-11T12:53:20.390Z"
   },
   {
    "duration": 92,
    "start_time": "2023-10-11T12:53:21.252Z"
   },
   {
    "duration": 34,
    "start_time": "2023-10-11T12:53:23.981Z"
   },
   {
    "duration": 34,
    "start_time": "2023-10-11T12:53:43.862Z"
   },
   {
    "duration": 4,
    "start_time": "2023-10-11T12:53:45.754Z"
   },
   {
    "duration": 90,
    "start_time": "2023-10-11T12:53:46.461Z"
   },
   {
    "duration": 13,
    "start_time": "2023-10-11T12:53:47.057Z"
   },
   {
    "duration": 4,
    "start_time": "2023-10-11T12:57:47.413Z"
   },
   {
    "duration": 103,
    "start_time": "2023-10-11T12:57:48.259Z"
   },
   {
    "duration": 14,
    "start_time": "2023-10-11T12:57:48.783Z"
   },
   {
    "duration": 3,
    "start_time": "2023-10-11T12:57:57.833Z"
   },
   {
    "duration": 113,
    "start_time": "2023-10-11T12:57:58.444Z"
   },
   {
    "duration": 16,
    "start_time": "2023-10-11T12:57:58.905Z"
   },
   {
    "duration": 4,
    "start_time": "2023-10-11T13:07:58.319Z"
   },
   {
    "duration": 159,
    "start_time": "2023-10-11T13:07:59.227Z"
   },
   {
    "duration": 20,
    "start_time": "2023-10-11T13:08:00.051Z"
   },
   {
    "duration": 17,
    "start_time": "2023-10-11T13:08:09.679Z"
   },
   {
    "duration": 31,
    "start_time": "2023-10-11T13:11:08.788Z"
   },
   {
    "duration": 23,
    "start_time": "2023-10-11T13:11:27.351Z"
   },
   {
    "duration": 18,
    "start_time": "2023-10-11T13:13:17.094Z"
   },
   {
    "duration": 5,
    "start_time": "2023-10-11T13:15:22.198Z"
   },
   {
    "duration": 151,
    "start_time": "2023-10-11T13:15:23.056Z"
   },
   {
    "duration": 13,
    "start_time": "2023-10-11T13:15:23.714Z"
   },
   {
    "duration": 5,
    "start_time": "2023-10-11T14:20:32.294Z"
   },
   {
    "duration": 188,
    "start_time": "2023-10-11T14:20:33.568Z"
   },
   {
    "duration": 15,
    "start_time": "2023-10-11T14:20:34.290Z"
   },
   {
    "duration": 730,
    "start_time": "2023-10-11T14:45:43.866Z"
   },
   {
    "duration": 32,
    "start_time": "2023-10-11T14:45:44.598Z"
   },
   {
    "duration": 14,
    "start_time": "2023-10-11T14:45:44.631Z"
   },
   {
    "duration": 33,
    "start_time": "2023-10-11T14:45:44.647Z"
   },
   {
    "duration": 57,
    "start_time": "2023-10-11T14:45:44.682Z"
   },
   {
    "duration": 10,
    "start_time": "2023-10-11T14:45:44.741Z"
   },
   {
    "duration": 32,
    "start_time": "2023-10-11T14:45:44.753Z"
   },
   {
    "duration": 39,
    "start_time": "2023-10-11T14:45:44.787Z"
   },
   {
    "duration": 11,
    "start_time": "2023-10-11T14:45:44.829Z"
   },
   {
    "duration": 29,
    "start_time": "2023-10-11T14:45:44.844Z"
   },
   {
    "duration": 43,
    "start_time": "2023-10-11T14:45:44.875Z"
   },
   {
    "duration": 18,
    "start_time": "2023-10-11T14:45:44.920Z"
   },
   {
    "duration": 24,
    "start_time": "2023-10-11T14:45:44.940Z"
   },
   {
    "duration": 29,
    "start_time": "2023-10-11T14:45:44.966Z"
   },
   {
    "duration": 59,
    "start_time": "2023-10-11T14:45:44.997Z"
   },
   {
    "duration": 51,
    "start_time": "2023-10-11T14:45:45.058Z"
   },
   {
    "duration": 36,
    "start_time": "2023-10-11T14:45:45.110Z"
   },
   {
    "duration": 36,
    "start_time": "2023-10-11T14:45:45.148Z"
   },
   {
    "duration": 19,
    "start_time": "2023-10-11T14:45:45.186Z"
   },
   {
    "duration": 34,
    "start_time": "2023-10-11T14:45:45.206Z"
   },
   {
    "duration": 225,
    "start_time": "2023-10-11T14:45:45.242Z"
   },
   {
    "duration": 203,
    "start_time": "2023-10-11T14:45:45.469Z"
   },
   {
    "duration": 13,
    "start_time": "2023-10-11T14:45:45.674Z"
   },
   {
    "duration": 151,
    "start_time": "2023-10-11T14:45:45.688Z"
   },
   {
    "duration": 127,
    "start_time": "2023-10-11T14:45:45.841Z"
   },
   {
    "duration": 14,
    "start_time": "2023-10-11T14:45:45.970Z"
   },
   {
    "duration": 373,
    "start_time": "2023-10-11T14:45:45.986Z"
   },
   {
    "duration": 3,
    "start_time": "2023-10-11T14:45:46.363Z"
   },
   {
    "duration": 32,
    "start_time": "2023-10-11T14:45:46.368Z"
   },
   {
    "duration": 822,
    "start_time": "2023-10-11T14:45:46.402Z"
   },
   {
    "duration": 156,
    "start_time": "2023-10-11T14:45:47.226Z"
   },
   {
    "duration": 4,
    "start_time": "2023-10-11T14:45:47.384Z"
   },
   {
    "duration": 22,
    "start_time": "2023-10-11T14:45:47.390Z"
   },
   {
    "duration": 642,
    "start_time": "2023-10-11T14:45:47.414Z"
   },
   {
    "duration": 150,
    "start_time": "2023-10-11T14:45:48.058Z"
   },
   {
    "duration": 57,
    "start_time": "2023-10-11T14:45:48.210Z"
   },
   {
    "duration": 10,
    "start_time": "2023-10-11T14:45:48.269Z"
   },
   {
    "duration": 26,
    "start_time": "2023-10-11T14:45:48.280Z"
   },
   {
    "duration": 25,
    "start_time": "2023-10-11T14:45:48.308Z"
   },
   {
    "duration": 47,
    "start_time": "2023-10-11T14:45:48.335Z"
   },
   {
    "duration": 39,
    "start_time": "2023-10-11T14:45:48.384Z"
   },
   {
    "duration": 16,
    "start_time": "2023-10-11T14:45:48.425Z"
   },
   {
    "duration": 890,
    "start_time": "2023-10-11T14:45:48.443Z"
   },
   {
    "duration": 22,
    "start_time": "2023-10-11T14:45:49.335Z"
   },
   {
    "duration": 1002,
    "start_time": "2023-10-11T14:45:49.360Z"
   },
   {
    "duration": 276,
    "start_time": "2023-10-11T14:45:50.364Z"
   },
   {
    "duration": 20,
    "start_time": "2023-10-11T14:45:50.642Z"
   },
   {
    "duration": 530,
    "start_time": "2023-10-11T14:45:50.663Z"
   },
   {
    "duration": 11,
    "start_time": "2023-10-11T14:45:51.195Z"
   },
   {
    "duration": 610,
    "start_time": "2023-10-11T14:45:51.208Z"
   },
   {
    "duration": 276,
    "start_time": "2023-10-11T14:45:51.820Z"
   },
   {
    "duration": 37,
    "start_time": "2023-10-11T14:45:52.098Z"
   },
   {
    "duration": 4,
    "start_time": "2023-10-11T14:45:52.137Z"
   },
   {
    "duration": 259,
    "start_time": "2023-10-11T14:45:52.142Z"
   },
   {
    "duration": 15,
    "start_time": "2023-10-11T14:45:52.403Z"
   },
   {
    "duration": 830,
    "start_time": "2023-10-11T14:48:37.509Z"
   },
   {
    "duration": 32,
    "start_time": "2023-10-11T14:48:38.341Z"
   },
   {
    "duration": 13,
    "start_time": "2023-10-11T14:48:38.375Z"
   },
   {
    "duration": 30,
    "start_time": "2023-10-11T14:48:38.391Z"
   },
   {
    "duration": 43,
    "start_time": "2023-10-11T14:48:38.423Z"
   },
   {
    "duration": 12,
    "start_time": "2023-10-11T14:48:38.468Z"
   },
   {
    "duration": 23,
    "start_time": "2023-10-11T14:48:38.482Z"
   },
   {
    "duration": 17,
    "start_time": "2023-10-11T14:48:38.507Z"
   },
   {
    "duration": 9,
    "start_time": "2023-10-11T14:48:38.527Z"
   },
   {
    "duration": 24,
    "start_time": "2023-10-11T14:48:38.540Z"
   },
   {
    "duration": 14,
    "start_time": "2023-10-11T14:48:38.566Z"
   },
   {
    "duration": 20,
    "start_time": "2023-10-11T14:48:38.582Z"
   },
   {
    "duration": 12,
    "start_time": "2023-10-11T14:48:38.603Z"
   },
   {
    "duration": 19,
    "start_time": "2023-10-11T14:48:38.617Z"
   },
   {
    "duration": 8,
    "start_time": "2023-10-11T14:48:38.639Z"
   },
   {
    "duration": 8,
    "start_time": "2023-10-11T14:48:38.655Z"
   },
   {
    "duration": 24,
    "start_time": "2023-10-11T14:48:38.666Z"
   },
   {
    "duration": 42,
    "start_time": "2023-10-11T14:48:38.692Z"
   },
   {
    "duration": 12,
    "start_time": "2023-10-11T14:48:38.736Z"
   },
   {
    "duration": 22,
    "start_time": "2023-10-11T14:48:38.750Z"
   },
   {
    "duration": 274,
    "start_time": "2023-10-11T14:48:38.774Z"
   },
   {
    "duration": 216,
    "start_time": "2023-10-11T14:48:39.051Z"
   },
   {
    "duration": 13,
    "start_time": "2023-10-11T14:48:39.268Z"
   },
   {
    "duration": 197,
    "start_time": "2023-10-11T14:48:39.282Z"
   },
   {
    "duration": 134,
    "start_time": "2023-10-11T14:48:39.481Z"
   },
   {
    "duration": 15,
    "start_time": "2023-10-11T14:48:39.618Z"
   },
   {
    "duration": 391,
    "start_time": "2023-10-11T14:48:39.635Z"
   },
   {
    "duration": 4,
    "start_time": "2023-10-11T14:48:40.030Z"
   },
   {
    "duration": 203,
    "start_time": "2023-10-11T14:48:40.036Z"
   },
   {
    "duration": 864,
    "start_time": "2023-10-11T14:48:40.242Z"
   },
   {
    "duration": 178,
    "start_time": "2023-10-11T14:48:41.108Z"
   },
   {
    "duration": 5,
    "start_time": "2023-10-11T14:48:41.288Z"
   },
   {
    "duration": 18,
    "start_time": "2023-10-11T14:48:41.294Z"
   },
   {
    "duration": 752,
    "start_time": "2023-10-11T14:48:41.314Z"
   },
   {
    "duration": 157,
    "start_time": "2023-10-11T14:48:42.069Z"
   },
   {
    "duration": 60,
    "start_time": "2023-10-11T14:48:42.228Z"
   },
   {
    "duration": 48,
    "start_time": "2023-10-11T14:48:42.290Z"
   },
   {
    "duration": 13,
    "start_time": "2023-10-11T14:48:42.340Z"
   },
   {
    "duration": 22,
    "start_time": "2023-10-11T14:48:42.354Z"
   },
   {
    "duration": 10,
    "start_time": "2023-10-11T14:48:42.378Z"
   },
   {
    "duration": 13,
    "start_time": "2023-10-11T14:48:42.390Z"
   },
   {
    "duration": 15,
    "start_time": "2023-10-11T14:48:42.405Z"
   },
   {
    "duration": 995,
    "start_time": "2023-10-11T14:48:42.422Z"
   },
   {
    "duration": 9,
    "start_time": "2023-10-11T14:48:43.419Z"
   },
   {
    "duration": 1036,
    "start_time": "2023-10-11T14:48:43.430Z"
   },
   {
    "duration": 316,
    "start_time": "2023-10-11T14:48:44.468Z"
   },
   {
    "duration": 11,
    "start_time": "2023-10-11T14:48:44.785Z"
   },
   {
    "duration": 473,
    "start_time": "2023-10-11T14:48:44.799Z"
   },
   {
    "duration": 10,
    "start_time": "2023-10-11T14:48:45.275Z"
   },
   {
    "duration": 572,
    "start_time": "2023-10-11T14:48:45.287Z"
   },
   {
    "duration": 285,
    "start_time": "2023-10-11T14:48:45.861Z"
   },
   {
    "duration": 39,
    "start_time": "2023-10-11T14:48:46.148Z"
   },
   {
    "duration": 4,
    "start_time": "2023-10-11T14:48:46.189Z"
   },
   {
    "duration": 200,
    "start_time": "2023-10-11T14:48:46.195Z"
   },
   {
    "duration": 12,
    "start_time": "2023-10-11T14:48:46.398Z"
   },
   {
    "duration": 770,
    "start_time": "2023-10-11T14:56:59.972Z"
   },
   {
    "duration": 40,
    "start_time": "2023-10-11T14:57:00.744Z"
   },
   {
    "duration": 33,
    "start_time": "2023-10-11T14:57:00.786Z"
   },
   {
    "duration": 61,
    "start_time": "2023-10-11T14:57:00.821Z"
   },
   {
    "duration": 99,
    "start_time": "2023-10-11T14:57:00.884Z"
   },
   {
    "duration": 107,
    "start_time": "2023-10-11T14:57:00.986Z"
   },
   {
    "duration": 110,
    "start_time": "2023-10-11T14:57:01.095Z"
   },
   {
    "duration": 75,
    "start_time": "2023-10-11T14:57:01.207Z"
   },
   {
    "duration": 25,
    "start_time": "2023-10-11T14:57:01.284Z"
   },
   {
    "duration": 65,
    "start_time": "2023-10-11T14:57:01.311Z"
   },
   {
    "duration": 51,
    "start_time": "2023-10-11T14:57:01.378Z"
   },
   {
    "duration": 61,
    "start_time": "2023-10-11T14:57:01.432Z"
   },
   {
    "duration": 62,
    "start_time": "2023-10-11T14:57:01.495Z"
   },
   {
    "duration": 43,
    "start_time": "2023-10-11T14:57:01.564Z"
   },
   {
    "duration": 63,
    "start_time": "2023-10-11T14:57:01.609Z"
   },
   {
    "duration": 52,
    "start_time": "2023-10-11T14:57:01.675Z"
   },
   {
    "duration": 60,
    "start_time": "2023-10-11T14:57:01.729Z"
   },
   {
    "duration": 83,
    "start_time": "2023-10-11T14:57:01.791Z"
   },
   {
    "duration": 105,
    "start_time": "2023-10-11T14:57:01.877Z"
   },
   {
    "duration": 105,
    "start_time": "2023-10-11T14:57:01.984Z"
   },
   {
    "duration": 341,
    "start_time": "2023-10-11T14:57:02.090Z"
   },
   {
    "duration": 252,
    "start_time": "2023-10-11T14:57:02.434Z"
   },
   {
    "duration": 13,
    "start_time": "2023-10-11T14:57:02.688Z"
   },
   {
    "duration": 229,
    "start_time": "2023-10-11T14:57:02.703Z"
   },
   {
    "duration": 151,
    "start_time": "2023-10-11T14:57:02.934Z"
   },
   {
    "duration": 13,
    "start_time": "2023-10-11T14:57:03.087Z"
   },
   {
    "duration": 686,
    "start_time": "2023-10-11T14:57:03.102Z"
   },
   {
    "duration": 4,
    "start_time": "2023-10-11T14:57:03.790Z"
   },
   {
    "duration": 46,
    "start_time": "2023-10-11T14:57:03.796Z"
   },
   {
    "duration": 889,
    "start_time": "2023-10-11T14:57:03.844Z"
   },
   {
    "duration": 183,
    "start_time": "2023-10-11T14:57:04.735Z"
   },
   {
    "duration": 5,
    "start_time": "2023-10-11T14:57:04.920Z"
   },
   {
    "duration": 35,
    "start_time": "2023-10-11T14:57:04.927Z"
   },
   {
    "duration": 733,
    "start_time": "2023-10-11T14:57:04.965Z"
   },
   {
    "duration": 149,
    "start_time": "2023-10-11T14:57:05.700Z"
   },
   {
    "duration": 60,
    "start_time": "2023-10-11T14:57:05.855Z"
   },
   {
    "duration": 11,
    "start_time": "2023-10-11T14:57:05.917Z"
   },
   {
    "duration": 40,
    "start_time": "2023-10-11T14:57:05.930Z"
   },
   {
    "duration": 50,
    "start_time": "2023-10-11T14:57:05.973Z"
   },
   {
    "duration": 37,
    "start_time": "2023-10-11T14:57:06.025Z"
   },
   {
    "duration": 22,
    "start_time": "2023-10-11T14:57:06.073Z"
   },
   {
    "duration": 13,
    "start_time": "2023-10-11T14:57:06.097Z"
   },
   {
    "duration": 909,
    "start_time": "2023-10-11T14:57:06.112Z"
   },
   {
    "duration": 12,
    "start_time": "2023-10-11T14:57:07.024Z"
   },
   {
    "duration": 1027,
    "start_time": "2023-10-11T14:57:07.056Z"
   },
   {
    "duration": 298,
    "start_time": "2023-10-11T14:57:08.086Z"
   },
   {
    "duration": 9,
    "start_time": "2023-10-11T14:57:08.387Z"
   },
   {
    "duration": 498,
    "start_time": "2023-10-11T14:57:08.399Z"
   },
   {
    "duration": 13,
    "start_time": "2023-10-11T14:57:08.899Z"
   },
   {
    "duration": 634,
    "start_time": "2023-10-11T14:57:08.914Z"
   },
   {
    "duration": 306,
    "start_time": "2023-10-11T14:57:09.550Z"
   },
   {
    "duration": 42,
    "start_time": "2023-10-11T14:57:09.859Z"
   },
   {
    "duration": 5,
    "start_time": "2023-10-11T14:57:09.903Z"
   },
   {
    "duration": 248,
    "start_time": "2023-10-11T14:57:09.909Z"
   },
   {
    "duration": 19,
    "start_time": "2023-10-11T14:57:10.160Z"
   },
   {
    "duration": 732,
    "start_time": "2023-10-11T15:35:53.298Z"
   },
   {
    "duration": 32,
    "start_time": "2023-10-11T15:35:54.032Z"
   },
   {
    "duration": 18,
    "start_time": "2023-10-11T15:35:54.067Z"
   },
   {
    "duration": 19,
    "start_time": "2023-10-11T15:35:54.087Z"
   },
   {
    "duration": 42,
    "start_time": "2023-10-11T15:35:54.108Z"
   },
   {
    "duration": 25,
    "start_time": "2023-10-11T15:35:54.152Z"
   },
   {
    "duration": 23,
    "start_time": "2023-10-11T15:35:54.179Z"
   },
   {
    "duration": 31,
    "start_time": "2023-10-11T15:35:54.204Z"
   },
   {
    "duration": 12,
    "start_time": "2023-10-11T15:35:54.237Z"
   },
   {
    "duration": 18,
    "start_time": "2023-10-11T15:35:54.252Z"
   },
   {
    "duration": 41,
    "start_time": "2023-10-11T15:35:54.272Z"
   },
   {
    "duration": 17,
    "start_time": "2023-10-11T15:35:54.314Z"
   },
   {
    "duration": 34,
    "start_time": "2023-10-11T15:35:54.333Z"
   },
   {
    "duration": 26,
    "start_time": "2023-10-11T15:35:54.369Z"
   },
   {
    "duration": 10,
    "start_time": "2023-10-11T15:35:54.397Z"
   },
   {
    "duration": 24,
    "start_time": "2023-10-11T15:35:54.409Z"
   },
   {
    "duration": 19,
    "start_time": "2023-10-11T15:35:54.435Z"
   },
   {
    "duration": 30,
    "start_time": "2023-10-11T15:35:54.456Z"
   },
   {
    "duration": 11,
    "start_time": "2023-10-11T15:35:54.489Z"
   },
   {
    "duration": 16,
    "start_time": "2023-10-11T15:35:54.502Z"
   },
   {
    "duration": 216,
    "start_time": "2023-10-11T15:35:54.520Z"
   },
   {
    "duration": 211,
    "start_time": "2023-10-11T15:35:54.737Z"
   },
   {
    "duration": 14,
    "start_time": "2023-10-11T15:35:54.951Z"
   },
   {
    "duration": 157,
    "start_time": "2023-10-11T15:35:54.966Z"
   },
   {
    "duration": 133,
    "start_time": "2023-10-11T15:35:55.125Z"
   },
   {
    "duration": 13,
    "start_time": "2023-10-11T15:35:55.260Z"
   },
   {
    "duration": 393,
    "start_time": "2023-10-11T15:35:55.275Z"
   },
   {
    "duration": 4,
    "start_time": "2023-10-11T15:35:55.671Z"
   },
   {
    "duration": 44,
    "start_time": "2023-10-11T15:35:55.677Z"
   },
   {
    "duration": 850,
    "start_time": "2023-10-11T15:35:55.723Z"
   },
   {
    "duration": 247,
    "start_time": "2023-10-11T15:35:56.576Z"
   },
   {
    "duration": 6,
    "start_time": "2023-10-11T15:35:56.825Z"
   },
   {
    "duration": 45,
    "start_time": "2023-10-11T15:35:56.832Z"
   },
   {
    "duration": 743,
    "start_time": "2023-10-11T15:35:56.880Z"
   },
   {
    "duration": 161,
    "start_time": "2023-10-11T15:35:57.625Z"
   },
   {
    "duration": 69,
    "start_time": "2023-10-11T15:35:57.789Z"
   },
   {
    "duration": 11,
    "start_time": "2023-10-11T15:35:57.860Z"
   },
   {
    "duration": 14,
    "start_time": "2023-10-11T15:35:57.874Z"
   },
   {
    "duration": 22,
    "start_time": "2023-10-11T15:35:57.890Z"
   },
   {
    "duration": 42,
    "start_time": "2023-10-11T15:35:57.914Z"
   },
   {
    "duration": 7,
    "start_time": "2023-10-11T15:35:57.959Z"
   },
   {
    "duration": 18,
    "start_time": "2023-10-11T15:35:57.968Z"
   },
   {
    "duration": 871,
    "start_time": "2023-10-11T15:35:57.989Z"
   },
   {
    "duration": 12,
    "start_time": "2023-10-11T15:35:58.863Z"
   },
   {
    "duration": 1001,
    "start_time": "2023-10-11T15:35:58.877Z"
   },
   {
    "duration": 284,
    "start_time": "2023-10-11T15:35:59.881Z"
   },
   {
    "duration": 10,
    "start_time": "2023-10-11T15:36:00.167Z"
   },
   {
    "duration": 460,
    "start_time": "2023-10-11T15:36:00.179Z"
   },
   {
    "duration": 18,
    "start_time": "2023-10-11T15:36:00.641Z"
   },
   {
    "duration": 559,
    "start_time": "2023-10-11T15:36:00.662Z"
   },
   {
    "duration": 288,
    "start_time": "2023-10-11T15:36:01.223Z"
   },
   {
    "duration": 47,
    "start_time": "2023-10-11T15:36:01.513Z"
   },
   {
    "duration": 27,
    "start_time": "2023-10-11T15:36:01.562Z"
   },
   {
    "duration": 300,
    "start_time": "2023-10-11T15:36:01.592Z"
   },
   {
    "duration": 12,
    "start_time": "2023-10-11T15:36:01.894Z"
   },
   {
    "duration": 792,
    "start_time": "2023-10-11T16:36:04.581Z"
   },
   {
    "duration": 32,
    "start_time": "2023-10-11T16:36:05.382Z"
   },
   {
    "duration": 22,
    "start_time": "2023-10-11T16:36:05.416Z"
   },
   {
    "duration": 14,
    "start_time": "2023-10-11T16:36:05.441Z"
   },
   {
    "duration": 50,
    "start_time": "2023-10-11T16:36:05.458Z"
   },
   {
    "duration": 79,
    "start_time": "2023-10-11T16:36:05.510Z"
   },
   {
    "duration": 196,
    "start_time": "2023-10-11T16:36:05.591Z"
   },
   {
    "duration": 69,
    "start_time": "2023-10-11T16:36:05.791Z"
   },
   {
    "duration": 293,
    "start_time": "2023-10-11T16:36:05.862Z"
   },
   {
    "duration": 62,
    "start_time": "2023-10-11T16:36:06.157Z"
   },
   {
    "duration": 49,
    "start_time": "2023-10-11T16:36:06.222Z"
   },
   {
    "duration": 24,
    "start_time": "2023-10-11T16:36:06.284Z"
   },
   {
    "duration": 24,
    "start_time": "2023-10-11T16:36:06.310Z"
   },
   {
    "duration": 46,
    "start_time": "2023-10-11T16:36:06.340Z"
   },
   {
    "duration": 19,
    "start_time": "2023-10-11T16:36:06.389Z"
   },
   {
    "duration": 40,
    "start_time": "2023-10-11T16:36:06.409Z"
   },
   {
    "duration": 34,
    "start_time": "2023-10-11T16:36:06.451Z"
   },
   {
    "duration": 35,
    "start_time": "2023-10-11T16:36:06.488Z"
   },
   {
    "duration": 16,
    "start_time": "2023-10-11T16:36:06.526Z"
   },
   {
    "duration": 43,
    "start_time": "2023-10-11T16:36:06.544Z"
   },
   {
    "duration": 247,
    "start_time": "2023-10-11T16:36:06.590Z"
   },
   {
    "duration": 278,
    "start_time": "2023-10-11T16:36:06.840Z"
   },
   {
    "duration": 14,
    "start_time": "2023-10-11T16:36:07.121Z"
   },
   {
    "duration": 184,
    "start_time": "2023-10-11T16:36:07.137Z"
   },
   {
    "duration": 165,
    "start_time": "2023-10-11T16:36:07.323Z"
   },
   {
    "duration": 14,
    "start_time": "2023-10-11T16:36:07.493Z"
   },
   {
    "duration": 436,
    "start_time": "2023-10-11T16:36:07.509Z"
   },
   {
    "duration": 16,
    "start_time": "2023-10-11T16:36:07.947Z"
   },
   {
    "duration": 16,
    "start_time": "2023-10-11T16:36:07.965Z"
   },
   {
    "duration": 1045,
    "start_time": "2023-10-11T16:36:07.983Z"
   },
   {
    "duration": 226,
    "start_time": "2023-10-11T16:36:09.030Z"
   },
   {
    "duration": 9,
    "start_time": "2023-10-11T16:36:09.260Z"
   },
   {
    "duration": 23,
    "start_time": "2023-10-11T16:36:09.271Z"
   },
   {
    "duration": 740,
    "start_time": "2023-10-11T16:36:09.301Z"
   },
   {
    "duration": 170,
    "start_time": "2023-10-11T16:36:10.042Z"
   },
   {
    "duration": 88,
    "start_time": "2023-10-11T16:36:10.214Z"
   },
   {
    "duration": 14,
    "start_time": "2023-10-11T16:36:10.305Z"
   },
   {
    "duration": 55,
    "start_time": "2023-10-11T16:36:10.322Z"
   },
   {
    "duration": 40,
    "start_time": "2023-10-11T16:36:10.380Z"
   },
   {
    "duration": 27,
    "start_time": "2023-10-11T16:36:10.423Z"
   },
   {
    "duration": 12,
    "start_time": "2023-10-11T16:36:10.456Z"
   },
   {
    "duration": 36,
    "start_time": "2023-10-11T16:36:10.472Z"
   },
   {
    "duration": 907,
    "start_time": "2023-10-11T16:36:10.510Z"
   },
   {
    "duration": 11,
    "start_time": "2023-10-11T16:36:11.419Z"
   },
   {
    "duration": 1140,
    "start_time": "2023-10-11T16:36:11.431Z"
   },
   {
    "duration": 344,
    "start_time": "2023-10-11T16:36:12.574Z"
   },
   {
    "duration": 11,
    "start_time": "2023-10-11T16:36:12.921Z"
   },
   {
    "duration": 561,
    "start_time": "2023-10-11T16:36:12.934Z"
   },
   {
    "duration": 12,
    "start_time": "2023-10-11T16:36:13.498Z"
   },
   {
    "duration": 640,
    "start_time": "2023-10-11T16:36:13.512Z"
   },
   {
    "duration": 347,
    "start_time": "2023-10-11T16:36:14.154Z"
   },
   {
    "duration": 35,
    "start_time": "2023-10-11T16:36:14.503Z"
   },
   {
    "duration": 11,
    "start_time": "2023-10-11T16:36:14.557Z"
   },
   {
    "duration": 289,
    "start_time": "2023-10-11T16:36:14.570Z"
   },
   {
    "duration": 28,
    "start_time": "2023-10-11T16:36:14.861Z"
   },
   {
    "duration": 519,
    "start_time": "2023-10-11T16:49:50.126Z"
   },
   {
    "duration": 313,
    "start_time": "2023-10-11T16:59:40.884Z"
   },
   {
    "duration": 169,
    "start_time": "2023-10-11T16:59:59.386Z"
   },
   {
    "duration": 358,
    "start_time": "2023-10-11T17:03:54.020Z"
   },
   {
    "duration": 7,
    "start_time": "2023-10-11T17:05:05.200Z"
   },
   {
    "duration": 8,
    "start_time": "2023-10-11T17:09:27.170Z"
   },
   {
    "duration": 7,
    "start_time": "2023-10-11T17:16:01.918Z"
   },
   {
    "duration": 6,
    "start_time": "2023-10-11T17:23:54.989Z"
   },
   {
    "duration": 6,
    "start_time": "2023-10-11T17:24:20.582Z"
   },
   {
    "duration": 7,
    "start_time": "2023-10-11T17:25:49.209Z"
   },
   {
    "duration": 1336,
    "start_time": "2023-10-11T17:36:57.896Z"
   },
   {
    "duration": 32,
    "start_time": "2023-10-11T17:36:59.234Z"
   },
   {
    "duration": 23,
    "start_time": "2023-10-11T17:36:59.268Z"
   },
   {
    "duration": 23,
    "start_time": "2023-10-11T17:36:59.294Z"
   },
   {
    "duration": 56,
    "start_time": "2023-10-11T17:36:59.320Z"
   },
   {
    "duration": 52,
    "start_time": "2023-10-11T17:36:59.378Z"
   },
   {
    "duration": 68,
    "start_time": "2023-10-11T17:36:59.433Z"
   },
   {
    "duration": 102,
    "start_time": "2023-10-11T17:36:59.503Z"
   },
   {
    "duration": 31,
    "start_time": "2023-10-11T17:36:59.607Z"
   },
   {
    "duration": 59,
    "start_time": "2023-10-11T17:36:59.641Z"
   },
   {
    "duration": 37,
    "start_time": "2023-10-11T17:36:59.702Z"
   },
   {
    "duration": 51,
    "start_time": "2023-10-11T17:36:59.741Z"
   },
   {
    "duration": 28,
    "start_time": "2023-10-11T17:36:59.795Z"
   },
   {
    "duration": 78,
    "start_time": "2023-10-11T17:36:59.825Z"
   },
   {
    "duration": 56,
    "start_time": "2023-10-11T17:36:59.905Z"
   },
   {
    "duration": 27,
    "start_time": "2023-10-11T17:36:59.963Z"
   },
   {
    "duration": 127,
    "start_time": "2023-10-11T17:36:59.993Z"
   },
   {
    "duration": 103,
    "start_time": "2023-10-11T17:37:00.121Z"
   },
   {
    "duration": 83,
    "start_time": "2023-10-11T17:37:00.226Z"
   },
   {
    "duration": 92,
    "start_time": "2023-10-11T17:37:00.311Z"
   },
   {
    "duration": 329,
    "start_time": "2023-10-11T17:37:00.406Z"
   },
   {
    "duration": 223,
    "start_time": "2023-10-11T17:37:00.737Z"
   },
   {
    "duration": 332,
    "start_time": "2023-10-11T17:37:00.962Z"
   },
   {
    "duration": 617,
    "start_time": "2023-10-11T17:37:01.296Z"
   },
   {
    "duration": 365,
    "start_time": "2023-10-11T17:37:01.915Z"
   },
   {
    "duration": 269,
    "start_time": "2023-10-11T17:37:02.282Z"
   },
   {
    "duration": 548,
    "start_time": "2023-10-11T17:37:02.553Z"
   },
   {
    "duration": 5,
    "start_time": "2023-10-11T17:37:03.106Z"
   },
   {
    "duration": 166,
    "start_time": "2023-10-11T17:37:03.113Z"
   },
   {
    "duration": 1050,
    "start_time": "2023-10-11T17:37:03.281Z"
   },
   {
    "duration": 160,
    "start_time": "2023-10-11T17:37:04.334Z"
   },
   {
    "duration": 343,
    "start_time": "2023-10-11T17:37:04.497Z"
   },
   {
    "duration": 31,
    "start_time": "2023-10-11T17:37:04.842Z"
   },
   {
    "duration": 665,
    "start_time": "2023-10-11T17:37:04.876Z"
   },
   {
    "duration": 172,
    "start_time": "2023-10-11T17:37:05.543Z"
   },
   {
    "duration": 64,
    "start_time": "2023-10-11T17:37:05.717Z"
   },
   {
    "duration": 12,
    "start_time": "2023-10-11T17:37:05.783Z"
   },
   {
    "duration": 19,
    "start_time": "2023-10-11T17:37:05.797Z"
   },
   {
    "duration": 16,
    "start_time": "2023-10-11T17:37:05.818Z"
   },
   {
    "duration": 57,
    "start_time": "2023-10-11T17:37:05.856Z"
   },
   {
    "duration": 23,
    "start_time": "2023-10-11T17:37:05.915Z"
   },
   {
    "duration": 68,
    "start_time": "2023-10-11T17:37:05.940Z"
   },
   {
    "duration": 1015,
    "start_time": "2023-10-11T17:37:06.010Z"
   },
   {
    "duration": 14,
    "start_time": "2023-10-11T17:37:07.027Z"
   },
   {
    "duration": 1555,
    "start_time": "2023-10-11T17:37:07.057Z"
   },
   {
    "duration": 530,
    "start_time": "2023-10-11T17:37:08.614Z"
   },
   {
    "duration": 11,
    "start_time": "2023-10-11T17:37:09.146Z"
   },
   {
    "duration": 467,
    "start_time": "2023-10-11T17:37:09.159Z"
   },
   {
    "duration": 34,
    "start_time": "2023-10-11T17:37:09.628Z"
   },
   {
    "duration": 455,
    "start_time": "2023-10-11T17:37:09.664Z"
   },
   {
    "duration": 312,
    "start_time": "2023-10-11T17:37:10.122Z"
   },
   {
    "duration": 60,
    "start_time": "2023-10-11T17:37:10.436Z"
   },
   {
    "duration": 12,
    "start_time": "2023-10-11T17:37:10.498Z"
   },
   {
    "duration": 209,
    "start_time": "2023-10-11T17:37:10.513Z"
   },
   {
    "duration": 13,
    "start_time": "2023-10-11T17:37:10.724Z"
   },
   {
    "duration": 28,
    "start_time": "2023-10-11T17:37:10.739Z"
   },
   {
    "duration": 34,
    "start_time": "2023-10-11T17:37:10.769Z"
   },
   {
    "duration": 55,
    "start_time": "2023-10-11T17:37:10.805Z"
   },
   {
    "duration": 34,
    "start_time": "2023-10-11T17:37:10.862Z"
   },
   {
    "duration": 40,
    "start_time": "2023-10-11T17:37:10.899Z"
   },
   {
    "duration": 7,
    "start_time": "2023-10-11T17:41:33.518Z"
   },
   {
    "duration": 20,
    "start_time": "2023-10-11T17:42:39.663Z"
   },
   {
    "duration": 9,
    "start_time": "2023-10-11T17:43:04.395Z"
   },
   {
    "duration": 9,
    "start_time": "2023-10-11T17:43:27.915Z"
   },
   {
    "duration": 5,
    "start_time": "2023-10-11T17:43:45.701Z"
   },
   {
    "duration": 6,
    "start_time": "2023-10-11T17:43:46.513Z"
   },
   {
    "duration": 10,
    "start_time": "2023-10-11T17:47:22.250Z"
   },
   {
    "duration": 7,
    "start_time": "2023-10-11T18:00:48.775Z"
   },
   {
    "duration": 6,
    "start_time": "2023-10-11T18:02:34.926Z"
   },
   {
    "duration": 8,
    "start_time": "2023-10-11T18:04:26.534Z"
   },
   {
    "duration": 9,
    "start_time": "2023-10-11T18:06:03.718Z"
   },
   {
    "duration": 5,
    "start_time": "2023-10-11T18:06:19.480Z"
   },
   {
    "duration": 137,
    "start_time": "2023-10-11T18:23:31.376Z"
   },
   {
    "duration": 1233,
    "start_time": "2023-10-11T18:24:37.315Z"
   },
   {
    "duration": 40,
    "start_time": "2023-10-11T18:24:38.550Z"
   },
   {
    "duration": 15,
    "start_time": "2023-10-11T18:24:38.592Z"
   },
   {
    "duration": 24,
    "start_time": "2023-10-11T18:24:38.609Z"
   },
   {
    "duration": 88,
    "start_time": "2023-10-11T18:24:38.635Z"
   },
   {
    "duration": 66,
    "start_time": "2023-10-11T18:24:38.726Z"
   },
   {
    "duration": 35,
    "start_time": "2023-10-11T18:24:38.794Z"
   },
   {
    "duration": 18,
    "start_time": "2023-10-11T18:24:38.832Z"
   },
   {
    "duration": 29,
    "start_time": "2023-10-11T18:24:38.853Z"
   },
   {
    "duration": 28,
    "start_time": "2023-10-11T18:24:38.887Z"
   },
   {
    "duration": 58,
    "start_time": "2023-10-11T18:24:38.918Z"
   },
   {
    "duration": 39,
    "start_time": "2023-10-11T18:24:38.978Z"
   },
   {
    "duration": 39,
    "start_time": "2023-10-11T18:24:39.020Z"
   },
   {
    "duration": 33,
    "start_time": "2023-10-11T18:24:39.062Z"
   },
   {
    "duration": 30,
    "start_time": "2023-10-11T18:24:39.097Z"
   },
   {
    "duration": 42,
    "start_time": "2023-10-11T18:24:39.129Z"
   },
   {
    "duration": 45,
    "start_time": "2023-10-11T18:24:39.176Z"
   },
   {
    "duration": 51,
    "start_time": "2023-10-11T18:24:39.223Z"
   },
   {
    "duration": 9,
    "start_time": "2023-10-11T18:24:39.277Z"
   },
   {
    "duration": 28,
    "start_time": "2023-10-11T18:24:39.288Z"
   },
   {
    "duration": 304,
    "start_time": "2023-10-11T18:24:39.318Z"
   },
   {
    "duration": 210,
    "start_time": "2023-10-11T18:24:39.624Z"
   },
   {
    "duration": 39,
    "start_time": "2023-10-11T18:24:39.836Z"
   },
   {
    "duration": 165,
    "start_time": "2023-10-11T18:24:39.877Z"
   },
   {
    "duration": 136,
    "start_time": "2023-10-11T18:24:40.044Z"
   },
   {
    "duration": 15,
    "start_time": "2023-10-11T18:24:40.181Z"
   },
   {
    "duration": 332,
    "start_time": "2023-10-11T18:24:40.198Z"
   },
   {
    "duration": 5,
    "start_time": "2023-10-11T18:24:40.535Z"
   },
   {
    "duration": 23,
    "start_time": "2023-10-11T18:24:40.556Z"
   },
   {
    "duration": 999,
    "start_time": "2023-10-11T18:24:40.581Z"
   },
   {
    "duration": 177,
    "start_time": "2023-10-11T18:24:41.581Z"
   },
   {
    "duration": 5,
    "start_time": "2023-10-11T18:24:41.767Z"
   },
   {
    "duration": 31,
    "start_time": "2023-10-11T18:24:41.773Z"
   },
   {
    "duration": 569,
    "start_time": "2023-10-11T18:24:41.805Z"
   },
   {
    "duration": 152,
    "start_time": "2023-10-11T18:24:42.376Z"
   },
   {
    "duration": 67,
    "start_time": "2023-10-11T18:24:42.531Z"
   },
   {
    "duration": 12,
    "start_time": "2023-10-11T18:24:42.601Z"
   },
   {
    "duration": 17,
    "start_time": "2023-10-11T18:24:42.615Z"
   },
   {
    "duration": 67,
    "start_time": "2023-10-11T18:24:42.634Z"
   },
   {
    "duration": 12,
    "start_time": "2023-10-11T18:24:42.703Z"
   },
   {
    "duration": 8,
    "start_time": "2023-10-11T18:24:42.717Z"
   },
   {
    "duration": 11,
    "start_time": "2023-10-11T18:24:42.726Z"
   },
   {
    "duration": 965,
    "start_time": "2023-10-11T18:24:42.739Z"
   },
   {
    "duration": 11,
    "start_time": "2023-10-11T18:24:43.706Z"
   },
   {
    "duration": 826,
    "start_time": "2023-10-11T18:24:43.719Z"
   },
   {
    "duration": 438,
    "start_time": "2023-10-11T18:24:44.546Z"
   },
   {
    "duration": 10,
    "start_time": "2023-10-11T18:24:44.986Z"
   },
   {
    "duration": 450,
    "start_time": "2023-10-11T18:24:44.998Z"
   },
   {
    "duration": 17,
    "start_time": "2023-10-11T18:24:45.450Z"
   },
   {
    "duration": 422,
    "start_time": "2023-10-11T18:24:45.470Z"
   },
   {
    "duration": 298,
    "start_time": "2023-10-11T18:24:45.893Z"
   },
   {
    "duration": 33,
    "start_time": "2023-10-11T18:24:46.192Z"
   },
   {
    "duration": 4,
    "start_time": "2023-10-11T18:24:46.227Z"
   },
   {
    "duration": 208,
    "start_time": "2023-10-11T18:24:46.258Z"
   },
   {
    "duration": 16,
    "start_time": "2023-10-11T18:24:46.472Z"
   },
   {
    "duration": 23,
    "start_time": "2023-10-11T18:24:46.490Z"
   },
   {
    "duration": 8,
    "start_time": "2023-10-11T18:24:46.515Z"
   },
   {
    "duration": 8,
    "start_time": "2023-10-11T18:24:46.524Z"
   },
   {
    "duration": 12,
    "start_time": "2023-10-11T18:24:46.533Z"
   },
   {
    "duration": 14,
    "start_time": "2023-10-11T18:24:46.556Z"
   },
   {
    "duration": 6,
    "start_time": "2023-10-11T18:24:46.572Z"
   },
   {
    "duration": 233,
    "start_time": "2023-10-11T18:45:43.758Z"
   },
   {
    "duration": 260,
    "start_time": "2023-10-11T18:45:59.399Z"
   },
   {
    "duration": 37575,
    "start_time": "2023-10-11T18:46:31.028Z"
   },
   {
    "duration": 0,
    "start_time": "2023-10-11T19:11:29.236Z"
   },
   {
    "duration": 0,
    "start_time": "2023-10-11T19:11:29.238Z"
   },
   {
    "duration": 165,
    "start_time": "2023-10-11T19:14:26.905Z"
   },
   {
    "duration": 162,
    "start_time": "2023-10-11T19:14:47.450Z"
   },
   {
    "duration": 335,
    "start_time": "2023-10-11T19:14:58.305Z"
   },
   {
    "duration": 139,
    "start_time": "2023-10-11T19:16:01.399Z"
   },
   {
    "duration": 131,
    "start_time": "2023-10-11T19:16:16.784Z"
   },
   {
    "duration": 1198,
    "start_time": "2023-10-11T19:16:50.999Z"
   },
   {
    "duration": 31,
    "start_time": "2023-10-11T19:16:52.199Z"
   },
   {
    "duration": 15,
    "start_time": "2023-10-11T19:16:52.232Z"
   },
   {
    "duration": 20,
    "start_time": "2023-10-11T19:16:52.249Z"
   },
   {
    "duration": 54,
    "start_time": "2023-10-11T19:16:52.272Z"
   },
   {
    "duration": 11,
    "start_time": "2023-10-11T19:16:52.327Z"
   },
   {
    "duration": 47,
    "start_time": "2023-10-11T19:16:52.339Z"
   },
   {
    "duration": 16,
    "start_time": "2023-10-11T19:16:52.388Z"
   },
   {
    "duration": 8,
    "start_time": "2023-10-11T19:16:52.407Z"
   },
   {
    "duration": 57,
    "start_time": "2023-10-11T19:16:52.417Z"
   },
   {
    "duration": 32,
    "start_time": "2023-10-11T19:16:52.477Z"
   },
   {
    "duration": 36,
    "start_time": "2023-10-11T19:16:52.511Z"
   },
   {
    "duration": 29,
    "start_time": "2023-10-11T19:16:52.549Z"
   },
   {
    "duration": 24,
    "start_time": "2023-10-11T19:16:52.582Z"
   },
   {
    "duration": 7,
    "start_time": "2023-10-11T19:16:52.608Z"
   },
   {
    "duration": 53,
    "start_time": "2023-10-11T19:16:52.617Z"
   },
   {
    "duration": 25,
    "start_time": "2023-10-11T19:16:52.672Z"
   },
   {
    "duration": 36,
    "start_time": "2023-10-11T19:16:52.699Z"
   },
   {
    "duration": 35,
    "start_time": "2023-10-11T19:16:52.737Z"
   },
   {
    "duration": 14,
    "start_time": "2023-10-11T19:16:52.773Z"
   },
   {
    "duration": 228,
    "start_time": "2023-10-11T19:16:52.789Z"
   },
   {
    "duration": 205,
    "start_time": "2023-10-11T19:16:53.019Z"
   },
   {
    "duration": 13,
    "start_time": "2023-10-11T19:16:53.226Z"
   },
   {
    "duration": 160,
    "start_time": "2023-10-11T19:16:53.261Z"
   },
   {
    "duration": 153,
    "start_time": "2023-10-11T19:16:53.424Z"
   },
   {
    "duration": 15,
    "start_time": "2023-10-11T19:16:53.579Z"
   },
   {
    "duration": 342,
    "start_time": "2023-10-11T19:16:53.596Z"
   },
   {
    "duration": 4,
    "start_time": "2023-10-11T19:16:53.940Z"
   },
   {
    "duration": 34,
    "start_time": "2023-10-11T19:16:53.946Z"
   },
   {
    "duration": 958,
    "start_time": "2023-10-11T19:16:53.982Z"
   },
   {
    "duration": 162,
    "start_time": "2023-10-11T19:16:54.942Z"
   },
   {
    "duration": 5,
    "start_time": "2023-10-11T19:16:55.105Z"
   },
   {
    "duration": 71,
    "start_time": "2023-10-11T19:16:55.111Z"
   },
   {
    "duration": 552,
    "start_time": "2023-10-11T19:16:55.184Z"
   },
   {
    "duration": 156,
    "start_time": "2023-10-11T19:16:55.738Z"
   },
   {
    "duration": 74,
    "start_time": "2023-10-11T19:16:55.896Z"
   },
   {
    "duration": 12,
    "start_time": "2023-10-11T19:16:55.972Z"
   },
   {
    "duration": 18,
    "start_time": "2023-10-11T19:16:55.986Z"
   },
   {
    "duration": 15,
    "start_time": "2023-10-11T19:16:56.007Z"
   },
   {
    "duration": 18,
    "start_time": "2023-10-11T19:16:56.024Z"
   },
   {
    "duration": 9,
    "start_time": "2023-10-11T19:16:56.060Z"
   },
   {
    "duration": 17,
    "start_time": "2023-10-11T19:16:56.071Z"
   },
   {
    "duration": 988,
    "start_time": "2023-10-11T19:16:56.090Z"
   },
   {
    "duration": 10,
    "start_time": "2023-10-11T19:16:57.080Z"
   },
   {
    "duration": 793,
    "start_time": "2023-10-11T19:16:57.091Z"
   },
   {
    "duration": 457,
    "start_time": "2023-10-11T19:16:57.887Z"
   },
   {
    "duration": 16,
    "start_time": "2023-10-11T19:16:58.346Z"
   },
   {
    "duration": 442,
    "start_time": "2023-10-11T19:16:58.365Z"
   },
   {
    "duration": 16,
    "start_time": "2023-10-11T19:16:58.809Z"
   },
   {
    "duration": 522,
    "start_time": "2023-10-11T19:16:58.828Z"
   },
   {
    "duration": 291,
    "start_time": "2023-10-11T19:16:59.352Z"
   },
   {
    "duration": 46,
    "start_time": "2023-10-11T19:16:59.645Z"
   },
   {
    "duration": 4,
    "start_time": "2023-10-11T19:16:59.693Z"
   },
   {
    "duration": 229,
    "start_time": "2023-10-11T19:16:59.699Z"
   },
   {
    "duration": 12,
    "start_time": "2023-10-11T19:16:59.930Z"
   },
   {
    "duration": 41,
    "start_time": "2023-10-11T19:16:59.944Z"
   },
   {
    "duration": 230,
    "start_time": "2023-10-11T19:16:59.987Z"
   },
   {
    "duration": 63,
    "start_time": "2023-10-11T19:17:00.219Z"
   },
   {
    "duration": 101,
    "start_time": "2023-10-11T19:17:00.284Z"
   },
   {
    "duration": 52,
    "start_time": "2023-10-11T19:17:00.388Z"
   },
   {
    "duration": 190,
    "start_time": "2023-10-11T19:17:00.442Z"
   },
   {
    "duration": 5,
    "start_time": "2023-10-11T19:17:00.634Z"
   },
   {
    "duration": 769,
    "start_time": "2023-10-11T19:34:03.350Z"
   },
   {
    "duration": 5,
    "start_time": "2023-10-11T19:37:09.455Z"
   },
   {
    "duration": 5,
    "start_time": "2023-10-11T19:37:46.749Z"
   },
   {
    "duration": 5,
    "start_time": "2023-10-11T19:37:57.962Z"
   },
   {
    "duration": 1421,
    "start_time": "2023-10-13T18:03:34.642Z"
   },
   {
    "duration": 86,
    "start_time": "2023-10-13T18:03:36.066Z"
   },
   {
    "duration": 20,
    "start_time": "2023-10-13T18:03:36.154Z"
   },
   {
    "duration": 25,
    "start_time": "2023-10-13T18:03:36.176Z"
   },
   {
    "duration": 101,
    "start_time": "2023-10-13T18:03:36.203Z"
   },
   {
    "duration": 9,
    "start_time": "2023-10-13T18:03:36.306Z"
   },
   {
    "duration": 35,
    "start_time": "2023-10-13T18:03:36.318Z"
   },
   {
    "duration": 53,
    "start_time": "2023-10-13T18:03:36.355Z"
   },
   {
    "duration": 8,
    "start_time": "2023-10-13T18:03:36.410Z"
   },
   {
    "duration": 26,
    "start_time": "2023-10-13T18:03:36.421Z"
   },
   {
    "duration": 34,
    "start_time": "2023-10-13T18:03:36.450Z"
   },
   {
    "duration": 15,
    "start_time": "2023-10-13T18:03:36.486Z"
   },
   {
    "duration": 20,
    "start_time": "2023-10-13T18:03:36.503Z"
   },
   {
    "duration": 34,
    "start_time": "2023-10-13T18:03:36.524Z"
   },
   {
    "duration": 11,
    "start_time": "2023-10-13T18:03:36.560Z"
   },
   {
    "duration": 18,
    "start_time": "2023-10-13T18:03:36.573Z"
   },
   {
    "duration": 17,
    "start_time": "2023-10-13T18:03:36.593Z"
   },
   {
    "duration": 20,
    "start_time": "2023-10-13T18:03:36.613Z"
   },
   {
    "duration": 11,
    "start_time": "2023-10-13T18:03:36.634Z"
   },
   {
    "duration": 15,
    "start_time": "2023-10-13T18:03:36.647Z"
   },
   {
    "duration": 239,
    "start_time": "2023-10-13T18:03:36.664Z"
   },
   {
    "duration": 211,
    "start_time": "2023-10-13T18:03:36.906Z"
   },
   {
    "duration": 12,
    "start_time": "2023-10-13T18:03:37.118Z"
   },
   {
    "duration": 147,
    "start_time": "2023-10-13T18:03:37.143Z"
   },
   {
    "duration": 135,
    "start_time": "2023-10-13T18:03:37.293Z"
   },
   {
    "duration": 23,
    "start_time": "2023-10-13T18:03:37.430Z"
   },
   {
    "duration": 317,
    "start_time": "2023-10-13T18:03:37.455Z"
   },
   {
    "duration": 5,
    "start_time": "2023-10-13T18:03:37.778Z"
   },
   {
    "duration": 19,
    "start_time": "2023-10-13T18:03:37.784Z"
   },
   {
    "duration": 939,
    "start_time": "2023-10-13T18:03:37.805Z"
   },
   {
    "duration": 169,
    "start_time": "2023-10-13T18:03:38.746Z"
   },
   {
    "duration": 3,
    "start_time": "2023-10-13T18:03:38.917Z"
   },
   {
    "duration": 14,
    "start_time": "2023-10-13T18:03:38.922Z"
   },
   {
    "duration": 559,
    "start_time": "2023-10-13T18:03:38.951Z"
   },
   {
    "duration": 140,
    "start_time": "2023-10-13T18:03:39.512Z"
   },
   {
    "duration": 51,
    "start_time": "2023-10-13T18:03:39.654Z"
   },
   {
    "duration": 10,
    "start_time": "2023-10-13T18:03:39.706Z"
   },
   {
    "duration": 32,
    "start_time": "2023-10-13T18:03:39.718Z"
   },
   {
    "duration": 21,
    "start_time": "2023-10-13T18:03:39.752Z"
   },
   {
    "duration": 30,
    "start_time": "2023-10-13T18:03:39.775Z"
   },
   {
    "duration": 7,
    "start_time": "2023-10-13T18:03:39.806Z"
   },
   {
    "duration": 10,
    "start_time": "2023-10-13T18:03:39.815Z"
   },
   {
    "duration": 965,
    "start_time": "2023-10-13T18:03:39.827Z"
   },
   {
    "duration": 9,
    "start_time": "2023-10-13T18:03:40.793Z"
   },
   {
    "duration": 784,
    "start_time": "2023-10-13T18:03:40.804Z"
   },
   {
    "duration": 368,
    "start_time": "2023-10-13T18:03:41.589Z"
   },
   {
    "duration": 12,
    "start_time": "2023-10-13T18:03:41.959Z"
   },
   {
    "duration": 438,
    "start_time": "2023-10-13T18:03:41.973Z"
   },
   {
    "duration": 8,
    "start_time": "2023-10-13T18:03:42.413Z"
   },
   {
    "duration": 453,
    "start_time": "2023-10-13T18:03:42.422Z"
   },
   {
    "duration": 275,
    "start_time": "2023-10-13T18:03:42.876Z"
   },
   {
    "duration": 37,
    "start_time": "2023-10-13T18:03:43.153Z"
   },
   {
    "duration": 4,
    "start_time": "2023-10-13T18:03:43.192Z"
   },
   {
    "duration": 219,
    "start_time": "2023-10-13T18:03:43.198Z"
   },
   {
    "duration": 24,
    "start_time": "2023-10-13T18:03:43.419Z"
   },
   {
    "duration": 23,
    "start_time": "2023-10-13T18:03:43.445Z"
   },
   {
    "duration": 18,
    "start_time": "2023-10-13T18:03:43.470Z"
   },
   {
    "duration": 26,
    "start_time": "2023-10-13T18:03:43.489Z"
   },
   {
    "duration": 33,
    "start_time": "2023-10-13T18:03:43.517Z"
   },
   {
    "duration": 45,
    "start_time": "2023-10-13T18:03:43.552Z"
   },
   {
    "duration": 73,
    "start_time": "2023-10-13T18:03:43.599Z"
   },
   {
    "duration": 187,
    "start_time": "2023-10-13T18:03:43.674Z"
   },
   {
    "duration": 7,
    "start_time": "2023-10-13T18:03:43.863Z"
   },
   {
    "duration": 142,
    "start_time": "2023-10-13T18:06:15.767Z"
   },
   {
    "duration": 130,
    "start_time": "2023-10-13T18:07:19.139Z"
   },
   {
    "duration": 136,
    "start_time": "2023-10-13T18:07:43.788Z"
   },
   {
    "duration": 99,
    "start_time": "2023-10-13T18:09:15.612Z"
   },
   {
    "duration": 13,
    "start_time": "2023-10-13T18:09:39.208Z"
   },
   {
    "duration": 5,
    "start_time": "2023-10-13T18:09:51.702Z"
   },
   {
    "duration": 120,
    "start_time": "2023-10-13T18:15:23.079Z"
   },
   {
    "duration": 229,
    "start_time": "2023-10-13T18:15:40.273Z"
   },
   {
    "duration": 129,
    "start_time": "2023-10-13T18:16:05.421Z"
   },
   {
    "duration": 6,
    "start_time": "2023-10-13T18:16:38.213Z"
   },
   {
    "duration": 124,
    "start_time": "2023-10-13T18:17:25.494Z"
   },
   {
    "duration": 253,
    "start_time": "2023-10-13T18:17:37.956Z"
   },
   {
    "duration": 124,
    "start_time": "2023-10-13T18:18:29.775Z"
   },
   {
    "duration": 6,
    "start_time": "2023-10-13T18:21:14.959Z"
   },
   {
    "duration": 99,
    "start_time": "2023-10-13T18:24:56.800Z"
   },
   {
    "duration": 12,
    "start_time": "2023-10-13T18:25:12.242Z"
   },
   {
    "duration": 256,
    "start_time": "2023-10-13T18:42:02.035Z"
   },
   {
    "duration": 219,
    "start_time": "2023-10-13T18:42:13.760Z"
   },
   {
    "duration": 80,
    "start_time": "2023-10-13T18:48:57.139Z"
   },
   {
    "duration": 11,
    "start_time": "2023-10-13T18:50:05.411Z"
   },
   {
    "duration": 214,
    "start_time": "2023-10-13T18:50:28.104Z"
   },
   {
    "duration": 213,
    "start_time": "2023-10-13T18:51:12.382Z"
   },
   {
    "duration": 117,
    "start_time": "2023-10-13T18:54:57.787Z"
   },
   {
    "duration": 127,
    "start_time": "2023-10-13T19:03:04.982Z"
   },
   {
    "duration": 6,
    "start_time": "2023-10-13T19:11:04.947Z"
   },
   {
    "duration": 1145,
    "start_time": "2023-10-13T19:23:11.114Z"
   },
   {
    "duration": 29,
    "start_time": "2023-10-13T19:23:12.261Z"
   },
   {
    "duration": 13,
    "start_time": "2023-10-13T19:23:12.291Z"
   },
   {
    "duration": 10,
    "start_time": "2023-10-13T19:23:12.306Z"
   },
   {
    "duration": 37,
    "start_time": "2023-10-13T19:23:12.317Z"
   },
   {
    "duration": 9,
    "start_time": "2023-10-13T19:23:12.355Z"
   },
   {
    "duration": 25,
    "start_time": "2023-10-13T19:23:12.365Z"
   },
   {
    "duration": 22,
    "start_time": "2023-10-13T19:23:12.392Z"
   },
   {
    "duration": 7,
    "start_time": "2023-10-13T19:23:12.415Z"
   },
   {
    "duration": 12,
    "start_time": "2023-10-13T19:23:12.425Z"
   },
   {
    "duration": 8,
    "start_time": "2023-10-13T19:23:12.438Z"
   },
   {
    "duration": 5,
    "start_time": "2023-10-13T19:23:12.447Z"
   },
   {
    "duration": 5,
    "start_time": "2023-10-13T19:23:12.453Z"
   },
   {
    "duration": 7,
    "start_time": "2023-10-13T19:23:12.460Z"
   },
   {
    "duration": 6,
    "start_time": "2023-10-13T19:23:12.468Z"
   },
   {
    "duration": 6,
    "start_time": "2023-10-13T19:23:12.475Z"
   },
   {
    "duration": 5,
    "start_time": "2023-10-13T19:23:12.483Z"
   },
   {
    "duration": 13,
    "start_time": "2023-10-13T19:23:12.489Z"
   },
   {
    "duration": 43,
    "start_time": "2023-10-13T19:23:12.503Z"
   },
   {
    "duration": 8,
    "start_time": "2023-10-13T19:23:12.548Z"
   },
   {
    "duration": 195,
    "start_time": "2023-10-13T19:23:12.558Z"
   },
   {
    "duration": 184,
    "start_time": "2023-10-13T19:23:12.755Z"
   },
   {
    "duration": 11,
    "start_time": "2023-10-13T19:23:12.943Z"
   },
   {
    "duration": 148,
    "start_time": "2023-10-13T19:23:12.956Z"
   },
   {
    "duration": 118,
    "start_time": "2023-10-13T19:23:13.106Z"
   },
   {
    "duration": 18,
    "start_time": "2023-10-13T19:23:13.226Z"
   },
   {
    "duration": 308,
    "start_time": "2023-10-13T19:23:13.245Z"
   },
   {
    "duration": 4,
    "start_time": "2023-10-13T19:23:13.557Z"
   },
   {
    "duration": 54,
    "start_time": "2023-10-13T19:23:13.562Z"
   },
   {
    "duration": 1009,
    "start_time": "2023-10-13T19:23:13.618Z"
   },
   {
    "duration": 150,
    "start_time": "2023-10-13T19:23:14.629Z"
   },
   {
    "duration": 4,
    "start_time": "2023-10-13T19:23:14.780Z"
   },
   {
    "duration": 43,
    "start_time": "2023-10-13T19:23:14.785Z"
   },
   {
    "duration": 506,
    "start_time": "2023-10-13T19:23:14.830Z"
   },
   {
    "duration": 127,
    "start_time": "2023-10-13T19:23:15.338Z"
   },
   {
    "duration": 44,
    "start_time": "2023-10-13T19:23:15.466Z"
   },
   {
    "duration": 10,
    "start_time": "2023-10-13T19:23:15.512Z"
   },
   {
    "duration": 27,
    "start_time": "2023-10-13T19:23:15.523Z"
   },
   {
    "duration": 22,
    "start_time": "2023-10-13T19:23:15.552Z"
   },
   {
    "duration": 37,
    "start_time": "2023-10-13T19:23:15.575Z"
   },
   {
    "duration": 19,
    "start_time": "2023-10-13T19:23:15.614Z"
   },
   {
    "duration": 28,
    "start_time": "2023-10-13T19:23:15.635Z"
   },
   {
    "duration": 836,
    "start_time": "2023-10-13T19:23:15.665Z"
   },
   {
    "duration": 8,
    "start_time": "2023-10-13T19:23:16.503Z"
   },
   {
    "duration": 833,
    "start_time": "2023-10-13T19:23:16.513Z"
   },
   {
    "duration": 241,
    "start_time": "2023-10-13T19:23:17.348Z"
   },
   {
    "duration": 8,
    "start_time": "2023-10-13T19:23:17.591Z"
   },
   {
    "duration": 392,
    "start_time": "2023-10-13T19:23:17.601Z"
   },
   {
    "duration": 8,
    "start_time": "2023-10-13T19:23:17.995Z"
   },
   {
    "duration": 389,
    "start_time": "2023-10-13T19:23:18.004Z"
   },
   {
    "duration": 291,
    "start_time": "2023-10-13T19:23:18.395Z"
   },
   {
    "duration": 32,
    "start_time": "2023-10-13T19:23:18.688Z"
   },
   {
    "duration": 3,
    "start_time": "2023-10-13T19:23:18.722Z"
   },
   {
    "duration": 191,
    "start_time": "2023-10-13T19:23:18.727Z"
   },
   {
    "duration": 128,
    "start_time": "2023-10-13T19:23:18.920Z"
   },
   {
    "duration": 22,
    "start_time": "2023-10-13T19:23:19.050Z"
   },
   {
    "duration": 21,
    "start_time": "2023-10-13T19:23:19.074Z"
   },
   {
    "duration": 23,
    "start_time": "2023-10-13T19:23:19.096Z"
   },
   {
    "duration": 12,
    "start_time": "2023-10-13T19:23:19.120Z"
   },
   {
    "duration": 26,
    "start_time": "2023-10-13T19:23:19.133Z"
   },
   {
    "duration": 18,
    "start_time": "2023-10-13T19:23:19.161Z"
   },
   {
    "duration": 1130,
    "start_time": "2023-10-13T19:23:27.789Z"
   },
   {
    "duration": 28,
    "start_time": "2023-10-13T19:23:28.920Z"
   },
   {
    "duration": 11,
    "start_time": "2023-10-13T19:23:28.950Z"
   },
   {
    "duration": 20,
    "start_time": "2023-10-13T19:23:28.962Z"
   },
   {
    "duration": 51,
    "start_time": "2023-10-13T19:23:28.983Z"
   },
   {
    "duration": 10,
    "start_time": "2023-10-13T19:23:29.035Z"
   },
   {
    "duration": 11,
    "start_time": "2023-10-13T19:23:29.052Z"
   },
   {
    "duration": 29,
    "start_time": "2023-10-13T19:23:29.064Z"
   },
   {
    "duration": 7,
    "start_time": "2023-10-13T19:23:29.094Z"
   },
   {
    "duration": 22,
    "start_time": "2023-10-13T19:23:29.103Z"
   },
   {
    "duration": 17,
    "start_time": "2023-10-13T19:23:29.126Z"
   },
   {
    "duration": 17,
    "start_time": "2023-10-13T19:23:29.145Z"
   },
   {
    "duration": 20,
    "start_time": "2023-10-13T19:23:29.163Z"
   },
   {
    "duration": 30,
    "start_time": "2023-10-13T19:23:29.185Z"
   },
   {
    "duration": 14,
    "start_time": "2023-10-13T19:23:29.217Z"
   },
   {
    "duration": 15,
    "start_time": "2023-10-13T19:23:29.232Z"
   },
   {
    "duration": 29,
    "start_time": "2023-10-13T19:23:29.248Z"
   },
   {
    "duration": 18,
    "start_time": "2023-10-13T19:23:29.279Z"
   },
   {
    "duration": 15,
    "start_time": "2023-10-13T19:23:29.299Z"
   },
   {
    "duration": 20,
    "start_time": "2023-10-13T19:23:29.316Z"
   },
   {
    "duration": 188,
    "start_time": "2023-10-13T19:23:29.338Z"
   },
   {
    "duration": 172,
    "start_time": "2023-10-13T19:23:29.528Z"
   },
   {
    "duration": 11,
    "start_time": "2023-10-13T19:23:29.703Z"
   },
   {
    "duration": 142,
    "start_time": "2023-10-13T19:23:29.716Z"
   },
   {
    "duration": 120,
    "start_time": "2023-10-13T19:23:29.860Z"
   },
   {
    "duration": 14,
    "start_time": "2023-10-13T19:23:29.982Z"
   },
   {
    "duration": 342,
    "start_time": "2023-10-13T19:23:29.998Z"
   },
   {
    "duration": 4,
    "start_time": "2023-10-13T19:23:30.344Z"
   },
   {
    "duration": 47,
    "start_time": "2023-10-13T19:23:30.349Z"
   },
   {
    "duration": 823,
    "start_time": "2023-10-13T19:23:30.397Z"
   },
   {
    "duration": 142,
    "start_time": "2023-10-13T19:23:31.222Z"
   },
   {
    "duration": 4,
    "start_time": "2023-10-13T19:23:31.365Z"
   },
   {
    "duration": 39,
    "start_time": "2023-10-13T19:23:31.370Z"
   },
   {
    "duration": 537,
    "start_time": "2023-10-13T19:23:31.411Z"
   },
   {
    "duration": 121,
    "start_time": "2023-10-13T19:23:31.950Z"
   },
   {
    "duration": 44,
    "start_time": "2023-10-13T19:23:32.073Z"
   },
   {
    "duration": 25,
    "start_time": "2023-10-13T19:23:32.119Z"
   },
   {
    "duration": 9,
    "start_time": "2023-10-13T19:23:32.146Z"
   },
   {
    "duration": 31,
    "start_time": "2023-10-13T19:23:32.157Z"
   },
   {
    "duration": 22,
    "start_time": "2023-10-13T19:23:32.189Z"
   },
   {
    "duration": 43,
    "start_time": "2023-10-13T19:23:32.213Z"
   },
   {
    "duration": 25,
    "start_time": "2023-10-13T19:23:32.257Z"
   },
   {
    "duration": 866,
    "start_time": "2023-10-13T19:23:32.284Z"
   },
   {
    "duration": 8,
    "start_time": "2023-10-13T19:23:33.152Z"
   },
   {
    "duration": 876,
    "start_time": "2023-10-13T19:23:33.161Z"
   },
   {
    "duration": 235,
    "start_time": "2023-10-13T19:23:34.043Z"
   },
   {
    "duration": 8,
    "start_time": "2023-10-13T19:23:34.280Z"
   },
   {
    "duration": 427,
    "start_time": "2023-10-13T19:23:34.289Z"
   },
   {
    "duration": 8,
    "start_time": "2023-10-13T19:23:34.718Z"
   },
   {
    "duration": 383,
    "start_time": "2023-10-13T19:23:34.727Z"
   },
   {
    "duration": 277,
    "start_time": "2023-10-13T19:23:35.112Z"
   },
   {
    "duration": 29,
    "start_time": "2023-10-13T19:23:35.391Z"
   },
   {
    "duration": 14,
    "start_time": "2023-10-13T19:23:35.421Z"
   },
   {
    "duration": 188,
    "start_time": "2023-10-13T19:23:35.436Z"
   },
   {
    "duration": 138,
    "start_time": "2023-10-13T19:23:35.625Z"
   },
   {
    "duration": 18,
    "start_time": "2023-10-13T19:23:35.765Z"
   },
   {
    "duration": 10,
    "start_time": "2023-10-13T19:23:35.784Z"
   },
   {
    "duration": 12,
    "start_time": "2023-10-13T19:23:35.795Z"
   },
   {
    "duration": 17,
    "start_time": "2023-10-13T19:23:35.808Z"
   },
   {
    "duration": 25,
    "start_time": "2023-10-13T19:23:35.826Z"
   },
   {
    "duration": 11,
    "start_time": "2023-10-13T19:23:35.852Z"
   },
   {
    "duration": 1199,
    "start_time": "2023-10-14T05:03:19.826Z"
   },
   {
    "duration": 30,
    "start_time": "2023-10-14T05:03:21.027Z"
   },
   {
    "duration": 14,
    "start_time": "2023-10-14T05:03:21.059Z"
   },
   {
    "duration": 43,
    "start_time": "2023-10-14T05:03:21.075Z"
   },
   {
    "duration": 57,
    "start_time": "2023-10-14T05:03:21.120Z"
   },
   {
    "duration": 16,
    "start_time": "2023-10-14T05:03:21.179Z"
   },
   {
    "duration": 26,
    "start_time": "2023-10-14T05:03:21.197Z"
   },
   {
    "duration": 28,
    "start_time": "2023-10-14T05:03:21.225Z"
   },
   {
    "duration": 18,
    "start_time": "2023-10-14T05:03:21.254Z"
   },
   {
    "duration": 43,
    "start_time": "2023-10-14T05:03:21.275Z"
   },
   {
    "duration": 16,
    "start_time": "2023-10-14T05:03:21.320Z"
   },
   {
    "duration": 22,
    "start_time": "2023-10-14T05:03:21.338Z"
   },
   {
    "duration": 9,
    "start_time": "2023-10-14T05:03:21.362Z"
   },
   {
    "duration": 28,
    "start_time": "2023-10-14T05:03:21.373Z"
   },
   {
    "duration": 33,
    "start_time": "2023-10-14T05:03:21.402Z"
   },
   {
    "duration": 18,
    "start_time": "2023-10-14T05:03:21.436Z"
   },
   {
    "duration": 17,
    "start_time": "2023-10-14T05:03:21.455Z"
   },
   {
    "duration": 33,
    "start_time": "2023-10-14T05:03:21.473Z"
   },
   {
    "duration": 23,
    "start_time": "2023-10-14T05:03:21.507Z"
   },
   {
    "duration": 32,
    "start_time": "2023-10-14T05:03:21.532Z"
   },
   {
    "duration": 206,
    "start_time": "2023-10-14T05:03:21.565Z"
   },
   {
    "duration": 189,
    "start_time": "2023-10-14T05:03:21.772Z"
   },
   {
    "duration": 12,
    "start_time": "2023-10-14T05:03:21.963Z"
   },
   {
    "duration": 147,
    "start_time": "2023-10-14T05:03:21.977Z"
   },
   {
    "duration": 128,
    "start_time": "2023-10-14T05:03:22.126Z"
   },
   {
    "duration": 13,
    "start_time": "2023-10-14T05:03:22.256Z"
   },
   {
    "duration": 311,
    "start_time": "2023-10-14T05:03:22.271Z"
   },
   {
    "duration": 13,
    "start_time": "2023-10-14T05:03:22.588Z"
   },
   {
    "duration": 14,
    "start_time": "2023-10-14T05:03:22.603Z"
   },
   {
    "duration": 844,
    "start_time": "2023-10-14T05:03:22.619Z"
   },
   {
    "duration": 155,
    "start_time": "2023-10-14T05:03:23.465Z"
   },
   {
    "duration": 4,
    "start_time": "2023-10-14T05:03:23.622Z"
   },
   {
    "duration": 31,
    "start_time": "2023-10-14T05:03:23.627Z"
   },
   {
    "duration": 533,
    "start_time": "2023-10-14T05:03:23.659Z"
   },
   {
    "duration": 152,
    "start_time": "2023-10-14T05:03:24.201Z"
   },
   {
    "duration": 58,
    "start_time": "2023-10-14T05:03:24.355Z"
   },
   {
    "duration": 10,
    "start_time": "2023-10-14T05:03:24.414Z"
   },
   {
    "duration": 13,
    "start_time": "2023-10-14T05:03:24.426Z"
   },
   {
    "duration": 21,
    "start_time": "2023-10-14T05:03:24.440Z"
   },
   {
    "duration": 25,
    "start_time": "2023-10-14T05:03:24.462Z"
   },
   {
    "duration": 12,
    "start_time": "2023-10-14T05:03:24.489Z"
   },
   {
    "duration": 29,
    "start_time": "2023-10-14T05:03:24.502Z"
   },
   {
    "duration": 945,
    "start_time": "2023-10-14T05:03:24.533Z"
   },
   {
    "duration": 10,
    "start_time": "2023-10-14T05:03:25.479Z"
   },
   {
    "duration": 851,
    "start_time": "2023-10-14T05:03:25.490Z"
   },
   {
    "duration": 254,
    "start_time": "2023-10-14T05:03:26.343Z"
   },
   {
    "duration": 8,
    "start_time": "2023-10-14T05:03:26.600Z"
   },
   {
    "duration": 395,
    "start_time": "2023-10-14T05:03:26.610Z"
   },
   {
    "duration": 10,
    "start_time": "2023-10-14T05:03:27.007Z"
   },
   {
    "duration": 392,
    "start_time": "2023-10-14T05:03:27.019Z"
   },
   {
    "duration": 276,
    "start_time": "2023-10-14T05:03:27.413Z"
   },
   {
    "duration": 49,
    "start_time": "2023-10-14T05:03:27.691Z"
   },
   {
    "duration": 47,
    "start_time": "2023-10-14T05:03:27.742Z"
   },
   {
    "duration": 212,
    "start_time": "2023-10-14T05:03:27.791Z"
   },
   {
    "duration": 150,
    "start_time": "2023-10-14T05:03:28.005Z"
   },
   {
    "duration": 36,
    "start_time": "2023-10-14T05:03:28.157Z"
   },
   {
    "duration": 31,
    "start_time": "2023-10-14T05:03:28.195Z"
   },
   {
    "duration": 22,
    "start_time": "2023-10-14T05:03:28.228Z"
   },
   {
    "duration": 12,
    "start_time": "2023-10-14T05:03:28.252Z"
   },
   {
    "duration": 38,
    "start_time": "2023-10-14T05:03:28.266Z"
   },
   {
    "duration": 31,
    "start_time": "2023-10-14T05:03:28.306Z"
   },
   {
    "duration": 20,
    "start_time": "2023-10-14T05:08:12.118Z"
   },
   {
    "duration": 271,
    "start_time": "2023-10-14T05:08:46.801Z"
   },
   {
    "duration": 747,
    "start_time": "2023-10-14T05:08:50.761Z"
   },
   {
    "duration": 283,
    "start_time": "2023-10-14T05:09:41.462Z"
   },
   {
    "duration": 453,
    "start_time": "2023-10-14T05:09:48.751Z"
   },
   {
    "duration": 430,
    "start_time": "2023-10-14T05:09:53.948Z"
   },
   {
    "duration": 774,
    "start_time": "2023-10-14T05:10:05.217Z"
   },
   {
    "duration": 7,
    "start_time": "2023-10-14T05:12:55.359Z"
   },
   {
    "duration": 163,
    "start_time": "2023-10-14T05:26:07.943Z"
   },
   {
    "duration": 1211,
    "start_time": "2023-10-14T05:26:52.525Z"
   },
   {
    "duration": 31,
    "start_time": "2023-10-14T05:26:53.738Z"
   },
   {
    "duration": 14,
    "start_time": "2023-10-14T05:26:53.770Z"
   },
   {
    "duration": 17,
    "start_time": "2023-10-14T05:26:53.786Z"
   },
   {
    "duration": 33,
    "start_time": "2023-10-14T05:26:53.804Z"
   },
   {
    "duration": 9,
    "start_time": "2023-10-14T05:26:53.839Z"
   },
   {
    "duration": 15,
    "start_time": "2023-10-14T05:26:53.850Z"
   },
   {
    "duration": 21,
    "start_time": "2023-10-14T05:26:53.867Z"
   },
   {
    "duration": 7,
    "start_time": "2023-10-14T05:26:53.890Z"
   },
   {
    "duration": 11,
    "start_time": "2023-10-14T05:26:53.900Z"
   },
   {
    "duration": 9,
    "start_time": "2023-10-14T05:26:53.912Z"
   },
   {
    "duration": 5,
    "start_time": "2023-10-14T05:26:53.923Z"
   },
   {
    "duration": 7,
    "start_time": "2023-10-14T05:26:53.930Z"
   },
   {
    "duration": 10,
    "start_time": "2023-10-14T05:26:53.938Z"
   },
   {
    "duration": 11,
    "start_time": "2023-10-14T05:26:53.950Z"
   },
   {
    "duration": 13,
    "start_time": "2023-10-14T05:26:53.963Z"
   },
   {
    "duration": 29,
    "start_time": "2023-10-14T05:26:53.977Z"
   },
   {
    "duration": 16,
    "start_time": "2023-10-14T05:26:54.007Z"
   },
   {
    "duration": 11,
    "start_time": "2023-10-14T05:26:54.024Z"
   },
   {
    "duration": 9,
    "start_time": "2023-10-14T05:26:54.037Z"
   },
   {
    "duration": 224,
    "start_time": "2023-10-14T05:26:54.048Z"
   },
   {
    "duration": 197,
    "start_time": "2023-10-14T05:26:54.275Z"
   },
   {
    "duration": 11,
    "start_time": "2023-10-14T05:26:54.474Z"
   },
   {
    "duration": 161,
    "start_time": "2023-10-14T05:26:54.502Z"
   },
   {
    "duration": 156,
    "start_time": "2023-10-14T05:26:54.666Z"
   },
   {
    "duration": 14,
    "start_time": "2023-10-14T05:26:54.824Z"
   },
   {
    "duration": 310,
    "start_time": "2023-10-14T05:26:54.840Z"
   },
   {
    "duration": 4,
    "start_time": "2023-10-14T05:26:55.156Z"
   },
   {
    "duration": 14,
    "start_time": "2023-10-14T05:26:55.162Z"
   },
   {
    "duration": 917,
    "start_time": "2023-10-14T05:26:55.178Z"
   },
   {
    "duration": 150,
    "start_time": "2023-10-14T05:26:56.101Z"
   },
   {
    "duration": 4,
    "start_time": "2023-10-14T05:26:56.253Z"
   },
   {
    "duration": 10,
    "start_time": "2023-10-14T05:26:56.258Z"
   },
   {
    "duration": 535,
    "start_time": "2023-10-14T05:26:56.269Z"
   },
   {
    "duration": 130,
    "start_time": "2023-10-14T05:26:56.806Z"
   },
   {
    "duration": 48,
    "start_time": "2023-10-14T05:26:56.937Z"
   },
   {
    "duration": 22,
    "start_time": "2023-10-14T05:26:56.987Z"
   },
   {
    "duration": 10,
    "start_time": "2023-10-14T05:26:57.011Z"
   },
   {
    "duration": 15,
    "start_time": "2023-10-14T05:26:57.022Z"
   },
   {
    "duration": 16,
    "start_time": "2023-10-14T05:26:57.039Z"
   },
   {
    "duration": 14,
    "start_time": "2023-10-14T05:26:57.057Z"
   },
   {
    "duration": 29,
    "start_time": "2023-10-14T05:26:57.073Z"
   },
   {
    "duration": 860,
    "start_time": "2023-10-14T05:26:57.104Z"
   },
   {
    "duration": 9,
    "start_time": "2023-10-14T05:26:57.965Z"
   },
   {
    "duration": 906,
    "start_time": "2023-10-14T05:26:57.976Z"
   },
   {
    "duration": 256,
    "start_time": "2023-10-14T05:26:58.883Z"
   },
   {
    "duration": 9,
    "start_time": "2023-10-14T05:26:59.141Z"
   },
   {
    "duration": 401,
    "start_time": "2023-10-14T05:26:59.152Z"
   },
   {
    "duration": 8,
    "start_time": "2023-10-14T05:26:59.555Z"
   },
   {
    "duration": 403,
    "start_time": "2023-10-14T05:26:59.565Z"
   },
   {
    "duration": 270,
    "start_time": "2023-10-14T05:26:59.970Z"
   },
   {
    "duration": 31,
    "start_time": "2023-10-14T05:27:00.242Z"
   },
   {
    "duration": 19,
    "start_time": "2023-10-14T05:27:00.275Z"
   },
   {
    "duration": 204,
    "start_time": "2023-10-14T05:27:00.301Z"
   },
   {
    "duration": 169,
    "start_time": "2023-10-14T05:27:00.507Z"
   },
   {
    "duration": 189,
    "start_time": "2023-10-14T05:27:00.678Z"
   },
   {
    "duration": 71,
    "start_time": "2023-10-14T05:27:00.869Z"
   },
   {
    "duration": 44,
    "start_time": "2023-10-14T05:27:00.942Z"
   },
   {
    "duration": 55,
    "start_time": "2023-10-14T05:27:00.988Z"
   },
   {
    "duration": 64,
    "start_time": "2023-10-14T05:27:01.045Z"
   },
   {
    "duration": 46,
    "start_time": "2023-10-14T05:27:01.111Z"
   },
   {
    "duration": 208,
    "start_time": "2023-10-14T05:27:01.160Z"
   },
   {
    "duration": 66,
    "start_time": "2023-10-14T12:33:27.471Z"
   },
   {
    "duration": 1435,
    "start_time": "2023-10-14T12:33:35.504Z"
   },
   {
    "duration": 79,
    "start_time": "2023-10-14T12:33:36.941Z"
   },
   {
    "duration": 12,
    "start_time": "2023-10-14T12:33:37.022Z"
   },
   {
    "duration": 18,
    "start_time": "2023-10-14T12:33:37.035Z"
   },
   {
    "duration": 88,
    "start_time": "2023-10-14T12:33:37.055Z"
   },
   {
    "duration": 9,
    "start_time": "2023-10-14T12:33:37.145Z"
   },
   {
    "duration": 28,
    "start_time": "2023-10-14T12:33:37.155Z"
   },
   {
    "duration": 68,
    "start_time": "2023-10-14T12:33:37.185Z"
   },
   {
    "duration": 7,
    "start_time": "2023-10-14T12:33:37.255Z"
   },
   {
    "duration": 28,
    "start_time": "2023-10-14T12:33:37.264Z"
   },
   {
    "duration": 51,
    "start_time": "2023-10-14T12:33:37.294Z"
   },
   {
    "duration": 49,
    "start_time": "2023-10-14T12:33:37.347Z"
   },
   {
    "duration": 137,
    "start_time": "2023-10-14T12:33:37.398Z"
   },
   {
    "duration": 0,
    "start_time": "2023-10-14T12:33:37.538Z"
   },
   {
    "duration": 0,
    "start_time": "2023-10-14T12:33:37.539Z"
   },
   {
    "duration": 0,
    "start_time": "2023-10-14T12:33:37.541Z"
   },
   {
    "duration": 0,
    "start_time": "2023-10-14T12:33:37.542Z"
   },
   {
    "duration": 0,
    "start_time": "2023-10-14T12:33:37.542Z"
   },
   {
    "duration": 0,
    "start_time": "2023-10-14T12:33:37.543Z"
   },
   {
    "duration": 0,
    "start_time": "2023-10-14T12:33:37.544Z"
   },
   {
    "duration": 0,
    "start_time": "2023-10-14T12:33:37.545Z"
   },
   {
    "duration": 0,
    "start_time": "2023-10-14T12:33:37.546Z"
   },
   {
    "duration": 0,
    "start_time": "2023-10-14T12:33:37.547Z"
   },
   {
    "duration": 0,
    "start_time": "2023-10-14T12:33:37.548Z"
   },
   {
    "duration": 0,
    "start_time": "2023-10-14T12:33:37.549Z"
   },
   {
    "duration": 0,
    "start_time": "2023-10-14T12:33:37.550Z"
   },
   {
    "duration": 0,
    "start_time": "2023-10-14T12:33:37.551Z"
   },
   {
    "duration": 0,
    "start_time": "2023-10-14T12:33:37.551Z"
   },
   {
    "duration": 0,
    "start_time": "2023-10-14T12:33:37.552Z"
   },
   {
    "duration": 0,
    "start_time": "2023-10-14T12:33:37.553Z"
   },
   {
    "duration": 0,
    "start_time": "2023-10-14T12:33:37.554Z"
   },
   {
    "duration": 0,
    "start_time": "2023-10-14T12:33:37.555Z"
   },
   {
    "duration": 0,
    "start_time": "2023-10-14T12:33:37.556Z"
   },
   {
    "duration": 0,
    "start_time": "2023-10-14T12:33:37.557Z"
   },
   {
    "duration": 0,
    "start_time": "2023-10-14T12:33:37.558Z"
   },
   {
    "duration": 0,
    "start_time": "2023-10-14T12:33:37.559Z"
   },
   {
    "duration": 0,
    "start_time": "2023-10-14T12:33:37.560Z"
   },
   {
    "duration": 0,
    "start_time": "2023-10-14T12:33:37.562Z"
   },
   {
    "duration": 0,
    "start_time": "2023-10-14T12:33:37.563Z"
   },
   {
    "duration": 0,
    "start_time": "2023-10-14T12:33:37.564Z"
   },
   {
    "duration": 0,
    "start_time": "2023-10-14T12:33:37.606Z"
   },
   {
    "duration": 0,
    "start_time": "2023-10-14T12:33:37.608Z"
   },
   {
    "duration": 0,
    "start_time": "2023-10-14T12:33:37.609Z"
   },
   {
    "duration": 0,
    "start_time": "2023-10-14T12:33:37.610Z"
   },
   {
    "duration": 0,
    "start_time": "2023-10-14T12:33:37.611Z"
   },
   {
    "duration": 0,
    "start_time": "2023-10-14T12:33:37.612Z"
   },
   {
    "duration": 0,
    "start_time": "2023-10-14T12:33:37.613Z"
   },
   {
    "duration": 0,
    "start_time": "2023-10-14T12:33:37.614Z"
   },
   {
    "duration": 0,
    "start_time": "2023-10-14T12:33:37.615Z"
   },
   {
    "duration": 0,
    "start_time": "2023-10-14T12:33:37.617Z"
   },
   {
    "duration": 0,
    "start_time": "2023-10-14T12:33:37.617Z"
   },
   {
    "duration": 1,
    "start_time": "2023-10-14T12:33:37.618Z"
   },
   {
    "duration": 0,
    "start_time": "2023-10-14T12:33:37.619Z"
   },
   {
    "duration": 0,
    "start_time": "2023-10-14T12:33:37.620Z"
   },
   {
    "duration": 0,
    "start_time": "2023-10-14T12:33:37.622Z"
   },
   {
    "duration": 0,
    "start_time": "2023-10-14T12:33:37.622Z"
   },
   {
    "duration": 0,
    "start_time": "2023-10-14T12:33:37.624Z"
   },
   {
    "duration": 0,
    "start_time": "2023-10-14T12:33:37.625Z"
   },
   {
    "duration": 0,
    "start_time": "2023-10-14T12:33:37.627Z"
   },
   {
    "duration": 1,
    "start_time": "2023-10-14T12:33:37.629Z"
   },
   {
    "duration": 0,
    "start_time": "2023-10-14T12:33:37.631Z"
   },
   {
    "duration": 0,
    "start_time": "2023-10-14T12:33:37.632Z"
   },
   {
    "duration": 0,
    "start_time": "2023-10-14T12:33:37.633Z"
   },
   {
    "duration": 4,
    "start_time": "2023-10-14T12:42:18.026Z"
   },
   {
    "duration": 4,
    "start_time": "2023-10-14T12:42:36.883Z"
   },
   {
    "duration": 11,
    "start_time": "2023-10-14T12:48:01.656Z"
   },
   {
    "duration": 11,
    "start_time": "2023-10-14T12:48:47.161Z"
   },
   {
    "duration": 5,
    "start_time": "2023-10-14T12:49:25.444Z"
   },
   {
    "duration": 149,
    "start_time": "2023-10-14T12:49:57.400Z"
   },
   {
    "duration": 13,
    "start_time": "2023-10-14T12:50:14.487Z"
   },
   {
    "duration": 10,
    "start_time": "2023-10-14T12:50:19.531Z"
   },
   {
    "duration": 9,
    "start_time": "2023-10-14T12:50:56.939Z"
   },
   {
    "duration": 4,
    "start_time": "2023-10-14T12:51:45.434Z"
   },
   {
    "duration": 5,
    "start_time": "2023-10-14T12:54:19.065Z"
   },
   {
    "duration": 9,
    "start_time": "2023-10-14T12:55:22.860Z"
   },
   {
    "duration": 10,
    "start_time": "2023-10-14T12:56:20.978Z"
   },
   {
    "duration": 4,
    "start_time": "2023-10-14T12:57:12.699Z"
   },
   {
    "duration": 6,
    "start_time": "2023-10-14T12:57:22.022Z"
   },
   {
    "duration": 5,
    "start_time": "2023-10-14T12:57:31.348Z"
   },
   {
    "duration": 7,
    "start_time": "2023-10-14T13:00:26.253Z"
   },
   {
    "duration": 8,
    "start_time": "2023-10-14T13:00:29.395Z"
   },
   {
    "duration": 1202,
    "start_time": "2023-10-14T13:03:11.620Z"
   },
   {
    "duration": 30,
    "start_time": "2023-10-14T13:03:12.824Z"
   },
   {
    "duration": 12,
    "start_time": "2023-10-14T13:03:12.855Z"
   },
   {
    "duration": 12,
    "start_time": "2023-10-14T13:03:12.869Z"
   },
   {
    "duration": 36,
    "start_time": "2023-10-14T13:03:12.883Z"
   },
   {
    "duration": 10,
    "start_time": "2023-10-14T13:03:12.920Z"
   },
   {
    "duration": 25,
    "start_time": "2023-10-14T13:03:12.932Z"
   },
   {
    "duration": 24,
    "start_time": "2023-10-14T13:03:12.959Z"
   },
   {
    "duration": 11,
    "start_time": "2023-10-14T13:03:12.984Z"
   },
   {
    "duration": 13,
    "start_time": "2023-10-14T13:03:12.998Z"
   },
   {
    "duration": 22,
    "start_time": "2023-10-14T13:03:13.013Z"
   },
   {
    "duration": 24,
    "start_time": "2023-10-14T13:03:13.037Z"
   },
   {
    "duration": 8,
    "start_time": "2023-10-14T13:03:13.063Z"
   },
   {
    "duration": 12,
    "start_time": "2023-10-14T13:03:13.073Z"
   },
   {
    "duration": 32,
    "start_time": "2023-10-14T13:03:13.087Z"
   },
   {
    "duration": 13,
    "start_time": "2023-10-14T13:03:13.120Z"
   },
   {
    "duration": 14,
    "start_time": "2023-10-14T13:03:13.134Z"
   },
   {
    "duration": 10,
    "start_time": "2023-10-14T13:03:13.150Z"
   },
   {
    "duration": 38,
    "start_time": "2023-10-14T13:03:13.162Z"
   },
   {
    "duration": 37,
    "start_time": "2023-10-14T13:03:13.201Z"
   },
   {
    "duration": 16,
    "start_time": "2023-10-14T13:03:13.240Z"
   },
   {
    "duration": 229,
    "start_time": "2023-10-14T13:03:13.259Z"
   },
   {
    "duration": 202,
    "start_time": "2023-10-14T13:03:13.490Z"
   },
   {
    "duration": 13,
    "start_time": "2023-10-14T13:03:13.694Z"
   },
   {
    "duration": 134,
    "start_time": "2023-10-14T13:03:13.709Z"
   },
   {
    "duration": 123,
    "start_time": "2023-10-14T13:03:13.844Z"
   },
   {
    "duration": 13,
    "start_time": "2023-10-14T13:03:13.969Z"
   },
   {
    "duration": 319,
    "start_time": "2023-10-14T13:03:13.987Z"
   },
   {
    "duration": 4,
    "start_time": "2023-10-14T13:03:14.308Z"
   },
   {
    "duration": 14,
    "start_time": "2023-10-14T13:03:14.313Z"
   },
   {
    "duration": 831,
    "start_time": "2023-10-14T13:03:14.329Z"
   },
   {
    "duration": 145,
    "start_time": "2023-10-14T13:03:15.162Z"
   },
   {
    "duration": 4,
    "start_time": "2023-10-14T13:03:15.309Z"
   },
   {
    "duration": 28,
    "start_time": "2023-10-14T13:03:15.314Z"
   },
   {
    "duration": 503,
    "start_time": "2023-10-14T13:03:15.344Z"
   },
   {
    "duration": 145,
    "start_time": "2023-10-14T13:03:15.849Z"
   },
   {
    "duration": 81,
    "start_time": "2023-10-14T13:03:15.997Z"
   },
   {
    "duration": 25,
    "start_time": "2023-10-14T13:03:16.081Z"
   },
   {
    "duration": 14,
    "start_time": "2023-10-14T13:03:16.109Z"
   },
   {
    "duration": 18,
    "start_time": "2023-10-14T13:03:16.126Z"
   },
   {
    "duration": 13,
    "start_time": "2023-10-14T13:03:16.146Z"
   },
   {
    "duration": 9,
    "start_time": "2023-10-14T13:03:16.162Z"
   },
   {
    "duration": 42,
    "start_time": "2023-10-14T13:03:16.173Z"
   },
   {
    "duration": 897,
    "start_time": "2023-10-14T13:03:16.217Z"
   },
   {
    "duration": 9,
    "start_time": "2023-10-14T13:03:17.116Z"
   },
   {
    "duration": 867,
    "start_time": "2023-10-14T13:03:17.126Z"
   },
   {
    "duration": 241,
    "start_time": "2023-10-14T13:03:17.994Z"
   },
   {
    "duration": 8,
    "start_time": "2023-10-14T13:03:18.237Z"
   },
   {
    "duration": 419,
    "start_time": "2023-10-14T13:03:18.247Z"
   },
   {
    "duration": 8,
    "start_time": "2023-10-14T13:03:18.668Z"
   },
   {
    "duration": 363,
    "start_time": "2023-10-14T13:03:18.677Z"
   },
   {
    "duration": 256,
    "start_time": "2023-10-14T13:03:19.042Z"
   },
   {
    "duration": 32,
    "start_time": "2023-10-14T13:03:19.300Z"
   },
   {
    "duration": 4,
    "start_time": "2023-10-14T13:03:19.334Z"
   },
   {
    "duration": 204,
    "start_time": "2023-10-14T13:03:19.339Z"
   },
   {
    "duration": 173,
    "start_time": "2023-10-14T13:03:19.545Z"
   },
   {
    "duration": 7,
    "start_time": "2023-10-14T13:03:19.720Z"
   },
   {
    "duration": 6,
    "start_time": "2023-10-14T13:03:19.729Z"
   },
   {
    "duration": 13,
    "start_time": "2023-10-14T13:03:19.737Z"
   },
   {
    "duration": 9,
    "start_time": "2023-10-14T13:03:19.751Z"
   },
   {
    "duration": 6,
    "start_time": "2023-10-14T13:03:19.762Z"
   },
   {
    "duration": 12,
    "start_time": "2023-10-14T13:03:19.770Z"
   },
   {
    "duration": 169,
    "start_time": "2023-10-14T13:03:19.783Z"
   },
   {
    "duration": 1205,
    "start_time": "2023-10-14T13:03:57.116Z"
   },
   {
    "duration": 29,
    "start_time": "2023-10-14T13:03:58.323Z"
   },
   {
    "duration": 12,
    "start_time": "2023-10-14T13:03:58.354Z"
   },
   {
    "duration": 22,
    "start_time": "2023-10-14T13:03:58.368Z"
   },
   {
    "duration": 39,
    "start_time": "2023-10-14T13:03:58.392Z"
   },
   {
    "duration": 9,
    "start_time": "2023-10-14T13:03:58.433Z"
   },
   {
    "duration": 28,
    "start_time": "2023-10-14T13:03:58.445Z"
   },
   {
    "duration": 45,
    "start_time": "2023-10-14T13:03:58.475Z"
   },
   {
    "duration": 10,
    "start_time": "2023-10-14T13:03:58.522Z"
   },
   {
    "duration": 30,
    "start_time": "2023-10-14T13:03:58.534Z"
   },
   {
    "duration": 23,
    "start_time": "2023-10-14T13:03:58.566Z"
   },
   {
    "duration": 26,
    "start_time": "2023-10-14T13:03:58.591Z"
   },
   {
    "duration": 114,
    "start_time": "2023-10-14T13:03:58.619Z"
   },
   {
    "duration": 0,
    "start_time": "2023-10-14T13:03:58.736Z"
   },
   {
    "duration": 0,
    "start_time": "2023-10-14T13:03:58.737Z"
   },
   {
    "duration": 0,
    "start_time": "2023-10-14T13:03:58.737Z"
   },
   {
    "duration": 0,
    "start_time": "2023-10-14T13:03:58.739Z"
   },
   {
    "duration": 0,
    "start_time": "2023-10-14T13:03:58.740Z"
   },
   {
    "duration": 0,
    "start_time": "2023-10-14T13:03:58.741Z"
   },
   {
    "duration": 0,
    "start_time": "2023-10-14T13:03:58.742Z"
   },
   {
    "duration": 0,
    "start_time": "2023-10-14T13:03:58.744Z"
   },
   {
    "duration": 0,
    "start_time": "2023-10-14T13:03:58.745Z"
   },
   {
    "duration": 0,
    "start_time": "2023-10-14T13:03:58.746Z"
   },
   {
    "duration": 0,
    "start_time": "2023-10-14T13:03:58.747Z"
   },
   {
    "duration": 0,
    "start_time": "2023-10-14T13:03:58.748Z"
   },
   {
    "duration": 0,
    "start_time": "2023-10-14T13:03:58.749Z"
   },
   {
    "duration": 0,
    "start_time": "2023-10-14T13:03:58.750Z"
   },
   {
    "duration": 0,
    "start_time": "2023-10-14T13:03:58.751Z"
   },
   {
    "duration": 0,
    "start_time": "2023-10-14T13:03:58.752Z"
   },
   {
    "duration": 0,
    "start_time": "2023-10-14T13:03:58.754Z"
   },
   {
    "duration": 0,
    "start_time": "2023-10-14T13:03:58.756Z"
   },
   {
    "duration": 0,
    "start_time": "2023-10-14T13:03:58.756Z"
   },
   {
    "duration": 0,
    "start_time": "2023-10-14T13:03:58.757Z"
   },
   {
    "duration": 0,
    "start_time": "2023-10-14T13:03:58.758Z"
   },
   {
    "duration": 0,
    "start_time": "2023-10-14T13:03:58.759Z"
   },
   {
    "duration": 0,
    "start_time": "2023-10-14T13:03:58.760Z"
   },
   {
    "duration": 0,
    "start_time": "2023-10-14T13:03:58.761Z"
   },
   {
    "duration": 0,
    "start_time": "2023-10-14T13:03:58.762Z"
   },
   {
    "duration": 0,
    "start_time": "2023-10-14T13:03:58.764Z"
   },
   {
    "duration": 0,
    "start_time": "2023-10-14T13:03:58.807Z"
   },
   {
    "duration": 0,
    "start_time": "2023-10-14T13:03:58.808Z"
   },
   {
    "duration": 0,
    "start_time": "2023-10-14T13:03:58.809Z"
   },
   {
    "duration": 0,
    "start_time": "2023-10-14T13:03:58.810Z"
   },
   {
    "duration": 0,
    "start_time": "2023-10-14T13:03:58.811Z"
   },
   {
    "duration": 0,
    "start_time": "2023-10-14T13:03:58.812Z"
   },
   {
    "duration": 0,
    "start_time": "2023-10-14T13:03:58.813Z"
   },
   {
    "duration": 0,
    "start_time": "2023-10-14T13:03:58.814Z"
   },
   {
    "duration": 0,
    "start_time": "2023-10-14T13:03:58.815Z"
   },
   {
    "duration": 0,
    "start_time": "2023-10-14T13:03:58.816Z"
   },
   {
    "duration": 0,
    "start_time": "2023-10-14T13:03:58.817Z"
   },
   {
    "duration": 0,
    "start_time": "2023-10-14T13:03:58.818Z"
   },
   {
    "duration": 0,
    "start_time": "2023-10-14T13:03:58.819Z"
   },
   {
    "duration": 0,
    "start_time": "2023-10-14T13:03:58.820Z"
   },
   {
    "duration": 0,
    "start_time": "2023-10-14T13:03:58.821Z"
   },
   {
    "duration": 0,
    "start_time": "2023-10-14T13:03:58.822Z"
   },
   {
    "duration": 0,
    "start_time": "2023-10-14T13:03:58.823Z"
   },
   {
    "duration": 0,
    "start_time": "2023-10-14T13:03:58.824Z"
   },
   {
    "duration": 0,
    "start_time": "2023-10-14T13:03:58.825Z"
   },
   {
    "duration": 0,
    "start_time": "2023-10-14T13:03:58.826Z"
   },
   {
    "duration": 0,
    "start_time": "2023-10-14T13:03:58.827Z"
   },
   {
    "duration": 0,
    "start_time": "2023-10-14T13:03:58.828Z"
   },
   {
    "duration": 0,
    "start_time": "2023-10-14T13:03:58.829Z"
   },
   {
    "duration": 0,
    "start_time": "2023-10-14T13:03:58.830Z"
   },
   {
    "duration": 1171,
    "start_time": "2023-10-14T13:04:25.551Z"
   },
   {
    "duration": 30,
    "start_time": "2023-10-14T13:04:26.724Z"
   },
   {
    "duration": 17,
    "start_time": "2023-10-14T13:04:26.756Z"
   },
   {
    "duration": 22,
    "start_time": "2023-10-14T13:04:26.776Z"
   },
   {
    "duration": 54,
    "start_time": "2023-10-14T13:04:26.800Z"
   },
   {
    "duration": 10,
    "start_time": "2023-10-14T13:04:26.856Z"
   },
   {
    "duration": 36,
    "start_time": "2023-10-14T13:04:26.868Z"
   },
   {
    "duration": 34,
    "start_time": "2023-10-14T13:04:26.906Z"
   },
   {
    "duration": 19,
    "start_time": "2023-10-14T13:04:26.942Z"
   },
   {
    "duration": 24,
    "start_time": "2023-10-14T13:04:26.965Z"
   },
   {
    "duration": 45,
    "start_time": "2023-10-14T13:04:26.991Z"
   },
   {
    "duration": 14,
    "start_time": "2023-10-14T13:04:27.039Z"
   },
   {
    "duration": 9,
    "start_time": "2023-10-14T13:04:27.055Z"
   },
   {
    "duration": 8,
    "start_time": "2023-10-14T13:04:27.066Z"
   },
   {
    "duration": 9,
    "start_time": "2023-10-14T13:04:27.076Z"
   },
   {
    "duration": 10,
    "start_time": "2023-10-14T13:04:27.087Z"
   },
   {
    "duration": 12,
    "start_time": "2023-10-14T13:04:27.099Z"
   },
   {
    "duration": 6,
    "start_time": "2023-10-14T13:04:27.113Z"
   },
   {
    "duration": 8,
    "start_time": "2023-10-14T13:04:27.122Z"
   },
   {
    "duration": 8,
    "start_time": "2023-10-14T13:04:27.132Z"
   },
   {
    "duration": 20,
    "start_time": "2023-10-14T13:04:27.143Z"
   },
   {
    "duration": 284,
    "start_time": "2023-10-14T13:04:27.166Z"
   },
   {
    "duration": 183,
    "start_time": "2023-10-14T13:04:27.452Z"
   },
   {
    "duration": 12,
    "start_time": "2023-10-14T13:04:27.637Z"
   },
   {
    "duration": 152,
    "start_time": "2023-10-14T13:04:27.651Z"
   },
   {
    "duration": 131,
    "start_time": "2023-10-14T13:04:27.806Z"
   },
   {
    "duration": 19,
    "start_time": "2023-10-14T13:04:27.939Z"
   },
   {
    "duration": 309,
    "start_time": "2023-10-14T13:04:27.963Z"
   },
   {
    "duration": 5,
    "start_time": "2023-10-14T13:04:28.274Z"
   },
   {
    "duration": 11,
    "start_time": "2023-10-14T13:04:28.282Z"
   },
   {
    "duration": 951,
    "start_time": "2023-10-14T13:04:28.307Z"
   },
   {
    "duration": 226,
    "start_time": "2023-10-14T13:04:29.260Z"
   },
   {
    "duration": 4,
    "start_time": "2023-10-14T13:04:29.489Z"
   },
   {
    "duration": 27,
    "start_time": "2023-10-14T13:04:29.495Z"
   },
   {
    "duration": 504,
    "start_time": "2023-10-14T13:04:29.524Z"
   },
   {
    "duration": 153,
    "start_time": "2023-10-14T13:04:30.030Z"
   },
   {
    "duration": 73,
    "start_time": "2023-10-14T13:04:30.184Z"
   },
   {
    "duration": 12,
    "start_time": "2023-10-14T13:04:30.258Z"
   },
   {
    "duration": 37,
    "start_time": "2023-10-14T13:04:30.273Z"
   },
   {
    "duration": 63,
    "start_time": "2023-10-14T13:04:30.312Z"
   },
   {
    "duration": 44,
    "start_time": "2023-10-14T13:04:30.378Z"
   },
   {
    "duration": 38,
    "start_time": "2023-10-14T13:04:30.423Z"
   },
   {
    "duration": 54,
    "start_time": "2023-10-14T13:04:30.463Z"
   },
   {
    "duration": 1037,
    "start_time": "2023-10-14T13:04:30.520Z"
   },
   {
    "duration": 13,
    "start_time": "2023-10-14T13:04:31.559Z"
   },
   {
    "duration": 2278,
    "start_time": "2023-10-14T13:04:31.574Z"
   },
   {
    "duration": 251,
    "start_time": "2023-10-14T13:04:33.854Z"
   },
   {
    "duration": 9,
    "start_time": "2023-10-14T13:04:34.107Z"
   },
   {
    "duration": 408,
    "start_time": "2023-10-14T13:04:34.118Z"
   },
   {
    "duration": 10,
    "start_time": "2023-10-14T13:04:34.528Z"
   },
   {
    "duration": 405,
    "start_time": "2023-10-14T13:04:34.540Z"
   },
   {
    "duration": 305,
    "start_time": "2023-10-14T13:04:34.947Z"
   },
   {
    "duration": 42,
    "start_time": "2023-10-14T13:04:35.253Z"
   },
   {
    "duration": 6,
    "start_time": "2023-10-14T13:04:35.307Z"
   },
   {
    "duration": 198,
    "start_time": "2023-10-14T13:04:35.315Z"
   },
   {
    "duration": 434,
    "start_time": "2023-10-14T13:04:35.515Z"
   },
   {
    "duration": 63,
    "start_time": "2023-10-14T13:04:35.951Z"
   },
   {
    "duration": 38,
    "start_time": "2023-10-14T13:04:36.016Z"
   },
   {
    "duration": 53,
    "start_time": "2023-10-14T13:04:36.057Z"
   },
   {
    "duration": 8,
    "start_time": "2023-10-14T13:04:36.112Z"
   },
   {
    "duration": 43,
    "start_time": "2023-10-14T13:04:36.122Z"
   },
   {
    "duration": 43,
    "start_time": "2023-10-14T13:04:36.167Z"
   },
   {
    "duration": 420,
    "start_time": "2023-10-14T13:04:36.213Z"
   },
   {
    "duration": 6,
    "start_time": "2023-10-14T13:06:45.636Z"
   },
   {
    "duration": 5,
    "start_time": "2023-10-14T13:06:55.419Z"
   },
   {
    "duration": 6,
    "start_time": "2023-10-14T13:07:14.201Z"
   },
   {
    "duration": 7,
    "start_time": "2023-10-14T13:18:45.723Z"
   },
   {
    "duration": 6,
    "start_time": "2023-10-14T13:19:12.538Z"
   },
   {
    "duration": 326,
    "start_time": "2023-10-14T13:24:24.908Z"
   },
   {
    "duration": 308,
    "start_time": "2023-10-14T13:24:42.191Z"
   },
   {
    "duration": 16,
    "start_time": "2023-10-14T13:28:38.436Z"
   },
   {
    "duration": 8,
    "start_time": "2023-10-14T13:28:57.447Z"
   },
   {
    "duration": 9,
    "start_time": "2023-10-14T13:29:12.765Z"
   },
   {
    "duration": 7,
    "start_time": "2023-10-14T13:29:19.252Z"
   },
   {
    "duration": 1553,
    "start_time": "2023-10-14T13:29:59.724Z"
   },
   {
    "duration": 346,
    "start_time": "2023-10-14T13:30:22.483Z"
   },
   {
    "duration": 1419,
    "start_time": "2023-10-14T13:33:37.488Z"
   },
   {
    "duration": 1569,
    "start_time": "2023-10-14T13:34:17.454Z"
   },
   {
    "duration": 735,
    "start_time": "2023-10-14T13:34:28.953Z"
   },
   {
    "duration": 8,
    "start_time": "2023-10-14T13:35:14.063Z"
   },
   {
    "duration": 552,
    "start_time": "2023-10-14T13:35:14.770Z"
   },
   {
    "duration": 22,
    "start_time": "2023-10-14T13:35:53.311Z"
   },
   {
    "duration": 7,
    "start_time": "2023-10-14T13:37:50.258Z"
   },
   {
    "duration": 598,
    "start_time": "2023-10-14T13:39:30.510Z"
   },
   {
    "duration": 490,
    "start_time": "2023-10-14T13:40:29.097Z"
   },
   {
    "duration": 313,
    "start_time": "2023-10-14T13:42:30.370Z"
   },
   {
    "duration": 322,
    "start_time": "2023-10-14T13:44:20.360Z"
   },
   {
    "duration": 29,
    "start_time": "2023-10-14T13:50:06.020Z"
   },
   {
    "duration": 8,
    "start_time": "2023-10-14T13:50:41.371Z"
   },
   {
    "duration": 9,
    "start_time": "2023-10-14T13:50:46.200Z"
   },
   {
    "duration": 14,
    "start_time": "2023-10-14T13:51:05.320Z"
   },
   {
    "duration": 7,
    "start_time": "2023-10-14T13:51:11.965Z"
   },
   {
    "duration": 5,
    "start_time": "2023-10-14T14:08:43.039Z"
   },
   {
    "duration": 367,
    "start_time": "2023-10-14T14:14:37.141Z"
   },
   {
    "duration": 486,
    "start_time": "2023-10-14T14:14:53.842Z"
   },
   {
    "duration": 6,
    "start_time": "2023-10-14T14:38:24.424Z"
   },
   {
    "duration": 32,
    "start_time": "2023-10-14T14:38:26.964Z"
   },
   {
    "duration": 28,
    "start_time": "2023-10-14T14:39:58.139Z"
   },
   {
    "duration": 9,
    "start_time": "2023-10-14T14:43:39.386Z"
   },
   {
    "duration": 1186,
    "start_time": "2023-10-14T14:44:04.761Z"
   },
   {
    "duration": 32,
    "start_time": "2023-10-14T14:44:05.950Z"
   },
   {
    "duration": 17,
    "start_time": "2023-10-14T14:44:05.984Z"
   },
   {
    "duration": 17,
    "start_time": "2023-10-14T14:44:06.004Z"
   },
   {
    "duration": 35,
    "start_time": "2023-10-14T14:44:06.024Z"
   },
   {
    "duration": 12,
    "start_time": "2023-10-14T14:44:06.061Z"
   },
   {
    "duration": 16,
    "start_time": "2023-10-14T14:44:06.075Z"
   },
   {
    "duration": 20,
    "start_time": "2023-10-14T14:44:06.093Z"
   },
   {
    "duration": 7,
    "start_time": "2023-10-14T14:44:06.114Z"
   },
   {
    "duration": 24,
    "start_time": "2023-10-14T14:44:06.124Z"
   },
   {
    "duration": 20,
    "start_time": "2023-10-14T14:44:06.149Z"
   },
   {
    "duration": 19,
    "start_time": "2023-10-14T14:44:06.171Z"
   },
   {
    "duration": 7,
    "start_time": "2023-10-14T14:44:06.191Z"
   },
   {
    "duration": 11,
    "start_time": "2023-10-14T14:44:06.199Z"
   },
   {
    "duration": 9,
    "start_time": "2023-10-14T14:44:06.212Z"
   },
   {
    "duration": 5,
    "start_time": "2023-10-14T14:44:06.223Z"
   },
   {
    "duration": 17,
    "start_time": "2023-10-14T14:44:06.230Z"
   },
   {
    "duration": 4,
    "start_time": "2023-10-14T14:44:06.249Z"
   },
   {
    "duration": 11,
    "start_time": "2023-10-14T14:44:06.255Z"
   },
   {
    "duration": 5,
    "start_time": "2023-10-14T14:44:06.268Z"
   },
   {
    "duration": 18,
    "start_time": "2023-10-14T14:44:06.275Z"
   },
   {
    "duration": 12,
    "start_time": "2023-10-14T14:44:06.307Z"
   },
   {
    "duration": 199,
    "start_time": "2023-10-14T14:44:06.321Z"
   },
   {
    "duration": 10,
    "start_time": "2023-10-14T14:44:06.521Z"
   },
   {
    "duration": 139,
    "start_time": "2023-10-14T14:44:06.533Z"
   },
   {
    "duration": 122,
    "start_time": "2023-10-14T14:44:06.674Z"
   },
   {
    "duration": 18,
    "start_time": "2023-10-14T14:44:06.797Z"
   },
   {
    "duration": 283,
    "start_time": "2023-10-14T14:44:06.819Z"
   },
   {
    "duration": 5,
    "start_time": "2023-10-14T14:44:07.103Z"
   },
   {
    "duration": 11,
    "start_time": "2023-10-14T14:44:07.109Z"
   },
   {
    "duration": 353,
    "start_time": "2023-10-14T14:44:07.122Z"
   },
   {
    "duration": 216,
    "start_time": "2023-10-14T14:44:07.476Z"
   },
   {
    "duration": 3,
    "start_time": "2023-10-14T14:44:07.694Z"
   },
   {
    "duration": 37,
    "start_time": "2023-10-14T14:44:07.707Z"
   },
   {
    "duration": 304,
    "start_time": "2023-10-14T14:44:07.745Z"
   },
   {
    "duration": 13,
    "start_time": "2023-10-14T14:44:08.051Z"
   },
   {
    "duration": 6,
    "start_time": "2023-10-14T14:44:08.066Z"
   },
   {
    "duration": 343,
    "start_time": "2023-10-14T14:44:08.073Z"
   },
   {
    "duration": 621,
    "start_time": "2023-10-14T14:44:08.418Z"
   },
   {
    "duration": 273,
    "start_time": "2023-10-14T14:44:09.041Z"
   },
   {
    "duration": 293,
    "start_time": "2023-10-14T14:44:09.315Z"
   },
   {
    "duration": 8,
    "start_time": "2023-10-14T14:44:09.609Z"
   },
   {
    "duration": 8,
    "start_time": "2023-10-14T14:44:09.619Z"
   },
   {
    "duration": 13,
    "start_time": "2023-10-14T14:44:09.629Z"
   },
   {
    "duration": 7,
    "start_time": "2023-10-14T14:44:09.643Z"
   },
   {
    "duration": 60,
    "start_time": "2023-10-14T14:44:09.651Z"
   },
   {
    "duration": 5,
    "start_time": "2023-10-14T14:44:09.713Z"
   },
   {
    "duration": 42,
    "start_time": "2023-10-14T14:44:09.721Z"
   },
   {
    "duration": 549,
    "start_time": "2023-10-14T14:44:09.765Z"
   },
   {
    "duration": 8,
    "start_time": "2023-10-14T14:44:10.316Z"
   },
   {
    "duration": 352,
    "start_time": "2023-10-14T14:44:10.325Z"
   },
   {
    "duration": 249,
    "start_time": "2023-10-14T14:44:10.679Z"
   },
   {
    "duration": 9,
    "start_time": "2023-10-14T14:44:10.929Z"
   },
   {
    "duration": 407,
    "start_time": "2023-10-14T14:44:10.939Z"
   },
   {
    "duration": 10,
    "start_time": "2023-10-14T14:44:11.348Z"
   },
   {
    "duration": 487,
    "start_time": "2023-10-14T14:44:11.359Z"
   },
   {
    "duration": 259,
    "start_time": "2023-10-14T14:44:11.848Z"
   },
   {
    "duration": 4,
    "start_time": "2023-10-14T14:44:12.108Z"
   },
   {
    "duration": 27,
    "start_time": "2023-10-14T14:44:12.113Z"
   },
   {
    "duration": 14,
    "start_time": "2023-10-14T14:44:12.142Z"
   },
   {
    "duration": 3,
    "start_time": "2023-10-14T14:44:12.158Z"
   },
   {
    "duration": 187,
    "start_time": "2023-10-14T14:44:12.163Z"
   },
   {
    "duration": 13,
    "start_time": "2023-10-14T14:44:12.352Z"
   },
   {
    "duration": 8,
    "start_time": "2023-10-14T14:44:12.366Z"
   },
   {
    "duration": 11,
    "start_time": "2023-10-14T14:44:12.376Z"
   },
   {
    "duration": 7,
    "start_time": "2023-10-14T14:44:12.389Z"
   },
   {
    "duration": 10,
    "start_time": "2023-10-14T14:44:12.407Z"
   },
   {
    "duration": 18,
    "start_time": "2023-10-14T14:44:12.418Z"
   },
   {
    "duration": 12,
    "start_time": "2023-10-14T14:44:12.438Z"
   },
   {
    "duration": 168,
    "start_time": "2023-10-14T14:44:12.452Z"
   },
   {
    "duration": 20,
    "start_time": "2023-10-14T14:45:03.705Z"
   },
   {
    "duration": 20,
    "start_time": "2023-10-14T14:46:53.850Z"
   },
   {
    "duration": 1174,
    "start_time": "2023-10-14T14:50:40.755Z"
   },
   {
    "duration": 29,
    "start_time": "2023-10-14T14:50:41.931Z"
   },
   {
    "duration": 20,
    "start_time": "2023-10-14T14:50:41.961Z"
   },
   {
    "duration": 14,
    "start_time": "2023-10-14T14:50:41.986Z"
   },
   {
    "duration": 40,
    "start_time": "2023-10-14T14:50:42.001Z"
   },
   {
    "duration": 9,
    "start_time": "2023-10-14T14:50:42.042Z"
   },
   {
    "duration": 45,
    "start_time": "2023-10-14T14:50:42.053Z"
   },
   {
    "duration": 17,
    "start_time": "2023-10-14T14:50:42.100Z"
   },
   {
    "duration": 8,
    "start_time": "2023-10-14T14:50:42.119Z"
   },
   {
    "duration": 18,
    "start_time": "2023-10-14T14:50:42.130Z"
   },
   {
    "duration": 25,
    "start_time": "2023-10-14T14:50:42.149Z"
   },
   {
    "duration": 4,
    "start_time": "2023-10-14T14:50:42.176Z"
   },
   {
    "duration": 8,
    "start_time": "2023-10-14T14:50:42.182Z"
   },
   {
    "duration": 12,
    "start_time": "2023-10-14T14:50:42.192Z"
   },
   {
    "duration": 8,
    "start_time": "2023-10-14T14:50:42.205Z"
   },
   {
    "duration": 9,
    "start_time": "2023-10-14T14:50:42.214Z"
   },
   {
    "duration": 7,
    "start_time": "2023-10-14T14:50:42.225Z"
   },
   {
    "duration": 6,
    "start_time": "2023-10-14T14:50:42.234Z"
   },
   {
    "duration": 16,
    "start_time": "2023-10-14T14:50:42.241Z"
   },
   {
    "duration": 17,
    "start_time": "2023-10-14T14:50:42.259Z"
   },
   {
    "duration": 44,
    "start_time": "2023-10-14T14:50:42.278Z"
   },
   {
    "duration": 41,
    "start_time": "2023-10-14T14:50:42.324Z"
   },
   {
    "duration": 195,
    "start_time": "2023-10-14T14:50:42.367Z"
   },
   {
    "duration": 11,
    "start_time": "2023-10-14T14:50:42.563Z"
   },
   {
    "duration": 133,
    "start_time": "2023-10-14T14:50:42.575Z"
   },
   {
    "duration": 116,
    "start_time": "2023-10-14T14:50:42.710Z"
   },
   {
    "duration": 12,
    "start_time": "2023-10-14T14:50:42.828Z"
   },
   {
    "duration": 295,
    "start_time": "2023-10-14T14:50:42.843Z"
   },
   {
    "duration": 3,
    "start_time": "2023-10-14T14:50:43.139Z"
   },
   {
    "duration": 18,
    "start_time": "2023-10-14T14:50:43.144Z"
   },
   {
    "duration": 321,
    "start_time": "2023-10-14T14:50:43.164Z"
   },
   {
    "duration": 212,
    "start_time": "2023-10-14T14:50:43.487Z"
   },
   {
    "duration": 3,
    "start_time": "2023-10-14T14:50:43.706Z"
   },
   {
    "duration": 37,
    "start_time": "2023-10-14T14:50:43.711Z"
   },
   {
    "duration": 326,
    "start_time": "2023-10-14T14:50:43.750Z"
   },
   {
    "duration": 14,
    "start_time": "2023-10-14T14:50:44.078Z"
   },
   {
    "duration": 15,
    "start_time": "2023-10-14T14:50:44.094Z"
   },
   {
    "duration": 301,
    "start_time": "2023-10-14T14:50:44.111Z"
   },
   {
    "duration": 316,
    "start_time": "2023-10-14T14:50:44.413Z"
   },
   {
    "duration": 122,
    "start_time": "2023-10-14T14:50:44.731Z"
   },
   {
    "duration": 138,
    "start_time": "2023-10-14T14:50:44.855Z"
   },
   {
    "duration": 15,
    "start_time": "2023-10-14T14:50:44.995Z"
   },
   {
    "duration": 30,
    "start_time": "2023-10-14T14:50:45.012Z"
   },
   {
    "duration": 34,
    "start_time": "2023-10-14T14:50:45.044Z"
   },
   {
    "duration": 26,
    "start_time": "2023-10-14T14:50:45.080Z"
   },
   {
    "duration": 25,
    "start_time": "2023-10-14T14:50:45.107Z"
   },
   {
    "duration": 9,
    "start_time": "2023-10-14T14:50:45.134Z"
   },
   {
    "duration": 23,
    "start_time": "2023-10-14T14:50:45.145Z"
   },
   {
    "duration": 454,
    "start_time": "2023-10-14T14:50:45.169Z"
   },
   {
    "duration": 8,
    "start_time": "2023-10-14T14:50:45.625Z"
   },
   {
    "duration": 786,
    "start_time": "2023-10-14T14:50:45.634Z"
   },
   {
    "duration": 495,
    "start_time": "2023-10-14T14:50:46.422Z"
   },
   {
    "duration": 8,
    "start_time": "2023-10-14T14:50:46.918Z"
   },
   {
    "duration": 541,
    "start_time": "2023-10-14T14:50:46.927Z"
   },
   {
    "duration": 9,
    "start_time": "2023-10-14T14:50:47.469Z"
   },
   {
    "duration": 473,
    "start_time": "2023-10-14T14:50:47.479Z"
   },
   {
    "duration": 242,
    "start_time": "2023-10-14T14:50:47.954Z"
   },
   {
    "duration": 8,
    "start_time": "2023-10-14T14:50:48.198Z"
   },
   {
    "duration": 53,
    "start_time": "2023-10-14T14:50:48.208Z"
   },
   {
    "duration": 10,
    "start_time": "2023-10-14T14:50:48.263Z"
   },
   {
    "duration": 14,
    "start_time": "2023-10-14T14:50:48.275Z"
   },
   {
    "duration": 1505,
    "start_time": "2023-10-14T14:50:48.291Z"
   },
   {
    "duration": 0,
    "start_time": "2023-10-14T14:50:49.798Z"
   },
   {
    "duration": 0,
    "start_time": "2023-10-14T14:50:49.799Z"
   },
   {
    "duration": 0,
    "start_time": "2023-10-14T14:50:49.800Z"
   },
   {
    "duration": 0,
    "start_time": "2023-10-14T14:50:49.801Z"
   },
   {
    "duration": 0,
    "start_time": "2023-10-14T14:50:49.803Z"
   },
   {
    "duration": 0,
    "start_time": "2023-10-14T14:50:49.804Z"
   },
   {
    "duration": 0,
    "start_time": "2023-10-14T14:50:49.805Z"
   },
   {
    "duration": 0,
    "start_time": "2023-10-14T14:50:49.806Z"
   },
   {
    "duration": 18,
    "start_time": "2023-10-14T14:51:22.007Z"
   },
   {
    "duration": 1192,
    "start_time": "2023-10-14T14:51:53.739Z"
   },
   {
    "duration": 30,
    "start_time": "2023-10-14T14:51:54.933Z"
   },
   {
    "duration": 11,
    "start_time": "2023-10-14T14:51:54.965Z"
   },
   {
    "duration": 13,
    "start_time": "2023-10-14T14:51:54.978Z"
   },
   {
    "duration": 34,
    "start_time": "2023-10-14T14:51:54.993Z"
   },
   {
    "duration": 10,
    "start_time": "2023-10-14T14:51:55.028Z"
   },
   {
    "duration": 27,
    "start_time": "2023-10-14T14:51:55.040Z"
   },
   {
    "duration": 30,
    "start_time": "2023-10-14T14:51:55.069Z"
   },
   {
    "duration": 23,
    "start_time": "2023-10-14T14:51:55.100Z"
   },
   {
    "duration": 29,
    "start_time": "2023-10-14T14:51:55.126Z"
   },
   {
    "duration": 12,
    "start_time": "2023-10-14T14:51:55.156Z"
   },
   {
    "duration": 11,
    "start_time": "2023-10-14T14:51:55.170Z"
   },
   {
    "duration": 4,
    "start_time": "2023-10-14T14:51:55.183Z"
   },
   {
    "duration": 18,
    "start_time": "2023-10-14T14:51:55.189Z"
   },
   {
    "duration": 17,
    "start_time": "2023-10-14T14:51:55.208Z"
   },
   {
    "duration": 17,
    "start_time": "2023-10-14T14:51:55.226Z"
   },
   {
    "duration": 21,
    "start_time": "2023-10-14T14:51:55.245Z"
   },
   {
    "duration": 15,
    "start_time": "2023-10-14T14:51:55.268Z"
   },
   {
    "duration": 10,
    "start_time": "2023-10-14T14:51:55.284Z"
   },
   {
    "duration": 6,
    "start_time": "2023-10-14T14:51:55.296Z"
   },
   {
    "duration": 7,
    "start_time": "2023-10-14T14:51:55.303Z"
   },
   {
    "duration": 7,
    "start_time": "2023-10-14T14:51:55.311Z"
   },
   {
    "duration": 216,
    "start_time": "2023-10-14T14:51:55.320Z"
   },
   {
    "duration": 10,
    "start_time": "2023-10-14T14:51:55.538Z"
   },
   {
    "duration": 143,
    "start_time": "2023-10-14T14:51:55.549Z"
   },
   {
    "duration": 116,
    "start_time": "2023-10-14T14:51:55.693Z"
   },
   {
    "duration": 11,
    "start_time": "2023-10-14T14:51:55.811Z"
   },
   {
    "duration": 323,
    "start_time": "2023-10-14T14:51:55.826Z"
   },
   {
    "duration": 6,
    "start_time": "2023-10-14T14:51:56.150Z"
   },
   {
    "duration": 21,
    "start_time": "2023-10-14T14:51:56.158Z"
   },
   {
    "duration": 326,
    "start_time": "2023-10-14T14:51:56.180Z"
   },
   {
    "duration": 228,
    "start_time": "2023-10-14T14:51:56.507Z"
   },
   {
    "duration": 4,
    "start_time": "2023-10-14T14:51:56.737Z"
   },
   {
    "duration": 12,
    "start_time": "2023-10-14T14:51:56.742Z"
   },
   {
    "duration": 353,
    "start_time": "2023-10-14T14:51:56.756Z"
   },
   {
    "duration": 15,
    "start_time": "2023-10-14T14:51:57.110Z"
   },
   {
    "duration": 6,
    "start_time": "2023-10-14T14:51:57.126Z"
   },
   {
    "duration": 348,
    "start_time": "2023-10-14T14:51:57.134Z"
   },
   {
    "duration": 334,
    "start_time": "2023-10-14T14:51:57.483Z"
   },
   {
    "duration": 127,
    "start_time": "2023-10-14T14:51:57.818Z"
   },
   {
    "duration": 144,
    "start_time": "2023-10-14T14:51:57.947Z"
   },
   {
    "duration": 16,
    "start_time": "2023-10-14T14:51:58.092Z"
   },
   {
    "duration": 8,
    "start_time": "2023-10-14T14:51:58.109Z"
   },
   {
    "duration": 24,
    "start_time": "2023-10-14T14:51:58.118Z"
   },
   {
    "duration": 15,
    "start_time": "2023-10-14T14:51:58.143Z"
   },
   {
    "duration": 12,
    "start_time": "2023-10-14T14:51:58.160Z"
   },
   {
    "duration": 10,
    "start_time": "2023-10-14T14:51:58.173Z"
   },
   {
    "duration": 15,
    "start_time": "2023-10-14T14:51:58.184Z"
   },
   {
    "duration": 407,
    "start_time": "2023-10-14T14:51:58.200Z"
   },
   {
    "duration": 8,
    "start_time": "2023-10-14T14:51:58.609Z"
   },
   {
    "duration": 689,
    "start_time": "2023-10-14T14:51:58.618Z"
   },
   {
    "duration": 444,
    "start_time": "2023-10-14T14:51:59.309Z"
   },
   {
    "duration": 9,
    "start_time": "2023-10-14T14:51:59.806Z"
   },
   {
    "duration": 546,
    "start_time": "2023-10-14T14:51:59.816Z"
   },
   {
    "duration": 9,
    "start_time": "2023-10-14T14:52:00.364Z"
   },
   {
    "duration": 492,
    "start_time": "2023-10-14T14:52:00.374Z"
   },
   {
    "duration": 268,
    "start_time": "2023-10-14T14:52:00.868Z"
   },
   {
    "duration": 4,
    "start_time": "2023-10-14T14:52:01.138Z"
   },
   {
    "duration": 80,
    "start_time": "2023-10-14T14:52:01.143Z"
   },
   {
    "duration": 58,
    "start_time": "2023-10-14T14:52:01.225Z"
   },
   {
    "duration": 40,
    "start_time": "2023-10-14T14:52:01.284Z"
   },
   {
    "duration": 1232,
    "start_time": "2023-10-14T14:52:54.801Z"
   },
   {
    "duration": 78,
    "start_time": "2023-10-14T14:52:56.036Z"
   },
   {
    "duration": 15,
    "start_time": "2023-10-14T14:52:56.116Z"
   },
   {
    "duration": 18,
    "start_time": "2023-10-14T14:52:56.133Z"
   },
   {
    "duration": 88,
    "start_time": "2023-10-14T14:52:56.153Z"
   },
   {
    "duration": 9,
    "start_time": "2023-10-14T14:52:56.243Z"
   },
   {
    "duration": 36,
    "start_time": "2023-10-14T14:52:56.254Z"
   },
   {
    "duration": 64,
    "start_time": "2023-10-14T14:52:56.292Z"
   },
   {
    "duration": 8,
    "start_time": "2023-10-14T14:52:56.357Z"
   },
   {
    "duration": 18,
    "start_time": "2023-10-14T14:52:56.368Z"
   },
   {
    "duration": 9,
    "start_time": "2023-10-14T14:52:56.387Z"
   },
   {
    "duration": 5,
    "start_time": "2023-10-14T14:52:56.397Z"
   },
   {
    "duration": 4,
    "start_time": "2023-10-14T14:52:56.404Z"
   },
   {
    "duration": 8,
    "start_time": "2023-10-14T14:52:56.409Z"
   },
   {
    "duration": 6,
    "start_time": "2023-10-14T14:52:56.418Z"
   },
   {
    "duration": 6,
    "start_time": "2023-10-14T14:52:56.425Z"
   },
   {
    "duration": 18,
    "start_time": "2023-10-14T14:52:56.432Z"
   },
   {
    "duration": 32,
    "start_time": "2023-10-14T14:52:56.451Z"
   },
   {
    "duration": 18,
    "start_time": "2023-10-14T14:52:56.485Z"
   },
   {
    "duration": 7,
    "start_time": "2023-10-14T14:52:56.504Z"
   },
   {
    "duration": 8,
    "start_time": "2023-10-14T14:52:56.513Z"
   },
   {
    "duration": 12,
    "start_time": "2023-10-14T14:52:56.522Z"
   },
   {
    "duration": 202,
    "start_time": "2023-10-14T14:52:56.536Z"
   },
   {
    "duration": 11,
    "start_time": "2023-10-14T14:52:56.740Z"
   },
   {
    "duration": 146,
    "start_time": "2023-10-14T14:52:56.752Z"
   },
   {
    "duration": 109,
    "start_time": "2023-10-14T14:52:56.900Z"
   },
   {
    "duration": 12,
    "start_time": "2023-10-14T14:52:57.011Z"
   },
   {
    "duration": 288,
    "start_time": "2023-10-14T14:52:57.026Z"
   },
   {
    "duration": 4,
    "start_time": "2023-10-14T14:52:57.316Z"
   },
   {
    "duration": 24,
    "start_time": "2023-10-14T14:52:57.322Z"
   },
   {
    "duration": 319,
    "start_time": "2023-10-14T14:52:57.348Z"
   },
   {
    "duration": 217,
    "start_time": "2023-10-14T14:52:57.669Z"
   },
   {
    "duration": 4,
    "start_time": "2023-10-14T14:52:57.888Z"
   },
   {
    "duration": 20,
    "start_time": "2023-10-14T14:52:57.893Z"
   },
   {
    "duration": 301,
    "start_time": "2023-10-14T14:52:57.914Z"
   },
   {
    "duration": 20,
    "start_time": "2023-10-14T14:52:58.217Z"
   },
   {
    "duration": 6,
    "start_time": "2023-10-14T14:52:58.239Z"
   },
   {
    "duration": 349,
    "start_time": "2023-10-14T14:52:58.246Z"
   },
   {
    "duration": 413,
    "start_time": "2023-10-14T14:52:58.597Z"
   },
   {
    "duration": 221,
    "start_time": "2023-10-14T14:52:59.011Z"
   },
   {
    "duration": 283,
    "start_time": "2023-10-14T14:52:59.234Z"
   },
   {
    "duration": 8,
    "start_time": "2023-10-14T14:52:59.519Z"
   },
   {
    "duration": 7,
    "start_time": "2023-10-14T14:52:59.529Z"
   },
   {
    "duration": 70,
    "start_time": "2023-10-14T14:52:59.537Z"
   },
   {
    "duration": 4,
    "start_time": "2023-10-14T14:52:59.608Z"
   },
   {
    "duration": 10,
    "start_time": "2023-10-14T14:52:59.613Z"
   },
   {
    "duration": 4,
    "start_time": "2023-10-14T14:52:59.625Z"
   },
   {
    "duration": 8,
    "start_time": "2023-10-14T14:52:59.630Z"
   },
   {
    "duration": 612,
    "start_time": "2023-10-14T14:52:59.640Z"
   },
   {
    "duration": 8,
    "start_time": "2023-10-14T14:53:00.307Z"
   },
   {
    "duration": 491,
    "start_time": "2023-10-14T14:53:00.316Z"
   },
   {
    "duration": 253,
    "start_time": "2023-10-14T14:53:00.809Z"
   },
   {
    "duration": 10,
    "start_time": "2023-10-14T14:53:01.064Z"
   },
   {
    "duration": 453,
    "start_time": "2023-10-14T14:53:01.076Z"
   },
   {
    "duration": 8,
    "start_time": "2023-10-14T14:53:01.531Z"
   },
   {
    "duration": 571,
    "start_time": "2023-10-14T14:53:01.541Z"
   },
   {
    "duration": 276,
    "start_time": "2023-10-14T14:53:02.113Z"
   },
   {
    "duration": 4,
    "start_time": "2023-10-14T14:53:02.391Z"
   },
   {
    "duration": 56,
    "start_time": "2023-10-14T14:53:02.397Z"
   },
   {
    "duration": 30,
    "start_time": "2023-10-14T14:53:02.455Z"
   },
   {
    "duration": 11,
    "start_time": "2023-10-14T14:53:02.486Z"
   },
   {
    "duration": 1190,
    "start_time": "2023-10-14T14:56:35.524Z"
   },
   {
    "duration": 77,
    "start_time": "2023-10-14T14:56:36.717Z"
   },
   {
    "duration": 13,
    "start_time": "2023-10-14T14:56:36.795Z"
   },
   {
    "duration": 12,
    "start_time": "2023-10-14T14:56:36.810Z"
   },
   {
    "duration": 71,
    "start_time": "2023-10-14T14:56:36.823Z"
   },
   {
    "duration": 9,
    "start_time": "2023-10-14T14:56:36.896Z"
   },
   {
    "duration": 22,
    "start_time": "2023-10-14T14:56:36.907Z"
   },
   {
    "duration": 54,
    "start_time": "2023-10-14T14:56:36.931Z"
   },
   {
    "duration": 7,
    "start_time": "2023-10-14T14:56:36.987Z"
   },
   {
    "duration": 21,
    "start_time": "2023-10-14T14:56:36.997Z"
   },
   {
    "duration": 17,
    "start_time": "2023-10-14T14:56:37.020Z"
   },
   {
    "duration": 21,
    "start_time": "2023-10-14T14:56:37.039Z"
   },
   {
    "duration": 17,
    "start_time": "2023-10-14T14:56:37.062Z"
   },
   {
    "duration": 18,
    "start_time": "2023-10-14T14:56:37.081Z"
   },
   {
    "duration": 17,
    "start_time": "2023-10-14T14:56:37.101Z"
   },
   {
    "duration": 16,
    "start_time": "2023-10-14T14:56:37.119Z"
   },
   {
    "duration": 24,
    "start_time": "2023-10-14T14:56:37.137Z"
   },
   {
    "duration": 17,
    "start_time": "2023-10-14T14:56:37.162Z"
   },
   {
    "duration": 8,
    "start_time": "2023-10-14T14:56:37.181Z"
   },
   {
    "duration": 10,
    "start_time": "2023-10-14T14:56:37.190Z"
   },
   {
    "duration": 27,
    "start_time": "2023-10-14T14:56:37.201Z"
   },
   {
    "duration": 18,
    "start_time": "2023-10-14T14:56:37.231Z"
   },
   {
    "duration": 230,
    "start_time": "2023-10-14T14:56:37.251Z"
   },
   {
    "duration": 11,
    "start_time": "2023-10-14T14:56:37.483Z"
   },
   {
    "duration": 161,
    "start_time": "2023-10-14T14:56:37.496Z"
   },
   {
    "duration": 122,
    "start_time": "2023-10-14T14:56:37.659Z"
   },
   {
    "duration": 11,
    "start_time": "2023-10-14T14:56:37.783Z"
   },
   {
    "duration": 277,
    "start_time": "2023-10-14T14:56:37.808Z"
   },
   {
    "duration": 4,
    "start_time": "2023-10-14T14:56:38.086Z"
   },
   {
    "duration": 115,
    "start_time": "2023-10-14T14:56:38.092Z"
   },
   {
    "duration": 407,
    "start_time": "2023-10-14T14:56:38.209Z"
   },
   {
    "duration": 215,
    "start_time": "2023-10-14T14:56:38.618Z"
   },
   {
    "duration": 4,
    "start_time": "2023-10-14T14:56:38.835Z"
   },
   {
    "duration": 27,
    "start_time": "2023-10-14T14:56:38.840Z"
   },
   {
    "duration": 317,
    "start_time": "2023-10-14T14:56:38.869Z"
   },
   {
    "duration": 20,
    "start_time": "2023-10-14T14:56:39.188Z"
   },
   {
    "duration": 6,
    "start_time": "2023-10-14T14:56:39.209Z"
   },
   {
    "duration": 327,
    "start_time": "2023-10-14T14:56:39.216Z"
   },
   {
    "duration": 311,
    "start_time": "2023-10-14T14:56:39.545Z"
   },
   {
    "duration": 120,
    "start_time": "2023-10-14T14:56:39.858Z"
   },
   {
    "duration": 141,
    "start_time": "2023-10-14T14:56:39.980Z"
   },
   {
    "duration": 9,
    "start_time": "2023-10-14T14:56:40.124Z"
   },
   {
    "duration": 19,
    "start_time": "2023-10-14T14:56:40.135Z"
   },
   {
    "duration": 29,
    "start_time": "2023-10-14T14:56:40.155Z"
   },
   {
    "duration": 15,
    "start_time": "2023-10-14T14:56:40.186Z"
   },
   {
    "duration": 38,
    "start_time": "2023-10-14T14:56:40.203Z"
   },
   {
    "duration": 24,
    "start_time": "2023-10-14T14:56:40.243Z"
   },
   {
    "duration": 28,
    "start_time": "2023-10-14T14:56:40.269Z"
   },
   {
    "duration": 336,
    "start_time": "2023-10-14T14:56:40.299Z"
   },
   {
    "duration": 8,
    "start_time": "2023-10-14T14:56:40.637Z"
   },
   {
    "duration": 317,
    "start_time": "2023-10-14T14:56:40.646Z"
   },
   {
    "duration": 232,
    "start_time": "2023-10-14T14:56:40.964Z"
   },
   {
    "duration": 15,
    "start_time": "2023-10-14T14:56:41.198Z"
   },
   {
    "duration": 389,
    "start_time": "2023-10-14T14:56:41.215Z"
   },
   {
    "duration": 8,
    "start_time": "2023-10-14T14:56:41.606Z"
   },
   {
    "duration": 474,
    "start_time": "2023-10-14T14:56:41.616Z"
   },
   {
    "duration": 246,
    "start_time": "2023-10-14T14:56:42.091Z"
   },
   {
    "duration": 3,
    "start_time": "2023-10-14T14:56:42.339Z"
   },
   {
    "duration": 27,
    "start_time": "2023-10-14T14:56:42.344Z"
   },
   {
    "duration": 15,
    "start_time": "2023-10-14T14:56:42.373Z"
   },
   {
    "duration": 18,
    "start_time": "2023-10-14T14:56:42.389Z"
   },
   {
    "duration": 9,
    "start_time": "2023-10-14T15:00:42.164Z"
   },
   {
    "duration": 47,
    "start_time": "2023-10-14T15:00:44.993Z"
   },
   {
    "duration": 1193,
    "start_time": "2023-10-14T15:00:53.334Z"
   },
   {
    "duration": 77,
    "start_time": "2023-10-14T15:00:54.529Z"
   },
   {
    "duration": 13,
    "start_time": "2023-10-14T15:00:54.613Z"
   },
   {
    "duration": 16,
    "start_time": "2023-10-14T15:00:54.628Z"
   },
   {
    "duration": 73,
    "start_time": "2023-10-14T15:00:54.646Z"
   },
   {
    "duration": 9,
    "start_time": "2023-10-14T15:00:54.721Z"
   },
   {
    "duration": 17,
    "start_time": "2023-10-14T15:00:54.732Z"
   },
   {
    "duration": 57,
    "start_time": "2023-10-14T15:00:54.750Z"
   },
   {
    "duration": 13,
    "start_time": "2023-10-14T15:00:54.808Z"
   },
   {
    "duration": 9,
    "start_time": "2023-10-14T15:00:54.825Z"
   },
   {
    "duration": 11,
    "start_time": "2023-10-14T15:00:54.835Z"
   },
   {
    "duration": 5,
    "start_time": "2023-10-14T15:00:54.848Z"
   },
   {
    "duration": 5,
    "start_time": "2023-10-14T15:00:54.854Z"
   },
   {
    "duration": 7,
    "start_time": "2023-10-14T15:00:54.860Z"
   },
   {
    "duration": 6,
    "start_time": "2023-10-14T15:00:54.873Z"
   },
   {
    "duration": 33,
    "start_time": "2023-10-14T15:00:54.881Z"
   },
   {
    "duration": 23,
    "start_time": "2023-10-14T15:00:54.915Z"
   },
   {
    "duration": 16,
    "start_time": "2023-10-14T15:00:54.939Z"
   },
   {
    "duration": 8,
    "start_time": "2023-10-14T15:00:54.957Z"
   },
   {
    "duration": 21,
    "start_time": "2023-10-14T15:00:54.967Z"
   },
   {
    "duration": 18,
    "start_time": "2023-10-14T15:00:54.990Z"
   },
   {
    "duration": 12,
    "start_time": "2023-10-14T15:00:55.013Z"
   },
   {
    "duration": 209,
    "start_time": "2023-10-14T15:00:55.027Z"
   },
   {
    "duration": 11,
    "start_time": "2023-10-14T15:00:55.237Z"
   },
   {
    "duration": 141,
    "start_time": "2023-10-14T15:00:55.250Z"
   },
   {
    "duration": 131,
    "start_time": "2023-10-14T15:00:55.392Z"
   },
   {
    "duration": 12,
    "start_time": "2023-10-14T15:00:55.525Z"
   },
   {
    "duration": 307,
    "start_time": "2023-10-14T15:00:55.541Z"
   },
   {
    "duration": 3,
    "start_time": "2023-10-14T15:00:55.850Z"
   },
   {
    "duration": 15,
    "start_time": "2023-10-14T15:00:55.855Z"
   },
   {
    "duration": 437,
    "start_time": "2023-10-14T15:00:55.872Z"
   },
   {
    "duration": 224,
    "start_time": "2023-10-14T15:00:56.311Z"
   },
   {
    "duration": 4,
    "start_time": "2023-10-14T15:00:56.537Z"
   },
   {
    "duration": 14,
    "start_time": "2023-10-14T15:00:56.543Z"
   },
   {
    "duration": 331,
    "start_time": "2023-10-14T15:00:56.559Z"
   },
   {
    "duration": 29,
    "start_time": "2023-10-14T15:00:56.893Z"
   },
   {
    "duration": 8,
    "start_time": "2023-10-14T15:00:56.924Z"
   },
   {
    "duration": 343,
    "start_time": "2023-10-14T15:00:56.933Z"
   },
   {
    "duration": 343,
    "start_time": "2023-10-14T15:00:57.277Z"
   },
   {
    "duration": 124,
    "start_time": "2023-10-14T15:00:57.621Z"
   },
   {
    "duration": 135,
    "start_time": "2023-10-14T15:00:57.746Z"
   },
   {
    "duration": 8,
    "start_time": "2023-10-14T15:00:57.883Z"
   },
   {
    "duration": 35,
    "start_time": "2023-10-14T15:00:57.893Z"
   },
   {
    "duration": 30,
    "start_time": "2023-10-14T15:00:57.930Z"
   },
   {
    "duration": 23,
    "start_time": "2023-10-14T15:00:57.962Z"
   },
   {
    "duration": 22,
    "start_time": "2023-10-14T15:00:57.986Z"
   },
   {
    "duration": 12,
    "start_time": "2023-10-14T15:00:58.013Z"
   },
   {
    "duration": 19,
    "start_time": "2023-10-14T15:00:58.027Z"
   },
   {
    "duration": 314,
    "start_time": "2023-10-14T15:00:58.048Z"
   },
   {
    "duration": 8,
    "start_time": "2023-10-14T15:00:58.364Z"
   },
   {
    "duration": 356,
    "start_time": "2023-10-14T15:00:58.373Z"
   },
   {
    "duration": 252,
    "start_time": "2023-10-14T15:00:58.731Z"
   },
   {
    "duration": 8,
    "start_time": "2023-10-14T15:00:58.985Z"
   },
   {
    "duration": 406,
    "start_time": "2023-10-14T15:00:59.008Z"
   },
   {
    "duration": 10,
    "start_time": "2023-10-14T15:00:59.420Z"
   },
   {
    "duration": 473,
    "start_time": "2023-10-14T15:00:59.431Z"
   },
   {
    "duration": 281,
    "start_time": "2023-10-14T15:00:59.908Z"
   },
   {
    "duration": 3,
    "start_time": "2023-10-14T15:01:00.191Z"
   },
   {
    "duration": 56,
    "start_time": "2023-10-14T15:01:00.196Z"
   },
   {
    "duration": 29,
    "start_time": "2023-10-14T15:01:00.254Z"
   },
   {
    "duration": 14,
    "start_time": "2023-10-14T15:01:00.285Z"
   },
   {
    "duration": 132,
    "start_time": "2023-10-14T15:01:00.301Z"
   },
   {
    "duration": 0,
    "start_time": "2023-10-14T15:01:00.435Z"
   },
   {
    "duration": 0,
    "start_time": "2023-10-14T15:01:00.436Z"
   },
   {
    "duration": 0,
    "start_time": "2023-10-14T15:01:00.438Z"
   },
   {
    "duration": 0,
    "start_time": "2023-10-14T15:01:00.438Z"
   },
   {
    "duration": 0,
    "start_time": "2023-10-14T15:01:00.439Z"
   },
   {
    "duration": 0,
    "start_time": "2023-10-14T15:01:00.440Z"
   },
   {
    "duration": 0,
    "start_time": "2023-10-14T15:01:00.441Z"
   },
   {
    "duration": 0,
    "start_time": "2023-10-14T15:01:00.442Z"
   },
   {
    "duration": 4,
    "start_time": "2023-10-14T15:01:23.599Z"
   },
   {
    "duration": 1213,
    "start_time": "2023-10-14T15:01:45.146Z"
   },
   {
    "duration": 95,
    "start_time": "2023-10-14T15:01:46.362Z"
   },
   {
    "duration": 15,
    "start_time": "2023-10-14T15:01:46.459Z"
   },
   {
    "duration": 83,
    "start_time": "2023-10-14T15:01:46.477Z"
   },
   {
    "duration": 174,
    "start_time": "2023-10-14T15:01:46.562Z"
   },
   {
    "duration": 51,
    "start_time": "2023-10-14T15:01:46.737Z"
   },
   {
    "duration": 40,
    "start_time": "2023-10-14T15:01:46.790Z"
   },
   {
    "duration": 63,
    "start_time": "2023-10-14T15:01:46.832Z"
   },
   {
    "duration": 7,
    "start_time": "2023-10-14T15:01:46.896Z"
   },
   {
    "duration": 23,
    "start_time": "2023-10-14T15:01:46.906Z"
   },
   {
    "duration": 41,
    "start_time": "2023-10-14T15:01:46.931Z"
   },
   {
    "duration": 49,
    "start_time": "2023-10-14T15:01:46.974Z"
   },
   {
    "duration": 48,
    "start_time": "2023-10-14T15:01:47.025Z"
   },
   {
    "duration": 39,
    "start_time": "2023-10-14T15:01:47.075Z"
   },
   {
    "duration": 58,
    "start_time": "2023-10-14T15:01:47.118Z"
   },
   {
    "duration": 81,
    "start_time": "2023-10-14T15:01:47.177Z"
   },
   {
    "duration": 34,
    "start_time": "2023-10-14T15:01:47.260Z"
   },
   {
    "duration": 32,
    "start_time": "2023-10-14T15:01:47.296Z"
   },
   {
    "duration": 70,
    "start_time": "2023-10-14T15:01:47.330Z"
   },
   {
    "duration": 43,
    "start_time": "2023-10-14T15:01:47.402Z"
   },
   {
    "duration": 74,
    "start_time": "2023-10-14T15:01:47.447Z"
   },
   {
    "duration": 21,
    "start_time": "2023-10-14T15:01:47.524Z"
   },
   {
    "duration": 219,
    "start_time": "2023-10-14T15:01:47.546Z"
   },
   {
    "duration": 10,
    "start_time": "2023-10-14T15:01:47.767Z"
   },
   {
    "duration": 155,
    "start_time": "2023-10-14T15:01:47.778Z"
   },
   {
    "duration": 125,
    "start_time": "2023-10-14T15:01:47.935Z"
   },
   {
    "duration": 11,
    "start_time": "2023-10-14T15:01:48.062Z"
   },
   {
    "duration": 361,
    "start_time": "2023-10-14T15:01:48.077Z"
   },
   {
    "duration": 4,
    "start_time": "2023-10-14T15:01:48.440Z"
   },
   {
    "duration": 57,
    "start_time": "2023-10-14T15:01:48.446Z"
   },
   {
    "duration": 341,
    "start_time": "2023-10-14T15:01:48.505Z"
   },
   {
    "duration": 231,
    "start_time": "2023-10-14T15:01:48.848Z"
   },
   {
    "duration": 4,
    "start_time": "2023-10-14T15:01:49.081Z"
   },
   {
    "duration": 26,
    "start_time": "2023-10-14T15:01:49.086Z"
   },
   {
    "duration": 332,
    "start_time": "2023-10-14T15:01:49.115Z"
   },
   {
    "duration": 16,
    "start_time": "2023-10-14T15:01:49.449Z"
   },
   {
    "duration": 6,
    "start_time": "2023-10-14T15:01:49.467Z"
   },
   {
    "duration": 331,
    "start_time": "2023-10-14T15:01:49.475Z"
   },
   {
    "duration": 332,
    "start_time": "2023-10-14T15:01:49.814Z"
   },
   {
    "duration": 130,
    "start_time": "2023-10-14T15:01:50.147Z"
   },
   {
    "duration": 132,
    "start_time": "2023-10-14T15:01:50.279Z"
   },
   {
    "duration": 12,
    "start_time": "2023-10-14T15:01:50.412Z"
   },
   {
    "duration": 8,
    "start_time": "2023-10-14T15:01:50.426Z"
   },
   {
    "duration": 31,
    "start_time": "2023-10-14T15:01:50.435Z"
   },
   {
    "duration": 16,
    "start_time": "2023-10-14T15:01:50.467Z"
   },
   {
    "duration": 17,
    "start_time": "2023-10-14T15:01:50.484Z"
   },
   {
    "duration": 23,
    "start_time": "2023-10-14T15:01:50.503Z"
   },
   {
    "duration": 16,
    "start_time": "2023-10-14T15:01:50.528Z"
   },
   {
    "duration": 333,
    "start_time": "2023-10-14T15:01:50.546Z"
   },
   {
    "duration": 9,
    "start_time": "2023-10-14T15:01:50.881Z"
   },
   {
    "duration": 349,
    "start_time": "2023-10-14T15:01:50.892Z"
   },
   {
    "duration": 246,
    "start_time": "2023-10-14T15:01:51.242Z"
   },
   {
    "duration": 7,
    "start_time": "2023-10-14T15:01:51.490Z"
   },
   {
    "duration": 417,
    "start_time": "2023-10-14T15:01:51.510Z"
   },
   {
    "duration": 9,
    "start_time": "2023-10-14T15:01:51.928Z"
   },
   {
    "duration": 496,
    "start_time": "2023-10-14T15:01:51.938Z"
   },
   {
    "duration": 260,
    "start_time": "2023-10-14T15:01:52.436Z"
   },
   {
    "duration": 17,
    "start_time": "2023-10-14T15:01:52.697Z"
   },
   {
    "duration": 57,
    "start_time": "2023-10-14T15:01:52.721Z"
   },
   {
    "duration": 16,
    "start_time": "2023-10-14T15:01:52.779Z"
   },
   {
    "duration": 27,
    "start_time": "2023-10-14T15:01:52.796Z"
   },
   {
    "duration": 9,
    "start_time": "2023-10-14T15:02:18.395Z"
   },
   {
    "duration": 1212,
    "start_time": "2023-10-14T15:02:29.522Z"
   },
   {
    "duration": 81,
    "start_time": "2023-10-14T15:02:30.736Z"
   },
   {
    "duration": 36,
    "start_time": "2023-10-14T15:02:30.819Z"
   },
   {
    "duration": 81,
    "start_time": "2023-10-14T15:02:30.858Z"
   },
   {
    "duration": 111,
    "start_time": "2023-10-14T15:02:30.941Z"
   },
   {
    "duration": 10,
    "start_time": "2023-10-14T15:02:31.054Z"
   },
   {
    "duration": 54,
    "start_time": "2023-10-14T15:02:31.066Z"
   },
   {
    "duration": 80,
    "start_time": "2023-10-14T15:02:31.122Z"
   },
   {
    "duration": 12,
    "start_time": "2023-10-14T15:02:31.203Z"
   },
   {
    "duration": 63,
    "start_time": "2023-10-14T15:02:31.220Z"
   },
   {
    "duration": 43,
    "start_time": "2023-10-14T15:02:31.285Z"
   },
   {
    "duration": 44,
    "start_time": "2023-10-14T15:02:31.330Z"
   },
   {
    "duration": 68,
    "start_time": "2023-10-14T15:02:31.375Z"
   },
   {
    "duration": 37,
    "start_time": "2023-10-14T15:02:31.445Z"
   },
   {
    "duration": 54,
    "start_time": "2023-10-14T15:02:31.484Z"
   },
   {
    "duration": 51,
    "start_time": "2023-10-14T15:02:31.540Z"
   },
   {
    "duration": 87,
    "start_time": "2023-10-14T15:02:31.592Z"
   },
   {
    "duration": 39,
    "start_time": "2023-10-14T15:02:31.681Z"
   },
   {
    "duration": 52,
    "start_time": "2023-10-14T15:02:31.722Z"
   },
   {
    "duration": 29,
    "start_time": "2023-10-14T15:02:31.776Z"
   },
   {
    "duration": 50,
    "start_time": "2023-10-14T15:02:31.811Z"
   },
   {
    "duration": 41,
    "start_time": "2023-10-14T15:02:31.863Z"
   },
   {
    "duration": 291,
    "start_time": "2023-10-14T15:02:31.906Z"
   },
   {
    "duration": 20,
    "start_time": "2023-10-14T15:02:32.199Z"
   },
   {
    "duration": 161,
    "start_time": "2023-10-14T15:02:32.221Z"
   },
   {
    "duration": 128,
    "start_time": "2023-10-14T15:02:32.384Z"
   },
   {
    "duration": 16,
    "start_time": "2023-10-14T15:02:32.520Z"
   },
   {
    "duration": 293,
    "start_time": "2023-10-14T15:02:32.540Z"
   },
   {
    "duration": 4,
    "start_time": "2023-10-14T15:02:32.835Z"
   },
   {
    "duration": 24,
    "start_time": "2023-10-14T15:02:32.840Z"
   },
   {
    "duration": 329,
    "start_time": "2023-10-14T15:02:32.865Z"
   },
   {
    "duration": 227,
    "start_time": "2023-10-14T15:02:33.196Z"
   },
   {
    "duration": 4,
    "start_time": "2023-10-14T15:02:33.425Z"
   },
   {
    "duration": 36,
    "start_time": "2023-10-14T15:02:33.430Z"
   },
   {
    "duration": 312,
    "start_time": "2023-10-14T15:02:33.468Z"
   },
   {
    "duration": 14,
    "start_time": "2023-10-14T15:02:33.782Z"
   },
   {
    "duration": 21,
    "start_time": "2023-10-14T15:02:33.798Z"
   },
   {
    "duration": 321,
    "start_time": "2023-10-14T15:02:33.821Z"
   },
   {
    "duration": 351,
    "start_time": "2023-10-14T15:02:34.144Z"
   },
   {
    "duration": 145,
    "start_time": "2023-10-14T15:02:34.497Z"
   },
   {
    "duration": 142,
    "start_time": "2023-10-14T15:02:34.643Z"
   },
   {
    "duration": 20,
    "start_time": "2023-10-14T15:02:34.787Z"
   },
   {
    "duration": 12,
    "start_time": "2023-10-14T15:02:34.813Z"
   },
   {
    "duration": 23,
    "start_time": "2023-10-14T15:02:34.827Z"
   },
   {
    "duration": 10,
    "start_time": "2023-10-14T15:02:34.852Z"
   },
   {
    "duration": 7,
    "start_time": "2023-10-14T15:02:34.864Z"
   },
   {
    "duration": 15,
    "start_time": "2023-10-14T15:02:34.872Z"
   },
   {
    "duration": 23,
    "start_time": "2023-10-14T15:02:34.888Z"
   },
   {
    "duration": 321,
    "start_time": "2023-10-14T15:02:34.918Z"
   },
   {
    "duration": 10,
    "start_time": "2023-10-14T15:02:35.241Z"
   },
   {
    "duration": 397,
    "start_time": "2023-10-14T15:02:35.254Z"
   },
   {
    "duration": 340,
    "start_time": "2023-10-14T15:02:35.653Z"
   },
   {
    "duration": 23,
    "start_time": "2023-10-14T15:02:35.996Z"
   },
   {
    "duration": 469,
    "start_time": "2023-10-14T15:02:36.023Z"
   },
   {
    "duration": 15,
    "start_time": "2023-10-14T15:02:36.493Z"
   },
   {
    "duration": 483,
    "start_time": "2023-10-14T15:02:36.509Z"
   },
   {
    "duration": 264,
    "start_time": "2023-10-14T15:02:36.994Z"
   },
   {
    "duration": 4,
    "start_time": "2023-10-14T15:02:37.260Z"
   },
   {
    "duration": 33,
    "start_time": "2023-10-14T15:02:37.265Z"
   },
   {
    "duration": 33,
    "start_time": "2023-10-14T15:02:37.300Z"
   },
   {
    "duration": 6,
    "start_time": "2023-10-14T15:02:37.335Z"
   },
   {
    "duration": 1182,
    "start_time": "2023-10-14T15:03:06.637Z"
   },
   {
    "duration": 78,
    "start_time": "2023-10-14T15:03:09.724Z"
   },
   {
    "duration": 12,
    "start_time": "2023-10-14T15:03:10.060Z"
   },
   {
    "duration": 11,
    "start_time": "2023-10-14T15:03:10.320Z"
   },
   {
    "duration": 74,
    "start_time": "2023-10-14T15:03:10.543Z"
   },
   {
    "duration": 10,
    "start_time": "2023-10-14T15:03:10.726Z"
   },
   {
    "duration": 13,
    "start_time": "2023-10-14T15:03:10.918Z"
   },
   {
    "duration": 65,
    "start_time": "2023-10-14T15:03:11.091Z"
   },
   {
    "duration": 6,
    "start_time": "2023-10-14T15:03:11.269Z"
   },
   {
    "duration": 12,
    "start_time": "2023-10-14T15:03:11.425Z"
   },
   {
    "duration": 6,
    "start_time": "2023-10-14T15:03:12.246Z"
   },
   {
    "duration": 6,
    "start_time": "2023-10-14T15:03:12.403Z"
   },
   {
    "duration": 4,
    "start_time": "2023-10-14T15:03:12.556Z"
   },
   {
    "duration": 6,
    "start_time": "2023-10-14T15:03:13.142Z"
   },
   {
    "duration": 7,
    "start_time": "2023-10-14T15:03:13.296Z"
   },
   {
    "duration": 6,
    "start_time": "2023-10-14T15:03:13.452Z"
   },
   {
    "duration": 7,
    "start_time": "2023-10-14T15:03:13.747Z"
   },
   {
    "duration": 5,
    "start_time": "2023-10-14T15:03:13.899Z"
   },
   {
    "duration": 8,
    "start_time": "2023-10-14T15:03:14.056Z"
   },
   {
    "duration": 6,
    "start_time": "2023-10-14T15:03:14.797Z"
   },
   {
    "duration": 6,
    "start_time": "2023-10-14T15:03:14.942Z"
   },
   {
    "duration": 7,
    "start_time": "2023-10-14T15:03:15.408Z"
   },
   {
    "duration": 188,
    "start_time": "2023-10-14T15:03:15.564Z"
   },
   {
    "duration": 14,
    "start_time": "2023-10-14T15:03:16.167Z"
   },
   {
    "duration": 123,
    "start_time": "2023-10-14T15:03:16.324Z"
   },
   {
    "duration": 109,
    "start_time": "2023-10-14T15:03:16.473Z"
   },
   {
    "duration": 12,
    "start_time": "2023-10-14T15:03:16.937Z"
   },
   {
    "duration": 294,
    "start_time": "2023-10-14T15:03:17.097Z"
   },
   {
    "duration": 4,
    "start_time": "2023-10-14T15:03:17.412Z"
   },
   {
    "duration": 8,
    "start_time": "2023-10-14T15:03:17.561Z"
   },
   {
    "duration": 316,
    "start_time": "2023-10-14T15:03:17.860Z"
   },
   {
    "duration": 216,
    "start_time": "2023-10-14T15:03:18.340Z"
   },
   {
    "duration": 3,
    "start_time": "2023-10-14T15:03:18.646Z"
   },
   {
    "duration": 8,
    "start_time": "2023-10-14T15:03:18.790Z"
   },
   {
    "duration": 296,
    "start_time": "2023-10-14T15:03:18.945Z"
   },
   {
    "duration": 12,
    "start_time": "2023-10-14T15:03:19.244Z"
   },
   {
    "duration": 21,
    "start_time": "2023-10-14T15:03:19.258Z"
   },
   {
    "duration": 305,
    "start_time": "2023-10-14T15:03:19.404Z"
   },
   {
    "duration": 314,
    "start_time": "2023-10-14T15:03:19.711Z"
   },
   {
    "duration": 127,
    "start_time": "2023-10-14T15:03:20.038Z"
   },
   {
    "duration": 133,
    "start_time": "2023-10-14T15:03:20.201Z"
   },
   {
    "duration": 9,
    "start_time": "2023-10-14T15:03:20.657Z"
   },
   {
    "duration": 9,
    "start_time": "2023-10-14T15:03:20.806Z"
   },
   {
    "duration": 15,
    "start_time": "2023-10-14T15:03:20.950Z"
   },
   {
    "duration": 4,
    "start_time": "2023-10-14T15:03:21.107Z"
   },
   {
    "duration": 6,
    "start_time": "2023-10-14T15:03:21.569Z"
   },
   {
    "duration": 5,
    "start_time": "2023-10-14T15:03:22.030Z"
   },
   {
    "duration": 8,
    "start_time": "2023-10-14T15:03:23.196Z"
   },
   {
    "duration": 311,
    "start_time": "2023-10-14T15:03:23.836Z"
   },
   {
    "duration": 9,
    "start_time": "2023-10-14T15:03:24.149Z"
   },
   {
    "duration": 316,
    "start_time": "2023-10-14T15:03:25.002Z"
   },
   {
    "duration": 233,
    "start_time": "2023-10-14T15:03:26.360Z"
   },
   {
    "duration": 9,
    "start_time": "2023-10-14T15:03:28.848Z"
   },
   {
    "duration": 355,
    "start_time": "2023-10-14T15:03:29.570Z"
   },
   {
    "duration": 8,
    "start_time": "2023-10-14T15:03:30.097Z"
   },
   {
    "duration": 485,
    "start_time": "2023-10-14T15:03:30.788Z"
   },
   {
    "duration": 276,
    "start_time": "2023-10-14T15:03:31.364Z"
   },
   {
    "duration": 5,
    "start_time": "2023-10-14T15:03:36.120Z"
   },
   {
    "duration": 29,
    "start_time": "2023-10-14T15:03:37.427Z"
   },
   {
    "duration": 17,
    "start_time": "2023-10-14T15:03:38.616Z"
   },
   {
    "duration": 4,
    "start_time": "2023-10-14T15:03:46.301Z"
   },
   {
    "duration": 1166,
    "start_time": "2023-10-14T15:04:40.747Z"
   },
   {
    "duration": 77,
    "start_time": "2023-10-14T15:04:41.915Z"
   },
   {
    "duration": 12,
    "start_time": "2023-10-14T15:04:41.993Z"
   },
   {
    "duration": 25,
    "start_time": "2023-10-14T15:04:42.006Z"
   },
   {
    "duration": 98,
    "start_time": "2023-10-14T15:04:42.033Z"
   },
   {
    "duration": 9,
    "start_time": "2023-10-14T15:04:42.133Z"
   },
   {
    "duration": 56,
    "start_time": "2023-10-14T15:04:42.144Z"
   },
   {
    "duration": 60,
    "start_time": "2023-10-14T15:04:42.202Z"
   },
   {
    "duration": 7,
    "start_time": "2023-10-14T15:04:42.263Z"
   },
   {
    "duration": 27,
    "start_time": "2023-10-14T15:04:42.272Z"
   },
   {
    "duration": 29,
    "start_time": "2023-10-14T15:04:42.301Z"
   },
   {
    "duration": 18,
    "start_time": "2023-10-14T15:04:42.332Z"
   },
   {
    "duration": 29,
    "start_time": "2023-10-14T15:04:42.352Z"
   },
   {
    "duration": 18,
    "start_time": "2023-10-14T15:04:42.383Z"
   },
   {
    "duration": 33,
    "start_time": "2023-10-14T15:04:42.402Z"
   },
   {
    "duration": 38,
    "start_time": "2023-10-14T15:04:42.436Z"
   },
   {
    "duration": 37,
    "start_time": "2023-10-14T15:04:42.475Z"
   },
   {
    "duration": 20,
    "start_time": "2023-10-14T15:04:42.514Z"
   },
   {
    "duration": 31,
    "start_time": "2023-10-14T15:04:42.536Z"
   },
   {
    "duration": 35,
    "start_time": "2023-10-14T15:04:42.569Z"
   },
   {
    "duration": 33,
    "start_time": "2023-10-14T15:04:42.605Z"
   },
   {
    "duration": 26,
    "start_time": "2023-10-14T15:04:42.639Z"
   },
   {
    "duration": 198,
    "start_time": "2023-10-14T15:04:42.667Z"
   },
   {
    "duration": 11,
    "start_time": "2023-10-14T15:04:42.867Z"
   },
   {
    "duration": 155,
    "start_time": "2023-10-14T15:04:42.880Z"
   },
   {
    "duration": 111,
    "start_time": "2023-10-14T15:04:43.037Z"
   },
   {
    "duration": 12,
    "start_time": "2023-10-14T15:04:43.150Z"
   },
   {
    "duration": 306,
    "start_time": "2023-10-14T15:04:43.164Z"
   },
   {
    "duration": 4,
    "start_time": "2023-10-14T15:04:43.472Z"
   },
   {
    "duration": 33,
    "start_time": "2023-10-14T15:04:43.477Z"
   },
   {
    "duration": 319,
    "start_time": "2023-10-14T15:04:43.512Z"
   },
   {
    "duration": 210,
    "start_time": "2023-10-14T15:04:43.833Z"
   },
   {
    "duration": 4,
    "start_time": "2023-10-14T15:04:44.045Z"
   },
   {
    "duration": 27,
    "start_time": "2023-10-14T15:04:44.050Z"
   },
   {
    "duration": 342,
    "start_time": "2023-10-14T15:04:44.079Z"
   },
   {
    "duration": 19,
    "start_time": "2023-10-14T15:04:44.423Z"
   },
   {
    "duration": 7,
    "start_time": "2023-10-14T15:04:44.444Z"
   },
   {
    "duration": 329,
    "start_time": "2023-10-14T15:04:44.453Z"
   },
   {
    "duration": 337,
    "start_time": "2023-10-14T15:04:44.784Z"
   },
   {
    "duration": 135,
    "start_time": "2023-10-14T15:04:45.123Z"
   },
   {
    "duration": 133,
    "start_time": "2023-10-14T15:04:45.264Z"
   },
   {
    "duration": 16,
    "start_time": "2023-10-14T15:04:45.399Z"
   },
   {
    "duration": 9,
    "start_time": "2023-10-14T15:04:45.416Z"
   },
   {
    "duration": 13,
    "start_time": "2023-10-14T15:04:45.426Z"
   },
   {
    "duration": 9,
    "start_time": "2023-10-14T15:04:45.441Z"
   },
   {
    "duration": 10,
    "start_time": "2023-10-14T15:04:45.451Z"
   },
   {
    "duration": 12,
    "start_time": "2023-10-14T15:04:45.462Z"
   },
   {
    "duration": 8,
    "start_time": "2023-10-14T15:04:45.475Z"
   },
   {
    "duration": 319,
    "start_time": "2023-10-14T15:04:45.507Z"
   },
   {
    "duration": 9,
    "start_time": "2023-10-14T15:04:45.827Z"
   },
   {
    "duration": 328,
    "start_time": "2023-10-14T15:04:45.837Z"
   },
   {
    "duration": 310,
    "start_time": "2023-10-14T15:04:46.167Z"
   },
   {
    "duration": 10,
    "start_time": "2023-10-14T15:04:46.479Z"
   },
   {
    "duration": 415,
    "start_time": "2023-10-14T15:04:46.491Z"
   },
   {
    "duration": 9,
    "start_time": "2023-10-14T15:04:46.908Z"
   },
   {
    "duration": 509,
    "start_time": "2023-10-14T15:04:46.918Z"
   },
   {
    "duration": 252,
    "start_time": "2023-10-14T15:04:47.429Z"
   },
   {
    "duration": 4,
    "start_time": "2023-10-14T15:04:47.682Z"
   },
   {
    "duration": 29,
    "start_time": "2023-10-14T15:04:47.687Z"
   },
   {
    "duration": 14,
    "start_time": "2023-10-14T15:04:47.718Z"
   },
   {
    "duration": 19,
    "start_time": "2023-10-14T15:04:47.733Z"
   },
   {
    "duration": 1224,
    "start_time": "2023-10-14T15:06:52.285Z"
   },
   {
    "duration": 78,
    "start_time": "2023-10-14T15:06:53.511Z"
   },
   {
    "duration": 13,
    "start_time": "2023-10-14T15:06:53.591Z"
   },
   {
    "duration": 27,
    "start_time": "2023-10-14T15:06:53.606Z"
   },
   {
    "duration": 99,
    "start_time": "2023-10-14T15:06:53.636Z"
   },
   {
    "duration": 8,
    "start_time": "2023-10-14T15:06:53.737Z"
   },
   {
    "duration": 52,
    "start_time": "2023-10-14T15:06:53.746Z"
   },
   {
    "duration": 71,
    "start_time": "2023-10-14T15:06:53.800Z"
   },
   {
    "duration": 7,
    "start_time": "2023-10-14T15:06:53.872Z"
   },
   {
    "duration": 29,
    "start_time": "2023-10-14T15:06:53.881Z"
   },
   {
    "duration": 7,
    "start_time": "2023-10-14T15:06:53.911Z"
   },
   {
    "duration": 7,
    "start_time": "2023-10-14T15:06:53.919Z"
   },
   {
    "duration": 5,
    "start_time": "2023-10-14T15:06:53.927Z"
   },
   {
    "duration": 18,
    "start_time": "2023-10-14T15:06:53.934Z"
   },
   {
    "duration": 32,
    "start_time": "2023-10-14T15:06:53.954Z"
   },
   {
    "duration": 33,
    "start_time": "2023-10-14T15:06:53.988Z"
   },
   {
    "duration": 56,
    "start_time": "2023-10-14T15:06:54.022Z"
   },
   {
    "duration": 50,
    "start_time": "2023-10-14T15:06:54.079Z"
   },
   {
    "duration": 14,
    "start_time": "2023-10-14T15:06:54.130Z"
   },
   {
    "duration": 31,
    "start_time": "2023-10-14T15:06:54.146Z"
   },
   {
    "duration": 32,
    "start_time": "2023-10-14T15:06:54.179Z"
   },
   {
    "duration": 10,
    "start_time": "2023-10-14T15:06:54.213Z"
   },
   {
    "duration": 192,
    "start_time": "2023-10-14T15:06:54.225Z"
   },
   {
    "duration": 10,
    "start_time": "2023-10-14T15:06:54.419Z"
   },
   {
    "duration": 140,
    "start_time": "2023-10-14T15:06:54.430Z"
   },
   {
    "duration": 136,
    "start_time": "2023-10-14T15:06:54.571Z"
   },
   {
    "duration": 12,
    "start_time": "2023-10-14T15:06:54.709Z"
   },
   {
    "duration": 282,
    "start_time": "2023-10-14T15:06:54.723Z"
   },
   {
    "duration": 3,
    "start_time": "2023-10-14T15:06:55.007Z"
   },
   {
    "duration": 56,
    "start_time": "2023-10-14T15:06:55.011Z"
   },
   {
    "duration": 360,
    "start_time": "2023-10-14T15:06:55.069Z"
   },
   {
    "duration": 221,
    "start_time": "2023-10-14T15:06:55.430Z"
   },
   {
    "duration": 4,
    "start_time": "2023-10-14T15:06:55.652Z"
   },
   {
    "duration": 27,
    "start_time": "2023-10-14T15:06:55.657Z"
   },
   {
    "duration": 352,
    "start_time": "2023-10-14T15:06:55.685Z"
   },
   {
    "duration": 16,
    "start_time": "2023-10-14T15:06:56.039Z"
   },
   {
    "duration": 11,
    "start_time": "2023-10-14T15:06:56.058Z"
   },
   {
    "duration": 317,
    "start_time": "2023-10-14T15:06:56.071Z"
   },
   {
    "duration": 560,
    "start_time": "2023-10-14T15:06:56.389Z"
   },
   {
    "duration": 272,
    "start_time": "2023-10-14T15:06:56.950Z"
   },
   {
    "duration": 302,
    "start_time": "2023-10-14T15:06:57.226Z"
   },
   {
    "duration": 8,
    "start_time": "2023-10-14T15:06:57.530Z"
   },
   {
    "duration": 73,
    "start_time": "2023-10-14T15:06:57.539Z"
   },
   {
    "duration": 36,
    "start_time": "2023-10-14T15:06:57.613Z"
   },
   {
    "duration": 58,
    "start_time": "2023-10-14T15:06:57.650Z"
   },
   {
    "duration": 27,
    "start_time": "2023-10-14T15:06:57.710Z"
   },
   {
    "duration": 27,
    "start_time": "2023-10-14T15:06:57.739Z"
   },
   {
    "duration": 43,
    "start_time": "2023-10-14T15:06:57.768Z"
   },
   {
    "duration": 461,
    "start_time": "2023-10-14T15:06:57.813Z"
   },
   {
    "duration": 7,
    "start_time": "2023-10-14T15:06:58.276Z"
   },
   {
    "duration": 318,
    "start_time": "2023-10-14T15:06:58.284Z"
   },
   {
    "duration": 235,
    "start_time": "2023-10-14T15:06:58.603Z"
   },
   {
    "duration": 8,
    "start_time": "2023-10-14T15:06:58.840Z"
   },
   {
    "duration": 657,
    "start_time": "2023-10-14T15:06:58.850Z"
   },
   {
    "duration": 7,
    "start_time": "2023-10-14T15:06:59.509Z"
   },
   {
    "duration": 933,
    "start_time": "2023-10-14T15:06:59.518Z"
   },
   {
    "duration": 416,
    "start_time": "2023-10-14T15:07:00.453Z"
   },
   {
    "duration": 4,
    "start_time": "2023-10-14T15:07:00.871Z"
   },
   {
    "duration": 65,
    "start_time": "2023-10-14T15:07:00.877Z"
   },
   {
    "duration": 57,
    "start_time": "2023-10-14T15:07:00.944Z"
   },
   {
    "duration": 38,
    "start_time": "2023-10-14T15:07:01.003Z"
   },
   {
    "duration": 8,
    "start_time": "2023-10-14T15:09:53.047Z"
   },
   {
    "duration": 1235,
    "start_time": "2023-10-14T15:12:47.482Z"
   },
   {
    "duration": 77,
    "start_time": "2023-10-14T15:12:48.719Z"
   },
   {
    "duration": 12,
    "start_time": "2023-10-14T15:12:48.798Z"
   },
   {
    "duration": 16,
    "start_time": "2023-10-14T15:12:48.811Z"
   },
   {
    "duration": 73,
    "start_time": "2023-10-14T15:12:48.828Z"
   },
   {
    "duration": 9,
    "start_time": "2023-10-14T15:12:48.903Z"
   },
   {
    "duration": 12,
    "start_time": "2023-10-14T15:12:48.914Z"
   },
   {
    "duration": 54,
    "start_time": "2023-10-14T15:12:48.927Z"
   },
   {
    "duration": 7,
    "start_time": "2023-10-14T15:12:48.983Z"
   },
   {
    "duration": 10,
    "start_time": "2023-10-14T15:12:48.993Z"
   },
   {
    "duration": 7,
    "start_time": "2023-10-14T15:12:49.004Z"
   },
   {
    "duration": 4,
    "start_time": "2023-10-14T15:12:49.013Z"
   },
   {
    "duration": 18,
    "start_time": "2023-10-14T15:12:49.018Z"
   },
   {
    "duration": 11,
    "start_time": "2023-10-14T15:12:49.037Z"
   },
   {
    "duration": 17,
    "start_time": "2023-10-14T15:12:49.049Z"
   },
   {
    "duration": 5,
    "start_time": "2023-10-14T15:12:49.068Z"
   },
   {
    "duration": 18,
    "start_time": "2023-10-14T15:12:49.075Z"
   },
   {
    "duration": 24,
    "start_time": "2023-10-14T15:12:49.095Z"
   },
   {
    "duration": 10,
    "start_time": "2023-10-14T15:12:49.120Z"
   },
   {
    "duration": 26,
    "start_time": "2023-10-14T15:12:49.131Z"
   },
   {
    "duration": 30,
    "start_time": "2023-10-14T15:12:49.159Z"
   },
   {
    "duration": 19,
    "start_time": "2023-10-14T15:12:49.191Z"
   },
   {
    "duration": 182,
    "start_time": "2023-10-14T15:12:49.212Z"
   },
   {
    "duration": 18,
    "start_time": "2023-10-14T15:12:49.395Z"
   },
   {
    "duration": 131,
    "start_time": "2023-10-14T15:12:49.414Z"
   },
   {
    "duration": 111,
    "start_time": "2023-10-14T15:12:49.547Z"
   },
   {
    "duration": 12,
    "start_time": "2023-10-14T15:12:49.660Z"
   },
   {
    "duration": 278,
    "start_time": "2023-10-14T15:12:49.677Z"
   },
   {
    "duration": 4,
    "start_time": "2023-10-14T15:12:49.956Z"
   },
   {
    "duration": 10,
    "start_time": "2023-10-14T15:12:49.961Z"
   },
   {
    "duration": 374,
    "start_time": "2023-10-14T15:12:49.972Z"
   },
   {
    "duration": 213,
    "start_time": "2023-10-14T15:12:50.349Z"
   },
   {
    "duration": 3,
    "start_time": "2023-10-14T15:12:50.564Z"
   },
   {
    "duration": 9,
    "start_time": "2023-10-14T15:12:50.569Z"
   },
   {
    "duration": 317,
    "start_time": "2023-10-14T15:12:50.579Z"
   },
   {
    "duration": 16,
    "start_time": "2023-10-14T15:12:50.898Z"
   },
   {
    "duration": 15,
    "start_time": "2023-10-14T15:12:50.915Z"
   },
   {
    "duration": 311,
    "start_time": "2023-10-14T15:12:50.932Z"
   },
   {
    "duration": 310,
    "start_time": "2023-10-14T15:12:51.244Z"
   },
   {
    "duration": 128,
    "start_time": "2023-10-14T15:12:51.556Z"
   },
   {
    "duration": 140,
    "start_time": "2023-10-14T15:12:51.686Z"
   },
   {
    "duration": 9,
    "start_time": "2023-10-14T15:12:51.827Z"
   },
   {
    "duration": 18,
    "start_time": "2023-10-14T15:12:51.838Z"
   },
   {
    "duration": 26,
    "start_time": "2023-10-14T15:12:51.857Z"
   },
   {
    "duration": 8,
    "start_time": "2023-10-14T15:12:51.884Z"
   },
   {
    "duration": 10,
    "start_time": "2023-10-14T15:12:51.894Z"
   },
   {
    "duration": 12,
    "start_time": "2023-10-14T15:12:51.906Z"
   },
   {
    "duration": 31,
    "start_time": "2023-10-14T15:12:51.920Z"
   },
   {
    "duration": 318,
    "start_time": "2023-10-14T15:12:51.953Z"
   },
   {
    "duration": 7,
    "start_time": "2023-10-14T15:12:52.273Z"
   },
   {
    "duration": 320,
    "start_time": "2023-10-14T15:12:52.282Z"
   },
   {
    "duration": 238,
    "start_time": "2023-10-14T15:12:52.606Z"
   },
   {
    "duration": 7,
    "start_time": "2023-10-14T15:12:52.846Z"
   },
   {
    "duration": 374,
    "start_time": "2023-10-14T15:12:52.855Z"
   },
   {
    "duration": 8,
    "start_time": "2023-10-14T15:12:53.231Z"
   },
   {
    "duration": 467,
    "start_time": "2023-10-14T15:12:53.240Z"
   },
   {
    "duration": 245,
    "start_time": "2023-10-14T15:12:53.709Z"
   },
   {
    "duration": 3,
    "start_time": "2023-10-14T15:12:53.956Z"
   },
   {
    "duration": 26,
    "start_time": "2023-10-14T15:12:53.960Z"
   },
   {
    "duration": 24,
    "start_time": "2023-10-14T15:12:53.988Z"
   },
   {
    "duration": 19,
    "start_time": "2023-10-14T15:12:54.014Z"
   },
   {
    "duration": 1158,
    "start_time": "2023-10-14T15:16:13.196Z"
   },
   {
    "duration": 77,
    "start_time": "2023-10-14T15:16:14.356Z"
   },
   {
    "duration": 12,
    "start_time": "2023-10-14T15:16:14.434Z"
   },
   {
    "duration": 19,
    "start_time": "2023-10-14T15:16:14.448Z"
   },
   {
    "duration": 83,
    "start_time": "2023-10-14T15:16:14.469Z"
   },
   {
    "duration": 9,
    "start_time": "2023-10-14T15:16:14.554Z"
   },
   {
    "duration": 46,
    "start_time": "2023-10-14T15:16:14.564Z"
   },
   {
    "duration": 60,
    "start_time": "2023-10-14T15:16:14.612Z"
   },
   {
    "duration": 7,
    "start_time": "2023-10-14T15:16:14.673Z"
   },
   {
    "duration": 20,
    "start_time": "2023-10-14T15:16:14.682Z"
   },
   {
    "duration": 20,
    "start_time": "2023-10-14T15:16:14.703Z"
   },
   {
    "duration": 5,
    "start_time": "2023-10-14T15:16:14.725Z"
   },
   {
    "duration": 9,
    "start_time": "2023-10-14T15:16:14.731Z"
   },
   {
    "duration": 26,
    "start_time": "2023-10-14T15:16:14.742Z"
   },
   {
    "duration": 8,
    "start_time": "2023-10-14T15:16:14.769Z"
   },
   {
    "duration": 5,
    "start_time": "2023-10-14T15:16:14.779Z"
   },
   {
    "duration": 7,
    "start_time": "2023-10-14T15:16:14.786Z"
   },
   {
    "duration": 14,
    "start_time": "2023-10-14T15:16:14.794Z"
   },
   {
    "duration": 16,
    "start_time": "2023-10-14T15:16:14.809Z"
   },
   {
    "duration": 22,
    "start_time": "2023-10-14T15:16:14.827Z"
   },
   {
    "duration": 37,
    "start_time": "2023-10-14T15:16:14.850Z"
   },
   {
    "duration": 63,
    "start_time": "2023-10-14T15:16:14.889Z"
   },
   {
    "duration": 184,
    "start_time": "2023-10-14T15:16:14.953Z"
   },
   {
    "duration": 9,
    "start_time": "2023-10-14T15:16:15.139Z"
   },
   {
    "duration": 145,
    "start_time": "2023-10-14T15:16:15.150Z"
   },
   {
    "duration": 105,
    "start_time": "2023-10-14T15:16:15.297Z"
   },
   {
    "duration": 13,
    "start_time": "2023-10-14T15:16:15.407Z"
   },
   {
    "duration": 277,
    "start_time": "2023-10-14T15:16:15.424Z"
   },
   {
    "duration": 5,
    "start_time": "2023-10-14T15:16:15.703Z"
   },
   {
    "duration": 45,
    "start_time": "2023-10-14T15:16:15.710Z"
   },
   {
    "duration": 395,
    "start_time": "2023-10-14T15:16:15.757Z"
   },
   {
    "duration": 212,
    "start_time": "2023-10-14T15:16:16.154Z"
   },
   {
    "duration": 4,
    "start_time": "2023-10-14T15:16:16.367Z"
   },
   {
    "duration": 10,
    "start_time": "2023-10-14T15:16:16.372Z"
   },
   {
    "duration": 325,
    "start_time": "2023-10-14T15:16:16.383Z"
   },
   {
    "duration": 13,
    "start_time": "2023-10-14T15:16:16.710Z"
   },
   {
    "duration": 27,
    "start_time": "2023-10-14T15:16:16.724Z"
   },
   {
    "duration": 321,
    "start_time": "2023-10-14T15:16:16.752Z"
   },
   {
    "duration": 323,
    "start_time": "2023-10-14T15:16:17.075Z"
   },
   {
    "duration": 139,
    "start_time": "2023-10-14T15:16:17.400Z"
   },
   {
    "duration": 129,
    "start_time": "2023-10-14T15:16:17.541Z"
   },
   {
    "duration": 10,
    "start_time": "2023-10-14T15:16:17.671Z"
   },
   {
    "duration": 26,
    "start_time": "2023-10-14T15:16:17.683Z"
   },
   {
    "duration": 14,
    "start_time": "2023-10-14T15:16:17.711Z"
   },
   {
    "duration": 21,
    "start_time": "2023-10-14T15:16:17.727Z"
   },
   {
    "duration": 13,
    "start_time": "2023-10-14T15:16:17.749Z"
   },
   {
    "duration": 16,
    "start_time": "2023-10-14T15:16:17.763Z"
   },
   {
    "duration": 9,
    "start_time": "2023-10-14T15:16:17.781Z"
   },
   {
    "duration": 288,
    "start_time": "2023-10-14T15:16:17.792Z"
   },
   {
    "duration": 9,
    "start_time": "2023-10-14T15:16:18.082Z"
   },
   {
    "duration": 317,
    "start_time": "2023-10-14T15:16:18.093Z"
   },
   {
    "duration": 239,
    "start_time": "2023-10-14T15:16:18.412Z"
   },
   {
    "duration": 8,
    "start_time": "2023-10-14T15:16:18.653Z"
   },
   {
    "duration": 379,
    "start_time": "2023-10-14T15:16:18.662Z"
   },
   {
    "duration": 7,
    "start_time": "2023-10-14T15:16:19.043Z"
   },
   {
    "duration": 461,
    "start_time": "2023-10-14T15:16:19.051Z"
   },
   {
    "duration": 244,
    "start_time": "2023-10-14T15:16:19.514Z"
   },
   {
    "duration": 4,
    "start_time": "2023-10-14T15:16:19.759Z"
   },
   {
    "duration": 60,
    "start_time": "2023-10-14T15:16:19.764Z"
   },
   {
    "duration": 16,
    "start_time": "2023-10-14T15:16:19.825Z"
   },
   {
    "duration": 26,
    "start_time": "2023-10-14T15:16:19.842Z"
   },
   {
    "duration": 5,
    "start_time": "2023-10-14T15:16:19.870Z"
   },
   {
    "duration": 1172,
    "start_time": "2023-10-14T15:17:22.608Z"
   },
   {
    "duration": 77,
    "start_time": "2023-10-14T15:17:23.782Z"
   },
   {
    "duration": 12,
    "start_time": "2023-10-14T15:17:23.861Z"
   },
   {
    "duration": 28,
    "start_time": "2023-10-14T15:17:23.875Z"
   },
   {
    "duration": 75,
    "start_time": "2023-10-14T15:17:23.904Z"
   },
   {
    "duration": 9,
    "start_time": "2023-10-14T15:17:23.980Z"
   },
   {
    "duration": 24,
    "start_time": "2023-10-14T15:17:23.990Z"
   },
   {
    "duration": 61,
    "start_time": "2023-10-14T15:17:24.015Z"
   },
   {
    "duration": 6,
    "start_time": "2023-10-14T15:17:24.078Z"
   },
   {
    "duration": 40,
    "start_time": "2023-10-14T15:17:24.087Z"
   },
   {
    "duration": 30,
    "start_time": "2023-10-14T15:17:24.128Z"
   },
   {
    "duration": 12,
    "start_time": "2023-10-14T15:17:24.160Z"
   },
   {
    "duration": 15,
    "start_time": "2023-10-14T15:17:24.174Z"
   },
   {
    "duration": 10,
    "start_time": "2023-10-14T15:17:24.191Z"
   },
   {
    "duration": 23,
    "start_time": "2023-10-14T15:17:24.203Z"
   },
   {
    "duration": 52,
    "start_time": "2023-10-14T15:17:24.228Z"
   },
   {
    "duration": 27,
    "start_time": "2023-10-14T15:17:24.282Z"
   },
   {
    "duration": 32,
    "start_time": "2023-10-14T15:17:24.311Z"
   },
   {
    "duration": 29,
    "start_time": "2023-10-14T15:17:24.344Z"
   },
   {
    "duration": 8,
    "start_time": "2023-10-14T15:17:24.375Z"
   },
   {
    "duration": 42,
    "start_time": "2023-10-14T15:17:24.385Z"
   },
   {
    "duration": 20,
    "start_time": "2023-10-14T15:17:24.429Z"
   },
   {
    "duration": 185,
    "start_time": "2023-10-14T15:17:24.451Z"
   },
   {
    "duration": 10,
    "start_time": "2023-10-14T15:17:24.638Z"
   },
   {
    "duration": 137,
    "start_time": "2023-10-14T15:17:24.650Z"
   },
   {
    "duration": 140,
    "start_time": "2023-10-14T15:17:24.789Z"
   },
   {
    "duration": 13,
    "start_time": "2023-10-14T15:17:24.931Z"
   },
   {
    "duration": 277,
    "start_time": "2023-10-14T15:17:24.948Z"
   },
   {
    "duration": 4,
    "start_time": "2023-10-14T15:17:25.226Z"
   },
   {
    "duration": 39,
    "start_time": "2023-10-14T15:17:25.232Z"
   },
   {
    "duration": 351,
    "start_time": "2023-10-14T15:17:25.272Z"
   },
   {
    "duration": 215,
    "start_time": "2023-10-14T15:17:25.625Z"
   },
   {
    "duration": 4,
    "start_time": "2023-10-14T15:17:25.841Z"
   },
   {
    "duration": 21,
    "start_time": "2023-10-14T15:17:25.846Z"
   },
   {
    "duration": 371,
    "start_time": "2023-10-14T15:17:25.870Z"
   },
   {
    "duration": 14,
    "start_time": "2023-10-14T15:17:26.242Z"
   },
   {
    "duration": 28,
    "start_time": "2023-10-14T15:17:26.258Z"
   },
   {
    "duration": 328,
    "start_time": "2023-10-14T15:17:26.288Z"
   },
   {
    "duration": 319,
    "start_time": "2023-10-14T15:17:26.618Z"
   },
   {
    "duration": 127,
    "start_time": "2023-10-14T15:17:26.938Z"
   },
   {
    "duration": 131,
    "start_time": "2023-10-14T15:17:27.067Z"
   },
   {
    "duration": 14,
    "start_time": "2023-10-14T15:17:27.199Z"
   },
   {
    "duration": 23,
    "start_time": "2023-10-14T15:17:27.215Z"
   },
   {
    "duration": 19,
    "start_time": "2023-10-14T15:17:27.240Z"
   },
   {
    "duration": 15,
    "start_time": "2023-10-14T15:17:27.261Z"
   },
   {
    "duration": 18,
    "start_time": "2023-10-14T15:17:27.279Z"
   },
   {
    "duration": 15,
    "start_time": "2023-10-14T15:17:27.298Z"
   },
   {
    "duration": 21,
    "start_time": "2023-10-14T15:17:27.315Z"
   },
   {
    "duration": 313,
    "start_time": "2023-10-14T15:17:27.338Z"
   },
   {
    "duration": 10,
    "start_time": "2023-10-14T15:17:27.653Z"
   },
   {
    "duration": 314,
    "start_time": "2023-10-14T15:17:27.665Z"
   },
   {
    "duration": 227,
    "start_time": "2023-10-14T15:17:27.980Z"
   },
   {
    "duration": 7,
    "start_time": "2023-10-14T15:17:28.209Z"
   },
   {
    "duration": 360,
    "start_time": "2023-10-14T15:17:28.218Z"
   },
   {
    "duration": 9,
    "start_time": "2023-10-14T15:17:28.579Z"
   },
   {
    "duration": 437,
    "start_time": "2023-10-14T15:17:28.589Z"
   },
   {
    "duration": 246,
    "start_time": "2023-10-14T15:17:29.028Z"
   },
   {
    "duration": 4,
    "start_time": "2023-10-14T15:17:29.276Z"
   },
   {
    "duration": 37,
    "start_time": "2023-10-14T15:17:29.281Z"
   },
   {
    "duration": 16,
    "start_time": "2023-10-14T15:17:29.320Z"
   },
   {
    "duration": 3,
    "start_time": "2023-10-14T15:17:29.338Z"
   },
   {
    "duration": 15,
    "start_time": "2023-10-14T15:17:29.343Z"
   },
   {
    "duration": 1140,
    "start_time": "2023-10-14T15:19:02.730Z"
   },
   {
    "duration": 78,
    "start_time": "2023-10-14T15:19:03.871Z"
   },
   {
    "duration": 11,
    "start_time": "2023-10-14T15:19:03.951Z"
   },
   {
    "duration": 19,
    "start_time": "2023-10-14T15:19:03.964Z"
   },
   {
    "duration": 102,
    "start_time": "2023-10-14T15:19:03.984Z"
   },
   {
    "duration": 8,
    "start_time": "2023-10-14T15:19:04.088Z"
   },
   {
    "duration": 15,
    "start_time": "2023-10-14T15:19:04.097Z"
   },
   {
    "duration": 53,
    "start_time": "2023-10-14T15:19:04.114Z"
   },
   {
    "duration": 6,
    "start_time": "2023-10-14T15:19:04.169Z"
   },
   {
    "duration": 12,
    "start_time": "2023-10-14T15:19:04.178Z"
   },
   {
    "duration": 21,
    "start_time": "2023-10-14T15:19:04.191Z"
   },
   {
    "duration": 5,
    "start_time": "2023-10-14T15:19:04.214Z"
   },
   {
    "duration": 9,
    "start_time": "2023-10-14T15:19:04.221Z"
   },
   {
    "duration": 11,
    "start_time": "2023-10-14T15:19:04.231Z"
   },
   {
    "duration": 8,
    "start_time": "2023-10-14T15:19:04.243Z"
   },
   {
    "duration": 5,
    "start_time": "2023-10-14T15:19:04.252Z"
   },
   {
    "duration": 6,
    "start_time": "2023-10-14T15:19:04.258Z"
   },
   {
    "duration": 8,
    "start_time": "2023-10-14T15:19:04.266Z"
   },
   {
    "duration": 8,
    "start_time": "2023-10-14T15:19:04.275Z"
   },
   {
    "duration": 23,
    "start_time": "2023-10-14T15:19:04.285Z"
   },
   {
    "duration": 15,
    "start_time": "2023-10-14T15:19:04.309Z"
   },
   {
    "duration": 10,
    "start_time": "2023-10-14T15:19:04.326Z"
   },
   {
    "duration": 188,
    "start_time": "2023-10-14T15:19:04.338Z"
   },
   {
    "duration": 10,
    "start_time": "2023-10-14T15:19:04.528Z"
   },
   {
    "duration": 133,
    "start_time": "2023-10-14T15:19:04.540Z"
   },
   {
    "duration": 115,
    "start_time": "2023-10-14T15:19:04.675Z"
   },
   {
    "duration": 18,
    "start_time": "2023-10-14T15:19:04.792Z"
   },
   {
    "duration": 283,
    "start_time": "2023-10-14T15:19:04.814Z"
   },
   {
    "duration": 9,
    "start_time": "2023-10-14T15:19:05.099Z"
   },
   {
    "duration": 15,
    "start_time": "2023-10-14T15:19:05.109Z"
   },
   {
    "duration": 330,
    "start_time": "2023-10-14T15:19:05.125Z"
   },
   {
    "duration": 212,
    "start_time": "2023-10-14T15:19:05.457Z"
   },
   {
    "duration": 3,
    "start_time": "2023-10-14T15:19:05.671Z"
   },
   {
    "duration": 36,
    "start_time": "2023-10-14T15:19:05.676Z"
   },
   {
    "duration": 370,
    "start_time": "2023-10-14T15:19:05.713Z"
   },
   {
    "duration": 22,
    "start_time": "2023-10-14T15:19:06.085Z"
   },
   {
    "duration": 13,
    "start_time": "2023-10-14T15:19:06.109Z"
   },
   {
    "duration": 333,
    "start_time": "2023-10-14T15:19:06.124Z"
   },
   {
    "duration": 322,
    "start_time": "2023-10-14T15:19:06.459Z"
   },
   {
    "duration": 129,
    "start_time": "2023-10-14T15:19:06.783Z"
   },
   {
    "duration": 140,
    "start_time": "2023-10-14T15:19:06.914Z"
   },
   {
    "duration": 8,
    "start_time": "2023-10-14T15:19:07.055Z"
   },
   {
    "duration": 7,
    "start_time": "2023-10-14T15:19:07.065Z"
   },
   {
    "duration": 34,
    "start_time": "2023-10-14T15:19:07.074Z"
   },
   {
    "duration": 4,
    "start_time": "2023-10-14T15:19:07.109Z"
   },
   {
    "duration": 15,
    "start_time": "2023-10-14T15:19:07.115Z"
   },
   {
    "duration": 17,
    "start_time": "2023-10-14T15:19:07.132Z"
   },
   {
    "duration": 24,
    "start_time": "2023-10-14T15:19:07.151Z"
   },
   {
    "duration": 322,
    "start_time": "2023-10-14T15:19:07.177Z"
   },
   {
    "duration": 13,
    "start_time": "2023-10-14T15:19:07.501Z"
   },
   {
    "duration": 321,
    "start_time": "2023-10-14T15:19:07.515Z"
   },
   {
    "duration": 253,
    "start_time": "2023-10-14T15:19:07.837Z"
   },
   {
    "duration": 19,
    "start_time": "2023-10-14T15:19:08.092Z"
   },
   {
    "duration": 358,
    "start_time": "2023-10-14T15:19:08.112Z"
   },
   {
    "duration": 7,
    "start_time": "2023-10-14T15:19:08.472Z"
   },
   {
    "duration": 455,
    "start_time": "2023-10-14T15:19:08.481Z"
   },
   {
    "duration": 259,
    "start_time": "2023-10-14T15:19:08.938Z"
   },
   {
    "duration": 9,
    "start_time": "2023-10-14T15:19:09.199Z"
   },
   {
    "duration": 31,
    "start_time": "2023-10-14T15:19:09.209Z"
   },
   {
    "duration": 15,
    "start_time": "2023-10-14T15:19:09.242Z"
   },
   {
    "duration": 4,
    "start_time": "2023-10-14T15:19:09.258Z"
   },
   {
    "duration": 12,
    "start_time": "2023-10-14T15:19:09.263Z"
   },
   {
    "duration": 144,
    "start_time": "2023-10-14T15:19:09.277Z"
   },
   {
    "duration": 12,
    "start_time": "2023-10-14T15:19:09.422Z"
   },
   {
    "duration": 9,
    "start_time": "2023-10-14T15:19:09.436Z"
   },
   {
    "duration": 7,
    "start_time": "2023-10-14T15:19:09.446Z"
   },
   {
    "duration": 17,
    "start_time": "2023-10-14T15:19:09.454Z"
   },
   {
    "duration": 12,
    "start_time": "2023-10-14T15:19:09.472Z"
   },
   {
    "duration": 15,
    "start_time": "2023-10-14T15:19:09.486Z"
   },
   {
    "duration": 9,
    "start_time": "2023-10-14T15:19:09.503Z"
   },
   {
    "duration": 156,
    "start_time": "2023-10-14T15:19:09.513Z"
   },
   {
    "duration": 6,
    "start_time": "2023-10-14T15:50:16.527Z"
   },
   {
    "duration": 236,
    "start_time": "2023-10-14T15:50:20.191Z"
   },
   {
    "duration": 233,
    "start_time": "2023-10-14T15:50:33.984Z"
   },
   {
    "duration": 222,
    "start_time": "2023-10-14T15:53:34.019Z"
   },
   {
    "duration": 1091,
    "start_time": "2023-10-14T15:53:58.361Z"
   },
   {
    "duration": 30,
    "start_time": "2023-10-14T15:53:59.453Z"
   },
   {
    "duration": 16,
    "start_time": "2023-10-14T15:53:59.484Z"
   },
   {
    "duration": 18,
    "start_time": "2023-10-14T15:53:59.501Z"
   },
   {
    "duration": 43,
    "start_time": "2023-10-14T15:53:59.521Z"
   },
   {
    "duration": 8,
    "start_time": "2023-10-14T15:53:59.566Z"
   },
   {
    "duration": 24,
    "start_time": "2023-10-14T15:53:59.575Z"
   },
   {
    "duration": 18,
    "start_time": "2023-10-14T15:53:59.601Z"
   },
   {
    "duration": 9,
    "start_time": "2023-10-14T15:53:59.621Z"
   },
   {
    "duration": 14,
    "start_time": "2023-10-14T15:53:59.631Z"
   },
   {
    "duration": 9,
    "start_time": "2023-10-14T15:53:59.646Z"
   },
   {
    "duration": 16,
    "start_time": "2023-10-14T15:53:59.657Z"
   },
   {
    "duration": 5,
    "start_time": "2023-10-14T15:53:59.674Z"
   },
   {
    "duration": 12,
    "start_time": "2023-10-14T15:53:59.682Z"
   },
   {
    "duration": 26,
    "start_time": "2023-10-14T15:53:59.696Z"
   },
   {
    "duration": 5,
    "start_time": "2023-10-14T15:53:59.723Z"
   },
   {
    "duration": 9,
    "start_time": "2023-10-14T15:53:59.729Z"
   },
   {
    "duration": 28,
    "start_time": "2023-10-14T15:53:59.739Z"
   },
   {
    "duration": 16,
    "start_time": "2023-10-14T15:53:59.769Z"
   },
   {
    "duration": 5,
    "start_time": "2023-10-14T15:53:59.787Z"
   },
   {
    "duration": 20,
    "start_time": "2023-10-14T15:53:59.793Z"
   },
   {
    "duration": 8,
    "start_time": "2023-10-14T15:53:59.815Z"
   },
   {
    "duration": 186,
    "start_time": "2023-10-14T15:53:59.824Z"
   },
   {
    "duration": 11,
    "start_time": "2023-10-14T15:54:00.011Z"
   },
   {
    "duration": 186,
    "start_time": "2023-10-14T15:54:00.024Z"
   },
   {
    "duration": 139,
    "start_time": "2023-10-14T15:54:00.212Z"
   },
   {
    "duration": 12,
    "start_time": "2023-10-14T15:54:00.353Z"
   },
   {
    "duration": 311,
    "start_time": "2023-10-14T15:54:00.367Z"
   },
   {
    "duration": 4,
    "start_time": "2023-10-14T15:54:00.680Z"
   },
   {
    "duration": 75,
    "start_time": "2023-10-14T15:54:00.686Z"
   },
   {
    "duration": 382,
    "start_time": "2023-10-14T15:54:00.762Z"
   },
   {
    "duration": 228,
    "start_time": "2023-10-14T15:54:01.147Z"
   },
   {
    "duration": 4,
    "start_time": "2023-10-14T15:54:01.376Z"
   },
   {
    "duration": 45,
    "start_time": "2023-10-14T15:54:01.382Z"
   },
   {
    "duration": 335,
    "start_time": "2023-10-14T15:54:01.428Z"
   },
   {
    "duration": 15,
    "start_time": "2023-10-14T15:54:01.764Z"
   },
   {
    "duration": 16,
    "start_time": "2023-10-14T15:54:01.780Z"
   },
   {
    "duration": 361,
    "start_time": "2023-10-14T15:54:01.798Z"
   },
   {
    "duration": 311,
    "start_time": "2023-10-14T15:54:02.160Z"
   },
   {
    "duration": 126,
    "start_time": "2023-10-14T15:54:02.472Z"
   },
   {
    "duration": 167,
    "start_time": "2023-10-14T15:54:02.606Z"
   },
   {
    "duration": 12,
    "start_time": "2023-10-14T15:54:02.776Z"
   },
   {
    "duration": 26,
    "start_time": "2023-10-14T15:54:02.790Z"
   },
   {
    "duration": 26,
    "start_time": "2023-10-14T15:54:02.818Z"
   },
   {
    "duration": 25,
    "start_time": "2023-10-14T15:54:02.846Z"
   },
   {
    "duration": 7,
    "start_time": "2023-10-14T15:54:02.872Z"
   },
   {
    "duration": 8,
    "start_time": "2023-10-14T15:54:02.880Z"
   },
   {
    "duration": 20,
    "start_time": "2023-10-14T15:54:02.890Z"
   },
   {
    "duration": 312,
    "start_time": "2023-10-14T15:54:02.911Z"
   },
   {
    "duration": 7,
    "start_time": "2023-10-14T15:54:03.226Z"
   },
   {
    "duration": 324,
    "start_time": "2023-10-14T15:54:03.234Z"
   },
   {
    "duration": 234,
    "start_time": "2023-10-14T15:54:03.560Z"
   },
   {
    "duration": 15,
    "start_time": "2023-10-14T15:54:03.795Z"
   },
   {
    "duration": 355,
    "start_time": "2023-10-14T15:54:03.811Z"
   },
   {
    "duration": 8,
    "start_time": "2023-10-14T15:54:04.167Z"
   },
   {
    "duration": 444,
    "start_time": "2023-10-14T15:54:04.177Z"
   },
   {
    "duration": 242,
    "start_time": "2023-10-14T15:54:04.622Z"
   },
   {
    "duration": 4,
    "start_time": "2023-10-14T15:54:04.865Z"
   },
   {
    "duration": 37,
    "start_time": "2023-10-14T15:54:04.870Z"
   },
   {
    "duration": 27,
    "start_time": "2023-10-14T15:54:04.908Z"
   },
   {
    "duration": 4,
    "start_time": "2023-10-14T15:54:04.937Z"
   },
   {
    "duration": 216,
    "start_time": "2023-10-14T15:54:04.943Z"
   },
   {
    "duration": 12,
    "start_time": "2023-10-14T15:54:05.161Z"
   },
   {
    "duration": 29,
    "start_time": "2023-10-14T15:54:05.174Z"
   },
   {
    "duration": 12,
    "start_time": "2023-10-14T15:54:05.205Z"
   },
   {
    "duration": 27,
    "start_time": "2023-10-14T15:54:05.219Z"
   },
   {
    "duration": 34,
    "start_time": "2023-10-14T15:54:05.248Z"
   },
   {
    "duration": 23,
    "start_time": "2023-10-14T15:54:05.284Z"
   },
   {
    "duration": 20,
    "start_time": "2023-10-14T15:54:05.308Z"
   },
   {
    "duration": 173,
    "start_time": "2023-10-14T15:54:05.330Z"
   },
   {
    "duration": 174,
    "start_time": "2023-10-14T16:00:35.508Z"
   },
   {
    "duration": 161,
    "start_time": "2023-10-14T16:02:33.454Z"
   },
   {
    "duration": 150,
    "start_time": "2023-10-14T16:03:04.029Z"
   },
   {
    "duration": 145,
    "start_time": "2023-10-14T16:03:53.761Z"
   },
   {
    "duration": 10,
    "start_time": "2023-10-14T16:04:31.054Z"
   },
   {
    "duration": 157,
    "start_time": "2023-10-14T16:05:38.143Z"
   },
   {
    "duration": 182,
    "start_time": "2023-10-14T16:05:51.137Z"
   },
   {
    "duration": 7,
    "start_time": "2023-10-14T16:05:59.502Z"
   },
   {
    "duration": 253,
    "start_time": "2023-10-14T16:07:47.598Z"
   },
   {
    "duration": 15,
    "start_time": "2023-10-14T16:08:23.326Z"
   },
   {
    "duration": 157,
    "start_time": "2023-10-14T16:08:34.559Z"
   },
   {
    "duration": 164,
    "start_time": "2023-10-14T16:08:51.717Z"
   },
   {
    "duration": 6,
    "start_time": "2023-10-14T16:17:56.547Z"
   },
   {
    "duration": 8,
    "start_time": "2023-10-14T16:20:53.607Z"
   },
   {
    "duration": 6,
    "start_time": "2023-10-14T16:28:50.855Z"
   },
   {
    "duration": 5,
    "start_time": "2023-10-14T16:32:27.491Z"
   },
   {
    "duration": 8,
    "start_time": "2023-10-14T16:34:21.380Z"
   },
   {
    "duration": 8,
    "start_time": "2023-10-14T16:35:58.024Z"
   },
   {
    "duration": 1275,
    "start_time": "2023-10-14T16:36:45.939Z"
   },
   {
    "duration": 32,
    "start_time": "2023-10-14T16:36:47.216Z"
   },
   {
    "duration": 13,
    "start_time": "2023-10-14T16:36:47.250Z"
   },
   {
    "duration": 16,
    "start_time": "2023-10-14T16:36:47.265Z"
   },
   {
    "duration": 40,
    "start_time": "2023-10-14T16:36:47.282Z"
   },
   {
    "duration": 9,
    "start_time": "2023-10-14T16:36:47.324Z"
   },
   {
    "duration": 11,
    "start_time": "2023-10-14T16:36:47.335Z"
   },
   {
    "duration": 15,
    "start_time": "2023-10-14T16:36:47.347Z"
   },
   {
    "duration": 6,
    "start_time": "2023-10-14T16:36:47.364Z"
   },
   {
    "duration": 9,
    "start_time": "2023-10-14T16:36:47.372Z"
   },
   {
    "duration": 26,
    "start_time": "2023-10-14T16:36:47.383Z"
   },
   {
    "duration": 19,
    "start_time": "2023-10-14T16:36:47.410Z"
   },
   {
    "duration": 7,
    "start_time": "2023-10-14T16:36:47.431Z"
   },
   {
    "duration": 22,
    "start_time": "2023-10-14T16:36:47.440Z"
   },
   {
    "duration": 7,
    "start_time": "2023-10-14T16:36:47.464Z"
   },
   {
    "duration": 9,
    "start_time": "2023-10-14T16:36:47.473Z"
   },
   {
    "duration": 10,
    "start_time": "2023-10-14T16:36:47.483Z"
   },
   {
    "duration": 9,
    "start_time": "2023-10-14T16:36:47.495Z"
   },
   {
    "duration": 23,
    "start_time": "2023-10-14T16:36:47.506Z"
   },
   {
    "duration": 5,
    "start_time": "2023-10-14T16:36:47.530Z"
   },
   {
    "duration": 15,
    "start_time": "2023-10-14T16:36:47.536Z"
   },
   {
    "duration": 10,
    "start_time": "2023-10-14T16:36:47.553Z"
   },
   {
    "duration": 188,
    "start_time": "2023-10-14T16:36:47.564Z"
   },
   {
    "duration": 11,
    "start_time": "2023-10-14T16:36:47.753Z"
   },
   {
    "duration": 128,
    "start_time": "2023-10-14T16:36:47.766Z"
   },
   {
    "duration": 113,
    "start_time": "2023-10-14T16:36:47.895Z"
   },
   {
    "duration": 11,
    "start_time": "2023-10-14T16:36:48.010Z"
   },
   {
    "duration": 273,
    "start_time": "2023-10-14T16:36:48.025Z"
   },
   {
    "duration": 8,
    "start_time": "2023-10-14T16:36:48.300Z"
   },
   {
    "duration": 28,
    "start_time": "2023-10-14T16:36:48.309Z"
   },
   {
    "duration": 310,
    "start_time": "2023-10-14T16:36:48.338Z"
   },
   {
    "duration": 207,
    "start_time": "2023-10-14T16:36:48.649Z"
   },
   {
    "duration": 3,
    "start_time": "2023-10-14T16:36:48.858Z"
   },
   {
    "duration": 10,
    "start_time": "2023-10-14T16:36:48.862Z"
   },
   {
    "duration": 309,
    "start_time": "2023-10-14T16:36:48.873Z"
   },
   {
    "duration": 13,
    "start_time": "2023-10-14T16:36:49.183Z"
   },
   {
    "duration": 6,
    "start_time": "2023-10-14T16:36:49.206Z"
   },
   {
    "duration": 338,
    "start_time": "2023-10-14T16:36:49.214Z"
   },
   {
    "duration": 308,
    "start_time": "2023-10-14T16:36:49.554Z"
   },
   {
    "duration": 120,
    "start_time": "2023-10-14T16:36:49.864Z"
   },
   {
    "duration": 146,
    "start_time": "2023-10-14T16:36:49.985Z"
   },
   {
    "duration": 8,
    "start_time": "2023-10-14T16:36:50.133Z"
   },
   {
    "duration": 8,
    "start_time": "2023-10-14T16:36:50.142Z"
   },
   {
    "duration": 16,
    "start_time": "2023-10-14T16:36:50.151Z"
   },
   {
    "duration": 25,
    "start_time": "2023-10-14T16:36:50.169Z"
   },
   {
    "duration": 19,
    "start_time": "2023-10-14T16:36:50.195Z"
   },
   {
    "duration": 27,
    "start_time": "2023-10-14T16:36:50.216Z"
   },
   {
    "duration": 8,
    "start_time": "2023-10-14T16:36:50.245Z"
   },
   {
    "duration": 307,
    "start_time": "2023-10-14T16:36:50.254Z"
   },
   {
    "duration": 9,
    "start_time": "2023-10-14T16:36:50.563Z"
   },
   {
    "duration": 323,
    "start_time": "2023-10-14T16:36:50.573Z"
   },
   {
    "duration": 246,
    "start_time": "2023-10-14T16:36:50.898Z"
   },
   {
    "duration": 8,
    "start_time": "2023-10-14T16:36:51.145Z"
   },
   {
    "duration": 389,
    "start_time": "2023-10-14T16:36:51.155Z"
   },
   {
    "duration": 9,
    "start_time": "2023-10-14T16:36:51.546Z"
   },
   {
    "duration": 504,
    "start_time": "2023-10-14T16:36:51.556Z"
   },
   {
    "duration": 251,
    "start_time": "2023-10-14T16:36:52.062Z"
   },
   {
    "duration": 3,
    "start_time": "2023-10-14T16:36:52.315Z"
   },
   {
    "duration": 37,
    "start_time": "2023-10-14T16:36:52.320Z"
   },
   {
    "duration": 17,
    "start_time": "2023-10-14T16:36:52.358Z"
   },
   {
    "duration": 6,
    "start_time": "2023-10-14T16:36:52.377Z"
   },
   {
    "duration": 245,
    "start_time": "2023-10-14T16:36:52.385Z"
   },
   {
    "duration": 13,
    "start_time": "2023-10-14T16:36:52.632Z"
   },
   {
    "duration": 7,
    "start_time": "2023-10-14T16:36:52.646Z"
   },
   {
    "duration": 7,
    "start_time": "2023-10-14T16:36:52.654Z"
   },
   {
    "duration": 8,
    "start_time": "2023-10-14T16:36:52.662Z"
   },
   {
    "duration": 18,
    "start_time": "2023-10-14T16:36:52.671Z"
   },
   {
    "duration": 20,
    "start_time": "2023-10-14T16:36:52.690Z"
   },
   {
    "duration": 166,
    "start_time": "2023-10-14T16:36:52.712Z"
   },
   {
    "duration": 247,
    "start_time": "2023-10-14T16:36:52.880Z"
   },
   {
    "duration": 1278,
    "start_time": "2023-10-15T07:48:18.961Z"
   },
   {
    "duration": 78,
    "start_time": "2023-10-15T07:48:20.241Z"
   },
   {
    "duration": 46,
    "start_time": "2023-10-15T07:48:20.321Z"
   },
   {
    "duration": 54,
    "start_time": "2023-10-15T07:48:20.369Z"
   },
   {
    "duration": 130,
    "start_time": "2023-10-15T07:48:20.425Z"
   },
   {
    "duration": 23,
    "start_time": "2023-10-15T07:48:20.557Z"
   },
   {
    "duration": 36,
    "start_time": "2023-10-15T07:48:20.582Z"
   },
   {
    "duration": 82,
    "start_time": "2023-10-15T07:48:20.620Z"
   },
   {
    "duration": 8,
    "start_time": "2023-10-15T07:48:20.703Z"
   },
   {
    "duration": 38,
    "start_time": "2023-10-15T07:48:20.714Z"
   },
   {
    "duration": 49,
    "start_time": "2023-10-15T07:48:20.753Z"
   },
   {
    "duration": 24,
    "start_time": "2023-10-15T07:48:20.804Z"
   },
   {
    "duration": 41,
    "start_time": "2023-10-15T07:48:20.830Z"
   },
   {
    "duration": 51,
    "start_time": "2023-10-15T07:48:20.872Z"
   },
   {
    "duration": 26,
    "start_time": "2023-10-15T07:48:20.924Z"
   },
   {
    "duration": 25,
    "start_time": "2023-10-15T07:48:20.951Z"
   },
   {
    "duration": 31,
    "start_time": "2023-10-15T07:48:20.978Z"
   },
   {
    "duration": 25,
    "start_time": "2023-10-15T07:48:21.011Z"
   },
   {
    "duration": 41,
    "start_time": "2023-10-15T07:48:21.038Z"
   },
   {
    "duration": 17,
    "start_time": "2023-10-15T07:48:21.080Z"
   },
   {
    "duration": 32,
    "start_time": "2023-10-15T07:48:21.099Z"
   },
   {
    "duration": 21,
    "start_time": "2023-10-15T07:48:21.132Z"
   },
   {
    "duration": 209,
    "start_time": "2023-10-15T07:48:21.154Z"
   },
   {
    "duration": 11,
    "start_time": "2023-10-15T07:48:21.364Z"
   },
   {
    "duration": 148,
    "start_time": "2023-10-15T07:48:21.376Z"
   },
   {
    "duration": 114,
    "start_time": "2023-10-15T07:48:21.526Z"
   },
   {
    "duration": 12,
    "start_time": "2023-10-15T07:48:21.642Z"
   },
   {
    "duration": 287,
    "start_time": "2023-10-15T07:48:21.657Z"
   },
   {
    "duration": 3,
    "start_time": "2023-10-15T07:48:21.946Z"
   },
   {
    "duration": 35,
    "start_time": "2023-10-15T07:48:21.951Z"
   },
   {
    "duration": 325,
    "start_time": "2023-10-15T07:48:21.987Z"
   },
   {
    "duration": 219,
    "start_time": "2023-10-15T07:48:22.314Z"
   },
   {
    "duration": 3,
    "start_time": "2023-10-15T07:48:22.535Z"
   },
   {
    "duration": 16,
    "start_time": "2023-10-15T07:48:22.540Z"
   },
   {
    "duration": 313,
    "start_time": "2023-10-15T07:48:22.557Z"
   },
   {
    "duration": 13,
    "start_time": "2023-10-15T07:48:22.872Z"
   },
   {
    "duration": 7,
    "start_time": "2023-10-15T07:48:22.887Z"
   },
   {
    "duration": 308,
    "start_time": "2023-10-15T07:48:22.895Z"
   },
   {
    "duration": 307,
    "start_time": "2023-10-15T07:48:23.207Z"
   },
   {
    "duration": 124,
    "start_time": "2023-10-15T07:48:23.516Z"
   },
   {
    "duration": 136,
    "start_time": "2023-10-15T07:48:23.642Z"
   },
   {
    "duration": 9,
    "start_time": "2023-10-15T07:48:23.780Z"
   },
   {
    "duration": 18,
    "start_time": "2023-10-15T07:48:23.791Z"
   },
   {
    "duration": 17,
    "start_time": "2023-10-15T07:48:23.811Z"
   },
   {
    "duration": 34,
    "start_time": "2023-10-15T07:48:23.829Z"
   },
   {
    "duration": 18,
    "start_time": "2023-10-15T07:48:23.864Z"
   },
   {
    "duration": 7,
    "start_time": "2023-10-15T07:48:23.884Z"
   },
   {
    "duration": 28,
    "start_time": "2023-10-15T07:48:23.893Z"
   },
   {
    "duration": 302,
    "start_time": "2023-10-15T07:48:23.923Z"
   },
   {
    "duration": 8,
    "start_time": "2023-10-15T07:48:24.227Z"
   },
   {
    "duration": 314,
    "start_time": "2023-10-15T07:48:24.237Z"
   },
   {
    "duration": 235,
    "start_time": "2023-10-15T07:48:24.552Z"
   },
   {
    "duration": 8,
    "start_time": "2023-10-15T07:48:24.788Z"
   },
   {
    "duration": 381,
    "start_time": "2023-10-15T07:48:24.797Z"
   },
   {
    "duration": 7,
    "start_time": "2023-10-15T07:48:25.180Z"
   },
   {
    "duration": 462,
    "start_time": "2023-10-15T07:48:25.188Z"
   },
   {
    "duration": 250,
    "start_time": "2023-10-15T07:48:25.652Z"
   },
   {
    "duration": 5,
    "start_time": "2023-10-15T07:48:25.904Z"
   },
   {
    "duration": 42,
    "start_time": "2023-10-15T07:48:25.911Z"
   },
   {
    "duration": 20,
    "start_time": "2023-10-15T07:48:25.955Z"
   },
   {
    "duration": 5,
    "start_time": "2023-10-15T07:48:25.977Z"
   },
   {
    "duration": 230,
    "start_time": "2023-10-15T07:48:25.983Z"
   },
   {
    "duration": 11,
    "start_time": "2023-10-15T07:48:26.215Z"
   },
   {
    "duration": 21,
    "start_time": "2023-10-15T07:48:26.227Z"
   },
   {
    "duration": 15,
    "start_time": "2023-10-15T07:48:26.249Z"
   },
   {
    "duration": 27,
    "start_time": "2023-10-15T07:48:26.266Z"
   },
   {
    "duration": 16,
    "start_time": "2023-10-15T07:48:26.295Z"
   },
   {
    "duration": 10,
    "start_time": "2023-10-15T07:48:26.312Z"
   },
   {
    "duration": 171,
    "start_time": "2023-10-15T07:48:26.324Z"
   },
   {
    "duration": 150,
    "start_time": "2023-10-15T07:48:26.496Z"
   },
   {
    "duration": 96,
    "start_time": "2023-10-15T07:51:55.154Z"
   },
   {
    "duration": 7,
    "start_time": "2023-10-15T07:51:59.602Z"
   },
   {
    "duration": 7,
    "start_time": "2023-10-15T07:52:06.474Z"
   },
   {
    "duration": 9,
    "start_time": "2023-10-15T07:57:12.059Z"
   },
   {
    "duration": 1250,
    "start_time": "2023-10-15T08:03:53.475Z"
   },
   {
    "duration": 29,
    "start_time": "2023-10-15T08:03:54.727Z"
   },
   {
    "duration": 13,
    "start_time": "2023-10-15T08:03:54.757Z"
   },
   {
    "duration": 20,
    "start_time": "2023-10-15T08:03:54.771Z"
   },
   {
    "duration": 30,
    "start_time": "2023-10-15T08:03:54.793Z"
   },
   {
    "duration": 8,
    "start_time": "2023-10-15T08:03:54.825Z"
   },
   {
    "duration": 11,
    "start_time": "2023-10-15T08:03:54.835Z"
   },
   {
    "duration": 16,
    "start_time": "2023-10-15T08:03:54.848Z"
   },
   {
    "duration": 7,
    "start_time": "2023-10-15T08:03:54.866Z"
   },
   {
    "duration": 11,
    "start_time": "2023-10-15T08:03:54.874Z"
   },
   {
    "duration": 20,
    "start_time": "2023-10-15T08:03:54.887Z"
   },
   {
    "duration": 4,
    "start_time": "2023-10-15T08:03:54.909Z"
   },
   {
    "duration": 9,
    "start_time": "2023-10-15T08:03:54.914Z"
   },
   {
    "duration": 6,
    "start_time": "2023-10-15T08:03:54.926Z"
   },
   {
    "duration": 6,
    "start_time": "2023-10-15T08:03:54.934Z"
   },
   {
    "duration": 15,
    "start_time": "2023-10-15T08:03:54.941Z"
   },
   {
    "duration": 6,
    "start_time": "2023-10-15T08:03:54.958Z"
   },
   {
    "duration": 12,
    "start_time": "2023-10-15T08:03:54.966Z"
   },
   {
    "duration": 29,
    "start_time": "2023-10-15T08:03:54.980Z"
   },
   {
    "duration": 8,
    "start_time": "2023-10-15T08:03:55.011Z"
   },
   {
    "duration": 16,
    "start_time": "2023-10-15T08:03:55.021Z"
   },
   {
    "duration": 10,
    "start_time": "2023-10-15T08:03:55.039Z"
   },
   {
    "duration": 36,
    "start_time": "2023-10-15T08:03:55.051Z"
   },
   {
    "duration": 198,
    "start_time": "2023-10-15T08:03:55.089Z"
   },
   {
    "duration": 18,
    "start_time": "2023-10-15T08:03:55.289Z"
   },
   {
    "duration": 131,
    "start_time": "2023-10-15T08:03:55.309Z"
   },
   {
    "duration": 117,
    "start_time": "2023-10-15T08:03:55.442Z"
   },
   {
    "duration": 11,
    "start_time": "2023-10-15T08:03:55.561Z"
   },
   {
    "duration": 277,
    "start_time": "2023-10-15T08:03:55.574Z"
   },
   {
    "duration": 4,
    "start_time": "2023-10-15T08:03:55.853Z"
   },
   {
    "duration": 9,
    "start_time": "2023-10-15T08:03:55.859Z"
   },
   {
    "duration": 358,
    "start_time": "2023-10-15T08:03:55.870Z"
   },
   {
    "duration": 215,
    "start_time": "2023-10-15T08:03:56.230Z"
   },
   {
    "duration": 3,
    "start_time": "2023-10-15T08:03:56.447Z"
   },
   {
    "duration": 20,
    "start_time": "2023-10-15T08:03:56.452Z"
   },
   {
    "duration": 297,
    "start_time": "2023-10-15T08:03:56.473Z"
   },
   {
    "duration": 14,
    "start_time": "2023-10-15T08:03:56.771Z"
   },
   {
    "duration": 21,
    "start_time": "2023-10-15T08:03:56.787Z"
   },
   {
    "duration": 316,
    "start_time": "2023-10-15T08:03:56.811Z"
   },
   {
    "duration": 324,
    "start_time": "2023-10-15T08:03:57.129Z"
   },
   {
    "duration": 123,
    "start_time": "2023-10-15T08:03:57.457Z"
   },
   {
    "duration": 146,
    "start_time": "2023-10-15T08:03:57.582Z"
   },
   {
    "duration": 9,
    "start_time": "2023-10-15T08:03:57.729Z"
   },
   {
    "duration": 15,
    "start_time": "2023-10-15T08:03:57.739Z"
   },
   {
    "duration": 14,
    "start_time": "2023-10-15T08:03:57.755Z"
   },
   {
    "duration": 12,
    "start_time": "2023-10-15T08:03:57.770Z"
   },
   {
    "duration": 18,
    "start_time": "2023-10-15T08:03:57.784Z"
   },
   {
    "duration": 5,
    "start_time": "2023-10-15T08:03:57.806Z"
   },
   {
    "duration": 27,
    "start_time": "2023-10-15T08:03:57.813Z"
   },
   {
    "duration": 298,
    "start_time": "2023-10-15T08:03:57.842Z"
   },
   {
    "duration": 7,
    "start_time": "2023-10-15T08:03:58.142Z"
   },
   {
    "duration": 320,
    "start_time": "2023-10-15T08:03:58.151Z"
   },
   {
    "duration": 229,
    "start_time": "2023-10-15T08:03:58.473Z"
   },
   {
    "duration": 7,
    "start_time": "2023-10-15T08:03:58.706Z"
   },
   {
    "duration": 382,
    "start_time": "2023-10-15T08:03:58.715Z"
   },
   {
    "duration": 10,
    "start_time": "2023-10-15T08:03:59.098Z"
   },
   {
    "duration": 443,
    "start_time": "2023-10-15T08:03:59.109Z"
   },
   {
    "duration": 233,
    "start_time": "2023-10-15T08:03:59.554Z"
   },
   {
    "duration": 3,
    "start_time": "2023-10-15T08:03:59.788Z"
   },
   {
    "duration": 29,
    "start_time": "2023-10-15T08:03:59.793Z"
   },
   {
    "duration": 15,
    "start_time": "2023-10-15T08:03:59.823Z"
   },
   {
    "duration": 4,
    "start_time": "2023-10-15T08:03:59.840Z"
   },
   {
    "duration": 246,
    "start_time": "2023-10-15T08:03:59.845Z"
   },
   {
    "duration": 15,
    "start_time": "2023-10-15T08:04:00.093Z"
   },
   {
    "duration": 26,
    "start_time": "2023-10-15T08:04:00.110Z"
   },
   {
    "duration": 21,
    "start_time": "2023-10-15T08:04:00.138Z"
   },
   {
    "duration": 33,
    "start_time": "2023-10-15T08:04:00.160Z"
   },
   {
    "duration": 49,
    "start_time": "2023-10-15T08:04:00.195Z"
   },
   {
    "duration": 59,
    "start_time": "2023-10-15T08:04:00.245Z"
   },
   {
    "duration": 198,
    "start_time": "2023-10-15T08:04:00.306Z"
   },
   {
    "duration": 161,
    "start_time": "2023-10-15T08:04:00.506Z"
   },
   {
    "duration": 1380,
    "start_time": "2023-10-15T10:19:21.441Z"
   },
   {
    "duration": 84,
    "start_time": "2023-10-15T10:19:22.823Z"
   },
   {
    "duration": 11,
    "start_time": "2023-10-15T10:19:22.909Z"
   },
   {
    "duration": 10,
    "start_time": "2023-10-15T10:19:22.922Z"
   },
   {
    "duration": 161,
    "start_time": "2023-10-15T10:19:22.934Z"
   },
   {
    "duration": 8,
    "start_time": "2023-10-15T10:19:23.096Z"
   },
   {
    "duration": 21,
    "start_time": "2023-10-15T10:19:23.106Z"
   },
   {
    "duration": 65,
    "start_time": "2023-10-15T10:19:23.128Z"
   },
   {
    "duration": 7,
    "start_time": "2023-10-15T10:19:23.194Z"
   },
   {
    "duration": 21,
    "start_time": "2023-10-15T10:19:23.203Z"
   },
   {
    "duration": 18,
    "start_time": "2023-10-15T10:19:23.226Z"
   },
   {
    "duration": 13,
    "start_time": "2023-10-15T10:19:23.246Z"
   },
   {
    "duration": 24,
    "start_time": "2023-10-15T10:19:23.261Z"
   },
   {
    "duration": 25,
    "start_time": "2023-10-15T10:19:23.286Z"
   },
   {
    "duration": 13,
    "start_time": "2023-10-15T10:19:23.312Z"
   },
   {
    "duration": 13,
    "start_time": "2023-10-15T10:19:23.326Z"
   },
   {
    "duration": 8,
    "start_time": "2023-10-15T10:19:23.340Z"
   },
   {
    "duration": 31,
    "start_time": "2023-10-15T10:19:23.349Z"
   },
   {
    "duration": 30,
    "start_time": "2023-10-15T10:19:23.381Z"
   },
   {
    "duration": 13,
    "start_time": "2023-10-15T10:19:23.413Z"
   },
   {
    "duration": 9,
    "start_time": "2023-10-15T10:19:23.427Z"
   },
   {
    "duration": 8,
    "start_time": "2023-10-15T10:19:23.438Z"
   },
   {
    "duration": 9,
    "start_time": "2023-10-15T10:19:23.448Z"
   },
   {
    "duration": 186,
    "start_time": "2023-10-15T10:19:23.459Z"
   },
   {
    "duration": 12,
    "start_time": "2023-10-15T10:19:23.647Z"
   },
   {
    "duration": 127,
    "start_time": "2023-10-15T10:19:23.660Z"
   },
   {
    "duration": 111,
    "start_time": "2023-10-15T10:19:23.788Z"
   },
   {
    "duration": 11,
    "start_time": "2023-10-15T10:19:23.903Z"
   },
   {
    "duration": 331,
    "start_time": "2023-10-15T10:19:23.916Z"
   },
   {
    "duration": 4,
    "start_time": "2023-10-15T10:19:24.248Z"
   },
   {
    "duration": 12,
    "start_time": "2023-10-15T10:19:24.254Z"
   },
   {
    "duration": 307,
    "start_time": "2023-10-15T10:19:24.267Z"
   },
   {
    "duration": 206,
    "start_time": "2023-10-15T10:19:24.575Z"
   },
   {
    "duration": 3,
    "start_time": "2023-10-15T10:19:24.783Z"
   },
   {
    "duration": 20,
    "start_time": "2023-10-15T10:19:24.787Z"
   },
   {
    "duration": 323,
    "start_time": "2023-10-15T10:19:24.809Z"
   },
   {
    "duration": 16,
    "start_time": "2023-10-15T10:19:25.134Z"
   },
   {
    "duration": 35,
    "start_time": "2023-10-15T10:19:25.151Z"
   },
   {
    "duration": 598,
    "start_time": "2023-10-15T10:19:25.187Z"
   },
   {
    "duration": 702,
    "start_time": "2023-10-15T10:19:25.786Z"
   },
   {
    "duration": 277,
    "start_time": "2023-10-15T10:19:26.490Z"
   },
   {
    "duration": 224,
    "start_time": "2023-10-15T10:19:26.768Z"
   },
   {
    "duration": 8,
    "start_time": "2023-10-15T10:19:26.994Z"
   },
   {
    "duration": 8,
    "start_time": "2023-10-15T10:19:27.004Z"
   },
   {
    "duration": 36,
    "start_time": "2023-10-15T10:19:27.014Z"
   },
   {
    "duration": 6,
    "start_time": "2023-10-15T10:19:27.052Z"
   },
   {
    "duration": 9,
    "start_time": "2023-10-15T10:19:27.059Z"
   },
   {
    "duration": 5,
    "start_time": "2023-10-15T10:19:27.070Z"
   },
   {
    "duration": 12,
    "start_time": "2023-10-15T10:19:27.077Z"
   },
   {
    "duration": 314,
    "start_time": "2023-10-15T10:19:27.091Z"
   },
   {
    "duration": 8,
    "start_time": "2023-10-15T10:19:27.406Z"
   },
   {
    "duration": 307,
    "start_time": "2023-10-15T10:19:27.415Z"
   },
   {
    "duration": 233,
    "start_time": "2023-10-15T10:19:27.724Z"
   },
   {
    "duration": 8,
    "start_time": "2023-10-15T10:19:27.959Z"
   },
   {
    "duration": 360,
    "start_time": "2023-10-15T10:19:27.968Z"
   },
   {
    "duration": 16,
    "start_time": "2023-10-15T10:19:28.329Z"
   },
   {
    "duration": 457,
    "start_time": "2023-10-15T10:19:28.346Z"
   },
   {
    "duration": 235,
    "start_time": "2023-10-15T10:19:28.805Z"
   },
   {
    "duration": 4,
    "start_time": "2023-10-15T10:19:29.043Z"
   },
   {
    "duration": 41,
    "start_time": "2023-10-15T10:19:29.049Z"
   },
   {
    "duration": 25,
    "start_time": "2023-10-15T10:19:29.092Z"
   },
   {
    "duration": 4,
    "start_time": "2023-10-15T10:19:29.119Z"
   },
   {
    "duration": 251,
    "start_time": "2023-10-15T10:19:29.124Z"
   },
   {
    "duration": 13,
    "start_time": "2023-10-15T10:19:29.376Z"
   },
   {
    "duration": 7,
    "start_time": "2023-10-15T10:19:29.391Z"
   },
   {
    "duration": 7,
    "start_time": "2023-10-15T10:19:29.400Z"
   },
   {
    "duration": 8,
    "start_time": "2023-10-15T10:19:29.409Z"
   },
   {
    "duration": 4,
    "start_time": "2023-10-15T10:19:29.419Z"
   },
   {
    "duration": 19,
    "start_time": "2023-10-15T10:19:29.443Z"
   },
   {
    "duration": 191,
    "start_time": "2023-10-15T10:19:29.463Z"
   },
   {
    "duration": 177,
    "start_time": "2023-10-15T10:19:29.655Z"
   },
   {
    "duration": 181,
    "start_time": "2023-10-15T10:23:16.300Z"
   },
   {
    "duration": 1087,
    "start_time": "2023-10-15T10:23:40.057Z"
   },
   {
    "duration": 28,
    "start_time": "2023-10-15T10:23:41.146Z"
   },
   {
    "duration": 11,
    "start_time": "2023-10-15T10:23:41.176Z"
   },
   {
    "duration": 33,
    "start_time": "2023-10-15T10:23:41.189Z"
   },
   {
    "duration": 43,
    "start_time": "2023-10-15T10:23:41.223Z"
   },
   {
    "duration": 9,
    "start_time": "2023-10-15T10:23:41.267Z"
   },
   {
    "duration": 39,
    "start_time": "2023-10-15T10:23:41.277Z"
   },
   {
    "duration": 38,
    "start_time": "2023-10-15T10:23:41.318Z"
   },
   {
    "duration": 31,
    "start_time": "2023-10-15T10:23:41.358Z"
   },
   {
    "duration": 38,
    "start_time": "2023-10-15T10:23:41.391Z"
   },
   {
    "duration": 63,
    "start_time": "2023-10-15T10:23:41.431Z"
   },
   {
    "duration": 34,
    "start_time": "2023-10-15T10:23:41.495Z"
   },
   {
    "duration": 37,
    "start_time": "2023-10-15T10:23:41.530Z"
   },
   {
    "duration": 40,
    "start_time": "2023-10-15T10:23:41.569Z"
   },
   {
    "duration": 16,
    "start_time": "2023-10-15T10:23:41.611Z"
   },
   {
    "duration": 26,
    "start_time": "2023-10-15T10:23:41.629Z"
   },
   {
    "duration": 29,
    "start_time": "2023-10-15T10:23:41.656Z"
   },
   {
    "duration": 27,
    "start_time": "2023-10-15T10:23:41.686Z"
   },
   {
    "duration": 34,
    "start_time": "2023-10-15T10:23:41.714Z"
   },
   {
    "duration": 52,
    "start_time": "2023-10-15T10:23:41.749Z"
   },
   {
    "duration": 18,
    "start_time": "2023-10-15T10:23:41.802Z"
   },
   {
    "duration": 33,
    "start_time": "2023-10-15T10:23:41.822Z"
   },
   {
    "duration": 15,
    "start_time": "2023-10-15T10:23:41.856Z"
   },
   {
    "duration": 205,
    "start_time": "2023-10-15T10:23:41.872Z"
   },
   {
    "duration": 175,
    "start_time": "2023-10-15T10:23:42.079Z"
   },
   {
    "duration": 10,
    "start_time": "2023-10-15T10:23:42.256Z"
   },
   {
    "duration": 154,
    "start_time": "2023-10-15T10:23:42.267Z"
   },
   {
    "duration": 120,
    "start_time": "2023-10-15T10:23:42.426Z"
   },
   {
    "duration": 11,
    "start_time": "2023-10-15T10:23:42.548Z"
   },
   {
    "duration": 319,
    "start_time": "2023-10-15T10:23:42.560Z"
   },
   {
    "duration": 4,
    "start_time": "2023-10-15T10:23:42.880Z"
   },
   {
    "duration": 50,
    "start_time": "2023-10-15T10:23:42.886Z"
   },
   {
    "duration": 355,
    "start_time": "2023-10-15T10:23:42.938Z"
   },
   {
    "duration": 208,
    "start_time": "2023-10-15T10:23:43.294Z"
   },
   {
    "duration": 3,
    "start_time": "2023-10-15T10:23:43.503Z"
   },
   {
    "duration": 25,
    "start_time": "2023-10-15T10:23:43.508Z"
   },
   {
    "duration": 346,
    "start_time": "2023-10-15T10:23:43.534Z"
   },
   {
    "duration": 13,
    "start_time": "2023-10-15T10:23:43.881Z"
   },
   {
    "duration": 38,
    "start_time": "2023-10-15T10:23:43.895Z"
   },
   {
    "duration": 403,
    "start_time": "2023-10-15T10:23:43.934Z"
   },
   {
    "duration": 311,
    "start_time": "2023-10-15T10:23:44.339Z"
   },
   {
    "duration": 126,
    "start_time": "2023-10-15T10:23:44.651Z"
   },
   {
    "duration": 276,
    "start_time": "2023-10-15T10:23:44.778Z"
   },
   {
    "duration": 8,
    "start_time": "2023-10-15T10:23:45.056Z"
   },
   {
    "duration": 79,
    "start_time": "2023-10-15T10:23:45.066Z"
   },
   {
    "duration": 26,
    "start_time": "2023-10-15T10:23:45.147Z"
   },
   {
    "duration": 30,
    "start_time": "2023-10-15T10:23:45.174Z"
   },
   {
    "duration": 6,
    "start_time": "2023-10-15T10:23:45.245Z"
   },
   {
    "duration": 37,
    "start_time": "2023-10-15T10:23:45.252Z"
   },
   {
    "duration": 54,
    "start_time": "2023-10-15T10:23:45.291Z"
   },
   {
    "duration": 611,
    "start_time": "2023-10-15T10:23:45.347Z"
   },
   {
    "duration": 9,
    "start_time": "2023-10-15T10:23:45.959Z"
   },
   {
    "duration": 630,
    "start_time": "2023-10-15T10:23:45.969Z"
   },
   {
    "duration": 236,
    "start_time": "2023-10-15T10:23:46.600Z"
   },
   {
    "duration": 12,
    "start_time": "2023-10-15T10:23:46.837Z"
   },
   {
    "duration": 371,
    "start_time": "2023-10-15T10:23:46.850Z"
   },
   {
    "duration": 7,
    "start_time": "2023-10-15T10:23:47.223Z"
   },
   {
    "duration": 437,
    "start_time": "2023-10-15T10:23:47.232Z"
   },
   {
    "duration": 243,
    "start_time": "2023-10-15T10:23:47.670Z"
   },
   {
    "duration": 4,
    "start_time": "2023-10-15T10:23:47.915Z"
   },
   {
    "duration": 30,
    "start_time": "2023-10-15T10:23:47.920Z"
   },
   {
    "duration": 16,
    "start_time": "2023-10-15T10:23:47.951Z"
   },
   {
    "duration": 4,
    "start_time": "2023-10-15T10:23:47.968Z"
   },
   {
    "duration": 230,
    "start_time": "2023-10-15T10:23:47.973Z"
   },
   {
    "duration": 12,
    "start_time": "2023-10-15T10:23:48.204Z"
   },
   {
    "duration": 8,
    "start_time": "2023-10-15T10:23:48.218Z"
   },
   {
    "duration": 8,
    "start_time": "2023-10-15T10:23:48.228Z"
   },
   {
    "duration": 7,
    "start_time": "2023-10-15T10:23:48.244Z"
   },
   {
    "duration": 7,
    "start_time": "2023-10-15T10:23:48.253Z"
   },
   {
    "duration": 18,
    "start_time": "2023-10-15T10:23:48.261Z"
   },
   {
    "duration": 180,
    "start_time": "2023-10-15T10:23:48.281Z"
   },
   {
    "duration": 152,
    "start_time": "2023-10-15T10:23:48.463Z"
   },
   {
    "duration": 1050,
    "start_time": "2023-10-15T10:25:06.794Z"
   },
   {
    "duration": 27,
    "start_time": "2023-10-15T10:25:07.846Z"
   },
   {
    "duration": 11,
    "start_time": "2023-10-15T10:25:07.875Z"
   },
   {
    "duration": 29,
    "start_time": "2023-10-15T10:25:07.887Z"
   },
   {
    "duration": 45,
    "start_time": "2023-10-15T10:25:07.917Z"
   },
   {
    "duration": 19,
    "start_time": "2023-10-15T10:25:07.964Z"
   },
   {
    "duration": 49,
    "start_time": "2023-10-15T10:25:07.985Z"
   },
   {
    "duration": 27,
    "start_time": "2023-10-15T10:25:08.036Z"
   },
   {
    "duration": 14,
    "start_time": "2023-10-15T10:25:08.065Z"
   },
   {
    "duration": 36,
    "start_time": "2023-10-15T10:25:08.082Z"
   },
   {
    "duration": 18,
    "start_time": "2023-10-15T10:25:08.119Z"
   },
   {
    "duration": 16,
    "start_time": "2023-10-15T10:25:08.138Z"
   },
   {
    "duration": 20,
    "start_time": "2023-10-15T10:25:08.155Z"
   },
   {
    "duration": 11,
    "start_time": "2023-10-15T10:25:08.177Z"
   },
   {
    "duration": 19,
    "start_time": "2023-10-15T10:25:08.190Z"
   },
   {
    "duration": 31,
    "start_time": "2023-10-15T10:25:08.211Z"
   },
   {
    "duration": 16,
    "start_time": "2023-10-15T10:25:08.243Z"
   },
   {
    "duration": 27,
    "start_time": "2023-10-15T10:25:08.260Z"
   },
   {
    "duration": 28,
    "start_time": "2023-10-15T10:25:08.288Z"
   },
   {
    "duration": 21,
    "start_time": "2023-10-15T10:25:08.317Z"
   },
   {
    "duration": 32,
    "start_time": "2023-10-15T10:25:08.340Z"
   },
   {
    "duration": 23,
    "start_time": "2023-10-15T10:25:08.374Z"
   },
   {
    "duration": 31,
    "start_time": "2023-10-15T10:25:08.399Z"
   },
   {
    "duration": 207,
    "start_time": "2023-10-15T10:25:08.432Z"
   },
   {
    "duration": 90,
    "start_time": "2023-10-15T10:25:08.644Z"
   },
   {
    "duration": 0,
    "start_time": "2023-10-15T10:25:08.744Z"
   },
   {
    "duration": 0,
    "start_time": "2023-10-15T10:25:08.746Z"
   },
   {
    "duration": 0,
    "start_time": "2023-10-15T10:25:08.747Z"
   },
   {
    "duration": 0,
    "start_time": "2023-10-15T10:25:08.748Z"
   },
   {
    "duration": 0,
    "start_time": "2023-10-15T10:25:08.749Z"
   },
   {
    "duration": 0,
    "start_time": "2023-10-15T10:25:08.750Z"
   },
   {
    "duration": 0,
    "start_time": "2023-10-15T10:25:08.752Z"
   },
   {
    "duration": 0,
    "start_time": "2023-10-15T10:25:08.753Z"
   },
   {
    "duration": 0,
    "start_time": "2023-10-15T10:25:08.754Z"
   },
   {
    "duration": 0,
    "start_time": "2023-10-15T10:25:08.754Z"
   },
   {
    "duration": 0,
    "start_time": "2023-10-15T10:25:08.755Z"
   },
   {
    "duration": 0,
    "start_time": "2023-10-15T10:25:08.757Z"
   },
   {
    "duration": 0,
    "start_time": "2023-10-15T10:25:08.758Z"
   },
   {
    "duration": 0,
    "start_time": "2023-10-15T10:25:08.759Z"
   },
   {
    "duration": 0,
    "start_time": "2023-10-15T10:25:08.760Z"
   },
   {
    "duration": 0,
    "start_time": "2023-10-15T10:25:08.761Z"
   },
   {
    "duration": 0,
    "start_time": "2023-10-15T10:25:08.761Z"
   },
   {
    "duration": 0,
    "start_time": "2023-10-15T10:25:08.762Z"
   },
   {
    "duration": 0,
    "start_time": "2023-10-15T10:25:08.763Z"
   },
   {
    "duration": 0,
    "start_time": "2023-10-15T10:25:08.764Z"
   },
   {
    "duration": 0,
    "start_time": "2023-10-15T10:25:08.766Z"
   },
   {
    "duration": 0,
    "start_time": "2023-10-15T10:25:08.767Z"
   },
   {
    "duration": 0,
    "start_time": "2023-10-15T10:25:08.768Z"
   },
   {
    "duration": 0,
    "start_time": "2023-10-15T10:25:08.770Z"
   },
   {
    "duration": 0,
    "start_time": "2023-10-15T10:25:08.771Z"
   },
   {
    "duration": 0,
    "start_time": "2023-10-15T10:25:08.772Z"
   },
   {
    "duration": 0,
    "start_time": "2023-10-15T10:25:08.773Z"
   },
   {
    "duration": 0,
    "start_time": "2023-10-15T10:25:08.773Z"
   },
   {
    "duration": 0,
    "start_time": "2023-10-15T10:25:08.775Z"
   },
   {
    "duration": 0,
    "start_time": "2023-10-15T10:25:08.776Z"
   },
   {
    "duration": 0,
    "start_time": "2023-10-15T10:25:08.777Z"
   },
   {
    "duration": 0,
    "start_time": "2023-10-15T10:25:08.777Z"
   },
   {
    "duration": 0,
    "start_time": "2023-10-15T10:25:08.778Z"
   },
   {
    "duration": 0,
    "start_time": "2023-10-15T10:25:08.779Z"
   },
   {
    "duration": 0,
    "start_time": "2023-10-15T10:25:08.780Z"
   },
   {
    "duration": 0,
    "start_time": "2023-10-15T10:25:08.781Z"
   },
   {
    "duration": 0,
    "start_time": "2023-10-15T10:25:08.844Z"
   },
   {
    "duration": 0,
    "start_time": "2023-10-15T10:25:08.846Z"
   },
   {
    "duration": 0,
    "start_time": "2023-10-15T10:25:08.846Z"
   },
   {
    "duration": 0,
    "start_time": "2023-10-15T10:25:08.847Z"
   },
   {
    "duration": 0,
    "start_time": "2023-10-15T10:25:08.848Z"
   },
   {
    "duration": 0,
    "start_time": "2023-10-15T10:25:08.849Z"
   },
   {
    "duration": 0,
    "start_time": "2023-10-15T10:25:08.850Z"
   },
   {
    "duration": 1,
    "start_time": "2023-10-15T10:25:08.850Z"
   },
   {
    "duration": 0,
    "start_time": "2023-10-15T10:25:08.851Z"
   },
   {
    "duration": 0,
    "start_time": "2023-10-15T10:25:08.852Z"
   },
   {
    "duration": 0,
    "start_time": "2023-10-15T10:25:08.853Z"
   },
   {
    "duration": 1172,
    "start_time": "2023-10-15T10:26:13.020Z"
   },
   {
    "duration": 29,
    "start_time": "2023-10-15T10:26:14.195Z"
   },
   {
    "duration": 14,
    "start_time": "2023-10-15T10:26:14.226Z"
   },
   {
    "duration": 10,
    "start_time": "2023-10-15T10:26:14.242Z"
   },
   {
    "duration": 41,
    "start_time": "2023-10-15T10:26:14.255Z"
   },
   {
    "duration": 8,
    "start_time": "2023-10-15T10:26:14.298Z"
   },
   {
    "duration": 11,
    "start_time": "2023-10-15T10:26:14.308Z"
   },
   {
    "duration": 37,
    "start_time": "2023-10-15T10:26:14.321Z"
   },
   {
    "duration": 6,
    "start_time": "2023-10-15T10:26:14.360Z"
   },
   {
    "duration": 25,
    "start_time": "2023-10-15T10:26:14.369Z"
   },
   {
    "duration": 14,
    "start_time": "2023-10-15T10:26:14.395Z"
   },
   {
    "duration": 8,
    "start_time": "2023-10-15T10:26:14.411Z"
   },
   {
    "duration": 4,
    "start_time": "2023-10-15T10:26:14.421Z"
   },
   {
    "duration": 23,
    "start_time": "2023-10-15T10:26:14.426Z"
   },
   {
    "duration": 14,
    "start_time": "2023-10-15T10:26:14.450Z"
   },
   {
    "duration": 12,
    "start_time": "2023-10-15T10:26:14.465Z"
   },
   {
    "duration": 10,
    "start_time": "2023-10-15T10:26:14.479Z"
   },
   {
    "duration": 22,
    "start_time": "2023-10-15T10:26:14.490Z"
   },
   {
    "duration": 19,
    "start_time": "2023-10-15T10:26:14.514Z"
   },
   {
    "duration": 29,
    "start_time": "2023-10-15T10:26:14.534Z"
   },
   {
    "duration": 13,
    "start_time": "2023-10-15T10:26:14.565Z"
   },
   {
    "duration": 205,
    "start_time": "2023-10-15T10:26:14.579Z"
   },
   {
    "duration": 10,
    "start_time": "2023-10-15T10:26:14.786Z"
   },
   {
    "duration": 137,
    "start_time": "2023-10-15T10:26:14.797Z"
   },
   {
    "duration": 121,
    "start_time": "2023-10-15T10:26:14.935Z"
   },
   {
    "duration": 12,
    "start_time": "2023-10-15T10:26:15.058Z"
   },
   {
    "duration": 299,
    "start_time": "2023-10-15T10:26:15.072Z"
   },
   {
    "duration": 3,
    "start_time": "2023-10-15T10:26:15.375Z"
   },
   {
    "duration": 21,
    "start_time": "2023-10-15T10:26:15.380Z"
   },
   {
    "duration": 329,
    "start_time": "2023-10-15T10:26:15.403Z"
   },
   {
    "duration": 236,
    "start_time": "2023-10-15T10:26:15.734Z"
   },
   {
    "duration": 4,
    "start_time": "2023-10-15T10:26:15.972Z"
   },
   {
    "duration": 20,
    "start_time": "2023-10-15T10:26:15.977Z"
   },
   {
    "duration": 372,
    "start_time": "2023-10-15T10:26:15.999Z"
   },
   {
    "duration": 14,
    "start_time": "2023-10-15T10:26:16.373Z"
   },
   {
    "duration": 8,
    "start_time": "2023-10-15T10:26:16.443Z"
   },
   {
    "duration": 710,
    "start_time": "2023-10-15T10:26:16.453Z"
   },
   {
    "duration": 700,
    "start_time": "2023-10-15T10:26:17.165Z"
   },
   {
    "duration": 279,
    "start_time": "2023-10-15T10:26:17.867Z"
   },
   {
    "duration": 234,
    "start_time": "2023-10-15T10:26:18.148Z"
   },
   {
    "duration": 9,
    "start_time": "2023-10-15T10:26:18.383Z"
   },
   {
    "duration": 8,
    "start_time": "2023-10-15T10:26:18.394Z"
   },
   {
    "duration": 18,
    "start_time": "2023-10-15T10:26:18.404Z"
   },
   {
    "duration": 28,
    "start_time": "2023-10-15T10:26:18.423Z"
   },
   {
    "duration": 9,
    "start_time": "2023-10-15T10:26:18.452Z"
   },
   {
    "duration": 11,
    "start_time": "2023-10-15T10:26:18.463Z"
   },
   {
    "duration": 10,
    "start_time": "2023-10-15T10:26:18.476Z"
   },
   {
    "duration": 332,
    "start_time": "2023-10-15T10:26:18.487Z"
   },
   {
    "duration": 8,
    "start_time": "2023-10-15T10:26:18.820Z"
   },
   {
    "duration": 367,
    "start_time": "2023-10-15T10:26:18.829Z"
   },
   {
    "duration": 266,
    "start_time": "2023-10-15T10:26:19.197Z"
   },
   {
    "duration": 8,
    "start_time": "2023-10-15T10:26:19.465Z"
   },
   {
    "duration": 417,
    "start_time": "2023-10-15T10:26:19.474Z"
   },
   {
    "duration": 9,
    "start_time": "2023-10-15T10:26:19.893Z"
   },
   {
    "duration": 593,
    "start_time": "2023-10-15T10:26:19.904Z"
   },
   {
    "duration": 250,
    "start_time": "2023-10-15T10:26:20.499Z"
   },
   {
    "duration": 4,
    "start_time": "2023-10-15T10:26:20.752Z"
   },
   {
    "duration": 34,
    "start_time": "2023-10-15T10:26:20.757Z"
   },
   {
    "duration": 20,
    "start_time": "2023-10-15T10:26:20.794Z"
   },
   {
    "duration": 28,
    "start_time": "2023-10-15T10:26:20.816Z"
   },
   {
    "duration": 283,
    "start_time": "2023-10-15T10:26:20.846Z"
   },
   {
    "duration": 15,
    "start_time": "2023-10-15T10:26:21.131Z"
   },
   {
    "duration": 6,
    "start_time": "2023-10-15T10:26:21.148Z"
   },
   {
    "duration": 4,
    "start_time": "2023-10-15T10:26:21.156Z"
   },
   {
    "duration": 8,
    "start_time": "2023-10-15T10:26:21.162Z"
   },
   {
    "duration": 15,
    "start_time": "2023-10-15T10:26:21.172Z"
   },
   {
    "duration": 23,
    "start_time": "2023-10-15T10:26:21.189Z"
   },
   {
    "duration": 187,
    "start_time": "2023-10-15T10:26:21.214Z"
   },
   {
    "duration": 172,
    "start_time": "2023-10-15T10:26:21.403Z"
   },
   {
    "duration": 1143,
    "start_time": "2023-10-15T10:32:38.993Z"
   },
   {
    "duration": 29,
    "start_time": "2023-10-15T10:32:40.138Z"
   },
   {
    "duration": 12,
    "start_time": "2023-10-15T10:32:40.168Z"
   },
   {
    "duration": 17,
    "start_time": "2023-10-15T10:32:40.182Z"
   },
   {
    "duration": 29,
    "start_time": "2023-10-15T10:32:40.201Z"
   },
   {
    "duration": 9,
    "start_time": "2023-10-15T10:32:40.232Z"
   },
   {
    "duration": 11,
    "start_time": "2023-10-15T10:32:40.243Z"
   },
   {
    "duration": 16,
    "start_time": "2023-10-15T10:32:40.256Z"
   },
   {
    "duration": 7,
    "start_time": "2023-10-15T10:32:40.273Z"
   },
   {
    "duration": 10,
    "start_time": "2023-10-15T10:32:40.283Z"
   },
   {
    "duration": 11,
    "start_time": "2023-10-15T10:32:40.295Z"
   },
   {
    "duration": 10,
    "start_time": "2023-10-15T10:32:40.307Z"
   },
   {
    "duration": 6,
    "start_time": "2023-10-15T10:32:40.318Z"
   },
   {
    "duration": 26,
    "start_time": "2023-10-15T10:32:40.325Z"
   },
   {
    "duration": 9,
    "start_time": "2023-10-15T10:32:40.353Z"
   },
   {
    "duration": 11,
    "start_time": "2023-10-15T10:32:40.363Z"
   },
   {
    "duration": 5,
    "start_time": "2023-10-15T10:32:40.376Z"
   },
   {
    "duration": 6,
    "start_time": "2023-10-15T10:32:40.383Z"
   },
   {
    "duration": 10,
    "start_time": "2023-10-15T10:32:40.390Z"
   },
   {
    "duration": 12,
    "start_time": "2023-10-15T10:32:40.402Z"
   },
   {
    "duration": 8,
    "start_time": "2023-10-15T10:32:40.415Z"
   },
   {
    "duration": 205,
    "start_time": "2023-10-15T10:32:40.424Z"
   },
   {
    "duration": 16,
    "start_time": "2023-10-15T10:32:40.630Z"
   },
   {
    "duration": 130,
    "start_time": "2023-10-15T10:32:40.647Z"
   },
   {
    "duration": 119,
    "start_time": "2023-10-15T10:32:40.779Z"
   },
   {
    "duration": 12,
    "start_time": "2023-10-15T10:32:40.900Z"
   },
   {
    "duration": 268,
    "start_time": "2023-10-15T10:32:40.913Z"
   },
   {
    "duration": 3,
    "start_time": "2023-10-15T10:32:41.185Z"
   },
   {
    "duration": 14,
    "start_time": "2023-10-15T10:32:41.189Z"
   },
   {
    "duration": 323,
    "start_time": "2023-10-15T10:32:41.205Z"
   },
   {
    "duration": 222,
    "start_time": "2023-10-15T10:32:41.530Z"
   },
   {
    "duration": 4,
    "start_time": "2023-10-15T10:32:41.754Z"
   },
   {
    "duration": 35,
    "start_time": "2023-10-15T10:32:41.760Z"
   },
   {
    "duration": 321,
    "start_time": "2023-10-15T10:32:41.797Z"
   },
   {
    "duration": 27,
    "start_time": "2023-10-15T10:32:42.120Z"
   },
   {
    "duration": 7,
    "start_time": "2023-10-15T10:32:42.149Z"
   },
   {
    "duration": 327,
    "start_time": "2023-10-15T10:32:42.158Z"
   },
   {
    "duration": 353,
    "start_time": "2023-10-15T10:32:42.487Z"
   },
   {
    "duration": 120,
    "start_time": "2023-10-15T10:32:42.843Z"
   },
   {
    "duration": 133,
    "start_time": "2023-10-15T10:32:42.965Z"
   },
   {
    "duration": 10,
    "start_time": "2023-10-15T10:32:43.099Z"
   },
   {
    "duration": 21,
    "start_time": "2023-10-15T10:32:43.110Z"
   },
   {
    "duration": 18,
    "start_time": "2023-10-15T10:32:43.133Z"
   },
   {
    "duration": 5,
    "start_time": "2023-10-15T10:32:43.153Z"
   },
   {
    "duration": 8,
    "start_time": "2023-10-15T10:32:43.160Z"
   },
   {
    "duration": 7,
    "start_time": "2023-10-15T10:32:43.169Z"
   },
   {
    "duration": 17,
    "start_time": "2023-10-15T10:32:43.178Z"
   },
   {
    "duration": 304,
    "start_time": "2023-10-15T10:32:43.197Z"
   },
   {
    "duration": 9,
    "start_time": "2023-10-15T10:32:43.503Z"
   },
   {
    "duration": 340,
    "start_time": "2023-10-15T10:32:43.513Z"
   },
   {
    "duration": 280,
    "start_time": "2023-10-15T10:32:43.855Z"
   },
   {
    "duration": 11,
    "start_time": "2023-10-15T10:32:44.143Z"
   },
   {
    "duration": 424,
    "start_time": "2023-10-15T10:32:44.156Z"
   },
   {
    "duration": 7,
    "start_time": "2023-10-15T10:32:44.582Z"
   },
   {
    "duration": 476,
    "start_time": "2023-10-15T10:32:44.591Z"
   },
   {
    "duration": 244,
    "start_time": "2023-10-15T10:32:45.069Z"
   },
   {
    "duration": 3,
    "start_time": "2023-10-15T10:32:45.314Z"
   },
   {
    "duration": 40,
    "start_time": "2023-10-15T10:32:45.319Z"
   },
   {
    "duration": 18,
    "start_time": "2023-10-15T10:32:45.361Z"
   },
   {
    "duration": 4,
    "start_time": "2023-10-15T10:32:45.381Z"
   },
   {
    "duration": 217,
    "start_time": "2023-10-15T10:32:45.387Z"
   },
   {
    "duration": 12,
    "start_time": "2023-10-15T10:32:45.605Z"
   },
   {
    "duration": 14,
    "start_time": "2023-10-15T10:32:45.618Z"
   },
   {
    "duration": 5,
    "start_time": "2023-10-15T10:32:45.634Z"
   },
   {
    "duration": 13,
    "start_time": "2023-10-15T10:32:45.640Z"
   },
   {
    "duration": 26,
    "start_time": "2023-10-15T10:32:45.655Z"
   },
   {
    "duration": 8,
    "start_time": "2023-10-15T10:32:45.683Z"
   },
   {
    "duration": 186,
    "start_time": "2023-10-15T10:32:45.692Z"
   },
   {
    "duration": 165,
    "start_time": "2023-10-15T10:32:45.879Z"
   },
   {
    "duration": 7,
    "start_time": "2023-10-15T10:33:38.226Z"
   },
   {
    "duration": 7,
    "start_time": "2023-10-15T10:34:23.941Z"
   },
   {
    "duration": 7,
    "start_time": "2023-10-15T10:46:42.905Z"
   },
   {
    "duration": 7,
    "start_time": "2023-10-15T11:04:10.614Z"
   },
   {
    "duration": 1173,
    "start_time": "2023-10-15T11:15:31.071Z"
   },
   {
    "duration": 29,
    "start_time": "2023-10-15T11:15:32.247Z"
   },
   {
    "duration": 70,
    "start_time": "2023-10-15T11:15:32.277Z"
   },
   {
    "duration": 17,
    "start_time": "2023-10-15T11:15:32.349Z"
   },
   {
    "duration": 46,
    "start_time": "2023-10-15T11:15:32.368Z"
   },
   {
    "duration": 10,
    "start_time": "2023-10-15T11:15:32.415Z"
   },
   {
    "duration": 18,
    "start_time": "2023-10-15T11:15:32.426Z"
   },
   {
    "duration": 24,
    "start_time": "2023-10-15T11:15:32.446Z"
   },
   {
    "duration": 7,
    "start_time": "2023-10-15T11:15:32.472Z"
   },
   {
    "duration": 27,
    "start_time": "2023-10-15T11:15:32.482Z"
   },
   {
    "duration": 136,
    "start_time": "2023-10-15T11:15:32.511Z"
   },
   {
    "duration": 15,
    "start_time": "2023-10-15T11:15:32.649Z"
   },
   {
    "duration": 5,
    "start_time": "2023-10-15T11:15:32.666Z"
   },
   {
    "duration": 12,
    "start_time": "2023-10-15T11:15:32.673Z"
   },
   {
    "duration": 6,
    "start_time": "2023-10-15T11:15:32.686Z"
   },
   {
    "duration": 32,
    "start_time": "2023-10-15T11:15:32.693Z"
   },
   {
    "duration": 8,
    "start_time": "2023-10-15T11:15:32.726Z"
   },
   {
    "duration": 19,
    "start_time": "2023-10-15T11:15:32.735Z"
   },
   {
    "duration": 12,
    "start_time": "2023-10-15T11:15:32.756Z"
   },
   {
    "duration": 25,
    "start_time": "2023-10-15T11:15:32.769Z"
   },
   {
    "duration": 17,
    "start_time": "2023-10-15T11:15:32.795Z"
   },
   {
    "duration": 195,
    "start_time": "2023-10-15T11:15:32.814Z"
   },
   {
    "duration": 11,
    "start_time": "2023-10-15T11:15:33.011Z"
   },
   {
    "duration": 134,
    "start_time": "2023-10-15T11:15:33.023Z"
   },
   {
    "duration": 118,
    "start_time": "2023-10-15T11:15:33.159Z"
   },
   {
    "duration": 12,
    "start_time": "2023-10-15T11:15:33.278Z"
   },
   {
    "duration": 275,
    "start_time": "2023-10-15T11:15:33.292Z"
   },
   {
    "duration": 4,
    "start_time": "2023-10-15T11:15:33.571Z"
   },
   {
    "duration": 11,
    "start_time": "2023-10-15T11:15:33.576Z"
   },
   {
    "duration": 326,
    "start_time": "2023-10-15T11:15:33.589Z"
   },
   {
    "duration": 256,
    "start_time": "2023-10-15T11:15:33.917Z"
   },
   {
    "duration": 4,
    "start_time": "2023-10-15T11:15:34.175Z"
   },
   {
    "duration": 22,
    "start_time": "2023-10-15T11:15:34.181Z"
   },
   {
    "duration": 341,
    "start_time": "2023-10-15T11:15:34.205Z"
   },
   {
    "duration": 13,
    "start_time": "2023-10-15T11:15:34.548Z"
   },
   {
    "duration": 29,
    "start_time": "2023-10-15T11:15:34.563Z"
   },
   {
    "duration": 337,
    "start_time": "2023-10-15T11:15:34.594Z"
   },
   {
    "duration": 313,
    "start_time": "2023-10-15T11:15:34.933Z"
   },
   {
    "duration": 123,
    "start_time": "2023-10-15T11:15:35.248Z"
   },
   {
    "duration": 135,
    "start_time": "2023-10-15T11:15:35.373Z"
   },
   {
    "duration": 10,
    "start_time": "2023-10-15T11:15:35.510Z"
   },
   {
    "duration": 30,
    "start_time": "2023-10-15T11:15:35.521Z"
   },
   {
    "duration": 34,
    "start_time": "2023-10-15T11:15:35.553Z"
   },
   {
    "duration": 34,
    "start_time": "2023-10-15T11:15:35.589Z"
   },
   {
    "duration": 36,
    "start_time": "2023-10-15T11:15:35.625Z"
   },
   {
    "duration": 14,
    "start_time": "2023-10-15T11:15:35.663Z"
   },
   {
    "duration": 23,
    "start_time": "2023-10-15T11:15:35.678Z"
   },
   {
    "duration": 317,
    "start_time": "2023-10-15T11:15:35.703Z"
   },
   {
    "duration": 9,
    "start_time": "2023-10-15T11:15:36.022Z"
   },
   {
    "duration": 330,
    "start_time": "2023-10-15T11:15:36.044Z"
   },
   {
    "duration": 240,
    "start_time": "2023-10-15T11:15:36.375Z"
   },
   {
    "duration": 9,
    "start_time": "2023-10-15T11:15:36.617Z"
   },
   {
    "duration": 436,
    "start_time": "2023-10-15T11:15:36.628Z"
   },
   {
    "duration": 9,
    "start_time": "2023-10-15T11:15:37.065Z"
   },
   {
    "duration": 485,
    "start_time": "2023-10-15T11:15:37.075Z"
   },
   {
    "duration": 266,
    "start_time": "2023-10-15T11:15:37.562Z"
   },
   {
    "duration": 3,
    "start_time": "2023-10-15T11:15:37.830Z"
   },
   {
    "duration": 50,
    "start_time": "2023-10-15T11:15:37.834Z"
   },
   {
    "duration": 37,
    "start_time": "2023-10-15T11:15:37.886Z"
   },
   {
    "duration": 16,
    "start_time": "2023-10-15T11:15:37.925Z"
   },
   {
    "duration": 264,
    "start_time": "2023-10-15T11:15:37.943Z"
   },
   {
    "duration": 12,
    "start_time": "2023-10-15T11:15:38.208Z"
   },
   {
    "duration": 7,
    "start_time": "2023-10-15T11:15:38.222Z"
   },
   {
    "duration": 15,
    "start_time": "2023-10-15T11:15:38.230Z"
   },
   {
    "duration": 8,
    "start_time": "2023-10-15T11:15:38.247Z"
   },
   {
    "duration": 6,
    "start_time": "2023-10-15T11:15:38.257Z"
   },
   {
    "duration": 19,
    "start_time": "2023-10-15T11:15:38.264Z"
   },
   {
    "duration": 160,
    "start_time": "2023-10-15T11:15:38.284Z"
   },
   {
    "duration": 174,
    "start_time": "2023-10-15T11:15:38.446Z"
   },
   {
    "duration": 1222,
    "start_time": "2023-10-15T17:41:01.627Z"
   },
   {
    "duration": 29,
    "start_time": "2023-10-15T17:41:02.851Z"
   },
   {
    "duration": 26,
    "start_time": "2023-10-15T17:41:02.882Z"
   },
   {
    "duration": 46,
    "start_time": "2023-10-15T17:41:02.910Z"
   },
   {
    "duration": 59,
    "start_time": "2023-10-15T17:41:02.958Z"
   },
   {
    "duration": 21,
    "start_time": "2023-10-15T17:41:03.019Z"
   },
   {
    "duration": 23,
    "start_time": "2023-10-15T17:41:03.042Z"
   },
   {
    "duration": 46,
    "start_time": "2023-10-15T17:41:03.067Z"
   },
   {
    "duration": 7,
    "start_time": "2023-10-15T17:41:03.115Z"
   },
   {
    "duration": 32,
    "start_time": "2023-10-15T17:41:03.123Z"
   },
   {
    "duration": 24,
    "start_time": "2023-10-15T17:41:03.157Z"
   },
   {
    "duration": 14,
    "start_time": "2023-10-15T17:41:03.183Z"
   },
   {
    "duration": 21,
    "start_time": "2023-10-15T17:41:03.199Z"
   },
   {
    "duration": 32,
    "start_time": "2023-10-15T17:41:03.223Z"
   },
   {
    "duration": 31,
    "start_time": "2023-10-15T17:41:03.257Z"
   },
   {
    "duration": 39,
    "start_time": "2023-10-15T17:41:03.290Z"
   },
   {
    "duration": 27,
    "start_time": "2023-10-15T17:41:03.331Z"
   },
   {
    "duration": 11,
    "start_time": "2023-10-15T17:41:03.360Z"
   },
   {
    "duration": 16,
    "start_time": "2023-10-15T17:41:03.372Z"
   },
   {
    "duration": 22,
    "start_time": "2023-10-15T17:41:03.390Z"
   },
   {
    "duration": 21,
    "start_time": "2023-10-15T17:41:03.413Z"
   },
   {
    "duration": 195,
    "start_time": "2023-10-15T17:41:03.436Z"
   },
   {
    "duration": 17,
    "start_time": "2023-10-15T17:41:03.632Z"
   },
   {
    "duration": 171,
    "start_time": "2023-10-15T17:41:03.651Z"
   },
   {
    "duration": 120,
    "start_time": "2023-10-15T17:41:03.825Z"
   },
   {
    "duration": 13,
    "start_time": "2023-10-15T17:41:03.947Z"
   },
   {
    "duration": 294,
    "start_time": "2023-10-15T17:41:03.961Z"
   },
   {
    "duration": 4,
    "start_time": "2023-10-15T17:41:04.257Z"
   },
   {
    "duration": 28,
    "start_time": "2023-10-15T17:41:04.262Z"
   },
   {
    "duration": 392,
    "start_time": "2023-10-15T17:41:04.292Z"
   },
   {
    "duration": 227,
    "start_time": "2023-10-15T17:41:04.686Z"
   },
   {
    "duration": 4,
    "start_time": "2023-10-15T17:41:04.915Z"
   },
   {
    "duration": 31,
    "start_time": "2023-10-15T17:41:04.920Z"
   },
   {
    "duration": 338,
    "start_time": "2023-10-15T17:41:04.953Z"
   },
   {
    "duration": 15,
    "start_time": "2023-10-15T17:41:05.293Z"
   },
   {
    "duration": 50,
    "start_time": "2023-10-15T17:41:05.309Z"
   },
   {
    "duration": 347,
    "start_time": "2023-10-15T17:41:05.361Z"
   },
   {
    "duration": 322,
    "start_time": "2023-10-15T17:41:05.710Z"
   },
   {
    "duration": 129,
    "start_time": "2023-10-15T17:41:06.034Z"
   },
   {
    "duration": 142,
    "start_time": "2023-10-15T17:41:06.165Z"
   },
   {
    "duration": 9,
    "start_time": "2023-10-15T17:41:06.312Z"
   },
   {
    "duration": 27,
    "start_time": "2023-10-15T17:41:06.322Z"
   },
   {
    "duration": 20,
    "start_time": "2023-10-15T17:41:06.351Z"
   },
   {
    "duration": 10,
    "start_time": "2023-10-15T17:41:06.373Z"
   },
   {
    "duration": 13,
    "start_time": "2023-10-15T17:41:06.385Z"
   },
   {
    "duration": 6,
    "start_time": "2023-10-15T17:41:06.400Z"
   },
   {
    "duration": 15,
    "start_time": "2023-10-15T17:41:06.407Z"
   },
   {
    "duration": 367,
    "start_time": "2023-10-15T17:41:06.423Z"
   },
   {
    "duration": 9,
    "start_time": "2023-10-15T17:41:06.792Z"
   },
   {
    "duration": 345,
    "start_time": "2023-10-15T17:41:06.803Z"
   },
   {
    "duration": 250,
    "start_time": "2023-10-15T17:41:07.149Z"
   },
   {
    "duration": 9,
    "start_time": "2023-10-15T17:41:07.402Z"
   },
   {
    "duration": 395,
    "start_time": "2023-10-15T17:41:07.413Z"
   },
   {
    "duration": 9,
    "start_time": "2023-10-15T17:41:07.810Z"
   },
   {
    "duration": 517,
    "start_time": "2023-10-15T17:41:07.820Z"
   },
   {
    "duration": 265,
    "start_time": "2023-10-15T17:41:08.339Z"
   },
   {
    "duration": 3,
    "start_time": "2023-10-15T17:41:08.606Z"
   },
   {
    "duration": 38,
    "start_time": "2023-10-15T17:41:08.611Z"
   },
   {
    "duration": 16,
    "start_time": "2023-10-15T17:41:08.651Z"
   },
   {
    "duration": 4,
    "start_time": "2023-10-15T17:41:08.668Z"
   },
   {
    "duration": 257,
    "start_time": "2023-10-15T17:41:08.674Z"
   },
   {
    "duration": 15,
    "start_time": "2023-10-15T17:41:08.933Z"
   },
   {
    "duration": 21,
    "start_time": "2023-10-15T17:41:08.950Z"
   },
   {
    "duration": 11,
    "start_time": "2023-10-15T17:41:08.973Z"
   },
   {
    "duration": 14,
    "start_time": "2023-10-15T17:41:08.986Z"
   },
   {
    "duration": 17,
    "start_time": "2023-10-15T17:41:09.002Z"
   },
   {
    "duration": 12,
    "start_time": "2023-10-15T17:41:09.021Z"
   },
   {
    "duration": 185,
    "start_time": "2023-10-15T17:41:09.035Z"
   },
   {
    "duration": 180,
    "start_time": "2023-10-15T17:41:09.222Z"
   },
   {
    "duration": 1393,
    "start_time": "2024-04-07T09:33:29.219Z"
   },
   {
    "duration": 101,
    "start_time": "2024-04-07T09:33:30.614Z"
   },
   {
    "duration": 11,
    "start_time": "2024-04-07T09:33:30.717Z"
   },
   {
    "duration": 152,
    "start_time": "2024-04-07T09:33:30.730Z"
   },
   {
    "duration": 218,
    "start_time": "2024-04-07T09:33:30.884Z"
   },
   {
    "duration": 13,
    "start_time": "2024-04-07T09:33:31.105Z"
   },
   {
    "duration": 89,
    "start_time": "2024-04-07T09:33:31.120Z"
   },
   {
    "duration": 110,
    "start_time": "2024-04-07T09:33:31.211Z"
   },
   {
    "duration": 37,
    "start_time": "2024-04-07T09:33:31.323Z"
   },
   {
    "duration": 114,
    "start_time": "2024-04-07T09:33:31.362Z"
   },
   {
    "duration": 44,
    "start_time": "2024-04-07T09:33:31.477Z"
   },
   {
    "duration": 60,
    "start_time": "2024-04-07T09:33:31.523Z"
   },
   {
    "duration": 221,
    "start_time": "2024-04-07T09:33:31.584Z"
   },
   {
    "duration": 82,
    "start_time": "2024-04-07T09:33:31.807Z"
   },
   {
    "duration": 38,
    "start_time": "2024-04-07T09:33:31.891Z"
   },
   {
    "duration": 42,
    "start_time": "2024-04-07T09:33:31.930Z"
   },
   {
    "duration": 30,
    "start_time": "2024-04-07T09:33:31.974Z"
   },
   {
    "duration": 39,
    "start_time": "2024-04-07T09:33:32.006Z"
   },
   {
    "duration": 15,
    "start_time": "2024-04-07T09:33:32.046Z"
   },
   {
    "duration": 34,
    "start_time": "2024-04-07T09:33:32.062Z"
   },
   {
    "duration": 80,
    "start_time": "2024-04-07T09:33:32.097Z"
   },
   {
    "duration": 269,
    "start_time": "2024-04-07T09:33:32.179Z"
   },
   {
    "duration": 13,
    "start_time": "2024-04-07T09:33:32.449Z"
   },
   {
    "duration": 321,
    "start_time": "2024-04-07T09:33:32.464Z"
   },
   {
    "duration": 134,
    "start_time": "2024-04-07T09:33:32.787Z"
   },
   {
    "duration": 12,
    "start_time": "2024-04-07T09:33:32.923Z"
   },
   {
    "duration": 324,
    "start_time": "2024-04-07T09:33:32.936Z"
   },
   {
    "duration": 3,
    "start_time": "2024-04-07T09:33:33.264Z"
   },
   {
    "duration": 25,
    "start_time": "2024-04-07T09:33:33.269Z"
   },
   {
    "duration": 371,
    "start_time": "2024-04-07T09:33:33.295Z"
   },
   {
    "duration": 243,
    "start_time": "2024-04-07T09:33:33.668Z"
   },
   {
    "duration": 4,
    "start_time": "2024-04-07T09:33:33.914Z"
   },
   {
    "duration": 20,
    "start_time": "2024-04-07T09:33:33.921Z"
   },
   {
    "duration": 337,
    "start_time": "2024-04-07T09:33:33.943Z"
   },
   {
    "duration": 14,
    "start_time": "2024-04-07T09:33:34.282Z"
   },
   {
    "duration": 184,
    "start_time": "2024-04-07T09:33:34.298Z"
   },
   {
    "duration": 303,
    "start_time": "2024-04-07T09:33:34.483Z"
   },
   {
    "duration": 385,
    "start_time": "2024-04-07T09:33:34.787Z"
   },
   {
    "duration": 128,
    "start_time": "2024-04-07T09:33:35.173Z"
   },
   {
    "duration": 138,
    "start_time": "2024-04-07T09:33:35.304Z"
   },
   {
    "duration": 8,
    "start_time": "2024-04-07T09:33:35.443Z"
   },
   {
    "duration": 42,
    "start_time": "2024-04-07T09:33:35.452Z"
   },
   {
    "duration": 45,
    "start_time": "2024-04-07T09:33:35.496Z"
   },
   {
    "duration": 140,
    "start_time": "2024-04-07T09:33:35.542Z"
   },
   {
    "duration": 71,
    "start_time": "2024-04-07T09:33:35.684Z"
   },
   {
    "duration": 32,
    "start_time": "2024-04-07T09:33:35.757Z"
   },
   {
    "duration": 40,
    "start_time": "2024-04-07T09:33:35.791Z"
   },
   {
    "duration": 348,
    "start_time": "2024-04-07T09:33:35.832Z"
   },
   {
    "duration": 13,
    "start_time": "2024-04-07T09:33:36.182Z"
   },
   {
    "duration": 370,
    "start_time": "2024-04-07T09:33:36.197Z"
   },
   {
    "duration": 271,
    "start_time": "2024-04-07T09:33:36.569Z"
   },
   {
    "duration": 9,
    "start_time": "2024-04-07T09:33:36.841Z"
   },
   {
    "duration": 444,
    "start_time": "2024-04-07T09:33:36.851Z"
   },
   {
    "duration": 11,
    "start_time": "2024-04-07T09:33:37.297Z"
   },
   {
    "duration": 524,
    "start_time": "2024-04-07T09:33:37.310Z"
   },
   {
    "duration": 296,
    "start_time": "2024-04-07T09:33:37.836Z"
   },
   {
    "duration": 4,
    "start_time": "2024-04-07T09:33:38.133Z"
   },
   {
    "duration": 34,
    "start_time": "2024-04-07T09:33:38.138Z"
   },
   {
    "duration": 21,
    "start_time": "2024-04-07T09:33:38.174Z"
   },
   {
    "duration": 7,
    "start_time": "2024-04-07T09:33:38.197Z"
   },
   {
    "duration": 253,
    "start_time": "2024-04-07T09:33:38.205Z"
   },
   {
    "duration": 13,
    "start_time": "2024-04-07T09:33:38.459Z"
   },
   {
    "duration": 6,
    "start_time": "2024-04-07T09:33:38.474Z"
   },
   {
    "duration": 6,
    "start_time": "2024-04-07T09:33:38.495Z"
   },
   {
    "duration": 15,
    "start_time": "2024-04-07T09:33:38.504Z"
   },
   {
    "duration": 8,
    "start_time": "2024-04-07T09:33:38.520Z"
   },
   {
    "duration": 11,
    "start_time": "2024-04-07T09:33:38.530Z"
   },
   {
    "duration": 191,
    "start_time": "2024-04-07T09:33:38.543Z"
   },
   {
    "duration": 168,
    "start_time": "2024-04-07T09:33:38.736Z"
   }
  ],
  "kernelspec": {
   "display_name": "Python 3 (ipykernel)",
   "language": "python",
   "name": "python3"
  },
  "language_info": {
   "codemirror_mode": {
    "name": "ipython",
    "version": 3
   },
   "file_extension": ".py",
   "mimetype": "text/x-python",
   "name": "python",
   "nbconvert_exporter": "python",
   "pygments_lexer": "ipython3",
   "version": "3.11.5"
  },
  "toc": {
   "base_numbering": 1,
   "nav_menu": {
    "height": "203px",
    "width": "302px"
   },
   "number_sections": true,
   "sideBar": true,
   "skip_h1_title": true,
   "title_cell": "Table of Contents",
   "title_sidebar": "Contents",
   "toc_cell": false,
   "toc_position": {},
   "toc_section_display": true,
   "toc_window_display": true
  }
 },
 "nbformat": 4,
 "nbformat_minor": 5
}
