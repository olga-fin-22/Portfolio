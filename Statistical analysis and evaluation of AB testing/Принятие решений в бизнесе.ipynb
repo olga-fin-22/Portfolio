{
 "cells": [
  {
   "cell_type": "markdown",
   "metadata": {},
   "source": [
    "# Принятие решений в бизнесе"
   ]
  },
  {
   "cell_type": "markdown",
   "metadata": {},
   "source": [
    "____    \n",
    "    \n",
    "**Название проекта**\n",
    "\n",
    "Принятие решений в бизнесе\n",
    "    \n",
    "_____\n",
    "**Цель исследования.**\n",
    "    \n",
    "Приоритизация и тестирование гипотез для увеличения выручки интернет-магазина\n",
    "    \n",
    "_____\n",
    "**Задачи исследования.**\n",
    "\n",
    "*Первая часть* Нам необходимо загрузить данные с описанием гипотез и оценкой их параметров. После применим феймворк ICE  и RICE с выявлением приоритетных гипотез.\n",
    "\n",
    "*Вторая часть*\n",
    "\n",
    "Необходимо выгрузить данные тестирования из двух датафремов. Проверить данные на полноту и пересечение массивов. Выявить\n",
    "кумулятивной выручку по группам, кумулятивный средний чек по группам, а так же относительное изменение кумулятивного среднего чека группы B к группе A. В дальнейшем просмотреть кумулятивное среднее количество заказов на посетителя по группам, а так же относительного его изменения по группам. Выявить аномалии в данных количества заказов по пользователям и стоимостей заказов.\n",
    "А после просмотреть статистическую знаимость различий в среднем чеке заказа, в среднем количестве заказов на посетителя между группами по \"сырым\" данным и \"очищенным\" данным.\n",
    "\n",
    "____\n",
    "**Исходные данные.**\n",
    "    \n",
    "*Первая часть* У нас в распоряжении датасет с описанием гипотез и оценкой параметров: Reach, Impact, Confidence, Effort.\n",
    "\n",
    "*Вторая часть*\n",
    "У нас в распоряжении два датасета по результатам проведенного  А/В тестирования. Первый содержит информацию о заказах, дате свершения их, идентификаторе пользователя, совершившего заказ, выручке и группу A/B-теста, в которую попал заказ. Второй хранит информацию о дате, группе А/В тестирования и количестве пользователей в указанную дату в указанной группе A/B-теста.\n",
    "\n",
    "______\n"
   ]
  },
  {
   "cell_type": "markdown",
   "metadata": {},
   "source": [
    "## Первая часть"
   ]
  },
  {
   "cell_type": "markdown",
   "metadata": {},
   "source": [
    "### Приоритизация гипотез "
   ]
  },
  {
   "cell_type": "code",
   "execution_count": 1,
   "metadata": {},
   "outputs": [],
   "source": [
    "# импорт библиотек\n",
    "import pandas as pd\n",
    "import scipy.stats as stats\n",
    "import datetime as dt\n",
    "import numpy as np\n",
    "import matplotlib.pyplot as plt\n",
    "import seaborn as sns\n",
    "from pandas.plotting import register_matplotlib_converters\n",
    "import warnings"
   ]
  },
  {
   "cell_type": "code",
   "execution_count": 2,
   "metadata": {
    "scrolled": true
   },
   "outputs": [],
   "source": [
    "#cчитывание CSV-файла с данными с помощью библиотеки pandas и сохранение в датафрейм\n",
    "data = pd.read_csv('/datasets/hypothesis.csv')"
   ]
  },
  {
   "cell_type": "code",
   "execution_count": 3,
   "metadata": {},
   "outputs": [],
   "source": [
    "# выведение содержимого строк полностью с помощью set_option()\n",
    "pd.set_option('display.max_colwidth', None)"
   ]
  },
  {
   "cell_type": "code",
   "execution_count": 4,
   "metadata": {},
   "outputs": [
    {
     "data": {
      "text/html": [
       "<div>\n",
       "<style scoped>\n",
       "    .dataframe tbody tr th:only-of-type {\n",
       "        vertical-align: middle;\n",
       "    }\n",
       "\n",
       "    .dataframe tbody tr th {\n",
       "        vertical-align: top;\n",
       "    }\n",
       "\n",
       "    .dataframe thead th {\n",
       "        text-align: right;\n",
       "    }\n",
       "</style>\n",
       "<table border=\"1\" class=\"dataframe\">\n",
       "  <thead>\n",
       "    <tr style=\"text-align: right;\">\n",
       "      <th></th>\n",
       "      <th>Hypothesis</th>\n",
       "      <th>Reach</th>\n",
       "      <th>Impact</th>\n",
       "      <th>Confidence</th>\n",
       "      <th>Efforts</th>\n",
       "    </tr>\n",
       "  </thead>\n",
       "  <tbody>\n",
       "    <tr>\n",
       "      <th>0</th>\n",
       "      <td>Добавить два новых канала привлечения трафика, что позволит привлекать на 30% больше пользователей</td>\n",
       "      <td>3</td>\n",
       "      <td>10</td>\n",
       "      <td>8</td>\n",
       "      <td>6</td>\n",
       "    </tr>\n",
       "    <tr>\n",
       "      <th>1</th>\n",
       "      <td>Запустить собственную службу доставки, что сократит срок доставки заказов</td>\n",
       "      <td>2</td>\n",
       "      <td>5</td>\n",
       "      <td>4</td>\n",
       "      <td>10</td>\n",
       "    </tr>\n",
       "    <tr>\n",
       "      <th>2</th>\n",
       "      <td>Добавить блоки рекомендаций товаров на сайт интернет магазина, чтобы повысить конверсию и средний чек заказа</td>\n",
       "      <td>8</td>\n",
       "      <td>3</td>\n",
       "      <td>7</td>\n",
       "      <td>3</td>\n",
       "    </tr>\n",
       "    <tr>\n",
       "      <th>3</th>\n",
       "      <td>Изменить структура категорий, что увеличит конверсию, т.к. пользователи быстрее найдут нужный товар</td>\n",
       "      <td>8</td>\n",
       "      <td>3</td>\n",
       "      <td>3</td>\n",
       "      <td>8</td>\n",
       "    </tr>\n",
       "    <tr>\n",
       "      <th>4</th>\n",
       "      <td>Изменить цвет фона главной страницы, чтобы увеличить вовлеченность пользователей</td>\n",
       "      <td>3</td>\n",
       "      <td>1</td>\n",
       "      <td>1</td>\n",
       "      <td>1</td>\n",
       "    </tr>\n",
       "    <tr>\n",
       "      <th>5</th>\n",
       "      <td>Добавить страницу отзывов клиентов о магазине, что позволит увеличить количество заказов</td>\n",
       "      <td>3</td>\n",
       "      <td>2</td>\n",
       "      <td>2</td>\n",
       "      <td>3</td>\n",
       "    </tr>\n",
       "    <tr>\n",
       "      <th>6</th>\n",
       "      <td>Показать на главной странице баннеры с актуальными акциями и распродажами, чтобы увеличить конверсию</td>\n",
       "      <td>5</td>\n",
       "      <td>3</td>\n",
       "      <td>8</td>\n",
       "      <td>3</td>\n",
       "    </tr>\n",
       "    <tr>\n",
       "      <th>7</th>\n",
       "      <td>Добавить форму подписки на все основные страницы, чтобы собрать базу клиентов для email-рассылок</td>\n",
       "      <td>10</td>\n",
       "      <td>7</td>\n",
       "      <td>8</td>\n",
       "      <td>5</td>\n",
       "    </tr>\n",
       "    <tr>\n",
       "      <th>8</th>\n",
       "      <td>Запустить акцию, дающую скидку на товар в день рождения</td>\n",
       "      <td>1</td>\n",
       "      <td>9</td>\n",
       "      <td>9</td>\n",
       "      <td>5</td>\n",
       "    </tr>\n",
       "  </tbody>\n",
       "</table>\n",
       "</div>"
      ],
      "text/plain": [
       "                                                                                                     Hypothesis  \\\n",
       "0            Добавить два новых канала привлечения трафика, что позволит привлекать на 30% больше пользователей   \n",
       "1                                     Запустить собственную службу доставки, что сократит срок доставки заказов   \n",
       "2  Добавить блоки рекомендаций товаров на сайт интернет магазина, чтобы повысить конверсию и средний чек заказа   \n",
       "3           Изменить структура категорий, что увеличит конверсию, т.к. пользователи быстрее найдут нужный товар   \n",
       "4                              Изменить цвет фона главной страницы, чтобы увеличить вовлеченность пользователей   \n",
       "5                      Добавить страницу отзывов клиентов о магазине, что позволит увеличить количество заказов   \n",
       "6          Показать на главной странице баннеры с актуальными акциями и распродажами, чтобы увеличить конверсию   \n",
       "7              Добавить форму подписки на все основные страницы, чтобы собрать базу клиентов для email-рассылок   \n",
       "8                                                       Запустить акцию, дающую скидку на товар в день рождения   \n",
       "\n",
       "   Reach  Impact  Confidence  Efforts  \n",
       "0      3      10           8        6  \n",
       "1      2       5           4       10  \n",
       "2      8       3           7        3  \n",
       "3      8       3           3        8  \n",
       "4      3       1           1        1  \n",
       "5      3       2           2        3  \n",
       "6      5       3           8        3  \n",
       "7     10       7           8        5  \n",
       "8      1       9           9        5  "
      ]
     },
     "execution_count": 4,
     "metadata": {},
     "output_type": "execute_result"
    }
   ],
   "source": [
    "#выведение первых 10 строчек датафрейма методом head()\n",
    "data.head(10)"
   ]
  },
  {
   "cell_type": "code",
   "execution_count": 5,
   "metadata": {},
   "outputs": [
    {
     "name": "stdout",
     "output_type": "stream",
     "text": [
      "<class 'pandas.core.frame.DataFrame'>\n",
      "RangeIndex: 9 entries, 0 to 8\n",
      "Data columns (total 5 columns):\n",
      " #   Column      Non-Null Count  Dtype \n",
      "---  ------      --------------  ----- \n",
      " 0   Hypothesis  9 non-null      object\n",
      " 1   Reach       9 non-null      int64 \n",
      " 2   Impact      9 non-null      int64 \n",
      " 3   Confidence  9 non-null      int64 \n",
      " 4   Efforts     9 non-null      int64 \n",
      "dtypes: int64(4), object(1)\n",
      "memory usage: 488.0+ bytes\n"
     ]
    }
   ],
   "source": [
    "#выведение основной информации по датафрейму методом info()\n",
    "data.info()"
   ]
  },
  {
   "cell_type": "code",
   "execution_count": 6,
   "metadata": {},
   "outputs": [],
   "source": [
    "# формирование нового столбца с применение метода округления round() и дальнейшей сортировкой\n",
    "data['ICE'] = round(data['Impact'] * data['Confidence'] / data['Efforts'], 2)\n",
    "data_ice = data.sort_values(by = 'ICE', ascending=False)"
   ]
  },
  {
   "cell_type": "code",
   "execution_count": 7,
   "metadata": {},
   "outputs": [
    {
     "data": {
      "text/html": [
       "<style  type=\"text/css\" >\n",
       "#T_433c5_row0_col1,#T_433c5_row8_col2,#T_433c5_row8_col3,#T_433c5_row8_col4,#T_433c5_row8_col5{\n",
       "            background-color:  #ebf3eb;\n",
       "            color:  #000000;\n",
       "        }#T_433c5_row0_col2{\n",
       "            background-color:  #1a8d1a;\n",
       "            color:  #000000;\n",
       "        }#T_433c5_row0_col3,#T_433c5_row0_col5,#T_433c5_row1_col2,#T_433c5_row2_col1,#T_433c5_row5_col4{\n",
       "            background-color:  #008000;\n",
       "            color:  #f1f1f1;\n",
       "        }#T_433c5_row0_col4,#T_433c5_row2_col4,#T_433c5_row3_col1,#T_433c5_row5_col2{\n",
       "            background-color:  #83c083;\n",
       "            color:  #000000;\n",
       "        }#T_433c5_row1_col1,#T_433c5_row3_col2,#T_433c5_row3_col4,#T_433c5_row4_col2,#T_433c5_row4_col4,#T_433c5_row6_col1,#T_433c5_row6_col4,#T_433c5_row7_col2,#T_433c5_row8_col1{\n",
       "            background-color:  #b7dab7;\n",
       "            color:  #000000;\n",
       "        }#T_433c5_row1_col3,#T_433c5_row2_col3,#T_433c5_row3_col3{\n",
       "            background-color:  #1d8e1d;\n",
       "            color:  #000000;\n",
       "        }#T_433c5_row1_col4{\n",
       "            background-color:  #68b368;\n",
       "            color:  #000000;\n",
       "        }#T_433c5_row1_col5{\n",
       "            background-color:  #2c962c;\n",
       "            color:  #000000;\n",
       "        }#T_433c5_row2_col2{\n",
       "            background-color:  #4ea64e;\n",
       "            color:  #000000;\n",
       "        }#T_433c5_row2_col5{\n",
       "            background-color:  #4da64d;\n",
       "            color:  #000000;\n",
       "        }#T_433c5_row3_col5{\n",
       "            background-color:  #7fbe7f;\n",
       "            color:  #000000;\n",
       "        }#T_433c5_row4_col1,#T_433c5_row7_col1,#T_433c5_row7_col4{\n",
       "            background-color:  #349934;\n",
       "            color:  #000000;\n",
       "        }#T_433c5_row4_col3{\n",
       "            background-color:  #3a9c3a;\n",
       "            color:  #000000;\n",
       "        }#T_433c5_row4_col5{\n",
       "            background-color:  #8ec58e;\n",
       "            color:  #000000;\n",
       "        }#T_433c5_row5_col1,#T_433c5_row6_col2{\n",
       "            background-color:  #d1e6d1;\n",
       "            color:  #000000;\n",
       "        }#T_433c5_row5_col3{\n",
       "            background-color:  #92c892;\n",
       "            color:  #000000;\n",
       "        }#T_433c5_row5_col5{\n",
       "            background-color:  #dcecdc;\n",
       "            color:  #000000;\n",
       "        }#T_433c5_row6_col3{\n",
       "            background-color:  #cde5cd;\n",
       "            color:  #000000;\n",
       "        }#T_433c5_row6_col5{\n",
       "            background-color:  #e6f1e6;\n",
       "            color:  #000000;\n",
       "        }#T_433c5_row7_col3{\n",
       "            background-color:  #b0d6b0;\n",
       "            color:  #000000;\n",
       "        }#T_433c5_row7_col5{\n",
       "            background-color:  #e9f2e9;\n",
       "            color:  #000000;\n",
       "        }</style><table id=\"T_433c5_\" ><thead>    <tr>        <th class=\"blank level0\" ></th>        <th class=\"col_heading level0 col0\" >Hypothesis</th>        <th class=\"col_heading level0 col1\" >Reach</th>        <th class=\"col_heading level0 col2\" >Impact</th>        <th class=\"col_heading level0 col3\" >Confidence</th>        <th class=\"col_heading level0 col4\" >Efforts</th>        <th class=\"col_heading level0 col5\" >ICE</th>    </tr></thead><tbody>\n",
       "                <tr>\n",
       "                        <th id=\"T_433c5_level0_row0\" class=\"row_heading level0 row0\" >8</th>\n",
       "                        <td id=\"T_433c5_row0_col0\" class=\"data row0 col0\" >Запустить акцию, дающую скидку на товар в день рождения</td>\n",
       "                        <td id=\"T_433c5_row0_col1\" class=\"data row0 col1\" >1</td>\n",
       "                        <td id=\"T_433c5_row0_col2\" class=\"data row0 col2\" >9</td>\n",
       "                        <td id=\"T_433c5_row0_col3\" class=\"data row0 col3\" >9</td>\n",
       "                        <td id=\"T_433c5_row0_col4\" class=\"data row0 col4\" >5</td>\n",
       "                        <td id=\"T_433c5_row0_col5\" class=\"data row0 col5\" >16.200000</td>\n",
       "            </tr>\n",
       "            <tr>\n",
       "                        <th id=\"T_433c5_level0_row1\" class=\"row_heading level0 row1\" >0</th>\n",
       "                        <td id=\"T_433c5_row1_col0\" class=\"data row1 col0\" >Добавить два новых канала привлечения трафика, что позволит привлекать на 30% больше пользователей</td>\n",
       "                        <td id=\"T_433c5_row1_col1\" class=\"data row1 col1\" >3</td>\n",
       "                        <td id=\"T_433c5_row1_col2\" class=\"data row1 col2\" >10</td>\n",
       "                        <td id=\"T_433c5_row1_col3\" class=\"data row1 col3\" >8</td>\n",
       "                        <td id=\"T_433c5_row1_col4\" class=\"data row1 col4\" >6</td>\n",
       "                        <td id=\"T_433c5_row1_col5\" class=\"data row1 col5\" >13.330000</td>\n",
       "            </tr>\n",
       "            <tr>\n",
       "                        <th id=\"T_433c5_level0_row2\" class=\"row_heading level0 row2\" >7</th>\n",
       "                        <td id=\"T_433c5_row2_col0\" class=\"data row2 col0\" >Добавить форму подписки на все основные страницы, чтобы собрать базу клиентов для email-рассылок</td>\n",
       "                        <td id=\"T_433c5_row2_col1\" class=\"data row2 col1\" >10</td>\n",
       "                        <td id=\"T_433c5_row2_col2\" class=\"data row2 col2\" >7</td>\n",
       "                        <td id=\"T_433c5_row2_col3\" class=\"data row2 col3\" >8</td>\n",
       "                        <td id=\"T_433c5_row2_col4\" class=\"data row2 col4\" >5</td>\n",
       "                        <td id=\"T_433c5_row2_col5\" class=\"data row2 col5\" >11.200000</td>\n",
       "            </tr>\n",
       "            <tr>\n",
       "                        <th id=\"T_433c5_level0_row3\" class=\"row_heading level0 row3\" >6</th>\n",
       "                        <td id=\"T_433c5_row3_col0\" class=\"data row3 col0\" >Показать на главной странице баннеры с актуальными акциями и распродажами, чтобы увеличить конверсию</td>\n",
       "                        <td id=\"T_433c5_row3_col1\" class=\"data row3 col1\" >5</td>\n",
       "                        <td id=\"T_433c5_row3_col2\" class=\"data row3 col2\" >3</td>\n",
       "                        <td id=\"T_433c5_row3_col3\" class=\"data row3 col3\" >8</td>\n",
       "                        <td id=\"T_433c5_row3_col4\" class=\"data row3 col4\" >3</td>\n",
       "                        <td id=\"T_433c5_row3_col5\" class=\"data row3 col5\" >8.000000</td>\n",
       "            </tr>\n",
       "            <tr>\n",
       "                        <th id=\"T_433c5_level0_row4\" class=\"row_heading level0 row4\" >2</th>\n",
       "                        <td id=\"T_433c5_row4_col0\" class=\"data row4 col0\" >Добавить блоки рекомендаций товаров на сайт интернет магазина, чтобы повысить конверсию и средний чек заказа</td>\n",
       "                        <td id=\"T_433c5_row4_col1\" class=\"data row4 col1\" >8</td>\n",
       "                        <td id=\"T_433c5_row4_col2\" class=\"data row4 col2\" >3</td>\n",
       "                        <td id=\"T_433c5_row4_col3\" class=\"data row4 col3\" >7</td>\n",
       "                        <td id=\"T_433c5_row4_col4\" class=\"data row4 col4\" >3</td>\n",
       "                        <td id=\"T_433c5_row4_col5\" class=\"data row4 col5\" >7.000000</td>\n",
       "            </tr>\n",
       "            <tr>\n",
       "                        <th id=\"T_433c5_level0_row5\" class=\"row_heading level0 row5\" >1</th>\n",
       "                        <td id=\"T_433c5_row5_col0\" class=\"data row5 col0\" >Запустить собственную службу доставки, что сократит срок доставки заказов</td>\n",
       "                        <td id=\"T_433c5_row5_col1\" class=\"data row5 col1\" >2</td>\n",
       "                        <td id=\"T_433c5_row5_col2\" class=\"data row5 col2\" >5</td>\n",
       "                        <td id=\"T_433c5_row5_col3\" class=\"data row5 col3\" >4</td>\n",
       "                        <td id=\"T_433c5_row5_col4\" class=\"data row5 col4\" >10</td>\n",
       "                        <td id=\"T_433c5_row5_col5\" class=\"data row5 col5\" >2.000000</td>\n",
       "            </tr>\n",
       "            <tr>\n",
       "                        <th id=\"T_433c5_level0_row6\" class=\"row_heading level0 row6\" >5</th>\n",
       "                        <td id=\"T_433c5_row6_col0\" class=\"data row6 col0\" >Добавить страницу отзывов клиентов о магазине, что позволит увеличить количество заказов</td>\n",
       "                        <td id=\"T_433c5_row6_col1\" class=\"data row6 col1\" >3</td>\n",
       "                        <td id=\"T_433c5_row6_col2\" class=\"data row6 col2\" >2</td>\n",
       "                        <td id=\"T_433c5_row6_col3\" class=\"data row6 col3\" >2</td>\n",
       "                        <td id=\"T_433c5_row6_col4\" class=\"data row6 col4\" >3</td>\n",
       "                        <td id=\"T_433c5_row6_col5\" class=\"data row6 col5\" >1.330000</td>\n",
       "            </tr>\n",
       "            <tr>\n",
       "                        <th id=\"T_433c5_level0_row7\" class=\"row_heading level0 row7\" >3</th>\n",
       "                        <td id=\"T_433c5_row7_col0\" class=\"data row7 col0\" >Изменить структура категорий, что увеличит конверсию, т.к. пользователи быстрее найдут нужный товар</td>\n",
       "                        <td id=\"T_433c5_row7_col1\" class=\"data row7 col1\" >8</td>\n",
       "                        <td id=\"T_433c5_row7_col2\" class=\"data row7 col2\" >3</td>\n",
       "                        <td id=\"T_433c5_row7_col3\" class=\"data row7 col3\" >3</td>\n",
       "                        <td id=\"T_433c5_row7_col4\" class=\"data row7 col4\" >8</td>\n",
       "                        <td id=\"T_433c5_row7_col5\" class=\"data row7 col5\" >1.120000</td>\n",
       "            </tr>\n",
       "            <tr>\n",
       "                        <th id=\"T_433c5_level0_row8\" class=\"row_heading level0 row8\" >4</th>\n",
       "                        <td id=\"T_433c5_row8_col0\" class=\"data row8 col0\" >Изменить цвет фона главной страницы, чтобы увеличить вовлеченность пользователей</td>\n",
       "                        <td id=\"T_433c5_row8_col1\" class=\"data row8 col1\" >3</td>\n",
       "                        <td id=\"T_433c5_row8_col2\" class=\"data row8 col2\" >1</td>\n",
       "                        <td id=\"T_433c5_row8_col3\" class=\"data row8 col3\" >1</td>\n",
       "                        <td id=\"T_433c5_row8_col4\" class=\"data row8 col4\" >1</td>\n",
       "                        <td id=\"T_433c5_row8_col5\" class=\"data row8 col5\" >1.000000</td>\n",
       "            </tr>\n",
       "    </tbody></table>"
      ],
      "text/plain": [
       "<pandas.io.formats.style.Styler at 0x7f7a2c915c70>"
      ]
     },
     "execution_count": 7,
     "metadata": {},
     "output_type": "execute_result"
    }
   ],
   "source": [
    "cm = sns.light_palette(\"green\", as_cmap=True)\n",
    "\n",
    "data_ice.style.background_gradient(cmap=cm)"
   ]
  },
  {
   "cell_type": "code",
   "execution_count": 8,
   "metadata": {},
   "outputs": [],
   "source": [
    "# формирование нового столбца с применение метода округления round() и дальнейшей сортировкой\n",
    "data['RICE'] = round((data['Reach'] * data['Impact'] * data['Confidence']) / data['Efforts'], 2)\n",
    "data_rice = data.sort_values(by = 'RICE', ascending=False)"
   ]
  },
  {
   "cell_type": "code",
   "execution_count": 9,
   "metadata": {},
   "outputs": [
    {
     "data": {
      "text/html": [
       "<style  type=\"text/css\" >\n",
       "#T_4f4ce_row0_col1,#T_4f4ce_row0_col6,#T_4f4ce_row2_col2,#T_4f4ce_row4_col3,#T_4f4ce_row4_col5,#T_4f4ce_row6_col4{\n",
       "            background-color:  #008000;\n",
       "            color:  #f1f1f1;\n",
       "        }#T_4f4ce_row0_col2{\n",
       "            background-color:  #4ea64e;\n",
       "            color:  #000000;\n",
       "        }#T_4f4ce_row0_col3,#T_4f4ce_row2_col3,#T_4f4ce_row3_col3{\n",
       "            background-color:  #1d8e1d;\n",
       "            color:  #000000;\n",
       "        }#T_4f4ce_row0_col4,#T_4f4ce_row3_col1,#T_4f4ce_row4_col4,#T_4f4ce_row6_col2{\n",
       "            background-color:  #83c083;\n",
       "            color:  #000000;\n",
       "        }#T_4f4ce_row0_col5{\n",
       "            background-color:  #4da64d;\n",
       "            color:  #000000;\n",
       "        }#T_4f4ce_row1_col1,#T_4f4ce_row5_col1,#T_4f4ce_row5_col4{\n",
       "            background-color:  #349934;\n",
       "            color:  #000000;\n",
       "        }#T_4f4ce_row1_col2,#T_4f4ce_row1_col4,#T_4f4ce_row2_col1,#T_4f4ce_row3_col2,#T_4f4ce_row3_col4,#T_4f4ce_row5_col2,#T_4f4ce_row7_col1,#T_4f4ce_row7_col4,#T_4f4ce_row8_col1{\n",
       "            background-color:  #b7dab7;\n",
       "            color:  #000000;\n",
       "        }#T_4f4ce_row1_col3{\n",
       "            background-color:  #3a9c3a;\n",
       "            color:  #000000;\n",
       "        }#T_4f4ce_row1_col5{\n",
       "            background-color:  #8ec58e;\n",
       "            color:  #000000;\n",
       "        }#T_4f4ce_row1_col6{\n",
       "            background-color:  #78bb78;\n",
       "            color:  #000000;\n",
       "        }#T_4f4ce_row2_col4{\n",
       "            background-color:  #68b368;\n",
       "            color:  #000000;\n",
       "        }#T_4f4ce_row2_col5{\n",
       "            background-color:  #2c962c;\n",
       "            color:  #000000;\n",
       "        }#T_4f4ce_row2_col6,#T_4f4ce_row3_col6{\n",
       "            background-color:  #9bcc9b;\n",
       "            color:  #000000;\n",
       "        }#T_4f4ce_row3_col5{\n",
       "            background-color:  #7fbe7f;\n",
       "            color:  #000000;\n",
       "        }#T_4f4ce_row4_col1,#T_4f4ce_row8_col2,#T_4f4ce_row8_col3,#T_4f4ce_row8_col4,#T_4f4ce_row8_col5,#T_4f4ce_row8_col6{\n",
       "            background-color:  #ebf3eb;\n",
       "            color:  #000000;\n",
       "        }#T_4f4ce_row4_col2{\n",
       "            background-color:  #1a8d1a;\n",
       "            color:  #000000;\n",
       "        }#T_4f4ce_row4_col6{\n",
       "            background-color:  #cee5ce;\n",
       "            color:  #000000;\n",
       "        }#T_4f4ce_row5_col3{\n",
       "            background-color:  #b0d6b0;\n",
       "            color:  #000000;\n",
       "        }#T_4f4ce_row5_col5,#T_4f4ce_row6_col6,#T_4f4ce_row7_col6{\n",
       "            background-color:  #e9f2e9;\n",
       "            color:  #000000;\n",
       "        }#T_4f4ce_row5_col6{\n",
       "            background-color:  #deedde;\n",
       "            color:  #000000;\n",
       "        }#T_4f4ce_row6_col1,#T_4f4ce_row7_col2{\n",
       "            background-color:  #d1e6d1;\n",
       "            color:  #000000;\n",
       "        }#T_4f4ce_row6_col3{\n",
       "            background-color:  #92c892;\n",
       "            color:  #000000;\n",
       "        }#T_4f4ce_row6_col5{\n",
       "            background-color:  #dcecdc;\n",
       "            color:  #000000;\n",
       "        }#T_4f4ce_row7_col3{\n",
       "            background-color:  #cde5cd;\n",
       "            color:  #000000;\n",
       "        }#T_4f4ce_row7_col5{\n",
       "            background-color:  #e6f1e6;\n",
       "            color:  #000000;\n",
       "        }</style><table id=\"T_4f4ce_\" ><thead>    <tr>        <th class=\"blank level0\" ></th>        <th class=\"col_heading level0 col0\" >Hypothesis</th>        <th class=\"col_heading level0 col1\" >Reach</th>        <th class=\"col_heading level0 col2\" >Impact</th>        <th class=\"col_heading level0 col3\" >Confidence</th>        <th class=\"col_heading level0 col4\" >Efforts</th>        <th class=\"col_heading level0 col5\" >ICE</th>        <th class=\"col_heading level0 col6\" >RICE</th>    </tr></thead><tbody>\n",
       "                <tr>\n",
       "                        <th id=\"T_4f4ce_level0_row0\" class=\"row_heading level0 row0\" >7</th>\n",
       "                        <td id=\"T_4f4ce_row0_col0\" class=\"data row0 col0\" >Добавить форму подписки на все основные страницы, чтобы собрать базу клиентов для email-рассылок</td>\n",
       "                        <td id=\"T_4f4ce_row0_col1\" class=\"data row0 col1\" >10</td>\n",
       "                        <td id=\"T_4f4ce_row0_col2\" class=\"data row0 col2\" >7</td>\n",
       "                        <td id=\"T_4f4ce_row0_col3\" class=\"data row0 col3\" >8</td>\n",
       "                        <td id=\"T_4f4ce_row0_col4\" class=\"data row0 col4\" >5</td>\n",
       "                        <td id=\"T_4f4ce_row0_col5\" class=\"data row0 col5\" >11.200000</td>\n",
       "                        <td id=\"T_4f4ce_row0_col6\" class=\"data row0 col6\" >112.000000</td>\n",
       "            </tr>\n",
       "            <tr>\n",
       "                        <th id=\"T_4f4ce_level0_row1\" class=\"row_heading level0 row1\" >2</th>\n",
       "                        <td id=\"T_4f4ce_row1_col0\" class=\"data row1 col0\" >Добавить блоки рекомендаций товаров на сайт интернет магазина, чтобы повысить конверсию и средний чек заказа</td>\n",
       "                        <td id=\"T_4f4ce_row1_col1\" class=\"data row1 col1\" >8</td>\n",
       "                        <td id=\"T_4f4ce_row1_col2\" class=\"data row1 col2\" >3</td>\n",
       "                        <td id=\"T_4f4ce_row1_col3\" class=\"data row1 col3\" >7</td>\n",
       "                        <td id=\"T_4f4ce_row1_col4\" class=\"data row1 col4\" >3</td>\n",
       "                        <td id=\"T_4f4ce_row1_col5\" class=\"data row1 col5\" >7.000000</td>\n",
       "                        <td id=\"T_4f4ce_row1_col6\" class=\"data row1 col6\" >56.000000</td>\n",
       "            </tr>\n",
       "            <tr>\n",
       "                        <th id=\"T_4f4ce_level0_row2\" class=\"row_heading level0 row2\" >0</th>\n",
       "                        <td id=\"T_4f4ce_row2_col0\" class=\"data row2 col0\" >Добавить два новых канала привлечения трафика, что позволит привлекать на 30% больше пользователей</td>\n",
       "                        <td id=\"T_4f4ce_row2_col1\" class=\"data row2 col1\" >3</td>\n",
       "                        <td id=\"T_4f4ce_row2_col2\" class=\"data row2 col2\" >10</td>\n",
       "                        <td id=\"T_4f4ce_row2_col3\" class=\"data row2 col3\" >8</td>\n",
       "                        <td id=\"T_4f4ce_row2_col4\" class=\"data row2 col4\" >6</td>\n",
       "                        <td id=\"T_4f4ce_row2_col5\" class=\"data row2 col5\" >13.330000</td>\n",
       "                        <td id=\"T_4f4ce_row2_col6\" class=\"data row2 col6\" >40.000000</td>\n",
       "            </tr>\n",
       "            <tr>\n",
       "                        <th id=\"T_4f4ce_level0_row3\" class=\"row_heading level0 row3\" >6</th>\n",
       "                        <td id=\"T_4f4ce_row3_col0\" class=\"data row3 col0\" >Показать на главной странице баннеры с актуальными акциями и распродажами, чтобы увеличить конверсию</td>\n",
       "                        <td id=\"T_4f4ce_row3_col1\" class=\"data row3 col1\" >5</td>\n",
       "                        <td id=\"T_4f4ce_row3_col2\" class=\"data row3 col2\" >3</td>\n",
       "                        <td id=\"T_4f4ce_row3_col3\" class=\"data row3 col3\" >8</td>\n",
       "                        <td id=\"T_4f4ce_row3_col4\" class=\"data row3 col4\" >3</td>\n",
       "                        <td id=\"T_4f4ce_row3_col5\" class=\"data row3 col5\" >8.000000</td>\n",
       "                        <td id=\"T_4f4ce_row3_col6\" class=\"data row3 col6\" >40.000000</td>\n",
       "            </tr>\n",
       "            <tr>\n",
       "                        <th id=\"T_4f4ce_level0_row4\" class=\"row_heading level0 row4\" >8</th>\n",
       "                        <td id=\"T_4f4ce_row4_col0\" class=\"data row4 col0\" >Запустить акцию, дающую скидку на товар в день рождения</td>\n",
       "                        <td id=\"T_4f4ce_row4_col1\" class=\"data row4 col1\" >1</td>\n",
       "                        <td id=\"T_4f4ce_row4_col2\" class=\"data row4 col2\" >9</td>\n",
       "                        <td id=\"T_4f4ce_row4_col3\" class=\"data row4 col3\" >9</td>\n",
       "                        <td id=\"T_4f4ce_row4_col4\" class=\"data row4 col4\" >5</td>\n",
       "                        <td id=\"T_4f4ce_row4_col5\" class=\"data row4 col5\" >16.200000</td>\n",
       "                        <td id=\"T_4f4ce_row4_col6\" class=\"data row4 col6\" >16.200000</td>\n",
       "            </tr>\n",
       "            <tr>\n",
       "                        <th id=\"T_4f4ce_level0_row5\" class=\"row_heading level0 row5\" >3</th>\n",
       "                        <td id=\"T_4f4ce_row5_col0\" class=\"data row5 col0\" >Изменить структура категорий, что увеличит конверсию, т.к. пользователи быстрее найдут нужный товар</td>\n",
       "                        <td id=\"T_4f4ce_row5_col1\" class=\"data row5 col1\" >8</td>\n",
       "                        <td id=\"T_4f4ce_row5_col2\" class=\"data row5 col2\" >3</td>\n",
       "                        <td id=\"T_4f4ce_row5_col3\" class=\"data row5 col3\" >3</td>\n",
       "                        <td id=\"T_4f4ce_row5_col4\" class=\"data row5 col4\" >8</td>\n",
       "                        <td id=\"T_4f4ce_row5_col5\" class=\"data row5 col5\" >1.120000</td>\n",
       "                        <td id=\"T_4f4ce_row5_col6\" class=\"data row5 col6\" >9.000000</td>\n",
       "            </tr>\n",
       "            <tr>\n",
       "                        <th id=\"T_4f4ce_level0_row6\" class=\"row_heading level0 row6\" >1</th>\n",
       "                        <td id=\"T_4f4ce_row6_col0\" class=\"data row6 col0\" >Запустить собственную службу доставки, что сократит срок доставки заказов</td>\n",
       "                        <td id=\"T_4f4ce_row6_col1\" class=\"data row6 col1\" >2</td>\n",
       "                        <td id=\"T_4f4ce_row6_col2\" class=\"data row6 col2\" >5</td>\n",
       "                        <td id=\"T_4f4ce_row6_col3\" class=\"data row6 col3\" >4</td>\n",
       "                        <td id=\"T_4f4ce_row6_col4\" class=\"data row6 col4\" >10</td>\n",
       "                        <td id=\"T_4f4ce_row6_col5\" class=\"data row6 col5\" >2.000000</td>\n",
       "                        <td id=\"T_4f4ce_row6_col6\" class=\"data row6 col6\" >4.000000</td>\n",
       "            </tr>\n",
       "            <tr>\n",
       "                        <th id=\"T_4f4ce_level0_row7\" class=\"row_heading level0 row7\" >5</th>\n",
       "                        <td id=\"T_4f4ce_row7_col0\" class=\"data row7 col0\" >Добавить страницу отзывов клиентов о магазине, что позволит увеличить количество заказов</td>\n",
       "                        <td id=\"T_4f4ce_row7_col1\" class=\"data row7 col1\" >3</td>\n",
       "                        <td id=\"T_4f4ce_row7_col2\" class=\"data row7 col2\" >2</td>\n",
       "                        <td id=\"T_4f4ce_row7_col3\" class=\"data row7 col3\" >2</td>\n",
       "                        <td id=\"T_4f4ce_row7_col4\" class=\"data row7 col4\" >3</td>\n",
       "                        <td id=\"T_4f4ce_row7_col5\" class=\"data row7 col5\" >1.330000</td>\n",
       "                        <td id=\"T_4f4ce_row7_col6\" class=\"data row7 col6\" >4.000000</td>\n",
       "            </tr>\n",
       "            <tr>\n",
       "                        <th id=\"T_4f4ce_level0_row8\" class=\"row_heading level0 row8\" >4</th>\n",
       "                        <td id=\"T_4f4ce_row8_col0\" class=\"data row8 col0\" >Изменить цвет фона главной страницы, чтобы увеличить вовлеченность пользователей</td>\n",
       "                        <td id=\"T_4f4ce_row8_col1\" class=\"data row8 col1\" >3</td>\n",
       "                        <td id=\"T_4f4ce_row8_col2\" class=\"data row8 col2\" >1</td>\n",
       "                        <td id=\"T_4f4ce_row8_col3\" class=\"data row8 col3\" >1</td>\n",
       "                        <td id=\"T_4f4ce_row8_col4\" class=\"data row8 col4\" >1</td>\n",
       "                        <td id=\"T_4f4ce_row8_col5\" class=\"data row8 col5\" >1.000000</td>\n",
       "                        <td id=\"T_4f4ce_row8_col6\" class=\"data row8 col6\" >3.000000</td>\n",
       "            </tr>\n",
       "    </tbody></table>"
      ],
      "text/plain": [
       "<pandas.io.formats.style.Styler at 0x7f7a2c796ac0>"
      ]
     },
     "execution_count": 9,
     "metadata": {},
     "output_type": "execute_result"
    }
   ],
   "source": [
    "cg = sns.light_palette(\"green\", as_cmap=True)\n",
    "\n",
    "data_rice.style.background_gradient(cmap=cg)"
   ]
  },
  {
   "cell_type": "markdown",
   "metadata": {},
   "source": [
    "При построении приоритизации гипотез по методу ICE можно увидеть приоритные гипотезы: \n",
    "\n",
    "8.Запустить акцию, дающую скидку на товар в день рождения:\n",
    "0.Добавить два новых канала привлечения трафика, что позволит привлекать на 30% больше пользователей;\n",
    "7.Добавить форму подписки на все основные страницы, чтобы собрать базу клиентов для email-рассылок.\n",
    "\n",
    "Данный метод основан на параметрах: Impact - влияние гипотезы на пользователей или влияние наопределенную исследуемую метрику. \n",
    "Confidence - уверенность в приведенных оценках. Efforts -  трудотраты необходимые для осуществления гипотезы.\n",
    "\n",
    "При построении приоритизации гипотез по методу RICE можно увидеть приоритные гипотезы:\n",
    "\n",
    "7.Добавить форму подписки на все основные страницы, чтобы собрать базу клиентов для email-рассылок;\n",
    "2.Добавить блоки рекомендаций товаров на сайт интернет магазина, чтобы повысить конверсию и средний чек заказа;\n",
    "0.Добавить два новых канала привлечения трафика, что позволит привлекать на 30% больше пользователей;\n",
    "6.Показать на главной странице баннеры с актуальными акциями и распродажами, чтобы увеличить конверсию.\n",
    "\n",
    "Данный метод основан на параметрах: Reach - охват гипотезы, сколько она затронет пользователей.\n",
    "Impact - влияние гипотезы на пользователей или влияние наопределенную исследуемуюметрику. \n",
    "Confidence - уверенность в приведенных оценках. Efforts -  трудотраты необходимые для осуществления гипотезы.\n",
    "\n",
    "Из проведенной приоритизации можем увидеть разные результаты двух методов. Данное изменение произошло из за введения параметра Reach, данный параметр является более точным, так как процентное соотношение охвата пользователей ко всем пользователям можно всегда расчитать и переложить данные цифры на 10 бальную шкалу. Метод ICE имеет более субъективные оценки параметров, и параметр Impact может измеряться по разному(по степени изменения пользовательского опыта;\n",
    "по предварительной оценке важности для пользователей; по количеству новых пользователей, которых изменение поможет привлечь). Так же по данному методу при проведении приоритетной гипотезы 8, она окажет существенное влияние на показатели интернет-магазина, что будет стимулировать покупателей к значимым покупкам, но при учитывании охвата пользователей(в методе RICE) это маленький процент от всех пользователей, что может увеличить ключевые метрики, но незначительно.\n",
    "Приоритетная гипотеза 7 по методу RICE имеет существенный приоритет для осуществления, так как охватит всех пользователей, и имеет достаточно высокие оценки влияния, уверенности и средние затраты; изменения при осуществлении гипотезы мы увидим быстрее и более значимые в ключевых метриках."
   ]
  },
  {
   "cell_type": "markdown",
   "metadata": {},
   "source": [
    "## Вторая часть "
   ]
  },
  {
   "cell_type": "markdown",
   "metadata": {},
   "source": [
    "### Анализ A/B-теста "
   ]
  },
  {
   "cell_type": "markdown",
   "metadata": {},
   "source": [
    "#### Обзор данных "
   ]
  },
  {
   "cell_type": "code",
   "execution_count": 10,
   "metadata": {},
   "outputs": [],
   "source": [
    "#cчитывание CSV-файла с данными с помощью библиотеки pandas и сохранение в датафрейм и изменение типа данных столбца date \n",
    "orders = pd.read_csv('/datasets/orders.csv')\n",
    "orders['date'] = orders['date'].map(\n",
    "    lambda x: dt.datetime.strptime(x, '%Y-%m-%d')\n",
    ")"
   ]
  },
  {
   "cell_type": "code",
   "execution_count": 11,
   "metadata": {},
   "outputs": [],
   "source": [
    "#cчитывание CSV-файла с данными с помощью библиотеки pandas и сохранение в датафрейм и изменение типа данных столбца date \n",
    "visitors = pd.read_csv('/datasets/visitors.csv')\n",
    "visitors['date'] = visitors['date'].map(\n",
    "    lambda x: dt.datetime.strptime(x, '%Y-%m-%d')\n",
    ")\n"
   ]
  },
  {
   "cell_type": "code",
   "execution_count": 12,
   "metadata": {},
   "outputs": [],
   "source": [
    "# функция для выведения общей информации по датафреймам\n",
    "def df_info(data):\n",
    "    print('Первые строки датафрейма')\n",
    "    print('-'*50)\n",
    "    display(data.head(10))\n",
    "    print('Информация о датафрейме')\n",
    "    print('-'*50)\n",
    "    data.info()"
   ]
  },
  {
   "cell_type": "code",
   "execution_count": 13,
   "metadata": {},
   "outputs": [
    {
     "name": "stdout",
     "output_type": "stream",
     "text": [
      "Первые строки датафрейма\n",
      "--------------------------------------------------\n"
     ]
    },
    {
     "data": {
      "text/html": [
       "<div>\n",
       "<style scoped>\n",
       "    .dataframe tbody tr th:only-of-type {\n",
       "        vertical-align: middle;\n",
       "    }\n",
       "\n",
       "    .dataframe tbody tr th {\n",
       "        vertical-align: top;\n",
       "    }\n",
       "\n",
       "    .dataframe thead th {\n",
       "        text-align: right;\n",
       "    }\n",
       "</style>\n",
       "<table border=\"1\" class=\"dataframe\">\n",
       "  <thead>\n",
       "    <tr style=\"text-align: right;\">\n",
       "      <th></th>\n",
       "      <th>transactionId</th>\n",
       "      <th>visitorId</th>\n",
       "      <th>date</th>\n",
       "      <th>revenue</th>\n",
       "      <th>group</th>\n",
       "    </tr>\n",
       "  </thead>\n",
       "  <tbody>\n",
       "    <tr>\n",
       "      <th>0</th>\n",
       "      <td>3667963787</td>\n",
       "      <td>3312258926</td>\n",
       "      <td>2019-08-15</td>\n",
       "      <td>1650</td>\n",
       "      <td>B</td>\n",
       "    </tr>\n",
       "    <tr>\n",
       "      <th>1</th>\n",
       "      <td>2804400009</td>\n",
       "      <td>3642806036</td>\n",
       "      <td>2019-08-15</td>\n",
       "      <td>730</td>\n",
       "      <td>B</td>\n",
       "    </tr>\n",
       "    <tr>\n",
       "      <th>2</th>\n",
       "      <td>2961555356</td>\n",
       "      <td>4069496402</td>\n",
       "      <td>2019-08-15</td>\n",
       "      <td>400</td>\n",
       "      <td>A</td>\n",
       "    </tr>\n",
       "    <tr>\n",
       "      <th>3</th>\n",
       "      <td>3797467345</td>\n",
       "      <td>1196621759</td>\n",
       "      <td>2019-08-15</td>\n",
       "      <td>9759</td>\n",
       "      <td>B</td>\n",
       "    </tr>\n",
       "    <tr>\n",
       "      <th>4</th>\n",
       "      <td>2282983706</td>\n",
       "      <td>2322279887</td>\n",
       "      <td>2019-08-15</td>\n",
       "      <td>2308</td>\n",
       "      <td>B</td>\n",
       "    </tr>\n",
       "    <tr>\n",
       "      <th>5</th>\n",
       "      <td>182168103</td>\n",
       "      <td>935554773</td>\n",
       "      <td>2019-08-15</td>\n",
       "      <td>2210</td>\n",
       "      <td>B</td>\n",
       "    </tr>\n",
       "    <tr>\n",
       "      <th>6</th>\n",
       "      <td>398296753</td>\n",
       "      <td>2900797465</td>\n",
       "      <td>2019-08-15</td>\n",
       "      <td>1860</td>\n",
       "      <td>B</td>\n",
       "    </tr>\n",
       "    <tr>\n",
       "      <th>7</th>\n",
       "      <td>2626614568</td>\n",
       "      <td>78758296</td>\n",
       "      <td>2019-08-15</td>\n",
       "      <td>1044</td>\n",
       "      <td>A</td>\n",
       "    </tr>\n",
       "    <tr>\n",
       "      <th>8</th>\n",
       "      <td>1576988021</td>\n",
       "      <td>295230930</td>\n",
       "      <td>2019-08-15</td>\n",
       "      <td>13710</td>\n",
       "      <td>A</td>\n",
       "    </tr>\n",
       "    <tr>\n",
       "      <th>9</th>\n",
       "      <td>1506739906</td>\n",
       "      <td>1882260405</td>\n",
       "      <td>2019-08-15</td>\n",
       "      <td>1855</td>\n",
       "      <td>B</td>\n",
       "    </tr>\n",
       "  </tbody>\n",
       "</table>\n",
       "</div>"
      ],
      "text/plain": [
       "   transactionId   visitorId       date  revenue group\n",
       "0     3667963787  3312258926 2019-08-15     1650     B\n",
       "1     2804400009  3642806036 2019-08-15      730     B\n",
       "2     2961555356  4069496402 2019-08-15      400     A\n",
       "3     3797467345  1196621759 2019-08-15     9759     B\n",
       "4     2282983706  2322279887 2019-08-15     2308     B\n",
       "5      182168103   935554773 2019-08-15     2210     B\n",
       "6      398296753  2900797465 2019-08-15     1860     B\n",
       "7     2626614568    78758296 2019-08-15     1044     A\n",
       "8     1576988021   295230930 2019-08-15    13710     A\n",
       "9     1506739906  1882260405 2019-08-15     1855     B"
      ]
     },
     "metadata": {},
     "output_type": "display_data"
    },
    {
     "name": "stdout",
     "output_type": "stream",
     "text": [
      "Информация о датафрейме\n",
      "--------------------------------------------------\n",
      "<class 'pandas.core.frame.DataFrame'>\n",
      "RangeIndex: 1197 entries, 0 to 1196\n",
      "Data columns (total 5 columns):\n",
      " #   Column         Non-Null Count  Dtype         \n",
      "---  ------         --------------  -----         \n",
      " 0   transactionId  1197 non-null   int64         \n",
      " 1   visitorId      1197 non-null   int64         \n",
      " 2   date           1197 non-null   datetime64[ns]\n",
      " 3   revenue        1197 non-null   int64         \n",
      " 4   group          1197 non-null   object        \n",
      "dtypes: datetime64[ns](1), int64(3), object(1)\n",
      "memory usage: 46.9+ KB\n"
     ]
    }
   ],
   "source": [
    "# применение функции c выведением общей информации к датафрейму orders\n",
    "df_info(orders)"
   ]
  },
  {
   "cell_type": "code",
   "execution_count": 14,
   "metadata": {},
   "outputs": [
    {
     "name": "stdout",
     "output_type": "stream",
     "text": [
      "Первые строки датафрейма\n",
      "--------------------------------------------------\n"
     ]
    },
    {
     "data": {
      "text/html": [
       "<div>\n",
       "<style scoped>\n",
       "    .dataframe tbody tr th:only-of-type {\n",
       "        vertical-align: middle;\n",
       "    }\n",
       "\n",
       "    .dataframe tbody tr th {\n",
       "        vertical-align: top;\n",
       "    }\n",
       "\n",
       "    .dataframe thead th {\n",
       "        text-align: right;\n",
       "    }\n",
       "</style>\n",
       "<table border=\"1\" class=\"dataframe\">\n",
       "  <thead>\n",
       "    <tr style=\"text-align: right;\">\n",
       "      <th></th>\n",
       "      <th>date</th>\n",
       "      <th>group</th>\n",
       "      <th>visitors</th>\n",
       "    </tr>\n",
       "  </thead>\n",
       "  <tbody>\n",
       "    <tr>\n",
       "      <th>0</th>\n",
       "      <td>2019-08-01</td>\n",
       "      <td>A</td>\n",
       "      <td>719</td>\n",
       "    </tr>\n",
       "    <tr>\n",
       "      <th>1</th>\n",
       "      <td>2019-08-02</td>\n",
       "      <td>A</td>\n",
       "      <td>619</td>\n",
       "    </tr>\n",
       "    <tr>\n",
       "      <th>2</th>\n",
       "      <td>2019-08-03</td>\n",
       "      <td>A</td>\n",
       "      <td>507</td>\n",
       "    </tr>\n",
       "    <tr>\n",
       "      <th>3</th>\n",
       "      <td>2019-08-04</td>\n",
       "      <td>A</td>\n",
       "      <td>717</td>\n",
       "    </tr>\n",
       "    <tr>\n",
       "      <th>4</th>\n",
       "      <td>2019-08-05</td>\n",
       "      <td>A</td>\n",
       "      <td>756</td>\n",
       "    </tr>\n",
       "    <tr>\n",
       "      <th>5</th>\n",
       "      <td>2019-08-06</td>\n",
       "      <td>A</td>\n",
       "      <td>667</td>\n",
       "    </tr>\n",
       "    <tr>\n",
       "      <th>6</th>\n",
       "      <td>2019-08-07</td>\n",
       "      <td>A</td>\n",
       "      <td>644</td>\n",
       "    </tr>\n",
       "    <tr>\n",
       "      <th>7</th>\n",
       "      <td>2019-08-08</td>\n",
       "      <td>A</td>\n",
       "      <td>610</td>\n",
       "    </tr>\n",
       "    <tr>\n",
       "      <th>8</th>\n",
       "      <td>2019-08-09</td>\n",
       "      <td>A</td>\n",
       "      <td>617</td>\n",
       "    </tr>\n",
       "    <tr>\n",
       "      <th>9</th>\n",
       "      <td>2019-08-10</td>\n",
       "      <td>A</td>\n",
       "      <td>406</td>\n",
       "    </tr>\n",
       "  </tbody>\n",
       "</table>\n",
       "</div>"
      ],
      "text/plain": [
       "        date group  visitors\n",
       "0 2019-08-01     A       719\n",
       "1 2019-08-02     A       619\n",
       "2 2019-08-03     A       507\n",
       "3 2019-08-04     A       717\n",
       "4 2019-08-05     A       756\n",
       "5 2019-08-06     A       667\n",
       "6 2019-08-07     A       644\n",
       "7 2019-08-08     A       610\n",
       "8 2019-08-09     A       617\n",
       "9 2019-08-10     A       406"
      ]
     },
     "metadata": {},
     "output_type": "display_data"
    },
    {
     "name": "stdout",
     "output_type": "stream",
     "text": [
      "Информация о датафрейме\n",
      "--------------------------------------------------\n",
      "<class 'pandas.core.frame.DataFrame'>\n",
      "RangeIndex: 62 entries, 0 to 61\n",
      "Data columns (total 3 columns):\n",
      " #   Column    Non-Null Count  Dtype         \n",
      "---  ------    --------------  -----         \n",
      " 0   date      62 non-null     datetime64[ns]\n",
      " 1   group     62 non-null     object        \n",
      " 2   visitors  62 non-null     int64         \n",
      "dtypes: datetime64[ns](1), int64(1), object(1)\n",
      "memory usage: 1.6+ KB\n"
     ]
    }
   ],
   "source": [
    "# применение функции c выведением общей информации к датафрейму visitors\n",
    "df_info(visitors)"
   ]
  },
  {
   "cell_type": "code",
   "execution_count": 15,
   "metadata": {},
   "outputs": [
    {
     "data": {
      "text/plain": [
       "0"
      ]
     },
     "execution_count": 15,
     "metadata": {},
     "output_type": "execute_result"
    }
   ],
   "source": [
    "# выведение являних дубликатов в датафреме orders\n",
    "orders.duplicated().sum()"
   ]
  },
  {
   "cell_type": "code",
   "execution_count": 16,
   "metadata": {},
   "outputs": [
    {
     "data": {
      "text/plain": [
       "0"
      ]
     },
     "execution_count": 16,
     "metadata": {},
     "output_type": "execute_result"
    }
   ],
   "source": [
    "# выведение явных дубликатов в подмножестве\n",
    "orders[['transactionId', 'visitorId']].duplicated().sum()"
   ]
  },
  {
   "cell_type": "code",
   "execution_count": 17,
   "metadata": {},
   "outputs": [
    {
     "data": {
      "text/plain": [
       "0"
      ]
     },
     "execution_count": 17,
     "metadata": {},
     "output_type": "execute_result"
    }
   ],
   "source": [
    "# выведение явных дубликатов в датафреме visitors\n",
    "visitors.duplicated().sum()"
   ]
  },
  {
   "cell_type": "markdown",
   "metadata": {},
   "source": [
    "#### Распределение групп"
   ]
  },
  {
   "cell_type": "code",
   "execution_count": 18,
   "metadata": {},
   "outputs": [],
   "source": [
    "# выведение пересечения уникальных значений массивов с помощью метода np.intersect1d() \n",
    "duplicated_visitor = np.intersect1d(orders.query('group == \"A\"')['visitorId'].unique(), \n",
    "                                    orders.query('group == \"B\"')['visitorId'].unique())"
   ]
  },
  {
   "cell_type": "code",
   "execution_count": 19,
   "metadata": {},
   "outputs": [
    {
     "data": {
      "text/plain": [
       "58"
      ]
     },
     "execution_count": 19,
     "metadata": {},
     "output_type": "execute_result"
    }
   ],
   "source": [
    "# выведение количества методом shape\n",
    "duplicated_visitor.shape[0]"
   ]
  },
  {
   "cell_type": "code",
   "execution_count": 20,
   "metadata": {},
   "outputs": [],
   "source": [
    "# создание среза данных без пользователей оказавшихся в двух группах одновременно\n",
    "orders_unique = orders.query('visitorId not in @duplicated_visitor')"
   ]
  },
  {
   "cell_type": "markdown",
   "metadata": {},
   "source": [
    "После загрузки данных и просмотрев информацию по датафремам, можем сказать, что в первом датафреме можем найти информацию о индификаторе заказа, идентификаторе пользователя, дату, когда был совершен заказ, выручку заказа и группу А/В теста, куда попал заказ. А так же можем увидеть, что в данном датафрейме 5 столбцов и 1197 сток. Во втором датафреме можем найти информацию о дате, группе А/В теста и количестве пользователей в указанную дату в указанной группе A/B-теста. А так же информацию о том, что в данном датафрейме 3 столбца и 62 строки. По выведенной общей информации по датафреймам можем увидеть, что в данных не имеется пропусков в значениях, количество строк общее и в каждом из столбцов совпадает. Так же произвели проверку в датафреймах на наличие явных дубликатов\n",
    "\n",
    "Для проверки распредления групп тестирования, выявлено пересечение пользователей, 58 пользователей оказались в двух группах одновременно, данный момент выявлен, из за сложности выведения данных пользователей, они останутся в анализе и анализ будет проводится с учетом, что часть пользователей попала в обе группы."
   ]
  },
  {
   "cell_type": "markdown",
   "metadata": {},
   "source": [
    "#### Кумулятивная выручка по группам "
   ]
  },
  {
   "cell_type": "code",
   "execution_count": 21,
   "metadata": {},
   "outputs": [],
   "source": [
    "# создаем массив уникальных пар значений дат и групп теста\n",
    "datesGroups = orders_unique[['date', 'group']].drop_duplicates()"
   ]
  },
  {
   "cell_type": "code",
   "execution_count": 22,
   "metadata": {},
   "outputs": [],
   "source": [
    "# агрегированные кумулятивные по дням данные о заказах \n",
    "ordersAggregated = datesGroups.apply(\n",
    "    lambda x: orders_unique[\n",
    "        np.logical_and(\n",
    "            orders_unique['date'] <= x['date'], orders_unique['group'] == x['group']\n",
    "        )\n",
    "    ].agg(\n",
    "        {\n",
    "            'date': 'max',\n",
    "            'group': 'max',\n",
    "            'visitorId': 'nunique',\n",
    "            'transactionId': 'nunique',\n",
    "            'revenue': 'sum',\n",
    "        }\n",
    "    ),\n",
    "    axis=1,\n",
    ").sort_values(by=['date', 'group'])"
   ]
  },
  {
   "cell_type": "code",
   "execution_count": 23,
   "metadata": {},
   "outputs": [],
   "source": [
    "# агрегированные кумулятивные по дням данные о посетителях\n",
    "visitorsAggregated = datesGroups.apply(\n",
    "    lambda x: visitors[\n",
    "        np.logical_and(\n",
    "            visitors['date'] <= x['date'], visitors['group'] == x['group']\n",
    "        )\n",
    "    ].agg({'date': 'max', 'group': 'max', 'visitors': 'sum'}),\n",
    "    axis=1,\n",
    ").sort_values(by=['date', 'group'])"
   ]
  },
  {
   "cell_type": "code",
   "execution_count": 24,
   "metadata": {
    "scrolled": true
   },
   "outputs": [],
   "source": [
    "# объединяем кумулятивные данные в одной таблице и присваиваем ее столбцам понятные названия\n",
    "cumulativeData = ordersAggregated.merge(\n",
    "    visitorsAggregated, left_on=['date', 'group'], right_on=['date', 'group']\n",
    ")\n",
    "cumulativeData.columns = [\n",
    "    'date',\n",
    "    'group',\n",
    "    'buyers',\n",
    "    'orders',\n",
    "    'revenue',\n",
    "    'visitors',\n",
    "]"
   ]
  },
  {
   "cell_type": "code",
   "execution_count": 25,
   "metadata": {},
   "outputs": [],
   "source": [
    "# датафрейм с кумулятивным количеством заказов и кумулятивной выручкой по дням в группе А\n",
    "cumulativeRevenueA = cumulativeData[cumulativeData['group']=='A'][['date','revenue', 'orders']]"
   ]
  },
  {
   "cell_type": "code",
   "execution_count": 26,
   "metadata": {},
   "outputs": [],
   "source": [
    "# датафрейм с кумулятивным количеством заказов и кумулятивной выручкой по дням в группе B\n",
    "cumulativeRevenueB = cumulativeData[cumulativeData['group']=='B'][['date','revenue', 'orders']]"
   ]
  },
  {
   "cell_type": "code",
   "execution_count": 27,
   "metadata": {},
   "outputs": [
    {
     "data": {
      "image/png": "[encoded data removed]",
      "text/plain": [
       "<Figure size 1008x360 with 1 Axes>"
      ]
     },
     "metadata": {
      "needs_background": "light"
     },
     "output_type": "display_data"
    }
   ],
   "source": [
    "# Строим график выручки группы А\n",
    "plt.figure(figsize=(14, 5))\n",
    "plt.plot(cumulativeRevenueA['date'], cumulativeRevenueA['revenue'], label='A')\n",
    "# Строим график выручки группы B\n",
    "plt.plot(cumulativeRevenueB['date'], cumulativeRevenueB['revenue'], label='B')\n",
    "plt.legend()\n",
    "plt.title('Кумулятивная выручка по группам', color = 'SteelBlue', fontsize=14)\n",
    "plt.xlabel('Дата')\n",
    "plt.show()"
   ]
  },
  {
   "cell_type": "markdown",
   "metadata": {},
   "source": [
    "По графику можем заметить, что кумулятивная выручка постепенно растет в двух группах. Примерно до 13-08-2019 возрастала равномерно в двух группах, после группа В стала относительно возрастать группы А, так же видим резкий скачок группы В после 17-08-2019(возможно связана с заказами большой стоимости, которые попали в данную группу-аномальные, либо всплеском заказов в данной группе в данный промежуток времени) после этого кумулятивная выручка осталась на относительно высоком уровне от группы А."
   ]
  },
  {
   "cell_type": "markdown",
   "metadata": {},
   "source": [
    "#### Кумулятивный средний чек по группам "
   ]
  },
  {
   "cell_type": "code",
   "execution_count": 28,
   "metadata": {},
   "outputs": [
    {
     "data": {
      "image/png": "[encoded data removed]",
      "text/plain": [
       "<Figure size 1008x360 with 1 Axes>"
      ]
     },
     "metadata": {
      "needs_background": "light"
     },
     "output_type": "display_data"
    }
   ],
   "source": [
    "plt.figure(figsize=(14, 5))\n",
    "plt.plot(cumulativeRevenueA['date'], cumulativeRevenueA['revenue']/cumulativeRevenueA['orders'], label='A')\n",
    "plt.plot(cumulativeRevenueB['date'], cumulativeRevenueB['revenue']/cumulativeRevenueB['orders'], label='B')\n",
    "plt.legend()\n",
    "plt.title('Кумулятивный средний чек по группам', color = 'SteelBlue', fontsize=14)\n",
    "plt.show()"
   ]
  },
  {
   "cell_type": "markdown",
   "metadata": {},
   "source": [
    "При рассмотрении графика кумулятивного среднего чека по группам можем увидеть что вначале средний чек группы А падал до 06-08-2019 после постепенно возрастал и 13-08-2019 был его пик, выше, чем группы В(вероятнее попали крыпные заказы в этот промежуток в группу А) после пика незначительно снизился и остался на одном уровне. При рассмотрении кумулятивного среднего чека  группы В вначале он постепенно возрастал и относительно выше группы А, пересечение лишь было в пике группы А 13-08-2019, но после 17-08-2019 мы видим резкое возрастание группы В(крупные заказы попали в данный промежуток) после он немного снизился, но находится на относительно высоком уровне относительно группы А(следовательно в данной группе средний чек с 17-08-2019 по 01-09-2019 значительно выше группы А)."
   ]
  },
  {
   "cell_type": "markdown",
   "metadata": {},
   "source": [
    "####  Относительные изменения кумулятивного среднего чека группы B к группе A"
   ]
  },
  {
   "cell_type": "code",
   "execution_count": 29,
   "metadata": {},
   "outputs": [
    {
     "data": {
      "image/png": "[encoded data removed]",
      "text/plain": [
       "<Figure size 1008x360 with 1 Axes>"
      ]
     },
     "metadata": {
      "needs_background": "light"
     },
     "output_type": "display_data"
    }
   ],
   "source": [
    "# собираем данные в одном датафрейме\n",
    "mergedCumulativeRevenue = cumulativeRevenueA.merge(cumulativeRevenueB, left_on='date', right_on='date', how='left', \n",
    "                                                   suffixes=['A', 'B'])\n",
    "\n",
    "# cтроим отношение средних чеков\n",
    "plt.figure(figsize=(14, 5))\n",
    "plt.plot(mergedCumulativeRevenue['date'], (mergedCumulativeRevenue['revenueB']/mergedCumulativeRevenue['ordersB'])/\n",
    "         (mergedCumulativeRevenue['revenueA']/mergedCumulativeRevenue['ordersA'])-1)\n",
    "\n",
    "# добавляем ось X\n",
    "plt.axhline(y=0, color='black', linestyle='--') \n",
    "plt.title('Относительное изменение кумулятивного среднего чека группы B к группе А', color = 'SteelBlue', fontsize=14)\n",
    "plt.show()"
   ]
  },
  {
   "cell_type": "markdown",
   "metadata": {},
   "source": [
    "При рассмотрении относительного кумулятивного среднего чека группы В к А, можем увидеть постепенное его возрастание в первой половине тестирования, после резкий спад после 09-08-2019( возможно связанный с увеличением крупных заказов в группе А в данный период) но после снова видим возрастание графика после 17-09-2019 с постепенным снижением(в графике определенно есть выбросы та как имеются скачки). В общем относительное изменение кумулятивного среднего чека группы В выше группы А."
   ]
  },
  {
   "cell_type": "markdown",
   "metadata": {},
   "source": [
    "####  Кумулятивное среднее количество заказов на посетителям по группам "
   ]
  },
  {
   "cell_type": "code",
   "execution_count": 30,
   "metadata": {},
   "outputs": [],
   "source": [
    "# создаем массив уникальных пар значений дат и групп теста\n",
    "datesGroupss = orders[['date', 'group']].drop_duplicates()"
   ]
  },
  {
   "cell_type": "code",
   "execution_count": 31,
   "metadata": {},
   "outputs": [],
   "source": [
    "# агрегированные кумулятивные по дням данные о заказах \n",
    "ordersAggregatedd = datesGroupss.apply(\n",
    "    lambda x: orders[\n",
    "        np.logical_and(\n",
    "            orders['date'] <= x['date'], orders['group'] == x['group']\n",
    "        )\n",
    "    ].agg(\n",
    "        {\n",
    "            'date': 'max',\n",
    "            'group': 'max',\n",
    "            'visitorId': 'nunique',\n",
    "            'transactionId': 'nunique',\n",
    "            'revenue': 'sum',\n",
    "        }\n",
    "    ),\n",
    "    axis=1,\n",
    ").sort_values(by=['date', 'group'])"
   ]
  },
  {
   "cell_type": "code",
   "execution_count": 32,
   "metadata": {},
   "outputs": [],
   "source": [
    "# агрегированные кумулятивные по дням данные о посетителях\n",
    "visitorsAggregatedd = datesGroupss.apply(\n",
    "    lambda x: visitors[\n",
    "        np.logical_and(\n",
    "            visitors['date'] <= x['date'], visitors['group'] == x['group']\n",
    "        )\n",
    "    ].agg({'date': 'max', 'group': 'max', 'visitors': 'sum'}),\n",
    "    axis=1,\n",
    ").sort_values(by=['date', 'group'])"
   ]
  },
  {
   "cell_type": "code",
   "execution_count": 33,
   "metadata": {},
   "outputs": [],
   "source": [
    "# объединяем кумулятивные данные в одной таблице и присваиваем ее столбцам понятные названия\n",
    "cumulativeDataa = ordersAggregatedd.merge(\n",
    "    visitorsAggregatedd, left_on=['date', 'group'], right_on=['date', 'group']\n",
    ")\n",
    "cumulativeDataa.columns = [\n",
    "    'date',\n",
    "    'group',\n",
    "    'buyers',\n",
    "    'orders',\n",
    "    'revenue',\n",
    "    'visitors',\n",
    "]"
   ]
  },
  {
   "cell_type": "code",
   "execution_count": 34,
   "metadata": {},
   "outputs": [
    {
     "data": {
      "image/png": "[encoded data removed]",
      "text/plain": [
       "<Figure size 1008x360 with 1 Axes>"
      ]
     },
     "metadata": {
      "needs_background": "light"
     },
     "output_type": "display_data"
    }
   ],
   "source": [
    "# считаем среднее количество заказов на посетителя\n",
    "cumulativeDataa['conversion'] = cumulativeDataa['orders']/cumulativeDataa['visitors']\n",
    "\n",
    "# отделяем данные по группе A\n",
    "cumulativeDataA = cumulativeDataa[cumulativeDataa['group']=='A']\n",
    "\n",
    "# отделяем данные по группе B\n",
    "cumulativeDataB = cumulativeDataa[cumulativeDataa['group']=='B']\n",
    "\n",
    "# строим графики\n",
    "plt.figure(figsize=(14, 5))\n",
    "plt.plot(cumulativeDataA['date'], cumulativeDataA['conversion'], label='A')\n",
    "plt.plot(cumulativeDataB['date'], cumulativeDataB['conversion'], label='B')\n",
    "plt.legend()\n",
    "\n",
    "# задаем масштаб осей\n",
    "plt.axis([dt.datetime(2019,8,1), dt.datetime(2019,9,1), 0, 0.04])\n",
    "plt.title('Кумулятивное среднее количество заказов на посетителя по группам', color = 'SteelBlue', fontsize=14)\n",
    "plt.show()"
   ]
  },
  {
   "cell_type": "markdown",
   "metadata": {},
   "source": [
    "При рассмотрении графика кумулятивного среднего количества заказов на покупателя по группам видим в начале скачки(пиковые значения) в обоих группах, после 05-08-2019 значения стабилизировались и в группе В среднее количество заказов на посетителя стабильно больше, чем в группе А."
   ]
  },
  {
   "cell_type": "markdown",
   "metadata": {},
   "source": [
    "#### Относительное изменение кумулятивного среднего количества заказов на посетителя группы B к группе A"
   ]
  },
  {
   "cell_type": "code",
   "execution_count": 35,
   "metadata": {},
   "outputs": [
    {
     "name": "stderr",
     "output_type": "stream",
     "text": [
      "No handles with labels found to put in legend.\n"
     ]
    },
    {
     "data": {
      "image/png": "[encoded data removed]",
      "text/plain": [
       "<Figure size 1008x360 with 1 Axes>"
      ]
     },
     "metadata": {
      "needs_background": "light"
     },
     "output_type": "display_data"
    }
   ],
   "source": [
    "mergedCumulativeConversions = cumulativeDataA[['date','conversion']].merge(cumulativeDataB[['date','conversion']], left_on='date', right_on='date', how='left', suffixes=['A', 'B'])\n",
    "\n",
    "plt.figure(figsize=(14, 5))\n",
    "plt.plot(mergedCumulativeConversions['date'], mergedCumulativeConversions['conversionB']/mergedCumulativeConversions['conversionA']-1)\n",
    "plt.legend()\n",
    "\n",
    "plt.axhline(y=0, color='black', linestyle='--')\n",
    "plt.axhline(y=-0.1, color='grey', linestyle='--') \n",
    "plt.axis([dt.datetime(2019,8,1), dt.datetime(2019,9,1), -0.6, 0.6])\n",
    "plt.title('Относительный прирост кумулятивного среднего количества заказов на посетителя группы B относительно группы A', color = 'SteelBlue', fontsize=14)\n",
    "plt.show()"
   ]
  },
  {
   "cell_type": "markdown",
   "metadata": {},
   "source": [
    "При рассмотрении относительного прироста кумулятивного среднего количества заказов на посетителя группы В относительно группы А можем увидеть колебания значений в начале тестирования пик и спад относительного значения, но после постепенный рост после 05-08-2019 и стабилизация относительного прироста кумулятивного среднего количества заказа группы В относительно группы А. Посетителя группы В стали чаще заказывать, чем в группе А."
   ]
  },
  {
   "cell_type": "markdown",
   "metadata": {},
   "source": [
    "#### Анализ выбросов и всплесков "
   ]
  },
  {
   "cell_type": "code",
   "execution_count": 36,
   "metadata": {},
   "outputs": [
    {
     "data": {
      "image/png": "[encoded data removed]",
      "text/plain": [
       "<Figure size 720x360 with 1 Axes>"
      ]
     },
     "metadata": {
      "needs_background": "light"
     },
     "output_type": "display_data"
    }
   ],
   "source": [
    "# построение точечного графика по значениям orders['revenue']\n",
    "x_values = pd.Series(range(0,len(orders_unique['revenue'])))\n",
    "plt.figure(figsize=(10, 5))\n",
    "plt.scatter(x_values, orders_unique['revenue']) \n",
    "plt.title('Стоимость заказов', color = 'SteelBlue', fontsize=14)\n",
    "plt.show()"
   ]
  },
  {
   "cell_type": "code",
   "execution_count": 37,
   "metadata": {},
   "outputs": [
    {
     "data": {
      "text/plain": [
       "array([17990., 26785., 53904.])"
      ]
     },
     "execution_count": 37,
     "metadata": {},
     "output_type": "execute_result"
    }
   ],
   "source": [
    "# применение метода из библиотеки Numpy для определения 90, 95 и 99 перцентеля\n",
    "np.percentile(orders_unique['revenue'], [90, 95, 99])"
   ]
  },
  {
   "cell_type": "markdown",
   "metadata": {},
   "source": [
    "При рассмотрении точечного графика по стоимости заказов можем увидеть небольшое количество аномально дорогих заказов. После с помощью библиотеки Numpy применили метод для высчитывания перцентелей, по которым 95 перцентель определяет, что не больше 5% заказов дороже 26785. Данную границу можем использовать в дальнейшем для очищенных данных, без аномалий. Граница в 99 перцентель определяет, что не больше 1% заказов дороже 53904."
   ]
  },
  {
   "cell_type": "code",
   "execution_count": 38,
   "metadata": {},
   "outputs": [
    {
     "data": {
      "text/html": [
       "<div>\n",
       "<style scoped>\n",
       "    .dataframe tbody tr th:only-of-type {\n",
       "        vertical-align: middle;\n",
       "    }\n",
       "\n",
       "    .dataframe tbody tr th {\n",
       "        vertical-align: top;\n",
       "    }\n",
       "\n",
       "    .dataframe thead th {\n",
       "        text-align: right;\n",
       "    }\n",
       "</style>\n",
       "<table border=\"1\" class=\"dataframe\">\n",
       "  <thead>\n",
       "    <tr style=\"text-align: right;\">\n",
       "      <th></th>\n",
       "      <th>userId</th>\n",
       "      <th>orders</th>\n",
       "    </tr>\n",
       "  </thead>\n",
       "  <tbody>\n",
       "    <tr>\n",
       "      <th>908</th>\n",
       "      <td>3967698036</td>\n",
       "      <td>3</td>\n",
       "    </tr>\n",
       "    <tr>\n",
       "      <th>55</th>\n",
       "      <td>249864742</td>\n",
       "      <td>3</td>\n",
       "    </tr>\n",
       "    <tr>\n",
       "      <th>478</th>\n",
       "      <td>2108163459</td>\n",
       "      <td>3</td>\n",
       "    </tr>\n",
       "    <tr>\n",
       "      <th>687</th>\n",
       "      <td>2988190573</td>\n",
       "      <td>3</td>\n",
       "    </tr>\n",
       "    <tr>\n",
       "      <th>890</th>\n",
       "      <td>3908431265</td>\n",
       "      <td>3</td>\n",
       "    </tr>\n",
       "    <tr>\n",
       "      <th>138</th>\n",
       "      <td>611059232</td>\n",
       "      <td>3</td>\n",
       "    </tr>\n",
       "    <tr>\n",
       "      <th>632</th>\n",
       "      <td>2742574263</td>\n",
       "      <td>3</td>\n",
       "    </tr>\n",
       "    <tr>\n",
       "      <th>157</th>\n",
       "      <td>678354126</td>\n",
       "      <td>2</td>\n",
       "    </tr>\n",
       "    <tr>\n",
       "      <th>323</th>\n",
       "      <td>1404560065</td>\n",
       "      <td>2</td>\n",
       "    </tr>\n",
       "    <tr>\n",
       "      <th>452</th>\n",
       "      <td>1985475298</td>\n",
       "      <td>2</td>\n",
       "    </tr>\n",
       "  </tbody>\n",
       "</table>\n",
       "</div>"
      ],
      "text/plain": [
       "         userId  orders\n",
       "908  3967698036       3\n",
       "55    249864742       3\n",
       "478  2108163459       3\n",
       "687  2988190573       3\n",
       "890  3908431265       3\n",
       "138   611059232       3\n",
       "632  2742574263       3\n",
       "157   678354126       2\n",
       "323  1404560065       2\n",
       "452  1985475298       2"
      ]
     },
     "execution_count": 38,
     "metadata": {},
     "output_type": "execute_result"
    }
   ],
   "source": [
    "# определение количества заказов пользователей методом группировки и сортировки\n",
    "ordersByUsers = (\n",
    "    orders_unique.groupby('visitorId', as_index=False)\n",
    "    .agg({'transactionId': 'nunique'})\n",
    ")\n",
    "\n",
    "ordersByUsers.columns = ['userId', 'orders']\n",
    "\n",
    "ordersByUsers.sort_values(by='orders', ascending=False).head(10)"
   ]
  },
  {
   "cell_type": "code",
   "execution_count": 39,
   "metadata": {},
   "outputs": [
    {
     "data": {
      "image/png": "[encoded data removed]",
      "text/plain": [
       "<Figure size 720x360 with 1 Axes>"
      ]
     },
     "metadata": {
      "needs_background": "light"
     },
     "output_type": "display_data"
    }
   ],
   "source": [
    "# построение точечного графика по значениям сформированного группировкой данных ordersByUsers['orders']\n",
    "x_values = pd.Series(range(0,len(ordersByUsers)))\n",
    "\n",
    "plt.figure(figsize=(10, 5))\n",
    "plt.scatter(x_values, ordersByUsers['orders']) \n",
    "plt.title('Количество заказов по пользователям', color = 'SteelBlue', fontsize=14)\n",
    "plt.show()"
   ]
  },
  {
   "cell_type": "code",
   "execution_count": 40,
   "metadata": {},
   "outputs": [
    {
     "data": {
      "text/plain": [
       "array([1., 1., 2.])"
      ]
     },
     "execution_count": 40,
     "metadata": {},
     "output_type": "execute_result"
    }
   ],
   "source": [
    "np.percentile(ordersByUsers['orders'], [90, 95, 99])"
   ]
  },
  {
   "cell_type": "markdown",
   "metadata": {},
   "source": [
    "При рассмотрении точечного графика по количеству заказов можем увидеть небольшое количество аномалий. После с помощью библиотеки Numpy применили метод для высчитывания перцентелей, по которым 95 перцентель определяет, что не больше 5% пользователей сделали больше 1 заказа. Данную границу можем использовать в дальнейшем для очищенных данных, без аномалий. Граница в 99 перцентель определяет, что не больше 1% посетителей сделали больше 2 заказов."
   ]
  },
  {
   "cell_type": "markdown",
   "metadata": {},
   "source": [
    "#### Cтатистическая значимость различий в среднем количестве заказов на посетителя между группами по «сырым» данным "
   ]
  },
  {
   "cell_type": "markdown",
   "metadata": {},
   "source": [
    "**Н0** -  различий в среднем количестве заказов между группами нет"
   ]
  },
  {
   "cell_type": "markdown",
   "metadata": {},
   "source": [
    "**Н1** - различия в среднем количестве заказов между группами есть"
   ]
  },
  {
   "cell_type": "code",
   "execution_count": 41,
   "metadata": {},
   "outputs": [],
   "source": [
    "# формирование среза данных по группе А с формированием накопительных значений визитов по датам по датафрему visitors\n",
    "visitorsADaily = visitors[visitors['group'] == 'A'][['date', 'visitors']]\n",
    "visitorsADaily.columns = ['date', 'visitorsPerDateA']\n",
    "\n",
    "visitorsACummulative = visitorsADaily.apply(\n",
    "    lambda x: visitorsADaily[visitorsADaily['date'] <= x['date']].agg(\n",
    "        {'date': 'max', 'visitorsPerDateA': 'sum'}\n",
    "    ),\n",
    "    axis=1,\n",
    ")\n",
    "visitorsACummulative.columns = ['date', 'visitorsCummulativeA']"
   ]
  },
  {
   "cell_type": "code",
   "execution_count": 42,
   "metadata": {},
   "outputs": [],
   "source": [
    "# формирование среза данных по группе В с формированием накопительных значений визитов по датам по датафрему visitors\n",
    "visitorsBDaily = visitors[visitors['group'] == 'B'][['date', 'visitors']]\n",
    "visitorsBDaily.columns = ['date', 'visitorsPerDateB']\n",
    "\n",
    "visitorsBCummulative = visitorsBDaily.apply(\n",
    "    lambda x: visitorsBDaily[visitorsBDaily['date'] <= x['date']].agg(\n",
    "        {'date': 'max', 'visitorsPerDateB': 'sum'}\n",
    "    ),\n",
    "    axis=1,\n",
    ")\n",
    "visitorsBCummulative.columns = ['date', 'visitorsCummulativeB']"
   ]
  },
  {
   "cell_type": "code",
   "execution_count": 43,
   "metadata": {},
   "outputs": [],
   "source": [
    "# формирование среза данных по датафрему orders, группе А с формированием накопительных значений заказов и выручки по датам \n",
    "ordersADaily = (\n",
    "    orders[orders['group'] == 'A'][['date', 'transactionId', 'visitorId', 'revenue']]\n",
    "    .groupby('date', as_index=False)\n",
    "    .agg({'transactionId': pd.Series.nunique, 'revenue': 'sum'})\n",
    ")\n",
    "ordersADaily.columns = ['date', 'ordersPerDateA', 'revenuePerDateA']\n",
    "\n",
    "ordersACummulative = ordersADaily.apply(\n",
    "    lambda x: ordersADaily[ordersADaily['date'] <= x['date']].agg(\n",
    "        {'date': 'max', 'ordersPerDateA': 'sum', 'revenuePerDateA': 'sum'}\n",
    "    ),\n",
    "    axis=1,\n",
    ").sort_values(by=['date'])\n",
    "ordersACummulative.columns = [\n",
    "    'date',\n",
    "    'ordersCummulativeA',\n",
    "    'revenueCummulativeA',\n",
    "]\n"
   ]
  },
  {
   "cell_type": "code",
   "execution_count": 44,
   "metadata": {},
   "outputs": [],
   "source": [
    "# формирование среза данных по датафрему orders, группе В с формированием накопительных значений заказов и выручки по датам \n",
    "ordersBDaily = (\n",
    "    orders[orders['group'] == 'B'][['date', 'transactionId', 'visitorId', 'revenue']]\n",
    "    .groupby('date', as_index=False)\n",
    "    .agg({'transactionId': pd.Series.nunique, 'revenue': 'sum'})\n",
    ")\n",
    "ordersBDaily.columns = ['date', 'ordersPerDateB', 'revenuePerDateB']\n",
    "\n",
    "ordersBCummulative = ordersBDaily.apply(\n",
    "    lambda x: ordersBDaily[ordersBDaily['date'] <= x['date']].agg(\n",
    "        {'date': 'max', 'ordersPerDateB': 'sum', 'revenuePerDateB': 'sum'}\n",
    "    ),\n",
    "    axis=1,\n",
    ").sort_values(by=['date'])\n",
    "ordersBCummulative.columns = [\n",
    "    'date',\n",
    "    'ordersCummulativeB',\n",
    "    'revenueCummulativeB',\n",
    "]\n"
   ]
  },
  {
   "cell_type": "code",
   "execution_count": 45,
   "metadata": {},
   "outputs": [
    {
     "data": {
      "text/html": [
       "<div>\n",
       "<style scoped>\n",
       "    .dataframe tbody tr th:only-of-type {\n",
       "        vertical-align: middle;\n",
       "    }\n",
       "\n",
       "    .dataframe tbody tr th {\n",
       "        vertical-align: top;\n",
       "    }\n",
       "\n",
       "    .dataframe thead th {\n",
       "        text-align: right;\n",
       "    }\n",
       "</style>\n",
       "<table border=\"1\" class=\"dataframe\">\n",
       "  <thead>\n",
       "    <tr style=\"text-align: right;\">\n",
       "      <th></th>\n",
       "      <th>date</th>\n",
       "      <th>ordersPerDateA</th>\n",
       "      <th>revenuePerDateA</th>\n",
       "      <th>ordersPerDateB</th>\n",
       "      <th>revenuePerDateB</th>\n",
       "      <th>ordersCummulativeA</th>\n",
       "      <th>revenueCummulativeA</th>\n",
       "      <th>ordersCummulativeB</th>\n",
       "      <th>revenueCummulativeB</th>\n",
       "      <th>visitorsPerDateA</th>\n",
       "      <th>visitorsPerDateB</th>\n",
       "      <th>visitorsCummulativeA</th>\n",
       "      <th>visitorsCummulativeB</th>\n",
       "    </tr>\n",
       "  </thead>\n",
       "  <tbody>\n",
       "    <tr>\n",
       "      <th>0</th>\n",
       "      <td>2019-08-01</td>\n",
       "      <td>24</td>\n",
       "      <td>148579</td>\n",
       "      <td>21</td>\n",
       "      <td>101217</td>\n",
       "      <td>24</td>\n",
       "      <td>148579</td>\n",
       "      <td>21</td>\n",
       "      <td>101217</td>\n",
       "      <td>719</td>\n",
       "      <td>713</td>\n",
       "      <td>719</td>\n",
       "      <td>713</td>\n",
       "    </tr>\n",
       "    <tr>\n",
       "      <th>1</th>\n",
       "      <td>2019-08-02</td>\n",
       "      <td>20</td>\n",
       "      <td>93822</td>\n",
       "      <td>24</td>\n",
       "      <td>165531</td>\n",
       "      <td>44</td>\n",
       "      <td>242401</td>\n",
       "      <td>45</td>\n",
       "      <td>266748</td>\n",
       "      <td>619</td>\n",
       "      <td>581</td>\n",
       "      <td>1338</td>\n",
       "      <td>1294</td>\n",
       "    </tr>\n",
       "    <tr>\n",
       "      <th>2</th>\n",
       "      <td>2019-08-03</td>\n",
       "      <td>24</td>\n",
       "      <td>112473</td>\n",
       "      <td>16</td>\n",
       "      <td>114248</td>\n",
       "      <td>68</td>\n",
       "      <td>354874</td>\n",
       "      <td>61</td>\n",
       "      <td>380996</td>\n",
       "      <td>507</td>\n",
       "      <td>509</td>\n",
       "      <td>1845</td>\n",
       "      <td>1803</td>\n",
       "    </tr>\n",
       "    <tr>\n",
       "      <th>3</th>\n",
       "      <td>2019-08-04</td>\n",
       "      <td>16</td>\n",
       "      <td>70825</td>\n",
       "      <td>17</td>\n",
       "      <td>108571</td>\n",
       "      <td>84</td>\n",
       "      <td>425699</td>\n",
       "      <td>78</td>\n",
       "      <td>489567</td>\n",
       "      <td>717</td>\n",
       "      <td>770</td>\n",
       "      <td>2562</td>\n",
       "      <td>2573</td>\n",
       "    </tr>\n",
       "    <tr>\n",
       "      <th>4</th>\n",
       "      <td>2019-08-05</td>\n",
       "      <td>25</td>\n",
       "      <td>124218</td>\n",
       "      <td>23</td>\n",
       "      <td>92428</td>\n",
       "      <td>109</td>\n",
       "      <td>549917</td>\n",
       "      <td>101</td>\n",
       "      <td>581995</td>\n",
       "      <td>756</td>\n",
       "      <td>707</td>\n",
       "      <td>3318</td>\n",
       "      <td>3280</td>\n",
       "    </tr>\n",
       "  </tbody>\n",
       "</table>\n",
       "</div>"
      ],
      "text/plain": [
       "        date  ordersPerDateA  revenuePerDateA  ordersPerDateB  \\\n",
       "0 2019-08-01              24           148579              21   \n",
       "1 2019-08-02              20            93822              24   \n",
       "2 2019-08-03              24           112473              16   \n",
       "3 2019-08-04              16            70825              17   \n",
       "4 2019-08-05              25           124218              23   \n",
       "\n",
       "   revenuePerDateB  ordersCummulativeA  revenueCummulativeA  \\\n",
       "0           101217                  24               148579   \n",
       "1           165531                  44               242401   \n",
       "2           114248                  68               354874   \n",
       "3           108571                  84               425699   \n",
       "4            92428                 109               549917   \n",
       "\n",
       "   ordersCummulativeB  revenueCummulativeB  visitorsPerDateA  \\\n",
       "0                  21               101217               719   \n",
       "1                  45               266748               619   \n",
       "2                  61               380996               507   \n",
       "3                  78               489567               717   \n",
       "4                 101               581995               756   \n",
       "\n",
       "   visitorsPerDateB  visitorsCummulativeA  visitorsCummulativeB  \n",
       "0               713                   719                   713  \n",
       "1               581                  1338                  1294  \n",
       "2               509                  1845                  1803  \n",
       "3               770                  2562                  2573  \n",
       "4               707                  3318                  3280  "
      ]
     },
     "execution_count": 45,
     "metadata": {},
     "output_type": "execute_result"
    }
   ],
   "source": [
    "# формирование датафрейма путем соединения ordersADaily и ordersBDaily методом merge()\n",
    "data = (\n",
    "    ordersADaily.merge(\n",
    "        ordersBDaily, left_on='date', right_on='date', how='left'\n",
    "    )\n",
    "    .merge(ordersACummulative, left_on='date', right_on='date', how='left')\n",
    "    .merge(ordersBCummulative, left_on='date', right_on='date', how='left')\n",
    "    .merge(visitorsADaily, left_on='date', right_on='date', how='left')\n",
    "    .merge(visitorsBDaily, left_on='date', right_on='date', how='left')\n",
    "    .merge(visitorsACummulative, left_on='date', right_on='date', how='left')\n",
    "    .merge(visitorsBCummulative, left_on='date', right_on='date', how='left')\n",
    ")\n",
    "data.head(5)"
   ]
  },
  {
   "cell_type": "code",
   "execution_count": 46,
   "metadata": {},
   "outputs": [],
   "source": [
    "#формирование среза группы А пользователей, которые заказывали хотя бы 1 раз и количество совершенных заказов\n",
    "ordersByUsersA = (\n",
    "    orders[orders['group'] == 'A']\n",
    "    .groupby('visitorId', as_index=False)\n",
    "    .agg({'transactionId': pd.Series.nunique})\n",
    ")\n",
    "ordersByUsersA.columns = ['userId', 'orders']"
   ]
  },
  {
   "cell_type": "code",
   "execution_count": 47,
   "metadata": {},
   "outputs": [],
   "source": [
    "#формирование среза группы В пользователей, которые заказывали хотя бы 1 раз и количество совершенных заказов\n",
    "ordersByUsersB = (\n",
    "    orders[orders['group'] == 'B']\n",
    "    .groupby('visitorId', as_index=False)\n",
    "    .agg({'transactionId': pd.Series.nunique})\n",
    ")\n",
    "ordersByUsersB.columns = ['userId', 'orders']"
   ]
  },
  {
   "cell_type": "code",
   "execution_count": 48,
   "metadata": {},
   "outputs": [],
   "source": [
    "# формирование выборок для каждой группы с формированием пользователей и их заказов, в том числе кто ничего не заказывал(0)\n",
    "sampleA = pd.concat([ordersByUsersA['orders'],pd.Series\n",
    "                     (0, index=np.arange(data['visitorsPerDateA'].sum() - len(ordersByUsersA['orders'])), name='orders')],\n",
    "                    axis=0)\n",
    "\n",
    "sampleB = pd.concat([ordersByUsersB['orders'],pd.Series\n",
    "                     (0, index=np.arange(data['visitorsPerDateB'].sum() - len(ordersByUsersB['orders'])), name='orders')],\n",
    "                    axis=0)"
   ]
  },
  {
   "cell_type": "code",
   "execution_count": 49,
   "metadata": {},
   "outputs": [
    {
     "data": {
      "text/plain": [
       "'p-value = 0.017'"
      ]
     },
     "execution_count": 49,
     "metadata": {},
     "output_type": "execute_result"
    }
   ],
   "source": [
    "# различие в среднем  числе заказов на пользователя между группами с применением теста Манна-Уитни\n",
    "'p-value = '\"{0:.3f}\".format(stats.mannwhitneyu(sampleA, sampleB)[1])"
   ]
  },
  {
   "cell_type": "code",
   "execution_count": 50,
   "metadata": {},
   "outputs": [
    {
     "data": {
      "text/plain": [
       "'относительный прирост среднего числа заказов группы B составляет 0.138'"
      ]
     },
     "execution_count": 50,
     "metadata": {},
     "output_type": "execute_result"
    }
   ],
   "source": [
    "# относительный прирост среднего числа заказов группы B\n",
    "'относительный прирост среднего числа заказов группы B составляет '\"{0:.3f}\".format(sampleB.mean() / sampleA.mean() - 1)"
   ]
  },
  {
   "cell_type": "markdown",
   "metadata": {},
   "source": [
    "Число р-value = 0.017 меньше 0.05. Значит, нулевую гипотезу о том, что статистически значимых различий в среднем числе заказов между группами нет, отвергаем. Относительный выигрыш группы B равен 13.8% — второе число в выводе."
   ]
  },
  {
   "cell_type": "markdown",
   "metadata": {},
   "source": [
    "####  Статистическая значимость различий в среднем чеке заказов на посетителя между группами по «сырым» данным"
   ]
  },
  {
   "cell_type": "markdown",
   "metadata": {},
   "source": [
    "**Н0** -  различий в среднем чеке заказов на посетителя между группами нет"
   ]
  },
  {
   "cell_type": "markdown",
   "metadata": {},
   "source": [
    "**Н1** - различия в среднем чеке заказов на посетителя между группами есть"
   ]
  },
  {
   "cell_type": "code",
   "execution_count": 51,
   "metadata": {},
   "outputs": [
    {
     "data": {
      "text/plain": [
       "'p-value = 0.729'"
      ]
     },
     "execution_count": 51,
     "metadata": {},
     "output_type": "execute_result"
    }
   ],
   "source": [
    "# формируем данные о выручке по группам и  пернедаем данные тесту Манна-Уитни\n",
    "'p-value = ''{0:.3f}'.format(stats.mannwhitneyu(orders[orders['group']=='A']['revenue'], orders[orders['group']=='B']['revenue'])[1])"
   ]
  },
  {
   "cell_type": "code",
   "execution_count": 52,
   "metadata": {},
   "outputs": [
    {
     "data": {
      "text/plain": [
       "'относительный прирост среднего чека группы В - 0.259'"
      ]
     },
     "execution_count": 52,
     "metadata": {},
     "output_type": "execute_result"
    }
   ],
   "source": [
    "# нахождение относительного различия среднего чека между группами\n",
    "'относительный прирост среднего чека группы В - ''{0:.3f}'.format(orders[orders['group']=='B']['revenue'].mean()/orders[orders['group']=='A']['revenue'].mean()-1)"
   ]
  },
  {
   "cell_type": "markdown",
   "metadata": {},
   "source": [
    "P-value значительно больше 0.05. Значит, причин отвергать нулевую гипотезу и считать, что в среднем чеке есть различия, нет. Наблюдаемое относительное увеличение среднего чека группы B выше среднего чека группы A,на 25.9% не является статистически важным."
   ]
  },
  {
   "cell_type": "markdown",
   "metadata": {},
   "source": [
    "####  Cтатистическая значимость различий в среднем количестве заказов на посетителя между группами по очищенным данным "
   ]
  },
  {
   "cell_type": "markdown",
   "metadata": {},
   "source": [
    "**Н0** -  различий в среднем количестве заказов между группами нет"
   ]
  },
  {
   "cell_type": "markdown",
   "metadata": {},
   "source": [
    "**Н1** - различия в среднем количестве заказов между группами есть"
   ]
  },
  {
   "cell_type": "code",
   "execution_count": 53,
   "metadata": {},
   "outputs": [
    {
     "data": {
      "text/plain": [
       "115"
      ]
     },
     "execution_count": 53,
     "metadata": {},
     "output_type": "execute_result"
    }
   ],
   "source": [
    "# формирование срезов данных без аномальных данных\n",
    "usersWithManyOrders = pd.concat(\n",
    "    [\n",
    "        ordersByUsersA[ordersByUsersA['orders'] > 1]['userId'],\n",
    "        ordersByUsersB[ordersByUsersB['orders'] > 1]['userId'],\n",
    "    ],\n",
    "    axis=0,\n",
    ")\n",
    "revenue_lim = np.percentile(orders_unique['revenue'], 95)\n",
    "usersWithExpensiveOrders = orders[orders['revenue'] > revenue_lim]['visitorId']\n",
    "\n",
    "abnormalUsers = (\n",
    "    pd.concat([usersWithManyOrders, usersWithExpensiveOrders], axis=0)\n",
    "    .drop_duplicates()\n",
    "    .sort_values()\n",
    ")\n",
    "\n",
    "abnormalUsers.shape[0]"
   ]
  },
  {
   "cell_type": "code",
   "execution_count": 54,
   "metadata": {},
   "outputs": [],
   "source": [
    "sampleAFiltered = pd.concat(\n",
    "    [\n",
    "        ordersByUsersA[\n",
    "            np.logical_not(ordersByUsersA['userId'].isin(abnormalUsers))\n",
    "        ]['orders'],\n",
    "        pd.Series(\n",
    "            0,\n",
    "            index=np.arange(\n",
    "                data['visitorsPerDateA'].sum() - len(ordersByUsersA['orders'])\n",
    "            ),\n",
    "            name='orders',\n",
    "        ),\n",
    "    ],\n",
    "    axis=0,\n",
    ")\n",
    "\n",
    "sampleBFiltered = pd.concat(\n",
    "    [\n",
    "        ordersByUsersB[\n",
    "            np.logical_not(ordersByUsersB['userId'].isin(abnormalUsers))\n",
    "        ]['orders'],\n",
    "        pd.Series(\n",
    "            0,\n",
    "            index=np.arange(\n",
    "                data['visitorsPerDateB'].sum() - len(ordersByUsersB['orders'])\n",
    "            ),\n",
    "            name='orders',\n",
    "        ),\n",
    "    ],\n",
    "    axis=0,\n",
    ")"
   ]
  },
  {
   "cell_type": "code",
   "execution_count": 55,
   "metadata": {},
   "outputs": [
    {
     "data": {
      "text/plain": [
       "'p-value = 0.020'"
      ]
     },
     "execution_count": 55,
     "metadata": {},
     "output_type": "execute_result"
    }
   ],
   "source": [
    "'p-value = ''{0:.3f}'.format(stats.mannwhitneyu(sampleAFiltered, sampleBFiltered)[1])\n"
   ]
  },
  {
   "cell_type": "code",
   "execution_count": 56,
   "metadata": {},
   "outputs": [
    {
     "data": {
      "text/plain": [
       "'относительный прирост среднего числа заказов группы B составляет 0.162'"
      ]
     },
     "execution_count": 56,
     "metadata": {},
     "output_type": "execute_result"
    }
   ],
   "source": [
    "'относительный прирост среднего числа заказов группы B составляет ''{0:.3f}'.format(sampleBFiltered.mean()/sampleAFiltered.mean()-1)"
   ]
  },
  {
   "cell_type": "markdown",
   "metadata": {},
   "source": [
    "Число р-value = 0.02 меньше 0.05. Значит, нулевую гипотезу о том, что статистически значимых различий в среднем числе заказов между группами нет, отвергаем, вывод не поменялся и остался тем же, что и по \"сырым\" данным. Относительный выигрыш группы B равен 16.2% — второе число в выводе, повысилось с 13.8%"
   ]
  },
  {
   "cell_type": "markdown",
   "metadata": {},
   "source": [
    "####  Cтатистическая значимость различий в среднем чеке заказа  между группами по очищенным данным   "
   ]
  },
  {
   "cell_type": "markdown",
   "metadata": {},
   "source": [
    "**Н0** -  различий в среднем чеке заказов на посетителя между группами нет"
   ]
  },
  {
   "cell_type": "markdown",
   "metadata": {},
   "source": [
    "**Н1** - различия в среднем чеке заказов на посетителя между группами есть"
   ]
  },
  {
   "cell_type": "code",
   "execution_count": 57,
   "metadata": {},
   "outputs": [
    {
     "name": "stdout",
     "output_type": "stream",
     "text": [
      "p-value = 0.767\n",
      "относительный прирост среднего чека группы В - -0.022\n"
     ]
    }
   ],
   "source": [
    "print(\n",
    "    'p-value = ''{0:.3f}'.format(\n",
    "        stats.mannwhitneyu(\n",
    "            orders[\n",
    "                np.logical_and(\n",
    "                    orders['group'] == 'A',\n",
    "                    np.logical_not(orders['visitorId'].isin(abnormalUsers)),\n",
    "                )\n",
    "            ]['revenue'],\n",
    "            orders[\n",
    "                np.logical_and(\n",
    "                    orders['group'] == 'B',\n",
    "                    np.logical_not(orders['visitorId'].isin(abnormalUsers)),\n",
    "                )\n",
    "            ]['revenue'],\n",
    "        )[1]\n",
    "    )\n",
    ")\n",
    "\n",
    "print(\n",
    "    'относительный прирост среднего чека группы В - '\"{0:.3f}\".format(\n",
    "        orders[\n",
    "            np.logical_and(\n",
    "                orders['group'] == 'B',\n",
    "                np.logical_not(orders['visitorId'].isin(abnormalUsers)),\n",
    "            )\n",
    "        ]['revenue'].mean()\n",
    "        / orders[\n",
    "            np.logical_and(\n",
    "                orders['group'] == 'A',\n",
    "                np.logical_not(orders['visitorId'].isin(abnormalUsers)),\n",
    "            )\n",
    "        ]['revenue'].mean()\n",
    "        - 1\n",
    "    )\n",
    ")"
   ]
  },
  {
   "cell_type": "markdown",
   "metadata": {},
   "source": [
    "P-value значительно больше 0.05. Значит, причин отвергать нулевую гипотезу и считать, что в среднем чеке есть различия, нет. Данное значение по сравнению с \"сырыми\" данными не поменялось. А вот средний чек группы B относительно группы А сильно снизился с 25.9% до -2.2% и эти значения не являются статистически значимыми."
   ]
  },
  {
   "cell_type": "markdown",
   "metadata": {},
   "source": [
    "**Вывод**\n",
    "\n",
    "Мы провели А/В тестирование и выгрузили его результаты, в первом датафреме находится информация о индификаторе заказа, идентификаторе пользователя, дату, когда был совершен заказ, выручку заказа и группу А/В теста, куда попал заказ. А так же можем увидеть, что в данном датафрейме 5 столбцов и 1197 сток. Во втором датафреме находится информация о дате, группе А/В теста и количестве пользователей в указанную дату в указанной группе A/B-теста. А так же информацию о том, что в данном датафрейме 3 столбца и 62 строки. По выведенной общей информации по датафреймам можем увидеть, что в данных не имеется пропусков в значениях, количество строк общее и в каждом из столбцов совпадает.\n",
    "\n",
    "После провели проверку распредления групп тестирования, выявлено пересечение пользователей, 58 пользователей оказались в двух группах одновременно, данный момент выявлен, из за сложности выведения данных пользователей, они останутся в анализе и анализ будет проводится с учетом, что часть пользователей попала в обе группы. В дальнейшем для расчета кумулятивной выручки и среднего чека будем использовать очищенные данные без части пользователей, попавших в обе группы. При расчете количества заказов будем использовать данные с часть пользователей в двух группах.\n",
    "**Рекомендации** *просмотреть порядок распределения пользователей по группам для дальнейшего предотвращения пересечни массивов.*\n",
    "\n",
    "При рассмотрении кумулятивной выручки, она постепенно растет в двух группах. Примерно до 13-08-2019 возрастала равномерно в двух группах, после группа В стала относительно возрастать группы А, так же видим *резкий скачок группы В после 17-08-2019 кумулятивная выручка осталась на относительно высоком уровне от группы А.*\n",
    "\n",
    "При рассмотрении кумулятивного среднего чека по группам можем увидеть что вначале средний чек группы А падал до 06-08-2019 после постепенно возрастал и 13-08-2019 был его пик, выше, чем группы В после пика незначительно снизился и остался на одном уровне. При рассмотрении кумулятивного среднего чека  группы В вначале он постепенно возрастал и относительно выше группы А, пересечение лишь было в пике группы А 13-08-2019, но *после 17-08-2019 мы видим резкое возрастание кумулятивного среднего чека группы В после он немного снизился, но находится на относительно высоком уровне относительно группы А.*\n",
    "\n",
    "При рассмотрении относительного кумулятивного среднего чека группы В к А, можем увидеть постепенное его возрастание в первой половине тестирования, после резкий спад после 09-08-2019(возможно связанный с увеличением крупных заказов в группе А в данный период) но после снова видим возрастание графика после 17-09-2019 с постепенным снижением(в графике определенно есть выбросы та как имеются скачки). *В общем относительное изменение кумулятивного среднего чека группы В выше группы А.*\n",
    "\n",
    "При рассмотрении кумулятивного среднего количества заказов на покупателя по группам видим в начале скачки(пиковые значения) в обоих группах, после 05-08-2019 значения стабилизировались и *в группе В среднее количество заказов на посетителя стабильно больше, чем в группе А.*\n",
    "\n",
    "При рассмотрении относительного прироста кумулятивного среднего количества заказов на посетителя группы В относительно группы А можем увидеть колебания значений в начале тестирования пик и спад относительного значения, но после *постепенный рост после 05-08-2019 и стабилизация относительного прироста кумулятивного среднего количества заказа группы В относительно группы А. Посетителя группы В стали чаще заказывать, чем в группе А.*\n",
    "\n",
    "Произвели анализ аномалий в данных, выявили,что *не больше 5% заказов дороже 26785, а так же не больше 5% пользователей сделали больше 1 заказа. Данные границы в дальнейшем использовали для очищенных данных.\n",
    "\n",
    "При подсчете статистической значимости различий в среднем количестве заказов на посетителя между группами в сырых данных выявили, что число р-value = 0.017 меньше 0.05. В свя зи с этим нулевую гипотезу о том, что статистически значимых различий в среднем числе заказов между группами нет, отвергли. Относительный выигрыш группы B равен 13.8% — второе число в выводе. При проведении данного расчета по очищенным данным число р-value = 0.02, остался меньше 0.05, а значит и *по сырым и по очищенным данным нулевую гипотезу о том, что статистически значимых различий в среднем числе заказов между группами нет, отвергаем.  Относительный выигрыш группы B равен 16.2% по очищенным данным он повысился, та как в сырых он составлял 13.8%*\n",
    "\n",
    "При подсчете  статистической значимости различий в среднем количестве заказов на посетителя между группами в сырых данных выявили, что число р-value значительно больше 0.05. Значит, причин отвергать нулевую гипотезу и считать, что в среднем чеке есть различия, нет. Впрочем, средний чек группы B значительно выше среднего чека группы A,на 25.9%, но не имеет статистической важности. При проведении данного расчета по очищенным данным число р-value значительно больше 0.05(0.767), а значит и *по сырым и по очищенным данным нулевую гипотезу о том, что статистически значимых различий в среднем чеке между группами нет,нельзя отвергать.  Относительное значение группы B равно -2.2% по очищенным данным оно снизилось, так как в сырых оно составлял 25.9%б но не является статистически значимым*\n",
    "\n",
    "**Решение по результатам теста - остановить тестирование и зафиксировать победу группы В.**"
   ]
  }
 ],
 "metadata": {
  "ExecuteTimeLog": [
   {
    "duration": 44,
    "start_time": "2023-12-20T12:43:17.908Z"
   },
   {
    "duration": 347,
    "start_time": "2023-12-20T12:43:42.637Z"
   },
   {
    "duration": 61,
    "start_time": "2023-12-20T12:43:46.107Z"
   },
   {
    "duration": 3,
    "start_time": "2023-12-20T12:44:16.196Z"
   },
   {
    "duration": 25,
    "start_time": "2023-12-20T12:44:16.901Z"
   },
   {
    "duration": 12,
    "start_time": "2023-12-20T14:06:58.185Z"
   },
   {
    "duration": 7,
    "start_time": "2023-12-20T14:07:12.815Z"
   },
   {
    "duration": 9,
    "start_time": "2023-12-20T14:07:31.530Z"
   },
   {
    "duration": 363,
    "start_time": "2023-12-22T12:59:24.926Z"
   },
   {
    "duration": 61,
    "start_time": "2023-12-22T12:59:25.290Z"
   },
   {
    "duration": 14,
    "start_time": "2023-12-22T12:59:25.353Z"
   },
   {
    "duration": 11,
    "start_time": "2023-12-22T12:59:25.368Z"
   },
   {
    "duration": 4,
    "start_time": "2023-12-22T13:00:00.290Z"
   },
   {
    "duration": 8,
    "start_time": "2023-12-22T13:00:01.849Z"
   },
   {
    "duration": 4,
    "start_time": "2023-12-22T13:01:19.127Z"
   },
   {
    "duration": 3,
    "start_time": "2023-12-22T13:01:52.167Z"
   },
   {
    "duration": 11,
    "start_time": "2023-12-22T13:01:53.208Z"
   },
   {
    "duration": 3,
    "start_time": "2023-12-22T13:01:58.956Z"
   },
   {
    "duration": 8,
    "start_time": "2023-12-22T13:01:59.467Z"
   },
   {
    "duration": 3,
    "start_time": "2023-12-22T13:03:04.323Z"
   },
   {
    "duration": 8,
    "start_time": "2023-12-22T13:03:05.151Z"
   },
   {
    "duration": 2,
    "start_time": "2023-12-22T13:03:12.386Z"
   },
   {
    "duration": 8,
    "start_time": "2023-12-22T13:03:12.759Z"
   },
   {
    "duration": 2,
    "start_time": "2023-12-22T13:04:23.847Z"
   },
   {
    "duration": 8,
    "start_time": "2023-12-22T13:04:24.447Z"
   },
   {
    "duration": 9,
    "start_time": "2023-12-22T13:04:31.527Z"
   },
   {
    "duration": 11,
    "start_time": "2023-12-22T13:10:09.736Z"
   },
   {
    "duration": 10,
    "start_time": "2023-12-22T13:10:47.272Z"
   },
   {
    "duration": 12,
    "start_time": "2023-12-22T13:13:11.655Z"
   },
   {
    "duration": 377,
    "start_time": "2023-12-22T13:15:54.585Z"
   },
   {
    "duration": 27,
    "start_time": "2023-12-22T13:15:54.964Z"
   },
   {
    "duration": 2,
    "start_time": "2023-12-22T13:15:54.993Z"
   },
   {
    "duration": 26,
    "start_time": "2023-12-22T13:15:54.997Z"
   },
   {
    "duration": 41,
    "start_time": "2023-12-22T13:15:55.026Z"
   },
   {
    "duration": 30,
    "start_time": "2023-12-22T13:15:55.068Z"
   },
   {
    "duration": 25,
    "start_time": "2023-12-22T13:15:55.099Z"
   },
   {
    "duration": 371,
    "start_time": "2023-12-22T14:11:43.001Z"
   },
   {
    "duration": 28,
    "start_time": "2023-12-22T14:11:43.374Z"
   },
   {
    "duration": 3,
    "start_time": "2023-12-22T14:11:43.403Z"
   },
   {
    "duration": 34,
    "start_time": "2023-12-22T14:11:43.407Z"
   },
   {
    "duration": 15,
    "start_time": "2023-12-22T14:11:43.443Z"
   },
   {
    "duration": 59,
    "start_time": "2023-12-22T14:11:43.459Z"
   },
   {
    "duration": 43,
    "start_time": "2023-12-22T14:11:43.519Z"
   },
   {
    "duration": 94,
    "start_time": "2023-12-22T15:21:42.201Z"
   },
   {
    "duration": 65,
    "start_time": "2023-12-22T15:22:30.469Z"
   },
   {
    "duration": 3,
    "start_time": "2023-12-22T15:24:00.078Z"
   },
   {
    "duration": 25,
    "start_time": "2023-12-22T15:25:22.485Z"
   },
   {
    "duration": 4,
    "start_time": "2023-12-22T15:26:02.545Z"
   },
   {
    "duration": 15,
    "start_time": "2023-12-22T15:26:03.826Z"
   },
   {
    "duration": 14,
    "start_time": "2023-12-22T15:26:17.001Z"
   },
   {
    "duration": 475,
    "start_time": "2023-12-22T16:12:29.553Z"
   },
   {
    "duration": 379,
    "start_time": "2023-12-22T16:12:59.200Z"
   },
   {
    "duration": 405,
    "start_time": "2023-12-22T16:13:07.322Z"
   },
   {
    "duration": 622,
    "start_time": "2023-12-22T16:13:56.744Z"
   },
   {
    "duration": 28,
    "start_time": "2023-12-22T16:13:57.368Z"
   },
   {
    "duration": 2,
    "start_time": "2023-12-22T16:13:57.398Z"
   },
   {
    "duration": 11,
    "start_time": "2023-12-22T16:13:57.402Z"
   },
   {
    "duration": 9,
    "start_time": "2023-12-22T16:13:57.415Z"
   },
   {
    "duration": 10,
    "start_time": "2023-12-22T16:13:57.426Z"
   },
   {
    "duration": 11,
    "start_time": "2023-12-22T16:13:57.438Z"
   },
   {
    "duration": 380,
    "start_time": "2023-12-22T16:13:57.450Z"
   },
   {
    "duration": 0,
    "start_time": "2023-12-22T16:13:57.832Z"
   },
   {
    "duration": 0,
    "start_time": "2023-12-22T16:13:57.833Z"
   },
   {
    "duration": 0,
    "start_time": "2023-12-22T16:13:57.834Z"
   },
   {
    "duration": 0,
    "start_time": "2023-12-22T16:13:57.835Z"
   },
   {
    "duration": 1035,
    "start_time": "2023-12-22T16:16:57.348Z"
   },
   {
    "duration": 74,
    "start_time": "2023-12-22T16:16:58.385Z"
   },
   {
    "duration": 3,
    "start_time": "2023-12-22T16:16:58.462Z"
   },
   {
    "duration": 12,
    "start_time": "2023-12-22T16:16:58.466Z"
   },
   {
    "duration": 16,
    "start_time": "2023-12-22T16:16:58.479Z"
   },
   {
    "duration": 25,
    "start_time": "2023-12-22T16:16:58.497Z"
   },
   {
    "duration": 11,
    "start_time": "2023-12-22T16:16:58.523Z"
   },
   {
    "duration": 413,
    "start_time": "2023-12-22T16:16:58.535Z"
   },
   {
    "duration": 0,
    "start_time": "2023-12-22T16:16:58.949Z"
   },
   {
    "duration": 0,
    "start_time": "2023-12-22T16:16:58.950Z"
   },
   {
    "duration": 0,
    "start_time": "2023-12-22T16:16:58.952Z"
   },
   {
    "duration": 1,
    "start_time": "2023-12-22T16:16:58.952Z"
   },
   {
    "duration": 372,
    "start_time": "2023-12-22T16:18:20.216Z"
   },
   {
    "duration": 3,
    "start_time": "2023-12-22T16:19:00.447Z"
   },
   {
    "duration": 15,
    "start_time": "2023-12-22T16:19:04.573Z"
   },
   {
    "duration": 57,
    "start_time": "2023-12-22T16:19:36.811Z"
   },
   {
    "duration": 27,
    "start_time": "2023-12-22T16:19:49.798Z"
   },
   {
    "duration": 985,
    "start_time": "2023-12-22T16:19:56.089Z"
   },
   {
    "duration": 74,
    "start_time": "2023-12-22T16:19:57.076Z"
   },
   {
    "duration": 2,
    "start_time": "2023-12-22T16:19:57.152Z"
   },
   {
    "duration": 12,
    "start_time": "2023-12-22T16:19:57.156Z"
   },
   {
    "duration": 9,
    "start_time": "2023-12-22T16:19:57.170Z"
   },
   {
    "duration": 12,
    "start_time": "2023-12-22T16:19:57.180Z"
   },
   {
    "duration": 11,
    "start_time": "2023-12-22T16:19:57.194Z"
   },
   {
    "duration": 52,
    "start_time": "2023-12-22T16:19:57.206Z"
   },
   {
    "duration": 16,
    "start_time": "2023-12-22T16:19:57.260Z"
   },
   {
    "duration": 3,
    "start_time": "2023-12-22T16:19:57.278Z"
   },
   {
    "duration": 22,
    "start_time": "2023-12-22T16:19:57.282Z"
   },
   {
    "duration": 15,
    "start_time": "2023-12-22T16:19:57.305Z"
   },
   {
    "duration": 6,
    "start_time": "2023-12-22T16:23:32.438Z"
   },
   {
    "duration": 150,
    "start_time": "2023-12-22T16:28:32.587Z"
   },
   {
    "duration": 159,
    "start_time": "2023-12-22T16:28:43.665Z"
   },
   {
    "duration": 11,
    "start_time": "2023-12-22T16:29:03.368Z"
   },
   {
    "duration": 150,
    "start_time": "2023-12-22T16:34:01.518Z"
   },
   {
    "duration": 5,
    "start_time": "2023-12-22T16:34:21.264Z"
   },
   {
    "duration": 117,
    "start_time": "2023-12-22T16:34:58.260Z"
   },
   {
    "duration": 6,
    "start_time": "2023-12-22T16:35:50.588Z"
   },
   {
    "duration": 5,
    "start_time": "2023-12-22T16:36:19.332Z"
   },
   {
    "duration": 15,
    "start_time": "2023-12-22T16:36:26.434Z"
   },
   {
    "duration": 4,
    "start_time": "2023-12-22T16:40:48.971Z"
   },
   {
    "duration": 15,
    "start_time": "2023-12-22T16:40:51.625Z"
   },
   {
    "duration": 3,
    "start_time": "2023-12-22T16:40:55.506Z"
   },
   {
    "duration": 14,
    "start_time": "2023-12-22T16:41:05.808Z"
   },
   {
    "duration": 6,
    "start_time": "2023-12-22T16:45:41.784Z"
   },
   {
    "duration": 5,
    "start_time": "2023-12-22T16:45:42.648Z"
   },
   {
    "duration": 262,
    "start_time": "2023-12-22T16:45:43.366Z"
   },
   {
    "duration": 160,
    "start_time": "2023-12-22T16:46:26.522Z"
   },
   {
    "duration": 175,
    "start_time": "2023-12-22T16:49:41.848Z"
   },
   {
    "duration": 165,
    "start_time": "2023-12-22T16:49:49.010Z"
   },
   {
    "duration": 167,
    "start_time": "2023-12-22T16:50:23.958Z"
   },
   {
    "duration": 64,
    "start_time": "2023-12-22T16:51:28.434Z"
   },
   {
    "duration": 253,
    "start_time": "2023-12-22T16:51:40.687Z"
   },
   {
    "duration": 141,
    "start_time": "2023-12-22T16:52:24.315Z"
   },
   {
    "duration": 149,
    "start_time": "2023-12-22T16:52:43.501Z"
   },
   {
    "duration": 167,
    "start_time": "2023-12-22T16:53:01.026Z"
   },
   {
    "duration": 244,
    "start_time": "2023-12-22T16:53:08.042Z"
   },
   {
    "duration": 156,
    "start_time": "2023-12-22T16:53:12.086Z"
   },
   {
    "duration": 163,
    "start_time": "2023-12-22T16:55:04.278Z"
   },
   {
    "duration": 198,
    "start_time": "2023-12-22T16:55:14.618Z"
   },
   {
    "duration": 134,
    "start_time": "2023-12-22T16:55:49.646Z"
   },
   {
    "duration": 171,
    "start_time": "2023-12-22T16:56:19.356Z"
   },
   {
    "duration": 142,
    "start_time": "2023-12-22T16:56:44.883Z"
   },
   {
    "duration": 164,
    "start_time": "2023-12-22T16:56:57.943Z"
   },
   {
    "duration": 167,
    "start_time": "2023-12-22T16:58:31.964Z"
   },
   {
    "duration": 293,
    "start_time": "2023-12-22T17:00:18.056Z"
   },
   {
    "duration": 257,
    "start_time": "2023-12-22T17:02:51.523Z"
   },
   {
    "duration": 232,
    "start_time": "2023-12-22T17:05:51.201Z"
   },
   {
    "duration": 167,
    "start_time": "2023-12-22T17:06:04.915Z"
   },
   {
    "duration": 192,
    "start_time": "2023-12-22T17:09:00.953Z"
   },
   {
    "duration": 195,
    "start_time": "2023-12-22T17:09:34.341Z"
   },
   {
    "duration": 256,
    "start_time": "2023-12-22T17:12:41.652Z"
   },
   {
    "duration": 162,
    "start_time": "2023-12-22T17:13:06.695Z"
   },
   {
    "duration": 188,
    "start_time": "2023-12-22T17:13:14.113Z"
   },
   {
    "duration": 197,
    "start_time": "2023-12-22T17:13:28.426Z"
   },
   {
    "duration": 171,
    "start_time": "2023-12-22T17:13:39.055Z"
   },
   {
    "duration": 180,
    "start_time": "2023-12-22T17:13:53.693Z"
   },
   {
    "duration": 186,
    "start_time": "2023-12-22T17:14:02.086Z"
   },
   {
    "duration": 252,
    "start_time": "2023-12-22T17:14:24.808Z"
   },
   {
    "duration": 273,
    "start_time": "2023-12-22T17:14:48.030Z"
   },
   {
    "duration": 205,
    "start_time": "2023-12-22T17:15:05.994Z"
   },
   {
    "duration": 171,
    "start_time": "2023-12-22T17:19:18.187Z"
   },
   {
    "duration": 179,
    "start_time": "2023-12-22T17:20:13.783Z"
   },
   {
    "duration": 183,
    "start_time": "2023-12-22T17:20:31.974Z"
   },
   {
    "duration": 171,
    "start_time": "2023-12-22T17:20:44.389Z"
   },
   {
    "duration": 178,
    "start_time": "2023-12-22T17:21:12.790Z"
   },
   {
    "duration": 290,
    "start_time": "2023-12-22T17:25:01.111Z"
   },
   {
    "duration": 278,
    "start_time": "2023-12-22T17:25:54.698Z"
   },
   {
    "duration": 316,
    "start_time": "2023-12-22T17:27:27.482Z"
   },
   {
    "duration": 375,
    "start_time": "2023-12-22T17:27:44.883Z"
   },
   {
    "duration": 281,
    "start_time": "2023-12-22T17:28:18.786Z"
   },
   {
    "duration": 120,
    "start_time": "2023-12-22T17:32:31.293Z"
   },
   {
    "duration": 115,
    "start_time": "2023-12-22T17:32:54.786Z"
   },
   {
    "duration": 108,
    "start_time": "2023-12-22T17:33:11.735Z"
   },
   {
    "duration": 114,
    "start_time": "2023-12-22T17:33:23.366Z"
   },
   {
    "duration": 119,
    "start_time": "2023-12-22T17:34:09.168Z"
   },
   {
    "duration": 112,
    "start_time": "2023-12-22T17:34:19.860Z"
   },
   {
    "duration": 117,
    "start_time": "2023-12-22T17:34:46.170Z"
   },
   {
    "duration": 134,
    "start_time": "2023-12-22T17:35:06.577Z"
   },
   {
    "duration": 117,
    "start_time": "2023-12-22T17:35:16.183Z"
   },
   {
    "duration": 124,
    "start_time": "2023-12-22T17:36:26.422Z"
   },
   {
    "duration": 4,
    "start_time": "2023-12-22T17:37:21.238Z"
   },
   {
    "duration": 12,
    "start_time": "2023-12-22T17:41:22.901Z"
   },
   {
    "duration": 205,
    "start_time": "2023-12-22T17:41:49.935Z"
   },
   {
    "duration": 5,
    "start_time": "2023-12-22T17:42:11.068Z"
   },
   {
    "duration": 103,
    "start_time": "2023-12-22T17:43:35.517Z"
   },
   {
    "duration": 116,
    "start_time": "2023-12-22T17:43:52.353Z"
   },
   {
    "duration": 1210,
    "start_time": "2023-12-23T07:43:40.466Z"
   },
   {
    "duration": 122,
    "start_time": "2023-12-23T07:43:41.679Z"
   },
   {
    "duration": 3,
    "start_time": "2023-12-23T07:43:41.802Z"
   },
   {
    "duration": 21,
    "start_time": "2023-12-23T07:43:41.807Z"
   },
   {
    "duration": 17,
    "start_time": "2023-12-23T07:43:41.830Z"
   },
   {
    "duration": 13,
    "start_time": "2023-12-23T07:43:41.849Z"
   },
   {
    "duration": 12,
    "start_time": "2023-12-23T07:43:41.863Z"
   },
   {
    "duration": 90,
    "start_time": "2023-12-23T07:43:41.876Z"
   },
   {
    "duration": 54,
    "start_time": "2023-12-23T07:43:41.968Z"
   },
   {
    "duration": 4,
    "start_time": "2023-12-23T07:43:42.023Z"
   },
   {
    "duration": 21,
    "start_time": "2023-12-23T07:43:42.029Z"
   },
   {
    "duration": 18,
    "start_time": "2023-12-23T07:43:42.052Z"
   },
   {
    "duration": 7,
    "start_time": "2023-12-23T07:43:42.073Z"
   },
   {
    "duration": 229,
    "start_time": "2023-12-23T07:43:42.084Z"
   },
   {
    "duration": 128,
    "start_time": "2023-12-23T07:43:42.314Z"
   },
   {
    "duration": 1830,
    "start_time": "2023-12-23T07:43:42.444Z"
   },
   {
    "duration": 1671,
    "start_time": "2023-12-23T07:43:44.275Z"
   },
   {
    "duration": 1657,
    "start_time": "2023-12-23T07:43:45.947Z"
   },
   {
    "duration": 3317,
    "start_time": "2023-12-23T07:43:47.605Z"
   },
   {
    "duration": 1058,
    "start_time": "2023-12-23T07:43:50.924Z"
   },
   {
    "duration": 211,
    "start_time": "2023-12-23T07:43:51.983Z"
   },
   {
    "duration": 398,
    "start_time": "2023-12-23T07:43:52.195Z"
   },
   {
    "duration": 220,
    "start_time": "2023-12-23T07:43:52.594Z"
   },
   {
    "duration": 341,
    "start_time": "2023-12-23T07:43:52.816Z"
   },
   {
    "duration": 162,
    "start_time": "2023-12-23T07:43:53.158Z"
   },
   {
    "duration": 6,
    "start_time": "2023-12-23T07:43:53.322Z"
   },
   {
    "duration": 22,
    "start_time": "2023-12-23T07:43:53.329Z"
   },
   {
    "duration": 139,
    "start_time": "2023-12-23T07:43:53.352Z"
   },
   {
    "duration": 6,
    "start_time": "2023-12-23T07:43:53.493Z"
   },
   {
    "duration": 46,
    "start_time": "2023-12-23T08:01:12.693Z"
   },
   {
    "duration": 52,
    "start_time": "2023-12-23T08:01:13.548Z"
   },
   {
    "duration": 56,
    "start_time": "2023-12-23T08:01:14.903Z"
   },
   {
    "duration": 99,
    "start_time": "2023-12-23T08:01:16.368Z"
   },
   {
    "duration": 64,
    "start_time": "2023-12-23T08:02:00.653Z"
   },
   {
    "duration": 29,
    "start_time": "2023-12-23T08:02:01.629Z"
   },
   {
    "duration": 153,
    "start_time": "2023-12-23T08:04:29.823Z"
   },
   {
    "duration": 6,
    "start_time": "2023-12-23T08:06:21.088Z"
   },
   {
    "duration": 5,
    "start_time": "2023-12-23T08:06:42.523Z"
   },
   {
    "duration": 26,
    "start_time": "2023-12-23T08:08:29.419Z"
   },
   {
    "duration": 25,
    "start_time": "2023-12-23T08:08:48.363Z"
   },
   {
    "duration": 4,
    "start_time": "2023-12-23T08:08:49.343Z"
   },
   {
    "duration": 10,
    "start_time": "2023-12-23T08:10:42.519Z"
   },
   {
    "duration": 1115,
    "start_time": "2023-12-23T08:15:17.763Z"
   },
   {
    "duration": 1257,
    "start_time": "2023-12-23T08:18:10.982Z"
   },
   {
    "duration": 1068,
    "start_time": "2023-12-23T08:19:09.522Z"
   },
   {
    "duration": 76,
    "start_time": "2023-12-23T08:19:10.592Z"
   },
   {
    "duration": 3,
    "start_time": "2023-12-23T08:19:10.669Z"
   },
   {
    "duration": 13,
    "start_time": "2023-12-23T08:19:10.674Z"
   },
   {
    "duration": 10,
    "start_time": "2023-12-23T08:19:10.689Z"
   },
   {
    "duration": 13,
    "start_time": "2023-12-23T08:19:10.701Z"
   },
   {
    "duration": 34,
    "start_time": "2023-12-23T08:19:10.716Z"
   },
   {
    "duration": 48,
    "start_time": "2023-12-23T08:19:10.752Z"
   },
   {
    "duration": 17,
    "start_time": "2023-12-23T08:19:10.802Z"
   },
   {
    "duration": 4,
    "start_time": "2023-12-23T08:19:10.821Z"
   },
   {
    "duration": 31,
    "start_time": "2023-12-23T08:19:10.826Z"
   },
   {
    "duration": 19,
    "start_time": "2023-12-23T08:19:10.859Z"
   },
   {
    "duration": 6,
    "start_time": "2023-12-23T08:19:10.880Z"
   },
   {
    "duration": 205,
    "start_time": "2023-12-23T08:19:10.888Z"
   },
   {
    "duration": 132,
    "start_time": "2023-12-23T08:19:11.095Z"
   },
   {
    "duration": 20,
    "start_time": "2023-12-23T08:19:11.229Z"
   },
   {
    "duration": 12,
    "start_time": "2023-12-23T08:19:11.250Z"
   },
   {
    "duration": 5,
    "start_time": "2023-12-23T08:19:11.263Z"
   },
   {
    "duration": 9,
    "start_time": "2023-12-23T08:19:11.269Z"
   },
   {
    "duration": 283,
    "start_time": "2023-12-23T08:19:11.279Z"
   },
   {
    "duration": 189,
    "start_time": "2023-12-23T08:19:11.564Z"
   },
   {
    "duration": 318,
    "start_time": "2023-12-23T08:19:11.755Z"
   },
   {
    "duration": 226,
    "start_time": "2023-12-23T08:19:12.075Z"
   },
   {
    "duration": 321,
    "start_time": "2023-12-23T08:19:12.303Z"
   },
   {
    "duration": 151,
    "start_time": "2023-12-23T08:19:12.626Z"
   },
   {
    "duration": 5,
    "start_time": "2023-12-23T08:19:12.778Z"
   },
   {
    "duration": 15,
    "start_time": "2023-12-23T08:19:12.784Z"
   },
   {
    "duration": 162,
    "start_time": "2023-12-23T08:19:12.802Z"
   },
   {
    "duration": 4,
    "start_time": "2023-12-23T08:19:12.966Z"
   },
   {
    "duration": 44,
    "start_time": "2023-12-23T08:19:12.972Z"
   },
   {
    "duration": 60,
    "start_time": "2023-12-23T08:19:13.017Z"
   },
   {
    "duration": 53,
    "start_time": "2023-12-23T08:19:13.078Z"
   },
   {
    "duration": 61,
    "start_time": "2023-12-23T08:19:13.133Z"
   },
   {
    "duration": 30,
    "start_time": "2023-12-23T08:19:13.195Z"
   },
   {
    "duration": 178,
    "start_time": "2023-12-23T08:19:13.227Z"
   },
   {
    "duration": 6,
    "start_time": "2023-12-23T08:19:13.406Z"
   },
   {
    "duration": 44,
    "start_time": "2023-12-23T08:19:13.414Z"
   },
   {
    "duration": 5,
    "start_time": "2023-12-23T08:19:13.459Z"
   },
   {
    "duration": 10,
    "start_time": "2023-12-23T08:19:13.465Z"
   },
   {
    "duration": 1294,
    "start_time": "2023-12-23T08:19:13.477Z"
   },
   {
    "duration": 1003,
    "start_time": "2023-12-23T08:20:16.086Z"
   },
   {
    "duration": 77,
    "start_time": "2023-12-23T08:20:17.090Z"
   },
   {
    "duration": 3,
    "start_time": "2023-12-23T08:20:17.169Z"
   },
   {
    "duration": 50,
    "start_time": "2023-12-23T08:20:17.173Z"
   },
   {
    "duration": 31,
    "start_time": "2023-12-23T08:20:17.225Z"
   },
   {
    "duration": 44,
    "start_time": "2023-12-23T08:20:17.257Z"
   },
   {
    "duration": 23,
    "start_time": "2023-12-23T08:20:17.302Z"
   },
   {
    "duration": 63,
    "start_time": "2023-12-23T08:20:17.327Z"
   },
   {
    "duration": 15,
    "start_time": "2023-12-23T08:20:17.392Z"
   },
   {
    "duration": 10,
    "start_time": "2023-12-23T08:20:17.410Z"
   },
   {
    "duration": 41,
    "start_time": "2023-12-23T08:20:17.421Z"
   },
   {
    "duration": 15,
    "start_time": "2023-12-23T08:20:17.464Z"
   },
   {
    "duration": 12,
    "start_time": "2023-12-23T08:20:17.480Z"
   },
   {
    "duration": 178,
    "start_time": "2023-12-23T08:20:17.494Z"
   },
   {
    "duration": 122,
    "start_time": "2023-12-23T08:20:17.673Z"
   },
   {
    "duration": 48,
    "start_time": "2023-12-23T08:20:17.796Z"
   },
   {
    "duration": 28,
    "start_time": "2023-12-23T08:20:17.845Z"
   },
   {
    "duration": 84,
    "start_time": "2023-12-23T08:20:17.875Z"
   },
   {
    "duration": 42,
    "start_time": "2023-12-23T08:20:17.960Z"
   },
   {
    "duration": 358,
    "start_time": "2023-12-23T08:20:18.004Z"
   },
   {
    "duration": 205,
    "start_time": "2023-12-23T08:20:18.364Z"
   },
   {
    "duration": 293,
    "start_time": "2023-12-23T08:20:18.571Z"
   },
   {
    "duration": 215,
    "start_time": "2023-12-23T08:20:18.866Z"
   },
   {
    "duration": 294,
    "start_time": "2023-12-23T08:20:19.083Z"
   },
   {
    "duration": 158,
    "start_time": "2023-12-23T08:20:19.379Z"
   },
   {
    "duration": 6,
    "start_time": "2023-12-23T08:20:19.539Z"
   },
   {
    "duration": 33,
    "start_time": "2023-12-23T08:20:19.547Z"
   },
   {
    "duration": 119,
    "start_time": "2023-12-23T08:20:19.584Z"
   },
   {
    "duration": 5,
    "start_time": "2023-12-23T08:20:19.705Z"
   },
   {
    "duration": 79,
    "start_time": "2023-12-23T08:20:19.711Z"
   },
   {
    "duration": 43,
    "start_time": "2023-12-23T08:20:19.792Z"
   },
   {
    "duration": 76,
    "start_time": "2023-12-23T08:20:19.837Z"
   },
   {
    "duration": 55,
    "start_time": "2023-12-23T08:20:19.914Z"
   },
   {
    "duration": 26,
    "start_time": "2023-12-23T08:20:19.970Z"
   },
   {
    "duration": 94,
    "start_time": "2023-12-23T08:20:19.997Z"
   },
   {
    "duration": 3,
    "start_time": "2023-12-23T08:20:20.093Z"
   },
   {
    "duration": 93,
    "start_time": "2023-12-23T08:20:20.097Z"
   },
   {
    "duration": 3,
    "start_time": "2023-12-23T08:20:20.191Z"
   },
   {
    "duration": 29,
    "start_time": "2023-12-23T08:20:20.196Z"
   },
   {
    "duration": 37,
    "start_time": "2023-12-23T08:20:20.227Z"
   },
   {
    "duration": 4,
    "start_time": "2023-12-23T08:20:20.265Z"
   },
   {
    "duration": 40,
    "start_time": "2023-12-23T08:20:20.270Z"
   },
   {
    "duration": 1289,
    "start_time": "2023-12-23T08:20:20.312Z"
   },
   {
    "duration": 10,
    "start_time": "2023-12-23T08:26:55.362Z"
   },
   {
    "duration": 3,
    "start_time": "2023-12-23T08:27:59.727Z"
   },
   {
    "duration": 1287,
    "start_time": "2023-12-23T08:28:20.483Z"
   },
   {
    "duration": 1168,
    "start_time": "2023-12-23T08:35:10.498Z"
   },
   {
    "duration": 1087,
    "start_time": "2023-12-23T08:39:15.813Z"
   },
   {
    "duration": 81,
    "start_time": "2023-12-23T08:39:16.902Z"
   },
   {
    "duration": 2,
    "start_time": "2023-12-23T08:39:16.985Z"
   },
   {
    "duration": 19,
    "start_time": "2023-12-23T08:39:16.988Z"
   },
   {
    "duration": 14,
    "start_time": "2023-12-23T08:39:17.009Z"
   },
   {
    "duration": 24,
    "start_time": "2023-12-23T08:39:17.024Z"
   },
   {
    "duration": 14,
    "start_time": "2023-12-23T08:39:17.050Z"
   },
   {
    "duration": 51,
    "start_time": "2023-12-23T08:39:17.066Z"
   },
   {
    "duration": 17,
    "start_time": "2023-12-23T08:39:17.119Z"
   },
   {
    "duration": 4,
    "start_time": "2023-12-23T08:39:17.137Z"
   },
   {
    "duration": 26,
    "start_time": "2023-12-23T08:39:17.143Z"
   },
   {
    "duration": 16,
    "start_time": "2023-12-23T08:39:17.171Z"
   },
   {
    "duration": 17,
    "start_time": "2023-12-23T08:39:17.189Z"
   },
   {
    "duration": 170,
    "start_time": "2023-12-23T08:39:17.209Z"
   },
   {
    "duration": 121,
    "start_time": "2023-12-23T08:39:17.381Z"
   },
   {
    "duration": 13,
    "start_time": "2023-12-23T08:39:17.504Z"
   },
   {
    "duration": 25,
    "start_time": "2023-12-23T08:39:17.518Z"
   },
   {
    "duration": 6,
    "start_time": "2023-12-23T08:39:17.545Z"
   },
   {
    "duration": 16,
    "start_time": "2023-12-23T08:39:17.552Z"
   },
   {
    "duration": 299,
    "start_time": "2023-12-23T08:39:17.569Z"
   },
   {
    "duration": 210,
    "start_time": "2023-12-23T08:39:17.870Z"
   },
   {
    "duration": 299,
    "start_time": "2023-12-23T08:39:18.082Z"
   },
   {
    "duration": 205,
    "start_time": "2023-12-23T08:39:18.383Z"
   },
   {
    "duration": 293,
    "start_time": "2023-12-23T08:39:18.590Z"
   },
   {
    "duration": 138,
    "start_time": "2023-12-23T08:39:18.885Z"
   },
   {
    "duration": 5,
    "start_time": "2023-12-23T08:39:19.025Z"
   },
   {
    "duration": 23,
    "start_time": "2023-12-23T08:39:19.031Z"
   },
   {
    "duration": 147,
    "start_time": "2023-12-23T08:39:19.055Z"
   },
   {
    "duration": 5,
    "start_time": "2023-12-23T08:39:19.204Z"
   },
   {
    "duration": 59,
    "start_time": "2023-12-23T08:39:19.210Z"
   },
   {
    "duration": 51,
    "start_time": "2023-12-23T08:39:19.271Z"
   },
   {
    "duration": 61,
    "start_time": "2023-12-23T08:39:19.323Z"
   },
   {
    "duration": 57,
    "start_time": "2023-12-23T08:39:19.385Z"
   },
   {
    "duration": 25,
    "start_time": "2023-12-23T08:39:19.444Z"
   },
   {
    "duration": 75,
    "start_time": "2023-12-23T08:39:19.470Z"
   },
   {
    "duration": 4,
    "start_time": "2023-12-23T08:39:19.546Z"
   },
   {
    "duration": 97,
    "start_time": "2023-12-23T08:39:19.551Z"
   },
   {
    "duration": 2,
    "start_time": "2023-12-23T08:39:19.650Z"
   },
   {
    "duration": 1282,
    "start_time": "2023-12-23T08:39:19.654Z"
   },
   {
    "duration": 0,
    "start_time": "2023-12-23T08:39:20.937Z"
   },
   {
    "duration": 0,
    "start_time": "2023-12-23T08:39:20.939Z"
   },
   {
    "duration": 0,
    "start_time": "2023-12-23T08:39:20.940Z"
   },
   {
    "duration": 0,
    "start_time": "2023-12-23T08:39:20.941Z"
   },
   {
    "duration": 1007,
    "start_time": "2023-12-23T08:39:42.479Z"
   },
   {
    "duration": 74,
    "start_time": "2023-12-23T08:39:43.488Z"
   },
   {
    "duration": 3,
    "start_time": "2023-12-23T08:39:43.564Z"
   },
   {
    "duration": 31,
    "start_time": "2023-12-23T08:39:43.569Z"
   },
   {
    "duration": 17,
    "start_time": "2023-12-23T08:39:43.603Z"
   },
   {
    "duration": 12,
    "start_time": "2023-12-23T08:39:43.622Z"
   },
   {
    "duration": 13,
    "start_time": "2023-12-23T08:39:43.636Z"
   },
   {
    "duration": 56,
    "start_time": "2023-12-23T08:39:43.650Z"
   },
   {
    "duration": 16,
    "start_time": "2023-12-23T08:39:43.707Z"
   },
   {
    "duration": 13,
    "start_time": "2023-12-23T08:39:43.725Z"
   },
   {
    "duration": 39,
    "start_time": "2023-12-23T08:39:43.740Z"
   },
   {
    "duration": 38,
    "start_time": "2023-12-23T08:39:43.780Z"
   },
   {
    "duration": 16,
    "start_time": "2023-12-23T08:39:43.820Z"
   },
   {
    "duration": 180,
    "start_time": "2023-12-23T08:39:43.839Z"
   },
   {
    "duration": 126,
    "start_time": "2023-12-23T08:39:44.021Z"
   },
   {
    "duration": 17,
    "start_time": "2023-12-23T08:39:44.148Z"
   },
   {
    "duration": 48,
    "start_time": "2023-12-23T08:39:44.166Z"
   },
   {
    "duration": 36,
    "start_time": "2023-12-23T08:39:44.216Z"
   },
   {
    "duration": 35,
    "start_time": "2023-12-23T08:39:44.254Z"
   },
   {
    "duration": 316,
    "start_time": "2023-12-23T08:39:44.291Z"
   },
   {
    "duration": 203,
    "start_time": "2023-12-23T08:39:44.609Z"
   },
   {
    "duration": 344,
    "start_time": "2023-12-23T08:39:44.813Z"
   },
   {
    "duration": 218,
    "start_time": "2023-12-23T08:39:45.159Z"
   },
   {
    "duration": 289,
    "start_time": "2023-12-23T08:39:45.379Z"
   },
   {
    "duration": 153,
    "start_time": "2023-12-23T08:39:45.669Z"
   },
   {
    "duration": 5,
    "start_time": "2023-12-23T08:39:45.823Z"
   },
   {
    "duration": 30,
    "start_time": "2023-12-23T08:39:45.829Z"
   },
   {
    "duration": 161,
    "start_time": "2023-12-23T08:39:45.861Z"
   },
   {
    "duration": 5,
    "start_time": "2023-12-23T08:39:46.024Z"
   },
   {
    "duration": 71,
    "start_time": "2023-12-23T08:39:46.030Z"
   },
   {
    "duration": 50,
    "start_time": "2023-12-23T08:39:46.102Z"
   },
   {
    "duration": 55,
    "start_time": "2023-12-23T08:39:46.154Z"
   },
   {
    "duration": 63,
    "start_time": "2023-12-23T08:39:46.210Z"
   },
   {
    "duration": 27,
    "start_time": "2023-12-23T08:39:46.275Z"
   },
   {
    "duration": 75,
    "start_time": "2023-12-23T08:39:46.304Z"
   },
   {
    "duration": 3,
    "start_time": "2023-12-23T08:39:46.381Z"
   },
   {
    "duration": 93,
    "start_time": "2023-12-23T08:39:46.385Z"
   },
   {
    "duration": 3,
    "start_time": "2023-12-23T08:39:46.480Z"
   },
   {
    "duration": 17,
    "start_time": "2023-12-23T08:39:46.484Z"
   },
   {
    "duration": 55,
    "start_time": "2023-12-23T08:39:46.502Z"
   },
   {
    "duration": 4,
    "start_time": "2023-12-23T08:39:46.561Z"
   },
   {
    "duration": 30,
    "start_time": "2023-12-23T08:39:46.567Z"
   },
   {
    "duration": 1310,
    "start_time": "2023-12-23T08:39:46.598Z"
   },
   {
    "duration": 10,
    "start_time": "2023-12-23T08:41:11.239Z"
   },
   {
    "duration": 1179,
    "start_time": "2023-12-23T08:50:23.309Z"
   },
   {
    "duration": 5,
    "start_time": "2023-12-23T09:01:38.753Z"
   },
   {
    "duration": 1294,
    "start_time": "2023-12-23T09:01:41.009Z"
   },
   {
    "duration": 4,
    "start_time": "2023-12-23T09:02:38.675Z"
   },
   {
    "duration": 4,
    "start_time": "2023-12-23T09:02:40.538Z"
   },
   {
    "duration": 5,
    "start_time": "2023-12-23T09:03:19.939Z"
   },
   {
    "duration": 5,
    "start_time": "2023-12-23T09:03:23.028Z"
   },
   {
    "duration": 4,
    "start_time": "2023-12-23T09:03:23.598Z"
   },
   {
    "duration": 4,
    "start_time": "2023-12-23T09:03:24.278Z"
   },
   {
    "duration": 4,
    "start_time": "2023-12-23T09:03:24.959Z"
   },
   {
    "duration": 8,
    "start_time": "2023-12-23T09:04:21.963Z"
   },
   {
    "duration": 26,
    "start_time": "2023-12-23T09:04:40.939Z"
   },
   {
    "duration": 1203,
    "start_time": "2023-12-23T09:05:05.682Z"
   },
   {
    "duration": 13,
    "start_time": "2023-12-23T09:05:53.109Z"
   },
   {
    "duration": 48,
    "start_time": "2023-12-25T09:05:17.559Z"
   },
   {
    "duration": 1324,
    "start_time": "2023-12-25T09:08:57.806Z"
   },
   {
    "duration": 117,
    "start_time": "2023-12-25T09:08:59.132Z"
   },
   {
    "duration": 3,
    "start_time": "2023-12-25T09:08:59.250Z"
   },
   {
    "duration": 28,
    "start_time": "2023-12-25T09:08:59.255Z"
   },
   {
    "duration": 24,
    "start_time": "2023-12-25T09:08:59.284Z"
   },
   {
    "duration": 44,
    "start_time": "2023-12-25T09:08:59.309Z"
   },
   {
    "duration": 72,
    "start_time": "2023-12-25T09:08:59.355Z"
   },
   {
    "duration": 94,
    "start_time": "2023-12-25T09:08:59.429Z"
   },
   {
    "duration": 55,
    "start_time": "2023-12-25T09:08:59.525Z"
   },
   {
    "duration": 3,
    "start_time": "2023-12-25T09:08:59.582Z"
   },
   {
    "duration": 29,
    "start_time": "2023-12-25T09:08:59.587Z"
   },
   {
    "duration": 14,
    "start_time": "2023-12-25T09:08:59.618Z"
   },
   {
    "duration": 22,
    "start_time": "2023-12-25T09:08:59.634Z"
   },
   {
    "duration": 178,
    "start_time": "2023-12-25T09:08:59.658Z"
   },
   {
    "duration": 117,
    "start_time": "2023-12-25T09:08:59.837Z"
   },
   {
    "duration": 13,
    "start_time": "2023-12-25T09:08:59.955Z"
   },
   {
    "duration": 23,
    "start_time": "2023-12-25T09:08:59.969Z"
   },
   {
    "duration": 14,
    "start_time": "2023-12-25T09:08:59.993Z"
   },
   {
    "duration": 325,
    "start_time": "2023-12-25T09:09:00.009Z"
   },
   {
    "duration": 187,
    "start_time": "2023-12-25T09:09:00.335Z"
   },
   {
    "duration": 392,
    "start_time": "2023-12-25T09:09:00.524Z"
   },
   {
    "duration": 206,
    "start_time": "2023-12-25T09:09:00.918Z"
   },
   {
    "duration": 326,
    "start_time": "2023-12-25T09:09:01.126Z"
   },
   {
    "duration": 141,
    "start_time": "2023-12-25T09:09:01.453Z"
   },
   {
    "duration": 6,
    "start_time": "2023-12-25T09:09:01.595Z"
   },
   {
    "duration": 46,
    "start_time": "2023-12-25T09:09:01.603Z"
   },
   {
    "duration": 180,
    "start_time": "2023-12-25T09:09:01.651Z"
   },
   {
    "duration": 4,
    "start_time": "2023-12-25T09:09:01.834Z"
   },
   {
    "duration": 81,
    "start_time": "2023-12-25T09:09:01.840Z"
   },
   {
    "duration": 92,
    "start_time": "2023-12-25T09:09:01.923Z"
   },
   {
    "duration": 85,
    "start_time": "2023-12-25T09:09:02.017Z"
   },
   {
    "duration": 55,
    "start_time": "2023-12-25T09:09:02.103Z"
   },
   {
    "duration": 29,
    "start_time": "2023-12-25T09:09:02.159Z"
   },
   {
    "duration": 84,
    "start_time": "2023-12-25T09:09:02.190Z"
   },
   {
    "duration": 3,
    "start_time": "2023-12-25T09:09:02.275Z"
   },
   {
    "duration": 85,
    "start_time": "2023-12-25T09:09:02.280Z"
   },
   {
    "duration": 3,
    "start_time": "2023-12-25T09:09:02.367Z"
   },
   {
    "duration": 8,
    "start_time": "2023-12-25T09:09:02.372Z"
   },
   {
    "duration": 25,
    "start_time": "2023-12-25T09:09:02.382Z"
   },
   {
    "duration": 5,
    "start_time": "2023-12-25T09:09:02.408Z"
   },
   {
    "duration": 9,
    "start_time": "2023-12-25T09:09:02.414Z"
   },
   {
    "duration": 5,
    "start_time": "2023-12-25T09:09:02.424Z"
   },
   {
    "duration": 5,
    "start_time": "2023-12-25T09:09:02.464Z"
   },
   {
    "duration": 4,
    "start_time": "2023-12-25T09:09:02.471Z"
   },
   {
    "duration": 4,
    "start_time": "2023-12-25T09:09:02.477Z"
   },
   {
    "duration": 7,
    "start_time": "2023-12-25T09:09:02.483Z"
   },
   {
    "duration": 23,
    "start_time": "2023-12-25T09:09:02.492Z"
   },
   {
    "duration": 13,
    "start_time": "2023-12-25T09:09:02.517Z"
   },
   {
    "duration": 1058,
    "start_time": "2023-12-25T10:05:12.978Z"
   },
   {
    "duration": 73,
    "start_time": "2023-12-25T10:05:14.038Z"
   },
   {
    "duration": 7,
    "start_time": "2023-12-25T10:05:14.113Z"
   },
   {
    "duration": 12,
    "start_time": "2023-12-25T10:05:14.123Z"
   },
   {
    "duration": 11,
    "start_time": "2023-12-25T10:05:14.136Z"
   },
   {
    "duration": 22,
    "start_time": "2023-12-25T10:05:14.148Z"
   },
   {
    "duration": 12,
    "start_time": "2023-12-25T10:05:14.171Z"
   },
   {
    "duration": 50,
    "start_time": "2023-12-25T10:05:14.185Z"
   },
   {
    "duration": 17,
    "start_time": "2023-12-25T10:05:14.236Z"
   },
   {
    "duration": 3,
    "start_time": "2023-12-25T10:05:14.256Z"
   },
   {
    "duration": 24,
    "start_time": "2023-12-25T10:05:14.260Z"
   },
   {
    "duration": 13,
    "start_time": "2023-12-25T10:05:14.286Z"
   },
   {
    "duration": 5,
    "start_time": "2023-12-25T10:05:14.301Z"
   },
   {
    "duration": 171,
    "start_time": "2023-12-25T10:05:14.307Z"
   },
   {
    "duration": 114,
    "start_time": "2023-12-25T10:05:14.479Z"
   },
   {
    "duration": 5,
    "start_time": "2023-12-25T10:05:14.595Z"
   },
   {
    "duration": 6,
    "start_time": "2023-12-25T10:05:14.602Z"
   },
   {
    "duration": 5,
    "start_time": "2023-12-25T10:05:14.609Z"
   },
   {
    "duration": 268,
    "start_time": "2023-12-25T10:05:14.615Z"
   },
   {
    "duration": 190,
    "start_time": "2023-12-25T10:05:14.884Z"
   },
   {
    "duration": 304,
    "start_time": "2023-12-25T10:05:15.076Z"
   },
   {
    "duration": 198,
    "start_time": "2023-12-25T10:05:15.381Z"
   },
   {
    "duration": 288,
    "start_time": "2023-12-25T10:05:15.581Z"
   },
   {
    "duration": 132,
    "start_time": "2023-12-25T10:05:15.870Z"
   },
   {
    "duration": 4,
    "start_time": "2023-12-25T10:05:16.003Z"
   },
   {
    "duration": 17,
    "start_time": "2023-12-25T10:05:16.008Z"
   },
   {
    "duration": 124,
    "start_time": "2023-12-25T10:05:16.026Z"
   },
   {
    "duration": 4,
    "start_time": "2023-12-25T10:05:16.154Z"
   },
   {
    "duration": 53,
    "start_time": "2023-12-25T10:05:16.165Z"
   },
   {
    "duration": 47,
    "start_time": "2023-12-25T10:05:16.220Z"
   },
   {
    "duration": 53,
    "start_time": "2023-12-25T10:05:16.269Z"
   },
   {
    "duration": 69,
    "start_time": "2023-12-25T10:05:16.323Z"
   },
   {
    "duration": 27,
    "start_time": "2023-12-25T10:05:16.394Z"
   },
   {
    "duration": 71,
    "start_time": "2023-12-25T10:05:16.423Z"
   },
   {
    "duration": 2,
    "start_time": "2023-12-25T10:05:16.496Z"
   },
   {
    "duration": 81,
    "start_time": "2023-12-25T10:05:16.500Z"
   },
   {
    "duration": 3,
    "start_time": "2023-12-25T10:05:16.582Z"
   },
   {
    "duration": 17,
    "start_time": "2023-12-25T10:05:16.586Z"
   },
   {
    "duration": 68,
    "start_time": "2023-12-25T10:05:16.604Z"
   },
   {
    "duration": 6,
    "start_time": "2023-12-25T10:05:16.674Z"
   },
   {
    "duration": 15,
    "start_time": "2023-12-25T10:05:16.681Z"
   },
   {
    "duration": 4,
    "start_time": "2023-12-25T10:05:16.698Z"
   },
   {
    "duration": 37,
    "start_time": "2023-12-25T10:05:16.704Z"
   },
   {
    "duration": 34,
    "start_time": "2023-12-25T10:05:16.743Z"
   },
   {
    "duration": 18,
    "start_time": "2023-12-25T10:05:16.779Z"
   },
   {
    "duration": 33,
    "start_time": "2023-12-25T10:05:16.798Z"
   },
   {
    "duration": 28,
    "start_time": "2023-12-25T10:05:16.833Z"
   },
   {
    "duration": 16,
    "start_time": "2023-12-25T10:05:16.862Z"
   },
   {
    "duration": 32,
    "start_time": "2023-12-25T13:03:07.750Z"
   },
   {
    "duration": 25,
    "start_time": "2023-12-25T13:03:26.242Z"
   },
   {
    "duration": 11,
    "start_time": "2023-12-25T13:07:02.025Z"
   },
   {
    "duration": 9,
    "start_time": "2023-12-25T13:07:30.609Z"
   },
   {
    "duration": 7,
    "start_time": "2023-12-25T13:07:31.395Z"
   },
   {
    "duration": 1057,
    "start_time": "2023-12-25T13:15:29.667Z"
   },
   {
    "duration": 77,
    "start_time": "2023-12-25T13:15:30.726Z"
   },
   {
    "duration": 2,
    "start_time": "2023-12-25T13:15:30.805Z"
   },
   {
    "duration": 68,
    "start_time": "2023-12-25T13:15:30.809Z"
   },
   {
    "duration": 71,
    "start_time": "2023-12-25T13:15:30.879Z"
   },
   {
    "duration": 64,
    "start_time": "2023-12-25T13:15:30.951Z"
   },
   {
    "duration": 73,
    "start_time": "2023-12-25T13:15:31.017Z"
   },
   {
    "duration": 115,
    "start_time": "2023-12-25T13:15:31.091Z"
   },
   {
    "duration": 103,
    "start_time": "2023-12-25T13:15:31.208Z"
   },
   {
    "duration": 65,
    "start_time": "2023-12-25T13:15:31.314Z"
   },
   {
    "duration": 169,
    "start_time": "2023-12-25T13:15:31.380Z"
   },
   {
    "duration": 26,
    "start_time": "2023-12-25T13:15:31.551Z"
   },
   {
    "duration": 20,
    "start_time": "2023-12-25T13:15:31.578Z"
   },
   {
    "duration": 185,
    "start_time": "2023-12-25T13:15:31.599Z"
   },
   {
    "duration": 127,
    "start_time": "2023-12-25T13:15:31.786Z"
   },
   {
    "duration": 8,
    "start_time": "2023-12-25T13:15:31.915Z"
   },
   {
    "duration": 28,
    "start_time": "2023-12-25T13:15:31.925Z"
   },
   {
    "duration": 33,
    "start_time": "2023-12-25T13:15:31.954Z"
   },
   {
    "duration": 274,
    "start_time": "2023-12-25T13:15:31.988Z"
   },
   {
    "duration": 194,
    "start_time": "2023-12-25T13:15:32.263Z"
   },
   {
    "duration": 327,
    "start_time": "2023-12-25T13:15:32.459Z"
   },
   {
    "duration": 203,
    "start_time": "2023-12-25T13:15:32.787Z"
   },
   {
    "duration": 286,
    "start_time": "2023-12-25T13:15:32.991Z"
   },
   {
    "duration": 140,
    "start_time": "2023-12-25T13:15:33.279Z"
   },
   {
    "duration": 4,
    "start_time": "2023-12-25T13:15:33.421Z"
   },
   {
    "duration": 12,
    "start_time": "2023-12-25T13:15:33.427Z"
   },
   {
    "duration": 132,
    "start_time": "2023-12-25T13:15:33.440Z"
   },
   {
    "duration": 5,
    "start_time": "2023-12-25T13:15:33.575Z"
   },
   {
    "duration": 51,
    "start_time": "2023-12-25T13:15:33.581Z"
   },
   {
    "duration": 69,
    "start_time": "2023-12-25T13:15:33.634Z"
   },
   {
    "duration": 88,
    "start_time": "2023-12-25T13:15:33.704Z"
   },
   {
    "duration": 53,
    "start_time": "2023-12-25T13:15:33.793Z"
   },
   {
    "duration": 34,
    "start_time": "2023-12-25T13:15:33.847Z"
   },
   {
    "duration": 65,
    "start_time": "2023-12-25T13:15:33.883Z"
   },
   {
    "duration": 83,
    "start_time": "2023-12-25T13:15:33.950Z"
   },
   {
    "duration": 6,
    "start_time": "2023-12-25T13:15:34.035Z"
   },
   {
    "duration": 54,
    "start_time": "2023-12-25T13:15:34.042Z"
   },
   {
    "duration": 4,
    "start_time": "2023-12-25T13:15:34.097Z"
   },
   {
    "duration": 19,
    "start_time": "2023-12-25T13:15:34.102Z"
   },
   {
    "duration": 14,
    "start_time": "2023-12-25T13:15:34.123Z"
   },
   {
    "duration": 10,
    "start_time": "2023-12-25T13:15:34.139Z"
   },
   {
    "duration": 14,
    "start_time": "2023-12-25T13:15:34.151Z"
   },
   {
    "duration": 23,
    "start_time": "2023-12-25T13:15:34.166Z"
   },
   {
    "duration": 13,
    "start_time": "2023-12-25T13:15:34.191Z"
   },
   {
    "duration": 4,
    "start_time": "2023-12-25T13:16:53.442Z"
   },
   {
    "duration": 26,
    "start_time": "2023-12-25T13:17:00.976Z"
   },
   {
    "duration": 129,
    "start_time": "2023-12-25T13:48:53.886Z"
   },
   {
    "duration": 29,
    "start_time": "2023-12-25T13:49:22.662Z"
   },
   {
    "duration": 9,
    "start_time": "2023-12-25T13:49:30.850Z"
   },
   {
    "duration": 7,
    "start_time": "2023-12-25T13:50:16.083Z"
   },
   {
    "duration": 9,
    "start_time": "2023-12-25T13:50:30.582Z"
   },
   {
    "duration": 4,
    "start_time": "2023-12-25T13:50:53.934Z"
   },
   {
    "duration": 999,
    "start_time": "2023-12-25T14:38:52.389Z"
   },
   {
    "duration": 76,
    "start_time": "2023-12-25T14:38:53.390Z"
   },
   {
    "duration": 3,
    "start_time": "2023-12-25T14:38:53.467Z"
   },
   {
    "duration": 14,
    "start_time": "2023-12-25T14:38:53.471Z"
   },
   {
    "duration": 10,
    "start_time": "2023-12-25T14:38:53.486Z"
   },
   {
    "duration": 12,
    "start_time": "2023-12-25T14:38:53.497Z"
   },
   {
    "duration": 11,
    "start_time": "2023-12-25T14:38:53.510Z"
   },
   {
    "duration": 52,
    "start_time": "2023-12-25T14:38:53.522Z"
   },
   {
    "duration": 17,
    "start_time": "2023-12-25T14:38:53.576Z"
   },
   {
    "duration": 3,
    "start_time": "2023-12-25T14:38:53.595Z"
   },
   {
    "duration": 31,
    "start_time": "2023-12-25T14:38:53.599Z"
   },
   {
    "duration": 22,
    "start_time": "2023-12-25T14:38:53.631Z"
   },
   {
    "duration": 7,
    "start_time": "2023-12-25T14:38:53.655Z"
   },
   {
    "duration": 7,
    "start_time": "2023-12-25T14:38:53.665Z"
   },
   {
    "duration": 7,
    "start_time": "2023-12-25T14:38:53.673Z"
   },
   {
    "duration": 161,
    "start_time": "2023-12-25T14:38:53.681Z"
   },
   {
    "duration": 112,
    "start_time": "2023-12-25T14:38:53.844Z"
   },
   {
    "duration": 6,
    "start_time": "2023-12-25T14:38:53.965Z"
   },
   {
    "duration": 8,
    "start_time": "2023-12-25T14:38:53.972Z"
   },
   {
    "duration": 4,
    "start_time": "2023-12-25T14:38:53.982Z"
   },
   {
    "duration": 279,
    "start_time": "2023-12-25T14:38:53.987Z"
   },
   {
    "duration": 185,
    "start_time": "2023-12-25T14:38:54.268Z"
   },
   {
    "duration": 316,
    "start_time": "2023-12-25T14:38:54.455Z"
   },
   {
    "duration": 206,
    "start_time": "2023-12-25T14:38:54.773Z"
   },
   {
    "duration": 296,
    "start_time": "2023-12-25T14:38:54.980Z"
   },
   {
    "duration": 154,
    "start_time": "2023-12-25T14:38:55.278Z"
   },
   {
    "duration": 5,
    "start_time": "2023-12-25T14:38:55.434Z"
   },
   {
    "duration": 24,
    "start_time": "2023-12-25T14:38:55.444Z"
   },
   {
    "duration": 134,
    "start_time": "2023-12-25T14:38:55.470Z"
   },
   {
    "duration": 5,
    "start_time": "2023-12-25T14:38:55.606Z"
   },
   {
    "duration": 54,
    "start_time": "2023-12-25T14:38:55.613Z"
   },
   {
    "duration": 52,
    "start_time": "2023-12-25T14:38:55.669Z"
   },
   {
    "duration": 72,
    "start_time": "2023-12-25T14:38:55.722Z"
   },
   {
    "duration": 52,
    "start_time": "2023-12-25T14:38:55.795Z"
   },
   {
    "duration": 32,
    "start_time": "2023-12-25T14:38:55.848Z"
   },
   {
    "duration": 63,
    "start_time": "2023-12-25T14:38:55.881Z"
   },
   {
    "duration": 87,
    "start_time": "2023-12-25T14:38:55.945Z"
   },
   {
    "duration": 6,
    "start_time": "2023-12-25T14:38:56.033Z"
   },
   {
    "duration": 42,
    "start_time": "2023-12-25T14:38:56.040Z"
   },
   {
    "duration": 4,
    "start_time": "2023-12-25T14:38:56.083Z"
   },
   {
    "duration": 20,
    "start_time": "2023-12-25T14:38:56.088Z"
   },
   {
    "duration": 8,
    "start_time": "2023-12-25T14:38:56.109Z"
   },
   {
    "duration": 20,
    "start_time": "2023-12-25T14:38:56.118Z"
   },
   {
    "duration": 27,
    "start_time": "2023-12-25T14:38:56.140Z"
   },
   {
    "duration": 23,
    "start_time": "2023-12-25T14:38:56.169Z"
   },
   {
    "duration": 4,
    "start_time": "2023-12-25T14:38:56.193Z"
   },
   {
    "duration": 23,
    "start_time": "2023-12-25T14:38:56.199Z"
   },
   {
    "duration": 1017,
    "start_time": "2023-12-25T14:58:31.377Z"
   },
   {
    "duration": 70,
    "start_time": "2023-12-25T14:58:32.396Z"
   },
   {
    "duration": 3,
    "start_time": "2023-12-25T14:58:32.467Z"
   },
   {
    "duration": 31,
    "start_time": "2023-12-25T14:58:32.471Z"
   },
   {
    "duration": 25,
    "start_time": "2023-12-25T14:58:32.503Z"
   },
   {
    "duration": 27,
    "start_time": "2023-12-25T14:58:32.530Z"
   },
   {
    "duration": 19,
    "start_time": "2023-12-25T14:58:32.558Z"
   },
   {
    "duration": 77,
    "start_time": "2023-12-25T14:58:32.579Z"
   },
   {
    "duration": 17,
    "start_time": "2023-12-25T14:58:32.657Z"
   },
   {
    "duration": 3,
    "start_time": "2023-12-25T14:58:32.675Z"
   },
   {
    "duration": 44,
    "start_time": "2023-12-25T14:58:32.679Z"
   },
   {
    "duration": 25,
    "start_time": "2023-12-25T14:58:32.724Z"
   },
   {
    "duration": 12,
    "start_time": "2023-12-25T14:58:32.751Z"
   },
   {
    "duration": 26,
    "start_time": "2023-12-25T14:58:32.766Z"
   },
   {
    "duration": 16,
    "start_time": "2023-12-25T14:58:32.793Z"
   },
   {
    "duration": 160,
    "start_time": "2023-12-25T14:58:32.810Z"
   },
   {
    "duration": 118,
    "start_time": "2023-12-25T14:58:32.971Z"
   },
   {
    "duration": 18,
    "start_time": "2023-12-25T14:58:33.090Z"
   },
   {
    "duration": 50,
    "start_time": "2023-12-25T14:58:33.109Z"
   },
   {
    "duration": 35,
    "start_time": "2023-12-25T14:58:33.160Z"
   },
   {
    "duration": 316,
    "start_time": "2023-12-25T14:58:33.196Z"
   },
   {
    "duration": 180,
    "start_time": "2023-12-25T14:58:33.514Z"
   },
   {
    "duration": 270,
    "start_time": "2023-12-25T14:58:33.695Z"
   },
   {
    "duration": 185,
    "start_time": "2023-12-25T14:58:33.967Z"
   },
   {
    "duration": 314,
    "start_time": "2023-12-25T14:58:34.153Z"
   },
   {
    "duration": 135,
    "start_time": "2023-12-25T14:58:34.468Z"
   },
   {
    "duration": 4,
    "start_time": "2023-12-25T14:58:34.604Z"
   },
   {
    "duration": 13,
    "start_time": "2023-12-25T14:58:34.609Z"
   },
   {
    "duration": 139,
    "start_time": "2023-12-25T14:58:34.624Z"
   },
   {
    "duration": 5,
    "start_time": "2023-12-25T14:58:34.765Z"
   },
   {
    "duration": 52,
    "start_time": "2023-12-25T14:58:34.771Z"
   },
   {
    "duration": 50,
    "start_time": "2023-12-25T14:58:34.824Z"
   },
   {
    "duration": 62,
    "start_time": "2023-12-25T14:58:34.876Z"
   },
   {
    "duration": 52,
    "start_time": "2023-12-25T14:58:34.940Z"
   },
   {
    "duration": 24,
    "start_time": "2023-12-25T14:58:34.994Z"
   },
   {
    "duration": 70,
    "start_time": "2023-12-25T14:58:35.019Z"
   },
   {
    "duration": 79,
    "start_time": "2023-12-25T14:58:35.091Z"
   },
   {
    "duration": 6,
    "start_time": "2023-12-25T14:58:35.171Z"
   },
   {
    "duration": 26,
    "start_time": "2023-12-25T14:58:35.178Z"
   },
   {
    "duration": 4,
    "start_time": "2023-12-25T14:58:35.205Z"
   },
   {
    "duration": 7,
    "start_time": "2023-12-25T14:58:35.213Z"
   },
   {
    "duration": 6,
    "start_time": "2023-12-25T14:58:35.221Z"
   },
   {
    "duration": 10,
    "start_time": "2023-12-25T14:58:35.228Z"
   },
   {
    "duration": 30,
    "start_time": "2023-12-25T14:58:35.239Z"
   },
   {
    "duration": 22,
    "start_time": "2023-12-25T14:58:35.270Z"
   },
   {
    "duration": 4,
    "start_time": "2023-12-25T14:58:35.293Z"
   },
   {
    "duration": 16,
    "start_time": "2023-12-25T14:58:35.298Z"
   },
   {
    "duration": 1132,
    "start_time": "2023-12-25T16:36:31.146Z"
   },
   {
    "duration": 28,
    "start_time": "2023-12-25T16:36:32.279Z"
   },
   {
    "duration": 3,
    "start_time": "2023-12-25T16:36:32.308Z"
   },
   {
    "duration": 37,
    "start_time": "2023-12-25T16:36:32.313Z"
   },
   {
    "duration": 15,
    "start_time": "2023-12-25T16:36:32.352Z"
   },
   {
    "duration": 11,
    "start_time": "2023-12-25T16:36:32.369Z"
   },
   {
    "duration": 43,
    "start_time": "2023-12-25T16:36:32.382Z"
   },
   {
    "duration": 70,
    "start_time": "2023-12-25T16:36:32.427Z"
   },
   {
    "duration": 17,
    "start_time": "2023-12-25T16:36:32.499Z"
   },
   {
    "duration": 3,
    "start_time": "2023-12-25T16:36:32.518Z"
   },
   {
    "duration": 39,
    "start_time": "2023-12-25T16:36:32.522Z"
   },
   {
    "duration": 15,
    "start_time": "2023-12-25T16:36:32.562Z"
   },
   {
    "duration": 14,
    "start_time": "2023-12-25T16:36:32.578Z"
   },
   {
    "duration": 14,
    "start_time": "2023-12-25T16:36:32.593Z"
   },
   {
    "duration": 14,
    "start_time": "2023-12-25T16:36:32.608Z"
   },
   {
    "duration": 161,
    "start_time": "2023-12-25T16:36:32.623Z"
   },
   {
    "duration": 113,
    "start_time": "2023-12-25T16:36:32.785Z"
   },
   {
    "duration": 6,
    "start_time": "2023-12-25T16:36:32.899Z"
   },
   {
    "duration": 9,
    "start_time": "2023-12-25T16:36:32.907Z"
   },
   {
    "duration": 11,
    "start_time": "2023-12-25T16:36:32.917Z"
   },
   {
    "duration": 269,
    "start_time": "2023-12-25T16:36:32.930Z"
   },
   {
    "duration": 182,
    "start_time": "2023-12-25T16:36:33.200Z"
   },
   {
    "duration": 285,
    "start_time": "2023-12-25T16:36:33.384Z"
   },
   {
    "duration": 210,
    "start_time": "2023-12-25T16:36:33.670Z"
   },
   {
    "duration": 305,
    "start_time": "2023-12-25T16:36:33.882Z"
   },
   {
    "duration": 140,
    "start_time": "2023-12-25T16:36:34.188Z"
   },
   {
    "duration": 5,
    "start_time": "2023-12-25T16:36:34.329Z"
   },
   {
    "duration": 16,
    "start_time": "2023-12-25T16:36:34.337Z"
   },
   {
    "duration": 129,
    "start_time": "2023-12-25T16:36:34.355Z"
   },
   {
    "duration": 5,
    "start_time": "2023-12-25T16:36:34.485Z"
   },
   {
    "duration": 72,
    "start_time": "2023-12-25T16:36:34.491Z"
   },
   {
    "duration": 53,
    "start_time": "2023-12-25T16:36:34.565Z"
   },
   {
    "duration": 53,
    "start_time": "2023-12-25T16:36:34.620Z"
   },
   {
    "duration": 53,
    "start_time": "2023-12-25T16:36:34.674Z"
   },
   {
    "duration": 38,
    "start_time": "2023-12-25T16:36:34.728Z"
   },
   {
    "duration": 70,
    "start_time": "2023-12-25T16:36:34.767Z"
   },
   {
    "duration": 83,
    "start_time": "2023-12-25T16:36:34.838Z"
   },
   {
    "duration": 5,
    "start_time": "2023-12-25T16:36:34.923Z"
   },
   {
    "duration": 50,
    "start_time": "2023-12-25T16:36:34.930Z"
   },
   {
    "duration": 5,
    "start_time": "2023-12-25T16:36:34.982Z"
   },
   {
    "duration": 9,
    "start_time": "2023-12-25T16:36:34.989Z"
   },
   {
    "duration": 15,
    "start_time": "2023-12-25T16:36:34.999Z"
   },
   {
    "duration": 24,
    "start_time": "2023-12-25T16:36:35.015Z"
   },
   {
    "duration": 45,
    "start_time": "2023-12-25T16:36:35.041Z"
   },
   {
    "duration": 44,
    "start_time": "2023-12-25T16:36:35.087Z"
   },
   {
    "duration": 4,
    "start_time": "2023-12-25T16:36:35.133Z"
   },
   {
    "duration": 30,
    "start_time": "2023-12-25T16:36:35.139Z"
   },
   {
    "duration": 1238,
    "start_time": "2023-12-25T16:37:16.753Z"
   },
   {
    "duration": 1098,
    "start_time": "2023-12-25T16:37:50.487Z"
   },
   {
    "duration": 27,
    "start_time": "2023-12-25T16:37:51.587Z"
   },
   {
    "duration": 2,
    "start_time": "2023-12-25T16:37:51.616Z"
   },
   {
    "duration": 24,
    "start_time": "2023-12-25T16:37:51.620Z"
   },
   {
    "duration": 31,
    "start_time": "2023-12-25T16:37:51.646Z"
   },
   {
    "duration": 56,
    "start_time": "2023-12-25T16:37:51.679Z"
   },
   {
    "duration": 14,
    "start_time": "2023-12-25T16:37:51.737Z"
   },
   {
    "duration": 59,
    "start_time": "2023-12-25T16:37:51.752Z"
   },
   {
    "duration": 17,
    "start_time": "2023-12-25T16:37:51.812Z"
   },
   {
    "duration": 3,
    "start_time": "2023-12-25T16:37:51.831Z"
   },
   {
    "duration": 23,
    "start_time": "2023-12-25T16:37:51.836Z"
   },
   {
    "duration": 14,
    "start_time": "2023-12-25T16:37:51.861Z"
   },
   {
    "duration": 7,
    "start_time": "2023-12-25T16:37:51.876Z"
   },
   {
    "duration": 6,
    "start_time": "2023-12-25T16:37:51.884Z"
   },
   {
    "duration": 6,
    "start_time": "2023-12-25T16:37:51.891Z"
   },
   {
    "duration": 180,
    "start_time": "2023-12-25T16:37:51.898Z"
   },
   {
    "duration": 110,
    "start_time": "2023-12-25T16:37:52.080Z"
   },
   {
    "duration": 7,
    "start_time": "2023-12-25T16:37:52.192Z"
   },
   {
    "duration": 10,
    "start_time": "2023-12-25T16:37:52.200Z"
   },
   {
    "duration": 4,
    "start_time": "2023-12-25T16:37:52.212Z"
   },
   {
    "duration": 297,
    "start_time": "2023-12-25T16:37:52.218Z"
   },
   {
    "duration": 197,
    "start_time": "2023-12-25T16:37:52.517Z"
   },
   {
    "duration": 280,
    "start_time": "2023-12-25T16:37:52.716Z"
   },
   {
    "duration": 201,
    "start_time": "2023-12-25T16:37:52.997Z"
   },
   {
    "duration": 293,
    "start_time": "2023-12-25T16:37:53.199Z"
   },
   {
    "duration": 142,
    "start_time": "2023-12-25T16:37:53.494Z"
   },
   {
    "duration": 4,
    "start_time": "2023-12-25T16:37:53.638Z"
   },
   {
    "duration": 30,
    "start_time": "2023-12-25T16:37:53.645Z"
   },
   {
    "duration": 121,
    "start_time": "2023-12-25T16:37:53.676Z"
   },
   {
    "duration": 5,
    "start_time": "2023-12-25T16:37:53.799Z"
   },
   {
    "duration": 128,
    "start_time": "2023-12-25T16:37:53.805Z"
   },
   {
    "duration": 43,
    "start_time": "2023-12-25T16:37:53.934Z"
   },
   {
    "duration": 52,
    "start_time": "2023-12-25T16:37:53.979Z"
   },
   {
    "duration": 63,
    "start_time": "2023-12-25T16:37:54.033Z"
   },
   {
    "duration": 24,
    "start_time": "2023-12-25T16:37:54.098Z"
   },
   {
    "duration": 78,
    "start_time": "2023-12-25T16:37:54.124Z"
   },
   {
    "duration": 83,
    "start_time": "2023-12-25T16:37:54.203Z"
   },
   {
    "duration": 5,
    "start_time": "2023-12-25T16:37:54.288Z"
   },
   {
    "duration": 25,
    "start_time": "2023-12-25T16:37:54.295Z"
   },
   {
    "duration": 4,
    "start_time": "2023-12-25T16:37:54.321Z"
   },
   {
    "duration": 8,
    "start_time": "2023-12-25T16:37:54.326Z"
   },
   {
    "duration": 31,
    "start_time": "2023-12-25T16:37:54.335Z"
   },
   {
    "duration": 10,
    "start_time": "2023-12-25T16:37:54.368Z"
   },
   {
    "duration": 7,
    "start_time": "2023-12-25T16:37:54.380Z"
   },
   {
    "duration": 25,
    "start_time": "2023-12-25T16:37:54.389Z"
   },
   {
    "duration": 5,
    "start_time": "2023-12-25T16:37:54.416Z"
   },
   {
    "duration": 46,
    "start_time": "2023-12-25T16:37:54.422Z"
   },
   {
    "duration": 1418,
    "start_time": "2023-12-25T16:38:46.959Z"
   },
   {
    "duration": 1065,
    "start_time": "2023-12-25T16:38:57.718Z"
   },
   {
    "duration": 28,
    "start_time": "2023-12-25T16:38:58.784Z"
   },
   {
    "duration": 3,
    "start_time": "2023-12-25T16:38:58.813Z"
   },
   {
    "duration": 12,
    "start_time": "2023-12-25T16:38:58.818Z"
   },
   {
    "duration": 10,
    "start_time": "2023-12-25T16:38:58.831Z"
   },
   {
    "duration": 19,
    "start_time": "2023-12-25T16:38:58.842Z"
   },
   {
    "duration": 51,
    "start_time": "2023-12-25T16:38:58.863Z"
   },
   {
    "duration": 14,
    "start_time": "2023-12-25T16:38:58.916Z"
   },
   {
    "duration": 55,
    "start_time": "2023-12-25T16:38:58.932Z"
   },
   {
    "duration": 17,
    "start_time": "2023-12-25T16:38:58.990Z"
   },
   {
    "duration": 3,
    "start_time": "2023-12-25T16:38:59.009Z"
   },
   {
    "duration": 19,
    "start_time": "2023-12-25T16:38:59.014Z"
   },
   {
    "duration": 15,
    "start_time": "2023-12-25T16:38:59.035Z"
   },
   {
    "duration": 19,
    "start_time": "2023-12-25T16:38:59.052Z"
   },
   {
    "duration": 6,
    "start_time": "2023-12-25T16:38:59.073Z"
   },
   {
    "duration": 6,
    "start_time": "2023-12-25T16:38:59.081Z"
   },
   {
    "duration": 162,
    "start_time": "2023-12-25T16:38:59.088Z"
   },
   {
    "duration": 116,
    "start_time": "2023-12-25T16:38:59.251Z"
   },
   {
    "duration": 6,
    "start_time": "2023-12-25T16:38:59.368Z"
   },
   {
    "duration": 13,
    "start_time": "2023-12-25T16:38:59.376Z"
   },
   {
    "duration": 9,
    "start_time": "2023-12-25T16:38:59.390Z"
   },
   {
    "duration": 278,
    "start_time": "2023-12-25T16:38:59.400Z"
   },
   {
    "duration": 200,
    "start_time": "2023-12-25T16:38:59.679Z"
   },
   {
    "duration": 287,
    "start_time": "2023-12-25T16:38:59.881Z"
   },
   {
    "duration": 213,
    "start_time": "2023-12-25T16:39:00.170Z"
   },
   {
    "duration": 290,
    "start_time": "2023-12-25T16:39:00.385Z"
   },
   {
    "duration": 147,
    "start_time": "2023-12-25T16:39:00.677Z"
   },
   {
    "duration": 4,
    "start_time": "2023-12-25T16:39:00.829Z"
   },
   {
    "duration": 135,
    "start_time": "2023-12-25T16:39:00.835Z"
   },
   {
    "duration": 321,
    "start_time": "2023-12-25T16:39:00.972Z"
   },
   {
    "duration": 4,
    "start_time": "2023-12-25T16:39:01.295Z"
   },
   {
    "duration": 277,
    "start_time": "2023-12-25T16:39:01.301Z"
   },
   {
    "duration": 104,
    "start_time": "2023-12-25T16:39:01.580Z"
   },
   {
    "duration": 109,
    "start_time": "2023-12-25T16:39:01.686Z"
   },
   {
    "duration": 171,
    "start_time": "2023-12-25T16:39:01.797Z"
   },
   {
    "duration": 27,
    "start_time": "2023-12-25T16:39:01.969Z"
   },
   {
    "duration": 176,
    "start_time": "2023-12-25T16:39:01.997Z"
   },
   {
    "duration": 132,
    "start_time": "2023-12-25T16:39:02.175Z"
   },
   {
    "duration": 13,
    "start_time": "2023-12-25T16:39:02.308Z"
   },
   {
    "duration": 66,
    "start_time": "2023-12-25T16:39:02.322Z"
   },
   {
    "duration": 5,
    "start_time": "2023-12-25T16:39:02.391Z"
   },
   {
    "duration": 26,
    "start_time": "2023-12-25T16:39:02.398Z"
   },
   {
    "duration": 13,
    "start_time": "2023-12-25T16:39:02.426Z"
   },
   {
    "duration": 16,
    "start_time": "2023-12-25T16:39:02.440Z"
   },
   {
    "duration": 7,
    "start_time": "2023-12-25T16:39:02.458Z"
   },
   {
    "duration": 23,
    "start_time": "2023-12-25T16:39:02.467Z"
   },
   {
    "duration": 18,
    "start_time": "2023-12-25T16:39:02.491Z"
   },
   {
    "duration": 28,
    "start_time": "2023-12-25T16:39:02.510Z"
   },
   {
    "duration": 1296,
    "start_time": "2023-12-25T16:39:26.152Z"
   },
   {
    "duration": 1135,
    "start_time": "2023-12-25T16:39:44.165Z"
   },
   {
    "duration": 27,
    "start_time": "2023-12-25T16:39:45.302Z"
   },
   {
    "duration": 2,
    "start_time": "2023-12-25T16:39:45.331Z"
   },
   {
    "duration": 24,
    "start_time": "2023-12-25T16:39:45.335Z"
   },
   {
    "duration": 11,
    "start_time": "2023-12-25T16:39:45.360Z"
   },
   {
    "duration": 9,
    "start_time": "2023-12-25T16:39:45.373Z"
   },
   {
    "duration": 52,
    "start_time": "2023-12-25T16:39:45.383Z"
   },
   {
    "duration": 12,
    "start_time": "2023-12-25T16:39:45.437Z"
   },
   {
    "duration": 48,
    "start_time": "2023-12-25T16:39:45.465Z"
   },
   {
    "duration": 17,
    "start_time": "2023-12-25T16:39:45.516Z"
   },
   {
    "duration": 3,
    "start_time": "2023-12-25T16:39:45.535Z"
   },
   {
    "duration": 23,
    "start_time": "2023-12-25T16:39:45.539Z"
   },
   {
    "duration": 15,
    "start_time": "2023-12-25T16:39:45.564Z"
   },
   {
    "duration": 14,
    "start_time": "2023-12-25T16:39:45.581Z"
   },
   {
    "duration": 23,
    "start_time": "2023-12-25T16:39:45.597Z"
   },
   {
    "duration": 7,
    "start_time": "2023-12-25T16:39:45.622Z"
   },
   {
    "duration": 173,
    "start_time": "2023-12-25T16:39:45.630Z"
   },
   {
    "duration": 120,
    "start_time": "2023-12-25T16:39:45.805Z"
   },
   {
    "duration": 7,
    "start_time": "2023-12-25T16:39:45.926Z"
   },
   {
    "duration": 13,
    "start_time": "2023-12-25T16:39:45.934Z"
   },
   {
    "duration": 5,
    "start_time": "2023-12-25T16:39:45.949Z"
   },
   {
    "duration": 282,
    "start_time": "2023-12-25T16:39:45.955Z"
   },
   {
    "duration": 194,
    "start_time": "2023-12-25T16:39:46.238Z"
   },
   {
    "duration": 322,
    "start_time": "2023-12-25T16:39:46.434Z"
   },
   {
    "duration": 414,
    "start_time": "2023-12-25T16:39:46.758Z"
   },
   {
    "duration": 432,
    "start_time": "2023-12-25T16:39:47.173Z"
   },
   {
    "duration": 293,
    "start_time": "2023-12-25T16:39:47.606Z"
   },
   {
    "duration": 4,
    "start_time": "2023-12-25T16:39:47.903Z"
   },
   {
    "duration": 64,
    "start_time": "2023-12-25T16:39:47.908Z"
   },
   {
    "duration": 219,
    "start_time": "2023-12-25T16:39:47.973Z"
   },
   {
    "duration": 5,
    "start_time": "2023-12-25T16:39:48.193Z"
   },
   {
    "duration": 204,
    "start_time": "2023-12-25T16:39:48.199Z"
   },
   {
    "duration": 43,
    "start_time": "2023-12-25T16:39:48.404Z"
   },
   {
    "duration": 66,
    "start_time": "2023-12-25T16:39:48.449Z"
   },
   {
    "duration": 66,
    "start_time": "2023-12-25T16:39:48.516Z"
   },
   {
    "duration": 28,
    "start_time": "2023-12-25T16:39:48.583Z"
   },
   {
    "duration": 84,
    "start_time": "2023-12-25T16:39:48.613Z"
   },
   {
    "duration": 83,
    "start_time": "2023-12-25T16:39:48.698Z"
   },
   {
    "duration": 5,
    "start_time": "2023-12-25T16:39:48.783Z"
   },
   {
    "duration": 51,
    "start_time": "2023-12-25T16:39:48.789Z"
   },
   {
    "duration": 4,
    "start_time": "2023-12-25T16:39:48.841Z"
   },
   {
    "duration": 11,
    "start_time": "2023-12-25T16:39:48.846Z"
   },
   {
    "duration": 10,
    "start_time": "2023-12-25T16:39:48.858Z"
   },
   {
    "duration": 9,
    "start_time": "2023-12-25T16:39:48.869Z"
   },
   {
    "duration": 8,
    "start_time": "2023-12-25T16:39:48.880Z"
   },
   {
    "duration": 29,
    "start_time": "2023-12-25T16:39:48.889Z"
   },
   {
    "duration": 5,
    "start_time": "2023-12-25T16:39:48.920Z"
   },
   {
    "duration": 43,
    "start_time": "2023-12-25T16:39:48.929Z"
   },
   {
    "duration": 1151,
    "start_time": "2023-12-25T16:56:15.761Z"
   },
   {
    "duration": 28,
    "start_time": "2023-12-25T16:56:16.914Z"
   },
   {
    "duration": 3,
    "start_time": "2023-12-25T16:56:16.944Z"
   },
   {
    "duration": 18,
    "start_time": "2023-12-25T16:56:16.949Z"
   },
   {
    "duration": 11,
    "start_time": "2023-12-25T16:56:16.968Z"
   },
   {
    "duration": 7,
    "start_time": "2023-12-25T16:56:16.981Z"
   },
   {
    "duration": 61,
    "start_time": "2023-12-25T16:56:16.989Z"
   },
   {
    "duration": 16,
    "start_time": "2023-12-25T16:56:17.052Z"
   },
   {
    "duration": 21,
    "start_time": "2023-12-25T16:56:17.070Z"
   },
   {
    "duration": 48,
    "start_time": "2023-12-25T16:56:17.094Z"
   },
   {
    "duration": 17,
    "start_time": "2023-12-25T16:56:17.144Z"
   },
   {
    "duration": 3,
    "start_time": "2023-12-25T16:56:17.163Z"
   },
   {
    "duration": 20,
    "start_time": "2023-12-25T16:56:17.167Z"
   },
   {
    "duration": 15,
    "start_time": "2023-12-25T16:56:17.188Z"
   },
   {
    "duration": 8,
    "start_time": "2023-12-25T16:56:17.205Z"
   },
   {
    "duration": 4,
    "start_time": "2023-12-25T16:56:17.214Z"
   },
   {
    "duration": 6,
    "start_time": "2023-12-25T16:56:17.219Z"
   },
   {
    "duration": 191,
    "start_time": "2023-12-25T16:56:17.226Z"
   },
   {
    "duration": 112,
    "start_time": "2023-12-25T16:56:17.418Z"
   },
   {
    "duration": 6,
    "start_time": "2023-12-25T16:56:17.532Z"
   },
   {
    "duration": 8,
    "start_time": "2023-12-25T16:56:17.539Z"
   },
   {
    "duration": 16,
    "start_time": "2023-12-25T16:56:17.549Z"
   },
   {
    "duration": 293,
    "start_time": "2023-12-25T16:56:17.567Z"
   },
   {
    "duration": 199,
    "start_time": "2023-12-25T16:56:17.862Z"
   },
   {
    "duration": 303,
    "start_time": "2023-12-25T16:56:18.062Z"
   },
   {
    "duration": 208,
    "start_time": "2023-12-25T16:56:18.367Z"
   },
   {
    "duration": 422,
    "start_time": "2023-12-25T16:56:18.576Z"
   },
   {
    "duration": 289,
    "start_time": "2023-12-25T16:56:19.002Z"
   },
   {
    "duration": 5,
    "start_time": "2023-12-25T16:56:19.292Z"
   },
   {
    "duration": 71,
    "start_time": "2023-12-25T16:56:19.298Z"
   },
   {
    "duration": 224,
    "start_time": "2023-12-25T16:56:19.370Z"
   },
   {
    "duration": 4,
    "start_time": "2023-12-25T16:56:19.596Z"
   },
   {
    "duration": 277,
    "start_time": "2023-12-25T16:56:19.601Z"
   },
   {
    "duration": 94,
    "start_time": "2023-12-25T16:56:19.880Z"
   },
   {
    "duration": 108,
    "start_time": "2023-12-25T16:56:19.976Z"
   },
   {
    "duration": 113,
    "start_time": "2023-12-25T16:56:20.086Z"
   },
   {
    "duration": 66,
    "start_time": "2023-12-25T16:56:20.200Z"
   },
   {
    "duration": 69,
    "start_time": "2023-12-25T16:56:20.268Z"
   },
   {
    "duration": 83,
    "start_time": "2023-12-25T16:56:20.339Z"
   },
   {
    "duration": 5,
    "start_time": "2023-12-25T16:56:20.424Z"
   },
   {
    "duration": 36,
    "start_time": "2023-12-25T16:56:20.430Z"
   },
   {
    "duration": 4,
    "start_time": "2023-12-25T16:56:20.467Z"
   },
   {
    "duration": 15,
    "start_time": "2023-12-25T16:56:20.472Z"
   },
   {
    "duration": 18,
    "start_time": "2023-12-25T16:56:20.488Z"
   },
   {
    "duration": 10,
    "start_time": "2023-12-25T16:56:20.508Z"
   },
   {
    "duration": 16,
    "start_time": "2023-12-25T16:56:20.519Z"
   },
   {
    "duration": 25,
    "start_time": "2023-12-25T16:56:20.537Z"
   },
   {
    "duration": 4,
    "start_time": "2023-12-25T16:56:20.565Z"
   },
   {
    "duration": 13,
    "start_time": "2023-12-25T16:56:20.570Z"
   },
   {
    "duration": 92,
    "start_time": "2023-12-25T17:04:57.900Z"
   },
   {
    "duration": 1152,
    "start_time": "2023-12-25T17:05:09.356Z"
   },
   {
    "duration": 28,
    "start_time": "2023-12-25T17:05:10.510Z"
   },
   {
    "duration": 3,
    "start_time": "2023-12-25T17:05:10.540Z"
   },
   {
    "duration": 32,
    "start_time": "2023-12-25T17:05:10.545Z"
   },
   {
    "duration": 14,
    "start_time": "2023-12-25T17:05:10.579Z"
   },
   {
    "duration": 10,
    "start_time": "2023-12-25T17:05:10.594Z"
   },
   {
    "duration": 68,
    "start_time": "2023-12-25T17:05:10.605Z"
   },
   {
    "duration": 4,
    "start_time": "2023-12-25T17:05:10.675Z"
   },
   {
    "duration": 112,
    "start_time": "2023-12-25T17:05:10.681Z"
   },
   {
    "duration": 0,
    "start_time": "2023-12-25T17:05:10.795Z"
   },
   {
    "duration": 0,
    "start_time": "2023-12-25T17:05:10.796Z"
   },
   {
    "duration": 0,
    "start_time": "2023-12-25T17:05:10.797Z"
   },
   {
    "duration": 0,
    "start_time": "2023-12-25T17:05:10.799Z"
   },
   {
    "duration": 0,
    "start_time": "2023-12-25T17:05:10.800Z"
   },
   {
    "duration": 0,
    "start_time": "2023-12-25T17:05:10.800Z"
   },
   {
    "duration": 0,
    "start_time": "2023-12-25T17:05:10.801Z"
   },
   {
    "duration": 0,
    "start_time": "2023-12-25T17:05:10.803Z"
   },
   {
    "duration": 0,
    "start_time": "2023-12-25T17:05:10.804Z"
   },
   {
    "duration": 0,
    "start_time": "2023-12-25T17:05:10.805Z"
   },
   {
    "duration": 0,
    "start_time": "2023-12-25T17:05:10.806Z"
   },
   {
    "duration": 0,
    "start_time": "2023-12-25T17:05:10.806Z"
   },
   {
    "duration": 0,
    "start_time": "2023-12-25T17:05:10.807Z"
   },
   {
    "duration": 0,
    "start_time": "2023-12-25T17:05:10.809Z"
   },
   {
    "duration": 0,
    "start_time": "2023-12-25T17:05:10.810Z"
   },
   {
    "duration": 0,
    "start_time": "2023-12-25T17:05:10.810Z"
   },
   {
    "duration": 0,
    "start_time": "2023-12-25T17:05:10.812Z"
   },
   {
    "duration": 0,
    "start_time": "2023-12-25T17:05:10.812Z"
   },
   {
    "duration": 0,
    "start_time": "2023-12-25T17:05:10.814Z"
   },
   {
    "duration": 0,
    "start_time": "2023-12-25T17:05:10.815Z"
   },
   {
    "duration": 0,
    "start_time": "2023-12-25T17:05:10.816Z"
   },
   {
    "duration": 0,
    "start_time": "2023-12-25T17:05:10.817Z"
   },
   {
    "duration": 0,
    "start_time": "2023-12-25T17:05:10.818Z"
   },
   {
    "duration": 0,
    "start_time": "2023-12-25T17:05:10.819Z"
   },
   {
    "duration": 0,
    "start_time": "2023-12-25T17:05:10.820Z"
   },
   {
    "duration": 0,
    "start_time": "2023-12-25T17:05:10.820Z"
   },
   {
    "duration": 0,
    "start_time": "2023-12-25T17:05:10.822Z"
   },
   {
    "duration": 0,
    "start_time": "2023-12-25T17:05:10.823Z"
   },
   {
    "duration": 0,
    "start_time": "2023-12-25T17:05:10.865Z"
   },
   {
    "duration": 0,
    "start_time": "2023-12-25T17:05:10.866Z"
   },
   {
    "duration": 0,
    "start_time": "2023-12-25T17:05:10.867Z"
   },
   {
    "duration": 0,
    "start_time": "2023-12-25T17:05:10.868Z"
   },
   {
    "duration": 0,
    "start_time": "2023-12-25T17:05:10.869Z"
   },
   {
    "duration": 0,
    "start_time": "2023-12-25T17:05:10.870Z"
   },
   {
    "duration": 0,
    "start_time": "2023-12-25T17:05:10.871Z"
   },
   {
    "duration": 0,
    "start_time": "2023-12-25T17:05:10.872Z"
   },
   {
    "duration": 0,
    "start_time": "2023-12-25T17:05:10.873Z"
   },
   {
    "duration": 0,
    "start_time": "2023-12-25T17:05:10.874Z"
   },
   {
    "duration": 0,
    "start_time": "2023-12-25T17:05:10.875Z"
   },
   {
    "duration": 0,
    "start_time": "2023-12-25T17:05:10.876Z"
   },
   {
    "duration": 10,
    "start_time": "2023-12-25T17:05:26.076Z"
   },
   {
    "duration": 14,
    "start_time": "2023-12-25T17:06:35.254Z"
   },
   {
    "duration": 9,
    "start_time": "2023-12-25T17:11:10.514Z"
   },
   {
    "duration": 1139,
    "start_time": "2023-12-25T17:11:19.134Z"
   },
   {
    "duration": 27,
    "start_time": "2023-12-25T17:11:20.274Z"
   },
   {
    "duration": 2,
    "start_time": "2023-12-25T17:11:20.303Z"
   },
   {
    "duration": 15,
    "start_time": "2023-12-25T17:11:20.307Z"
   },
   {
    "duration": 10,
    "start_time": "2023-12-25T17:11:20.323Z"
   },
   {
    "duration": 12,
    "start_time": "2023-12-25T17:11:20.334Z"
   },
   {
    "duration": 50,
    "start_time": "2023-12-25T17:11:20.348Z"
   },
   {
    "duration": 4,
    "start_time": "2023-12-25T17:11:20.400Z"
   },
   {
    "duration": 97,
    "start_time": "2023-12-25T17:11:20.406Z"
   },
   {
    "duration": 0,
    "start_time": "2023-12-25T17:11:20.505Z"
   },
   {
    "duration": 0,
    "start_time": "2023-12-25T17:11:20.507Z"
   },
   {
    "duration": 0,
    "start_time": "2023-12-25T17:11:20.508Z"
   },
   {
    "duration": 0,
    "start_time": "2023-12-25T17:11:20.509Z"
   },
   {
    "duration": 0,
    "start_time": "2023-12-25T17:11:20.509Z"
   },
   {
    "duration": 0,
    "start_time": "2023-12-25T17:11:20.510Z"
   },
   {
    "duration": 0,
    "start_time": "2023-12-25T17:11:20.511Z"
   },
   {
    "duration": 0,
    "start_time": "2023-12-25T17:11:20.512Z"
   },
   {
    "duration": 0,
    "start_time": "2023-12-25T17:11:20.513Z"
   },
   {
    "duration": 0,
    "start_time": "2023-12-25T17:11:20.514Z"
   },
   {
    "duration": 0,
    "start_time": "2023-12-25T17:11:20.515Z"
   },
   {
    "duration": 0,
    "start_time": "2023-12-25T17:11:20.516Z"
   },
   {
    "duration": 0,
    "start_time": "2023-12-25T17:11:20.517Z"
   },
   {
    "duration": 0,
    "start_time": "2023-12-25T17:11:20.518Z"
   },
   {
    "duration": 0,
    "start_time": "2023-12-25T17:11:20.519Z"
   },
   {
    "duration": 0,
    "start_time": "2023-12-25T17:11:20.520Z"
   },
   {
    "duration": 0,
    "start_time": "2023-12-25T17:11:20.521Z"
   },
   {
    "duration": 0,
    "start_time": "2023-12-25T17:11:20.522Z"
   },
   {
    "duration": 0,
    "start_time": "2023-12-25T17:11:20.523Z"
   },
   {
    "duration": 0,
    "start_time": "2023-12-25T17:11:20.524Z"
   },
   {
    "duration": 0,
    "start_time": "2023-12-25T17:11:20.525Z"
   },
   {
    "duration": 0,
    "start_time": "2023-12-25T17:11:20.526Z"
   },
   {
    "duration": 0,
    "start_time": "2023-12-25T17:11:20.527Z"
   },
   {
    "duration": 0,
    "start_time": "2023-12-25T17:11:20.565Z"
   },
   {
    "duration": 0,
    "start_time": "2023-12-25T17:11:20.566Z"
   },
   {
    "duration": 0,
    "start_time": "2023-12-25T17:11:20.567Z"
   },
   {
    "duration": 0,
    "start_time": "2023-12-25T17:11:20.568Z"
   },
   {
    "duration": 0,
    "start_time": "2023-12-25T17:11:20.569Z"
   },
   {
    "duration": 0,
    "start_time": "2023-12-25T17:11:20.570Z"
   },
   {
    "duration": 0,
    "start_time": "2023-12-25T17:11:20.571Z"
   },
   {
    "duration": 0,
    "start_time": "2023-12-25T17:11:20.572Z"
   },
   {
    "duration": 0,
    "start_time": "2023-12-25T17:11:20.573Z"
   },
   {
    "duration": 0,
    "start_time": "2023-12-25T17:11:20.573Z"
   },
   {
    "duration": 0,
    "start_time": "2023-12-25T17:11:20.574Z"
   },
   {
    "duration": 0,
    "start_time": "2023-12-25T17:11:20.575Z"
   },
   {
    "duration": 0,
    "start_time": "2023-12-25T17:11:20.576Z"
   },
   {
    "duration": 0,
    "start_time": "2023-12-25T17:11:20.577Z"
   },
   {
    "duration": 0,
    "start_time": "2023-12-25T17:11:20.578Z"
   },
   {
    "duration": 0,
    "start_time": "2023-12-25T17:11:20.579Z"
   },
   {
    "duration": 0,
    "start_time": "2023-12-25T17:11:20.580Z"
   },
   {
    "duration": 10,
    "start_time": "2023-12-25T17:13:22.868Z"
   },
   {
    "duration": 9,
    "start_time": "2023-12-25T17:14:30.172Z"
   },
   {
    "duration": 8,
    "start_time": "2023-12-25T17:14:35.868Z"
   },
   {
    "duration": 20,
    "start_time": "2023-12-25T17:16:24.351Z"
   },
   {
    "duration": 1080,
    "start_time": "2023-12-25T17:37:36.598Z"
   },
   {
    "duration": 28,
    "start_time": "2023-12-25T17:37:37.680Z"
   },
   {
    "duration": 2,
    "start_time": "2023-12-25T17:37:37.709Z"
   },
   {
    "duration": 14,
    "start_time": "2023-12-25T17:37:37.713Z"
   },
   {
    "duration": 13,
    "start_time": "2023-12-25T17:37:37.728Z"
   },
   {
    "duration": 8,
    "start_time": "2023-12-25T17:37:37.743Z"
   },
   {
    "duration": 58,
    "start_time": "2023-12-25T17:37:37.752Z"
   },
   {
    "duration": 5,
    "start_time": "2023-12-25T17:37:37.812Z"
   },
   {
    "duration": 23,
    "start_time": "2023-12-25T17:37:37.818Z"
   },
   {
    "duration": 46,
    "start_time": "2023-12-25T17:37:37.844Z"
   },
   {
    "duration": 17,
    "start_time": "2023-12-25T17:37:37.892Z"
   },
   {
    "duration": 3,
    "start_time": "2023-12-25T17:37:37.910Z"
   },
   {
    "duration": 19,
    "start_time": "2023-12-25T17:37:37.914Z"
   },
   {
    "duration": 13,
    "start_time": "2023-12-25T17:37:37.934Z"
   },
   {
    "duration": 9,
    "start_time": "2023-12-25T17:37:37.949Z"
   },
   {
    "duration": 3,
    "start_time": "2023-12-25T17:37:37.960Z"
   },
   {
    "duration": 4,
    "start_time": "2023-12-25T17:37:37.965Z"
   },
   {
    "duration": 164,
    "start_time": "2023-12-25T17:37:37.971Z"
   },
   {
    "duration": 112,
    "start_time": "2023-12-25T17:37:38.136Z"
   },
   {
    "duration": 6,
    "start_time": "2023-12-25T17:37:38.250Z"
   },
   {
    "duration": 18,
    "start_time": "2023-12-25T17:37:38.257Z"
   },
   {
    "duration": 7,
    "start_time": "2023-12-25T17:37:38.276Z"
   },
   {
    "duration": 273,
    "start_time": "2023-12-25T17:37:38.284Z"
   },
   {
    "duration": 182,
    "start_time": "2023-12-25T17:37:38.559Z"
   },
   {
    "duration": 315,
    "start_time": "2023-12-25T17:37:38.743Z"
   },
   {
    "duration": 220,
    "start_time": "2023-12-25T17:37:39.060Z"
   },
   {
    "duration": 295,
    "start_time": "2023-12-25T17:37:39.281Z"
   },
   {
    "duration": 137,
    "start_time": "2023-12-25T17:37:39.579Z"
   },
   {
    "duration": 5,
    "start_time": "2023-12-25T17:37:39.717Z"
   },
   {
    "duration": 15,
    "start_time": "2023-12-25T17:37:39.723Z"
   },
   {
    "duration": 129,
    "start_time": "2023-12-25T17:37:39.739Z"
   },
   {
    "duration": 5,
    "start_time": "2023-12-25T17:37:39.869Z"
   },
   {
    "duration": 119,
    "start_time": "2023-12-25T17:37:39.876Z"
   },
   {
    "duration": 44,
    "start_time": "2023-12-25T17:37:39.997Z"
   },
   {
    "duration": 65,
    "start_time": "2023-12-25T17:37:40.042Z"
   },
   {
    "duration": 61,
    "start_time": "2023-12-25T17:37:40.108Z"
   },
   {
    "duration": 26,
    "start_time": "2023-12-25T17:37:40.170Z"
   },
   {
    "duration": 76,
    "start_time": "2023-12-25T17:37:40.197Z"
   },
   {
    "duration": 74,
    "start_time": "2023-12-25T17:37:40.274Z"
   },
   {
    "duration": 6,
    "start_time": "2023-12-25T17:37:40.364Z"
   },
   {
    "duration": 28,
    "start_time": "2023-12-25T17:37:40.371Z"
   },
   {
    "duration": 4,
    "start_time": "2023-12-25T17:37:40.401Z"
   },
   {
    "duration": 8,
    "start_time": "2023-12-25T17:37:40.407Z"
   },
   {
    "duration": 6,
    "start_time": "2023-12-25T17:37:40.416Z"
   },
   {
    "duration": 16,
    "start_time": "2023-12-25T17:37:40.423Z"
   },
   {
    "duration": 28,
    "start_time": "2023-12-25T17:37:40.440Z"
   },
   {
    "duration": 23,
    "start_time": "2023-12-25T17:37:40.469Z"
   },
   {
    "duration": 4,
    "start_time": "2023-12-25T17:37:40.494Z"
   },
   {
    "duration": 15,
    "start_time": "2023-12-25T17:37:40.500Z"
   },
   {
    "duration": 7,
    "start_time": "2023-12-25T17:39:47.463Z"
   },
   {
    "duration": 5,
    "start_time": "2023-12-25T17:40:01.690Z"
   },
   {
    "duration": 5,
    "start_time": "2023-12-25T17:40:40.851Z"
   },
   {
    "duration": 6,
    "start_time": "2023-12-25T17:42:05.699Z"
   },
   {
    "duration": 6,
    "start_time": "2023-12-25T17:42:16.103Z"
   },
   {
    "duration": 8,
    "start_time": "2023-12-25T17:45:20.661Z"
   },
   {
    "duration": 5,
    "start_time": "2023-12-25T17:58:08.135Z"
   },
   {
    "duration": 5,
    "start_time": "2023-12-25T18:00:40.550Z"
   },
   {
    "duration": 128,
    "start_time": "2023-12-25T18:00:43.788Z"
   },
   {
    "duration": 95,
    "start_time": "2023-12-25T18:00:44.740Z"
   },
   {
    "duration": 8,
    "start_time": "2023-12-25T18:00:48.845Z"
   },
   {
    "duration": 5,
    "start_time": "2023-12-25T18:00:50.907Z"
   },
   {
    "duration": 5,
    "start_time": "2023-12-25T18:00:51.710Z"
   },
   {
    "duration": 187,
    "start_time": "2023-12-25T18:00:52.699Z"
   },
   {
    "duration": 183,
    "start_time": "2023-12-25T18:01:09.395Z"
   },
   {
    "duration": 278,
    "start_time": "2023-12-25T18:01:28.396Z"
   },
   {
    "duration": 5,
    "start_time": "2023-12-25T18:08:18.408Z"
   },
   {
    "duration": 149,
    "start_time": "2023-12-25T18:08:19.064Z"
   },
   {
    "duration": 103,
    "start_time": "2023-12-25T18:08:19.871Z"
   },
   {
    "duration": 6,
    "start_time": "2023-12-25T18:08:20.876Z"
   },
   {
    "duration": 195,
    "start_time": "2023-12-25T18:08:21.740Z"
   },
   {
    "duration": 321,
    "start_time": "2023-12-25T18:08:36.237Z"
   },
   {
    "duration": 126,
    "start_time": "2023-12-25T18:10:33.514Z"
   },
   {
    "duration": 5,
    "start_time": "2023-12-25T18:10:35.342Z"
   },
   {
    "duration": 122,
    "start_time": "2023-12-25T18:10:56.648Z"
   },
   {
    "duration": 5,
    "start_time": "2023-12-25T18:11:05.374Z"
   },
   {
    "duration": 128,
    "start_time": "2023-12-25T18:11:11.747Z"
   },
   {
    "duration": 5,
    "start_time": "2023-12-25T18:11:12.748Z"
   },
   {
    "duration": 99,
    "start_time": "2023-12-25T18:11:35.633Z"
   },
   {
    "duration": 11,
    "start_time": "2023-12-25T18:11:49.839Z"
   },
   {
    "duration": 121,
    "start_time": "2023-12-25T18:12:07.280Z"
   },
   {
    "duration": 5,
    "start_time": "2023-12-25T18:12:24.090Z"
   },
   {
    "duration": 10,
    "start_time": "2023-12-25T18:12:30.767Z"
   },
   {
    "duration": 5,
    "start_time": "2023-12-25T18:12:45.987Z"
   },
   {
    "duration": 117,
    "start_time": "2023-12-25T18:12:49.840Z"
   },
   {
    "duration": 4,
    "start_time": "2023-12-25T18:12:50.860Z"
   },
   {
    "duration": 25,
    "start_time": "2023-12-25T18:15:44.560Z"
   },
   {
    "duration": 5,
    "start_time": "2023-12-25T18:16:24.569Z"
   },
   {
    "duration": 5,
    "start_time": "2023-12-25T18:16:29.709Z"
   },
   {
    "duration": 10,
    "start_time": "2023-12-25T18:19:09.974Z"
   },
   {
    "duration": 43,
    "start_time": "2023-12-25T18:19:53.351Z"
   },
   {
    "duration": 44,
    "start_time": "2023-12-25T18:19:53.800Z"
   },
   {
    "duration": 59,
    "start_time": "2023-12-25T18:19:54.478Z"
   },
   {
    "duration": 57,
    "start_time": "2023-12-25T18:19:55.628Z"
   },
   {
    "duration": 27,
    "start_time": "2023-12-25T18:19:56.306Z"
   },
   {
    "duration": 66,
    "start_time": "2023-12-25T18:19:57.129Z"
   },
   {
    "duration": 82,
    "start_time": "2023-12-25T18:19:58.466Z"
   },
   {
    "duration": 6,
    "start_time": "2023-12-25T18:19:59.074Z"
   },
   {
    "duration": 24,
    "start_time": "2023-12-25T18:19:59.701Z"
   },
   {
    "duration": 4,
    "start_time": "2023-12-25T18:20:05.859Z"
   },
   {
    "duration": 6,
    "start_time": "2023-12-25T18:21:13.905Z"
   },
   {
    "duration": 7,
    "start_time": "2023-12-25T18:21:20.678Z"
   },
   {
    "duration": 7,
    "start_time": "2023-12-25T18:21:27.289Z"
   },
   {
    "duration": 10,
    "start_time": "2023-12-25T18:22:35.838Z"
   },
   {
    "duration": 9,
    "start_time": "2023-12-25T18:25:06.166Z"
   },
   {
    "duration": 8,
    "start_time": "2023-12-25T18:25:20.972Z"
   },
   {
    "duration": 34,
    "start_time": "2023-12-25T18:25:25.766Z"
   },
   {
    "duration": 5,
    "start_time": "2023-12-25T18:25:27.261Z"
   },
   {
    "duration": 25,
    "start_time": "2023-12-25T18:25:38.996Z"
   },
   {
    "duration": 4,
    "start_time": "2023-12-25T18:26:23.014Z"
   },
   {
    "duration": 13,
    "start_time": "2023-12-25T18:27:07.563Z"
   },
   {
    "duration": 1166,
    "start_time": "2023-12-25T18:40:48.057Z"
   },
   {
    "duration": 28,
    "start_time": "2023-12-25T18:40:49.225Z"
   },
   {
    "duration": 2,
    "start_time": "2023-12-25T18:40:49.255Z"
   },
   {
    "duration": 18,
    "start_time": "2023-12-25T18:40:49.259Z"
   },
   {
    "duration": 10,
    "start_time": "2023-12-25T18:40:49.278Z"
   },
   {
    "duration": 5,
    "start_time": "2023-12-25T18:40:49.290Z"
   },
   {
    "duration": 56,
    "start_time": "2023-12-25T18:40:49.296Z"
   },
   {
    "duration": 13,
    "start_time": "2023-12-25T18:40:49.354Z"
   },
   {
    "duration": 22,
    "start_time": "2023-12-25T18:40:49.368Z"
   },
   {
    "duration": 51,
    "start_time": "2023-12-25T18:40:49.393Z"
   },
   {
    "duration": 18,
    "start_time": "2023-12-25T18:40:49.445Z"
   },
   {
    "duration": 3,
    "start_time": "2023-12-25T18:40:49.465Z"
   },
   {
    "duration": 18,
    "start_time": "2023-12-25T18:40:49.470Z"
   },
   {
    "duration": 17,
    "start_time": "2023-12-25T18:40:49.489Z"
   },
   {
    "duration": 6,
    "start_time": "2023-12-25T18:40:49.507Z"
   },
   {
    "duration": 9,
    "start_time": "2023-12-25T18:40:49.515Z"
   },
   {
    "duration": 40,
    "start_time": "2023-12-25T18:40:49.526Z"
   },
   {
    "duration": 8,
    "start_time": "2023-12-25T18:40:49.568Z"
   },
   {
    "duration": 4,
    "start_time": "2023-12-25T18:40:49.578Z"
   },
   {
    "duration": 9,
    "start_time": "2023-12-25T18:40:49.584Z"
   },
   {
    "duration": 7,
    "start_time": "2023-12-25T18:40:49.594Z"
   },
   {
    "duration": 155,
    "start_time": "2023-12-25T18:40:49.603Z"
   },
   {
    "duration": 114,
    "start_time": "2023-12-25T18:40:49.759Z"
   },
   {
    "duration": 6,
    "start_time": "2023-12-25T18:40:49.875Z"
   },
   {
    "duration": 10,
    "start_time": "2023-12-25T18:40:49.882Z"
   },
   {
    "duration": 6,
    "start_time": "2023-12-25T18:40:49.893Z"
   },
   {
    "duration": 286,
    "start_time": "2023-12-25T18:40:49.900Z"
   },
   {
    "duration": 194,
    "start_time": "2023-12-25T18:40:50.189Z"
   },
   {
    "duration": 284,
    "start_time": "2023-12-25T18:40:50.385Z"
   },
   {
    "duration": 6,
    "start_time": "2023-12-25T18:40:50.671Z"
   },
   {
    "duration": 171,
    "start_time": "2023-12-25T18:40:50.679Z"
   },
   {
    "duration": 124,
    "start_time": "2023-12-25T18:40:50.852Z"
   },
   {
    "duration": 6,
    "start_time": "2023-12-25T18:40:50.977Z"
   },
   {
    "duration": 219,
    "start_time": "2023-12-25T18:40:50.985Z"
   },
   {
    "duration": 281,
    "start_time": "2023-12-25T18:40:51.206Z"
   },
   {
    "duration": 136,
    "start_time": "2023-12-25T18:40:51.489Z"
   },
   {
    "duration": 4,
    "start_time": "2023-12-25T18:40:51.627Z"
   },
   {
    "duration": 31,
    "start_time": "2023-12-25T18:40:51.633Z"
   },
   {
    "duration": 129,
    "start_time": "2023-12-25T18:40:51.665Z"
   },
   {
    "duration": 5,
    "start_time": "2023-12-25T18:40:51.797Z"
   },
   {
    "duration": 148,
    "start_time": "2023-12-25T18:40:51.804Z"
   },
   {
    "duration": 61,
    "start_time": "2023-12-25T18:40:51.954Z"
   },
   {
    "duration": 55,
    "start_time": "2023-12-25T18:40:52.017Z"
   },
   {
    "duration": 53,
    "start_time": "2023-12-25T18:40:52.074Z"
   },
   {
    "duration": 43,
    "start_time": "2023-12-25T18:40:52.129Z"
   },
   {
    "duration": 95,
    "start_time": "2023-12-25T18:40:52.174Z"
   },
   {
    "duration": 74,
    "start_time": "2023-12-25T18:40:52.271Z"
   },
   {
    "duration": 22,
    "start_time": "2023-12-25T18:40:52.347Z"
   },
   {
    "duration": 35,
    "start_time": "2023-12-25T18:40:52.370Z"
   },
   {
    "duration": 4,
    "start_time": "2023-12-25T18:40:52.407Z"
   },
   {
    "duration": 11,
    "start_time": "2023-12-25T18:40:52.412Z"
   },
   {
    "duration": 7,
    "start_time": "2023-12-25T18:40:52.424Z"
   },
   {
    "duration": 36,
    "start_time": "2023-12-25T18:40:52.432Z"
   },
   {
    "duration": 10,
    "start_time": "2023-12-25T18:40:52.469Z"
   },
   {
    "duration": 24,
    "start_time": "2023-12-25T18:40:52.481Z"
   },
   {
    "duration": 4,
    "start_time": "2023-12-25T18:40:52.507Z"
   },
   {
    "duration": 16,
    "start_time": "2023-12-25T18:40:52.512Z"
   },
   {
    "duration": 14,
    "start_time": "2023-12-25T18:41:50.804Z"
   },
   {
    "duration": 1121,
    "start_time": "2023-12-25T18:42:36.472Z"
   },
   {
    "duration": 30,
    "start_time": "2023-12-25T18:42:37.595Z"
   },
   {
    "duration": 3,
    "start_time": "2023-12-25T18:42:37.626Z"
   },
   {
    "duration": 15,
    "start_time": "2023-12-25T18:42:37.631Z"
   },
   {
    "duration": 9,
    "start_time": "2023-12-25T18:42:37.648Z"
   },
   {
    "duration": 8,
    "start_time": "2023-12-25T18:42:37.659Z"
   },
   {
    "duration": 62,
    "start_time": "2023-12-25T18:42:37.668Z"
   },
   {
    "duration": 6,
    "start_time": "2023-12-25T18:42:37.731Z"
   },
   {
    "duration": 35,
    "start_time": "2023-12-25T18:42:37.738Z"
   },
   {
    "duration": 48,
    "start_time": "2023-12-25T18:42:37.776Z"
   },
   {
    "duration": 17,
    "start_time": "2023-12-25T18:42:37.826Z"
   },
   {
    "duration": 3,
    "start_time": "2023-12-25T18:42:37.845Z"
   },
   {
    "duration": 18,
    "start_time": "2023-12-25T18:42:37.850Z"
   },
   {
    "duration": 16,
    "start_time": "2023-12-25T18:42:37.870Z"
   },
   {
    "duration": 6,
    "start_time": "2023-12-25T18:42:37.887Z"
   },
   {
    "duration": 15,
    "start_time": "2023-12-25T18:42:37.895Z"
   },
   {
    "duration": 5,
    "start_time": "2023-12-25T18:42:37.912Z"
   },
   {
    "duration": 8,
    "start_time": "2023-12-25T18:42:37.919Z"
   },
   {
    "duration": 6,
    "start_time": "2023-12-25T18:42:37.928Z"
   },
   {
    "duration": 33,
    "start_time": "2023-12-25T18:42:37.936Z"
   },
   {
    "duration": 6,
    "start_time": "2023-12-25T18:42:37.971Z"
   },
   {
    "duration": 151,
    "start_time": "2023-12-25T18:42:37.979Z"
   },
   {
    "duration": 109,
    "start_time": "2023-12-25T18:42:38.132Z"
   },
   {
    "duration": 6,
    "start_time": "2023-12-25T18:42:38.242Z"
   },
   {
    "duration": 19,
    "start_time": "2023-12-25T18:42:38.249Z"
   },
   {
    "duration": 6,
    "start_time": "2023-12-25T18:42:38.269Z"
   },
   {
    "duration": 266,
    "start_time": "2023-12-25T18:42:38.276Z"
   },
   {
    "duration": 183,
    "start_time": "2023-12-25T18:42:38.546Z"
   },
   {
    "duration": 307,
    "start_time": "2023-12-25T18:42:38.731Z"
   },
   {
    "duration": 5,
    "start_time": "2023-12-25T18:42:39.040Z"
   },
   {
    "duration": 185,
    "start_time": "2023-12-25T18:42:39.046Z"
   },
   {
    "duration": 121,
    "start_time": "2023-12-25T18:42:39.232Z"
   },
   {
    "duration": 13,
    "start_time": "2023-12-25T18:42:39.355Z"
   },
   {
    "duration": 200,
    "start_time": "2023-12-25T18:42:39.370Z"
   },
   {
    "duration": 300,
    "start_time": "2023-12-25T18:42:39.572Z"
   },
   {
    "duration": 130,
    "start_time": "2023-12-25T18:42:39.874Z"
   },
   {
    "duration": 4,
    "start_time": "2023-12-25T18:42:40.006Z"
   },
   {
    "duration": 27,
    "start_time": "2023-12-25T18:42:40.012Z"
   },
   {
    "duration": 120,
    "start_time": "2023-12-25T18:42:40.041Z"
   },
   {
    "duration": 5,
    "start_time": "2023-12-25T18:42:40.163Z"
   },
   {
    "duration": 136,
    "start_time": "2023-12-25T18:42:40.169Z"
   },
   {
    "duration": 44,
    "start_time": "2023-12-25T18:42:40.307Z"
   },
   {
    "duration": 67,
    "start_time": "2023-12-25T18:42:40.352Z"
   },
   {
    "duration": 64,
    "start_time": "2023-12-25T18:42:40.421Z"
   },
   {
    "duration": 27,
    "start_time": "2023-12-25T18:42:40.486Z"
   },
   {
    "duration": 75,
    "start_time": "2023-12-25T18:42:40.515Z"
   },
   {
    "duration": 88,
    "start_time": "2023-12-25T18:42:40.592Z"
   },
   {
    "duration": 6,
    "start_time": "2023-12-25T18:42:40.681Z"
   },
   {
    "duration": 32,
    "start_time": "2023-12-25T18:42:40.689Z"
   },
   {
    "duration": 4,
    "start_time": "2023-12-25T18:42:40.722Z"
   },
   {
    "duration": 26,
    "start_time": "2023-12-25T18:42:40.727Z"
   },
   {
    "duration": 41,
    "start_time": "2023-12-25T18:42:40.755Z"
   },
   {
    "duration": 31,
    "start_time": "2023-12-25T18:42:40.798Z"
   },
   {
    "duration": 11,
    "start_time": "2023-12-25T18:42:40.830Z"
   },
   {
    "duration": 54,
    "start_time": "2023-12-25T18:42:40.843Z"
   },
   {
    "duration": 4,
    "start_time": "2023-12-25T18:42:40.898Z"
   },
   {
    "duration": 31,
    "start_time": "2023-12-25T18:42:40.904Z"
   },
   {
    "duration": 1278,
    "start_time": "2023-12-26T06:25:31.954Z"
   },
   {
    "duration": 59,
    "start_time": "2023-12-26T06:25:33.234Z"
   },
   {
    "duration": 3,
    "start_time": "2023-12-26T06:25:33.294Z"
   },
   {
    "duration": 12,
    "start_time": "2023-12-26T06:25:33.299Z"
   },
   {
    "duration": 10,
    "start_time": "2023-12-26T06:25:33.312Z"
   },
   {
    "duration": 26,
    "start_time": "2023-12-26T06:25:33.324Z"
   },
   {
    "duration": 51,
    "start_time": "2023-12-26T06:25:33.352Z"
   },
   {
    "duration": 5,
    "start_time": "2023-12-26T06:25:33.405Z"
   },
   {
    "duration": 19,
    "start_time": "2023-12-26T06:25:33.412Z"
   },
   {
    "duration": 93,
    "start_time": "2023-12-26T06:25:33.435Z"
   },
   {
    "duration": 54,
    "start_time": "2023-12-26T06:25:33.529Z"
   },
   {
    "duration": 3,
    "start_time": "2023-12-26T06:25:33.584Z"
   },
   {
    "duration": 39,
    "start_time": "2023-12-26T06:25:33.588Z"
   },
   {
    "duration": 17,
    "start_time": "2023-12-26T06:25:33.628Z"
   },
   {
    "duration": 6,
    "start_time": "2023-12-26T06:25:33.647Z"
   },
   {
    "duration": 7,
    "start_time": "2023-12-26T06:25:33.655Z"
   },
   {
    "duration": 16,
    "start_time": "2023-12-26T06:25:33.664Z"
   },
   {
    "duration": 36,
    "start_time": "2023-12-26T06:25:33.682Z"
   },
   {
    "duration": 11,
    "start_time": "2023-12-26T06:25:33.720Z"
   },
   {
    "duration": 9,
    "start_time": "2023-12-26T06:25:33.733Z"
   },
   {
    "duration": 7,
    "start_time": "2023-12-26T06:25:33.744Z"
   },
   {
    "duration": 165,
    "start_time": "2023-12-26T06:25:33.752Z"
   },
   {
    "duration": 113,
    "start_time": "2023-12-26T06:25:33.918Z"
   },
   {
    "duration": 6,
    "start_time": "2023-12-26T06:25:34.032Z"
   },
   {
    "duration": 5,
    "start_time": "2023-12-26T06:25:34.039Z"
   },
   {
    "duration": 5,
    "start_time": "2023-12-26T06:25:34.045Z"
   },
   {
    "duration": 275,
    "start_time": "2023-12-26T06:25:34.051Z"
   },
   {
    "duration": 204,
    "start_time": "2023-12-26T06:25:34.329Z"
   },
   {
    "duration": 292,
    "start_time": "2023-12-26T06:25:34.534Z"
   },
   {
    "duration": 5,
    "start_time": "2023-12-26T06:25:34.828Z"
   },
   {
    "duration": 170,
    "start_time": "2023-12-26T06:25:34.834Z"
   },
   {
    "duration": 150,
    "start_time": "2023-12-26T06:25:35.006Z"
   },
   {
    "duration": 8,
    "start_time": "2023-12-26T06:25:35.158Z"
   },
   {
    "duration": 256,
    "start_time": "2023-12-26T06:25:35.168Z"
   },
   {
    "duration": 297,
    "start_time": "2023-12-26T06:25:35.425Z"
   },
   {
    "duration": 130,
    "start_time": "2023-12-26T06:25:35.724Z"
   },
   {
    "duration": 4,
    "start_time": "2023-12-26T06:25:35.855Z"
   },
   {
    "duration": 16,
    "start_time": "2023-12-26T06:25:35.861Z"
   },
   {
    "duration": 122,
    "start_time": "2023-12-26T06:25:35.878Z"
   },
   {
    "duration": 11,
    "start_time": "2023-12-26T06:25:36.001Z"
   },
   {
    "duration": 120,
    "start_time": "2023-12-26T06:25:36.013Z"
   },
   {
    "duration": 42,
    "start_time": "2023-12-26T06:25:36.134Z"
   },
   {
    "duration": 84,
    "start_time": "2023-12-26T06:25:36.177Z"
   },
   {
    "duration": 82,
    "start_time": "2023-12-26T06:25:36.263Z"
   },
   {
    "duration": 26,
    "start_time": "2023-12-26T06:25:36.347Z"
   },
   {
    "duration": 81,
    "start_time": "2023-12-26T06:25:36.375Z"
   },
   {
    "duration": 96,
    "start_time": "2023-12-26T06:25:36.457Z"
   },
   {
    "duration": 6,
    "start_time": "2023-12-26T06:25:36.555Z"
   },
   {
    "duration": 42,
    "start_time": "2023-12-26T06:25:36.562Z"
   },
   {
    "duration": 5,
    "start_time": "2023-12-26T06:25:36.606Z"
   },
   {
    "duration": 12,
    "start_time": "2023-12-26T06:25:36.612Z"
   },
   {
    "duration": 6,
    "start_time": "2023-12-26T06:25:36.626Z"
   },
   {
    "duration": 11,
    "start_time": "2023-12-26T06:25:36.634Z"
   },
   {
    "duration": 7,
    "start_time": "2023-12-26T06:25:36.646Z"
   },
   {
    "duration": 22,
    "start_time": "2023-12-26T06:25:36.655Z"
   },
   {
    "duration": 33,
    "start_time": "2023-12-26T06:25:36.678Z"
   },
   {
    "duration": 21,
    "start_time": "2023-12-26T06:25:36.712Z"
   },
   {
    "duration": 1141,
    "start_time": "2023-12-26T06:26:41.985Z"
   },
   {
    "duration": 27,
    "start_time": "2023-12-26T06:26:43.127Z"
   },
   {
    "duration": 2,
    "start_time": "2023-12-26T06:26:43.155Z"
   },
   {
    "duration": 10,
    "start_time": "2023-12-26T06:26:43.160Z"
   },
   {
    "duration": 10,
    "start_time": "2023-12-26T06:26:43.172Z"
   },
   {
    "duration": 7,
    "start_time": "2023-12-26T06:26:43.183Z"
   },
   {
    "duration": 63,
    "start_time": "2023-12-26T06:26:43.191Z"
   },
   {
    "duration": 5,
    "start_time": "2023-12-26T06:26:43.255Z"
   },
   {
    "duration": 21,
    "start_time": "2023-12-26T06:26:43.262Z"
   },
   {
    "duration": 46,
    "start_time": "2023-12-26T06:26:43.285Z"
   },
   {
    "duration": 17,
    "start_time": "2023-12-26T06:26:43.332Z"
   },
   {
    "duration": 4,
    "start_time": "2023-12-26T06:26:43.350Z"
   },
   {
    "duration": 22,
    "start_time": "2023-12-26T06:26:43.355Z"
   },
   {
    "duration": 15,
    "start_time": "2023-12-26T06:26:43.379Z"
   },
   {
    "duration": 16,
    "start_time": "2023-12-26T06:26:43.395Z"
   },
   {
    "duration": 5,
    "start_time": "2023-12-26T06:26:43.412Z"
   },
   {
    "duration": 5,
    "start_time": "2023-12-26T06:26:43.419Z"
   },
   {
    "duration": 8,
    "start_time": "2023-12-26T06:26:43.425Z"
   },
   {
    "duration": 4,
    "start_time": "2023-12-26T06:26:43.434Z"
   },
   {
    "duration": 4,
    "start_time": "2023-12-26T06:26:43.440Z"
   },
   {
    "duration": 5,
    "start_time": "2023-12-26T06:26:43.446Z"
   },
   {
    "duration": 178,
    "start_time": "2023-12-26T06:26:43.452Z"
   },
   {
    "duration": 124,
    "start_time": "2023-12-26T06:26:43.632Z"
   },
   {
    "duration": 7,
    "start_time": "2023-12-26T06:26:43.758Z"
   },
   {
    "duration": 6,
    "start_time": "2023-12-26T06:26:43.767Z"
   },
   {
    "duration": 5,
    "start_time": "2023-12-26T06:26:43.775Z"
   },
   {
    "duration": 287,
    "start_time": "2023-12-26T06:26:43.782Z"
   },
   {
    "duration": 186,
    "start_time": "2023-12-26T06:26:44.072Z"
   },
   {
    "duration": 263,
    "start_time": "2023-12-26T06:26:44.260Z"
   },
   {
    "duration": 7,
    "start_time": "2023-12-26T06:26:44.525Z"
   },
   {
    "duration": 171,
    "start_time": "2023-12-26T06:26:44.533Z"
   },
   {
    "duration": 122,
    "start_time": "2023-12-26T06:26:44.705Z"
   },
   {
    "duration": 6,
    "start_time": "2023-12-26T06:26:44.828Z"
   },
   {
    "duration": 214,
    "start_time": "2023-12-26T06:26:44.835Z"
   },
   {
    "duration": 284,
    "start_time": "2023-12-26T06:26:45.051Z"
   },
   {
    "duration": 127,
    "start_time": "2023-12-26T06:26:45.336Z"
   },
   {
    "duration": 4,
    "start_time": "2023-12-26T06:26:45.465Z"
   },
   {
    "duration": 10,
    "start_time": "2023-12-26T06:26:45.471Z"
   },
   {
    "duration": 130,
    "start_time": "2023-12-26T06:26:45.482Z"
   },
   {
    "duration": 5,
    "start_time": "2023-12-26T06:26:45.614Z"
   },
   {
    "duration": 127,
    "start_time": "2023-12-26T06:26:45.620Z"
   },
   {
    "duration": 43,
    "start_time": "2023-12-26T06:26:45.749Z"
   },
   {
    "duration": 66,
    "start_time": "2023-12-26T06:26:45.794Z"
   },
   {
    "duration": 58,
    "start_time": "2023-12-26T06:26:45.861Z"
   },
   {
    "duration": 25,
    "start_time": "2023-12-26T06:26:45.921Z"
   },
   {
    "duration": 77,
    "start_time": "2023-12-26T06:26:45.947Z"
   },
   {
    "duration": 68,
    "start_time": "2023-12-26T06:26:46.025Z"
   },
   {
    "duration": 19,
    "start_time": "2023-12-26T06:26:46.095Z"
   },
   {
    "duration": 29,
    "start_time": "2023-12-26T06:26:46.115Z"
   },
   {
    "duration": 4,
    "start_time": "2023-12-26T06:26:46.146Z"
   },
   {
    "duration": 9,
    "start_time": "2023-12-26T06:26:46.151Z"
   },
   {
    "duration": 7,
    "start_time": "2023-12-26T06:26:46.161Z"
   },
   {
    "duration": 13,
    "start_time": "2023-12-26T06:26:46.169Z"
   },
   {
    "duration": 7,
    "start_time": "2023-12-26T06:26:46.212Z"
   },
   {
    "duration": 28,
    "start_time": "2023-12-26T06:26:46.221Z"
   },
   {
    "duration": 16,
    "start_time": "2023-12-26T06:26:46.251Z"
   },
   {
    "duration": 14,
    "start_time": "2023-12-26T06:26:46.269Z"
   },
   {
    "duration": 1143,
    "start_time": "2023-12-26T06:28:28.377Z"
   },
   {
    "duration": 27,
    "start_time": "2023-12-26T06:28:29.521Z"
   },
   {
    "duration": 3,
    "start_time": "2023-12-26T06:28:29.549Z"
   },
   {
    "duration": 13,
    "start_time": "2023-12-26T06:28:29.553Z"
   },
   {
    "duration": 10,
    "start_time": "2023-12-26T06:28:29.568Z"
   },
   {
    "duration": 7,
    "start_time": "2023-12-26T06:28:29.580Z"
   },
   {
    "duration": 63,
    "start_time": "2023-12-26T06:28:29.588Z"
   },
   {
    "duration": 6,
    "start_time": "2023-12-26T06:28:29.653Z"
   },
   {
    "duration": 22,
    "start_time": "2023-12-26T06:28:29.660Z"
   },
   {
    "duration": 48,
    "start_time": "2023-12-26T06:28:29.683Z"
   },
   {
    "duration": 17,
    "start_time": "2023-12-26T06:28:29.733Z"
   },
   {
    "duration": 4,
    "start_time": "2023-12-26T06:28:29.752Z"
   },
   {
    "duration": 18,
    "start_time": "2023-12-26T06:28:29.758Z"
   },
   {
    "duration": 16,
    "start_time": "2023-12-26T06:28:29.780Z"
   },
   {
    "duration": 18,
    "start_time": "2023-12-26T06:28:29.798Z"
   },
   {
    "duration": 6,
    "start_time": "2023-12-26T06:28:29.818Z"
   },
   {
    "duration": 4,
    "start_time": "2023-12-26T06:28:29.825Z"
   },
   {
    "duration": 7,
    "start_time": "2023-12-26T06:28:29.831Z"
   },
   {
    "duration": 14,
    "start_time": "2023-12-26T06:28:29.840Z"
   },
   {
    "duration": 15,
    "start_time": "2023-12-26T06:28:29.856Z"
   },
   {
    "duration": 7,
    "start_time": "2023-12-26T06:28:29.872Z"
   },
   {
    "duration": 152,
    "start_time": "2023-12-26T06:28:29.881Z"
   },
   {
    "duration": 111,
    "start_time": "2023-12-26T06:28:30.034Z"
   },
   {
    "duration": 37,
    "start_time": "2023-12-26T06:28:30.147Z"
   },
   {
    "duration": 39,
    "start_time": "2023-12-26T06:28:30.185Z"
   },
   {
    "duration": 41,
    "start_time": "2023-12-26T06:28:30.225Z"
   },
   {
    "duration": 566,
    "start_time": "2023-12-26T06:28:30.268Z"
   },
   {
    "duration": 391,
    "start_time": "2023-12-26T06:28:30.836Z"
   },
   {
    "duration": 408,
    "start_time": "2023-12-26T06:28:31.228Z"
   },
   {
    "duration": 6,
    "start_time": "2023-12-26T06:28:31.638Z"
   },
   {
    "duration": 214,
    "start_time": "2023-12-26T06:28:31.646Z"
   },
   {
    "duration": 112,
    "start_time": "2023-12-26T06:28:31.862Z"
   },
   {
    "duration": 6,
    "start_time": "2023-12-26T06:28:31.975Z"
   },
   {
    "duration": 214,
    "start_time": "2023-12-26T06:28:31.983Z"
   },
   {
    "duration": 314,
    "start_time": "2023-12-26T06:28:32.199Z"
   },
   {
    "duration": 134,
    "start_time": "2023-12-26T06:28:32.515Z"
   },
   {
    "duration": 5,
    "start_time": "2023-12-26T06:28:32.650Z"
   },
   {
    "duration": 11,
    "start_time": "2023-12-26T06:28:32.657Z"
   },
   {
    "duration": 136,
    "start_time": "2023-12-26T06:28:32.670Z"
   },
   {
    "duration": 5,
    "start_time": "2023-12-26T06:28:32.811Z"
   },
   {
    "duration": 155,
    "start_time": "2023-12-26T06:28:32.819Z"
   },
   {
    "duration": 51,
    "start_time": "2023-12-26T06:28:32.976Z"
   },
   {
    "duration": 53,
    "start_time": "2023-12-26T06:28:33.028Z"
   },
   {
    "duration": 67,
    "start_time": "2023-12-26T06:28:33.082Z"
   },
   {
    "duration": 26,
    "start_time": "2023-12-26T06:28:33.151Z"
   },
   {
    "duration": 76,
    "start_time": "2023-12-26T06:28:33.178Z"
   },
   {
    "duration": 82,
    "start_time": "2023-12-26T06:28:33.256Z"
   },
   {
    "duration": 5,
    "start_time": "2023-12-26T06:28:33.340Z"
   },
   {
    "duration": 24,
    "start_time": "2023-12-26T06:28:33.347Z"
   },
   {
    "duration": 8,
    "start_time": "2023-12-26T06:28:33.373Z"
   },
   {
    "duration": 25,
    "start_time": "2023-12-26T06:28:33.383Z"
   },
   {
    "duration": 7,
    "start_time": "2023-12-26T06:28:33.409Z"
   },
   {
    "duration": 10,
    "start_time": "2023-12-26T06:28:33.418Z"
   },
   {
    "duration": 11,
    "start_time": "2023-12-26T06:28:33.429Z"
   },
   {
    "duration": 37,
    "start_time": "2023-12-26T06:28:33.441Z"
   },
   {
    "duration": 4,
    "start_time": "2023-12-26T06:28:33.480Z"
   },
   {
    "duration": 32,
    "start_time": "2023-12-26T06:28:33.486Z"
   },
   {
    "duration": 1753,
    "start_time": "2023-12-26T06:56:14.041Z"
   },
   {
    "duration": 68,
    "start_time": "2023-12-26T06:56:15.796Z"
   },
   {
    "duration": 3,
    "start_time": "2023-12-26T06:56:15.866Z"
   },
   {
    "duration": 22,
    "start_time": "2023-12-26T06:56:15.871Z"
   },
   {
    "duration": 11,
    "start_time": "2023-12-26T06:56:15.895Z"
   },
   {
    "duration": 20,
    "start_time": "2023-12-26T06:56:15.908Z"
   },
   {
    "duration": 64,
    "start_time": "2023-12-26T06:56:15.930Z"
   },
   {
    "duration": 7,
    "start_time": "2023-12-26T06:56:15.996Z"
   },
   {
    "duration": 25,
    "start_time": "2023-12-26T06:56:16.005Z"
   },
   {
    "duration": 80,
    "start_time": "2023-12-26T06:56:16.033Z"
   },
   {
    "duration": 56,
    "start_time": "2023-12-26T06:56:16.115Z"
   },
   {
    "duration": 4,
    "start_time": "2023-12-26T06:56:16.173Z"
   },
   {
    "duration": 32,
    "start_time": "2023-12-26T06:56:16.178Z"
   },
   {
    "duration": 34,
    "start_time": "2023-12-26T06:56:16.211Z"
   },
   {
    "duration": 5,
    "start_time": "2023-12-26T06:56:16.248Z"
   },
   {
    "duration": 7,
    "start_time": "2023-12-26T06:56:16.255Z"
   },
   {
    "duration": 43,
    "start_time": "2023-12-26T06:56:16.263Z"
   },
   {
    "duration": 58,
    "start_time": "2023-12-26T06:56:16.308Z"
   },
   {
    "duration": 12,
    "start_time": "2023-12-26T06:56:16.368Z"
   },
   {
    "duration": 10,
    "start_time": "2023-12-26T06:56:16.382Z"
   },
   {
    "duration": 39,
    "start_time": "2023-12-26T06:56:16.394Z"
   },
   {
    "duration": 192,
    "start_time": "2023-12-26T06:56:16.435Z"
   },
   {
    "duration": 137,
    "start_time": "2023-12-26T06:56:16.629Z"
   },
   {
    "duration": 30,
    "start_time": "2023-12-26T06:56:16.767Z"
   },
   {
    "duration": 28,
    "start_time": "2023-12-26T06:56:16.798Z"
   },
   {
    "duration": 13,
    "start_time": "2023-12-26T06:56:16.828Z"
   },
   {
    "duration": 317,
    "start_time": "2023-12-26T06:56:16.842Z"
   },
   {
    "duration": 229,
    "start_time": "2023-12-26T06:56:17.163Z"
   },
   {
    "duration": 379,
    "start_time": "2023-12-26T06:56:17.393Z"
   },
   {
    "duration": 7,
    "start_time": "2023-12-26T06:56:17.773Z"
   },
   {
    "duration": 206,
    "start_time": "2023-12-26T06:56:17.781Z"
   },
   {
    "duration": 138,
    "start_time": "2023-12-26T06:56:17.989Z"
   },
   {
    "duration": 15,
    "start_time": "2023-12-26T06:56:18.129Z"
   },
   {
    "duration": 252,
    "start_time": "2023-12-26T06:56:18.146Z"
   },
   {
    "duration": 331,
    "start_time": "2023-12-26T06:56:18.400Z"
   },
   {
    "duration": 156,
    "start_time": "2023-12-26T06:56:18.732Z"
   },
   {
    "duration": 10,
    "start_time": "2023-12-26T06:56:18.890Z"
   },
   {
    "duration": 14,
    "start_time": "2023-12-26T06:56:18.902Z"
   },
   {
    "duration": 209,
    "start_time": "2023-12-26T06:56:18.917Z"
   },
   {
    "duration": 5,
    "start_time": "2023-12-26T06:56:19.128Z"
   },
   {
    "duration": 275,
    "start_time": "2023-12-26T06:56:19.135Z"
   },
   {
    "duration": 104,
    "start_time": "2023-12-26T06:56:19.412Z"
   },
   {
    "duration": 115,
    "start_time": "2023-12-26T06:56:19.518Z"
   },
   {
    "duration": 170,
    "start_time": "2023-12-26T06:56:19.635Z"
   },
   {
    "duration": 32,
    "start_time": "2023-12-26T06:56:19.808Z"
   },
   {
    "duration": 179,
    "start_time": "2023-12-26T06:56:19.841Z"
   },
   {
    "duration": 186,
    "start_time": "2023-12-26T06:56:20.023Z"
   },
   {
    "duration": 7,
    "start_time": "2023-12-26T06:56:20.210Z"
   },
   {
    "duration": 88,
    "start_time": "2023-12-26T06:56:20.218Z"
   },
   {
    "duration": 5,
    "start_time": "2023-12-26T06:56:20.307Z"
   },
   {
    "duration": 47,
    "start_time": "2023-12-26T06:56:20.314Z"
   },
   {
    "duration": 41,
    "start_time": "2023-12-26T06:56:20.363Z"
   },
   {
    "duration": 18,
    "start_time": "2023-12-26T06:56:20.405Z"
   },
   {
    "duration": 11,
    "start_time": "2023-12-26T06:56:20.425Z"
   },
   {
    "duration": 85,
    "start_time": "2023-12-26T06:56:20.438Z"
   },
   {
    "duration": 5,
    "start_time": "2023-12-26T06:56:20.525Z"
   },
   {
    "duration": 73,
    "start_time": "2023-12-26T06:56:20.532Z"
   },
   {
    "duration": 11,
    "start_time": "2023-12-26T07:03:27.237Z"
   },
   {
    "duration": 1332,
    "start_time": "2023-12-26T07:03:45.135Z"
   },
   {
    "duration": 27,
    "start_time": "2023-12-26T07:03:46.469Z"
   },
   {
    "duration": 22,
    "start_time": "2023-12-26T07:03:46.498Z"
   },
   {
    "duration": 17,
    "start_time": "2023-12-26T07:03:46.522Z"
   },
   {
    "duration": 42,
    "start_time": "2023-12-26T07:03:46.541Z"
   },
   {
    "duration": 28,
    "start_time": "2023-12-26T07:03:46.585Z"
   },
   {
    "duration": 66,
    "start_time": "2023-12-26T07:03:46.615Z"
   },
   {
    "duration": 7,
    "start_time": "2023-12-26T07:03:46.683Z"
   },
   {
    "duration": 46,
    "start_time": "2023-12-26T07:03:46.691Z"
   },
   {
    "duration": 74,
    "start_time": "2023-12-26T07:03:46.740Z"
   },
   {
    "duration": 17,
    "start_time": "2023-12-26T07:03:46.816Z"
   },
   {
    "duration": 18,
    "start_time": "2023-12-26T07:03:46.835Z"
   },
   {
    "duration": 53,
    "start_time": "2023-12-26T07:03:46.855Z"
   },
   {
    "duration": 24,
    "start_time": "2023-12-26T07:03:46.911Z"
   },
   {
    "duration": 15,
    "start_time": "2023-12-26T07:03:46.938Z"
   },
   {
    "duration": 24,
    "start_time": "2023-12-26T07:03:46.954Z"
   },
   {
    "duration": 42,
    "start_time": "2023-12-26T07:03:46.979Z"
   },
   {
    "duration": 77,
    "start_time": "2023-12-26T07:03:47.023Z"
   },
   {
    "duration": 47,
    "start_time": "2023-12-26T07:03:47.102Z"
   },
   {
    "duration": 61,
    "start_time": "2023-12-26T07:03:47.151Z"
   },
   {
    "duration": 49,
    "start_time": "2023-12-26T07:03:47.214Z"
   },
   {
    "duration": 228,
    "start_time": "2023-12-26T07:03:47.265Z"
   },
   {
    "duration": 168,
    "start_time": "2023-12-26T07:03:47.495Z"
   },
   {
    "duration": 68,
    "start_time": "2023-12-26T07:03:47.664Z"
   },
   {
    "duration": 7,
    "start_time": "2023-12-26T07:03:47.734Z"
   },
   {
    "duration": 10,
    "start_time": "2023-12-26T07:03:47.743Z"
   },
   {
    "duration": 345,
    "start_time": "2023-12-26T07:03:47.755Z"
   },
   {
    "duration": 239,
    "start_time": "2023-12-26T07:03:48.104Z"
   },
   {
    "duration": 403,
    "start_time": "2023-12-26T07:03:48.345Z"
   },
   {
    "duration": 7,
    "start_time": "2023-12-26T07:03:48.801Z"
   },
   {
    "duration": 500,
    "start_time": "2023-12-26T07:03:48.810Z"
   },
   {
    "duration": 292,
    "start_time": "2023-12-26T07:03:49.312Z"
   },
   {
    "duration": 8,
    "start_time": "2023-12-26T07:03:49.606Z"
   },
   {
    "duration": 505,
    "start_time": "2023-12-26T07:03:49.616Z"
   },
   {
    "duration": 451,
    "start_time": "2023-12-26T07:03:50.123Z"
   },
   {
    "duration": 166,
    "start_time": "2023-12-26T07:03:50.576Z"
   },
   {
    "duration": 5,
    "start_time": "2023-12-26T07:03:50.744Z"
   },
   {
    "duration": 27,
    "start_time": "2023-12-26T07:03:50.751Z"
   },
   {
    "duration": 188,
    "start_time": "2023-12-26T07:03:50.780Z"
   },
   {
    "duration": 5,
    "start_time": "2023-12-26T07:03:50.970Z"
   },
   {
    "duration": 171,
    "start_time": "2023-12-26T07:03:50.977Z"
   },
   {
    "duration": 78,
    "start_time": "2023-12-26T07:03:51.150Z"
   },
   {
    "duration": 72,
    "start_time": "2023-12-26T07:03:51.229Z"
   },
   {
    "duration": 64,
    "start_time": "2023-12-26T07:03:51.303Z"
   },
   {
    "duration": 73,
    "start_time": "2023-12-26T07:03:51.369Z"
   },
   {
    "duration": 81,
    "start_time": "2023-12-26T07:03:51.443Z"
   },
   {
    "duration": 101,
    "start_time": "2023-12-26T07:03:51.525Z"
   },
   {
    "duration": 6,
    "start_time": "2023-12-26T07:03:51.628Z"
   },
   {
    "duration": 38,
    "start_time": "2023-12-26T07:03:51.636Z"
   },
   {
    "duration": 5,
    "start_time": "2023-12-26T07:03:51.676Z"
   },
   {
    "duration": 26,
    "start_time": "2023-12-26T07:03:51.682Z"
   },
   {
    "duration": 20,
    "start_time": "2023-12-26T07:03:51.709Z"
   },
   {
    "duration": 31,
    "start_time": "2023-12-26T07:03:51.731Z"
   },
   {
    "duration": 9,
    "start_time": "2023-12-26T07:03:51.764Z"
   },
   {
    "duration": 41,
    "start_time": "2023-12-26T07:03:51.775Z"
   },
   {
    "duration": 5,
    "start_time": "2023-12-26T07:03:51.818Z"
   },
   {
    "duration": 43,
    "start_time": "2023-12-26T07:03:51.825Z"
   },
   {
    "duration": 1277,
    "start_time": "2023-12-26T07:11:01.862Z"
   },
   {
    "duration": 26,
    "start_time": "2023-12-26T07:11:03.141Z"
   },
   {
    "duration": 3,
    "start_time": "2023-12-26T07:11:03.169Z"
   },
   {
    "duration": 18,
    "start_time": "2023-12-26T07:11:03.175Z"
   },
   {
    "duration": 19,
    "start_time": "2023-12-26T07:11:03.195Z"
   },
   {
    "duration": 17,
    "start_time": "2023-12-26T07:11:03.216Z"
   },
   {
    "duration": 66,
    "start_time": "2023-12-26T07:11:03.235Z"
   },
   {
    "duration": 6,
    "start_time": "2023-12-26T07:11:03.303Z"
   },
   {
    "duration": 24,
    "start_time": "2023-12-26T07:11:03.312Z"
   },
   {
    "duration": 47,
    "start_time": "2023-12-26T07:11:03.340Z"
   },
   {
    "duration": 18,
    "start_time": "2023-12-26T07:11:03.388Z"
   },
   {
    "duration": 4,
    "start_time": "2023-12-26T07:11:03.407Z"
   },
   {
    "duration": 30,
    "start_time": "2023-12-26T07:11:03.412Z"
   },
   {
    "duration": 18,
    "start_time": "2023-12-26T07:11:03.443Z"
   },
   {
    "duration": 5,
    "start_time": "2023-12-26T07:11:03.463Z"
   },
   {
    "duration": 31,
    "start_time": "2023-12-26T07:11:03.470Z"
   },
   {
    "duration": 6,
    "start_time": "2023-12-26T07:11:03.503Z"
   },
   {
    "duration": 9,
    "start_time": "2023-12-26T07:11:03.511Z"
   },
   {
    "duration": 10,
    "start_time": "2023-12-26T07:11:03.522Z"
   },
   {
    "duration": 7,
    "start_time": "2023-12-26T07:11:03.533Z"
   },
   {
    "duration": 9,
    "start_time": "2023-12-26T07:11:03.541Z"
   },
   {
    "duration": 215,
    "start_time": "2023-12-26T07:11:03.551Z"
   },
   {
    "duration": 132,
    "start_time": "2023-12-26T07:11:03.768Z"
   },
   {
    "duration": 7,
    "start_time": "2023-12-26T07:11:03.902Z"
   },
   {
    "duration": 9,
    "start_time": "2023-12-26T07:11:03.911Z"
   },
   {
    "duration": 7,
    "start_time": "2023-12-26T07:11:03.922Z"
   },
   {
    "duration": 325,
    "start_time": "2023-12-26T07:11:03.931Z"
   },
   {
    "duration": 233,
    "start_time": "2023-12-26T07:11:04.260Z"
   },
   {
    "duration": 324,
    "start_time": "2023-12-26T07:11:04.494Z"
   },
   {
    "duration": 6,
    "start_time": "2023-12-26T07:11:04.820Z"
   },
   {
    "duration": 192,
    "start_time": "2023-12-26T07:11:04.828Z"
   },
   {
    "duration": 148,
    "start_time": "2023-12-26T07:11:05.022Z"
   },
   {
    "duration": 8,
    "start_time": "2023-12-26T07:11:05.172Z"
   },
   {
    "duration": 247,
    "start_time": "2023-12-26T07:11:05.182Z"
   },
   {
    "duration": 312,
    "start_time": "2023-12-26T07:11:05.431Z"
   },
   {
    "duration": 166,
    "start_time": "2023-12-26T07:11:05.745Z"
   },
   {
    "duration": 5,
    "start_time": "2023-12-26T07:11:05.913Z"
   },
   {
    "duration": 17,
    "start_time": "2023-12-26T07:11:05.920Z"
   },
   {
    "duration": 184,
    "start_time": "2023-12-26T07:11:05.938Z"
   },
   {
    "duration": 5,
    "start_time": "2023-12-26T07:11:06.124Z"
   },
   {
    "duration": 154,
    "start_time": "2023-12-26T07:11:06.131Z"
   },
   {
    "duration": 57,
    "start_time": "2023-12-26T07:11:06.287Z"
   },
   {
    "duration": 80,
    "start_time": "2023-12-26T07:11:06.346Z"
   },
   {
    "duration": 76,
    "start_time": "2023-12-26T07:11:06.428Z"
   },
   {
    "duration": 33,
    "start_time": "2023-12-26T07:11:06.506Z"
   },
   {
    "duration": 99,
    "start_time": "2023-12-26T07:11:06.541Z"
   },
   {
    "duration": 96,
    "start_time": "2023-12-26T07:11:06.642Z"
   },
   {
    "duration": 7,
    "start_time": "2023-12-26T07:11:06.739Z"
   },
   {
    "duration": 56,
    "start_time": "2023-12-26T07:11:06.748Z"
   },
   {
    "duration": 5,
    "start_time": "2023-12-26T07:11:06.806Z"
   },
   {
    "duration": 26,
    "start_time": "2023-12-26T07:11:06.813Z"
   },
   {
    "duration": 11,
    "start_time": "2023-12-26T07:11:06.841Z"
   },
   {
    "duration": 11,
    "start_time": "2023-12-26T07:11:06.854Z"
   },
   {
    "duration": 41,
    "start_time": "2023-12-26T07:11:06.866Z"
   },
   {
    "duration": 33,
    "start_time": "2023-12-26T07:11:06.909Z"
   },
   {
    "duration": 5,
    "start_time": "2023-12-26T07:11:06.943Z"
   },
   {
    "duration": 15,
    "start_time": "2023-12-26T07:11:06.950Z"
   },
   {
    "duration": 1454,
    "start_time": "2023-12-26T14:23:21.830Z"
   },
   {
    "duration": 70,
    "start_time": "2023-12-26T14:23:23.286Z"
   },
   {
    "duration": 3,
    "start_time": "2023-12-26T14:23:23.357Z"
   },
   {
    "duration": 15,
    "start_time": "2023-12-26T14:23:23.362Z"
   },
   {
    "duration": 10,
    "start_time": "2023-12-26T14:23:23.379Z"
   },
   {
    "duration": 7,
    "start_time": "2023-12-26T14:23:23.391Z"
   },
   {
    "duration": 56,
    "start_time": "2023-12-26T14:23:23.400Z"
   },
   {
    "duration": 6,
    "start_time": "2023-12-26T14:23:23.457Z"
   },
   {
    "duration": 31,
    "start_time": "2023-12-26T14:23:23.464Z"
   },
   {
    "duration": 93,
    "start_time": "2023-12-26T14:23:23.496Z"
   },
   {
    "duration": 55,
    "start_time": "2023-12-26T14:23:23.591Z"
   },
   {
    "duration": 3,
    "start_time": "2023-12-26T14:23:23.647Z"
   },
   {
    "duration": 24,
    "start_time": "2023-12-26T14:23:23.652Z"
   },
   {
    "duration": 25,
    "start_time": "2023-12-26T14:23:23.679Z"
   },
   {
    "duration": 19,
    "start_time": "2023-12-26T14:23:23.706Z"
   },
   {
    "duration": 14,
    "start_time": "2023-12-26T14:23:23.728Z"
   },
   {
    "duration": 11,
    "start_time": "2023-12-26T14:23:23.744Z"
   },
   {
    "duration": 15,
    "start_time": "2023-12-26T14:23:23.756Z"
   },
   {
    "duration": 11,
    "start_time": "2023-12-26T14:23:23.772Z"
   },
   {
    "duration": 10,
    "start_time": "2023-12-26T14:23:23.784Z"
   },
   {
    "duration": 10,
    "start_time": "2023-12-26T14:23:23.796Z"
   },
   {
    "duration": 191,
    "start_time": "2023-12-26T14:23:23.807Z"
   },
   {
    "duration": 143,
    "start_time": "2023-12-26T14:23:24.000Z"
   },
   {
    "duration": 7,
    "start_time": "2023-12-26T14:23:24.145Z"
   },
   {
    "duration": 8,
    "start_time": "2023-12-26T14:23:24.153Z"
   },
   {
    "duration": 45,
    "start_time": "2023-12-26T14:23:24.162Z"
   },
   {
    "duration": 322,
    "start_time": "2023-12-26T14:23:24.209Z"
   },
   {
    "duration": 239,
    "start_time": "2023-12-26T14:23:24.533Z"
   },
   {
    "duration": 407,
    "start_time": "2023-12-26T14:23:24.774Z"
   },
   {
    "duration": 6,
    "start_time": "2023-12-26T14:23:25.183Z"
   },
   {
    "duration": 283,
    "start_time": "2023-12-26T14:23:25.190Z"
   },
   {
    "duration": 133,
    "start_time": "2023-12-26T14:23:25.475Z"
   },
   {
    "duration": 19,
    "start_time": "2023-12-26T14:23:25.610Z"
   },
   {
    "duration": 227,
    "start_time": "2023-12-26T14:23:25.631Z"
   },
   {
    "duration": 309,
    "start_time": "2023-12-26T14:23:25.860Z"
   },
   {
    "duration": 158,
    "start_time": "2023-12-26T14:23:26.171Z"
   },
   {
    "duration": 9,
    "start_time": "2023-12-26T14:23:26.331Z"
   },
   {
    "duration": 17,
    "start_time": "2023-12-26T14:23:26.341Z"
   },
   {
    "duration": 167,
    "start_time": "2023-12-26T14:23:26.359Z"
   },
   {
    "duration": 7,
    "start_time": "2023-12-26T14:23:26.528Z"
   },
   {
    "duration": 148,
    "start_time": "2023-12-26T14:23:26.541Z"
   },
   {
    "duration": 53,
    "start_time": "2023-12-26T14:23:26.691Z"
   },
   {
    "duration": 57,
    "start_time": "2023-12-26T14:23:26.747Z"
   },
   {
    "duration": 80,
    "start_time": "2023-12-26T14:23:26.805Z"
   },
   {
    "duration": 47,
    "start_time": "2023-12-26T14:23:26.886Z"
   },
   {
    "duration": 80,
    "start_time": "2023-12-26T14:23:26.935Z"
   },
   {
    "duration": 82,
    "start_time": "2023-12-26T14:23:27.017Z"
   },
   {
    "duration": 24,
    "start_time": "2023-12-26T14:23:27.101Z"
   },
   {
    "duration": 27,
    "start_time": "2023-12-26T14:23:27.126Z"
   },
   {
    "duration": 4,
    "start_time": "2023-12-26T14:23:27.154Z"
   },
   {
    "duration": 11,
    "start_time": "2023-12-26T14:23:27.160Z"
   },
   {
    "duration": 12,
    "start_time": "2023-12-26T14:23:27.173Z"
   },
   {
    "duration": 37,
    "start_time": "2023-12-26T14:23:27.187Z"
   },
   {
    "duration": 17,
    "start_time": "2023-12-26T14:23:27.226Z"
   },
   {
    "duration": 27,
    "start_time": "2023-12-26T14:23:27.245Z"
   },
   {
    "duration": 4,
    "start_time": "2023-12-26T14:23:27.274Z"
   },
   {
    "duration": 15,
    "start_time": "2023-12-26T14:23:27.280Z"
   },
   {
    "duration": 1227,
    "start_time": "2024-04-10T08:43:16.498Z"
   },
   {
    "duration": 81,
    "start_time": "2024-04-10T08:43:17.727Z"
   },
   {
    "duration": 3,
    "start_time": "2024-04-10T08:43:17.809Z"
   },
   {
    "duration": 18,
    "start_time": "2024-04-10T08:43:17.814Z"
   },
   {
    "duration": 11,
    "start_time": "2024-04-10T08:43:17.834Z"
   },
   {
    "duration": 16,
    "start_time": "2024-04-10T08:43:17.846Z"
   },
   {
    "duration": 58,
    "start_time": "2024-04-10T08:43:17.863Z"
   },
   {
    "duration": 5,
    "start_time": "2024-04-10T08:43:17.923Z"
   },
   {
    "duration": 33,
    "start_time": "2024-04-10T08:43:17.929Z"
   },
   {
    "duration": 96,
    "start_time": "2024-04-10T08:43:17.964Z"
   },
   {
    "duration": 59,
    "start_time": "2024-04-10T08:43:18.062Z"
   },
   {
    "duration": 4,
    "start_time": "2024-04-10T08:43:18.122Z"
   },
   {
    "duration": 22,
    "start_time": "2024-04-10T08:43:18.127Z"
   },
   {
    "duration": 16,
    "start_time": "2024-04-10T08:43:18.150Z"
   },
   {
    "duration": 13,
    "start_time": "2024-04-10T08:43:18.167Z"
   },
   {
    "duration": 6,
    "start_time": "2024-04-10T08:43:18.181Z"
   },
   {
    "duration": 6,
    "start_time": "2024-04-10T08:43:18.188Z"
   },
   {
    "duration": 22,
    "start_time": "2024-04-10T08:43:18.196Z"
   },
   {
    "duration": 12,
    "start_time": "2024-04-10T08:43:18.220Z"
   },
   {
    "duration": 18,
    "start_time": "2024-04-10T08:43:18.233Z"
   },
   {
    "duration": 12,
    "start_time": "2024-04-10T08:43:18.253Z"
   },
   {
    "duration": 176,
    "start_time": "2024-04-10T08:43:18.267Z"
   },
   {
    "duration": 122,
    "start_time": "2024-04-10T08:43:18.445Z"
   },
   {
    "duration": 17,
    "start_time": "2024-04-10T08:43:18.568Z"
   },
   {
    "duration": 9,
    "start_time": "2024-04-10T08:43:18.586Z"
   },
   {
    "duration": 10,
    "start_time": "2024-04-10T08:43:18.597Z"
   },
   {
    "duration": 320,
    "start_time": "2024-04-10T08:43:18.608Z"
   },
   {
    "duration": 233,
    "start_time": "2024-04-10T08:43:18.932Z"
   },
   {
    "duration": 302,
    "start_time": "2024-04-10T08:43:19.167Z"
   },
   {
    "duration": 9,
    "start_time": "2024-04-10T08:43:19.471Z"
   },
   {
    "duration": 172,
    "start_time": "2024-04-10T08:43:19.482Z"
   },
   {
    "duration": 124,
    "start_time": "2024-04-10T08:43:19.656Z"
   },
   {
    "duration": 6,
    "start_time": "2024-04-10T08:43:19.782Z"
   },
   {
    "duration": 225,
    "start_time": "2024-04-10T08:43:19.790Z"
   },
   {
    "duration": 298,
    "start_time": "2024-04-10T08:43:20.016Z"
   },
   {
    "duration": 144,
    "start_time": "2024-04-10T08:43:20.316Z"
   },
   {
    "duration": 24,
    "start_time": "2024-04-10T08:43:20.462Z"
   },
   {
    "duration": 18,
    "start_time": "2024-04-10T08:43:20.488Z"
   },
   {
    "duration": 167,
    "start_time": "2024-04-10T08:43:20.508Z"
   },
   {
    "duration": 5,
    "start_time": "2024-04-10T08:43:20.680Z"
   },
   {
    "duration": 129,
    "start_time": "2024-04-10T08:43:20.686Z"
   },
   {
    "duration": 55,
    "start_time": "2024-04-10T08:43:20.817Z"
   },
   {
    "duration": 62,
    "start_time": "2024-04-10T08:43:20.874Z"
   },
   {
    "duration": 64,
    "start_time": "2024-04-10T08:43:20.937Z"
   },
   {
    "duration": 30,
    "start_time": "2024-04-10T08:43:21.003Z"
   },
   {
    "duration": 83,
    "start_time": "2024-04-10T08:43:21.035Z"
   },
   {
    "duration": 78,
    "start_time": "2024-04-10T08:43:21.120Z"
   },
   {
    "duration": 5,
    "start_time": "2024-04-10T08:43:21.200Z"
   },
   {
    "duration": 27,
    "start_time": "2024-04-10T08:43:21.206Z"
   },
   {
    "duration": 5,
    "start_time": "2024-04-10T08:43:21.234Z"
   },
   {
    "duration": 15,
    "start_time": "2024-04-10T08:43:21.240Z"
   },
   {
    "duration": 24,
    "start_time": "2024-04-10T08:43:21.257Z"
   },
   {
    "duration": 11,
    "start_time": "2024-04-10T08:43:21.282Z"
   },
   {
    "duration": 9,
    "start_time": "2024-04-10T08:43:21.294Z"
   },
   {
    "duration": 36,
    "start_time": "2024-04-10T08:43:21.305Z"
   },
   {
    "duration": 4,
    "start_time": "2024-04-10T08:43:21.343Z"
   },
   {
    "duration": 17,
    "start_time": "2024-04-10T08:43:21.349Z"
   }
  ],
  "kernelspec": {
   "display_name": "Python 3 (ipykernel)",
   "language": "python",
   "name": "python3"
  },
  "language_info": {
   "codemirror_mode": {
    "name": "ipython",
    "version": 3
   },
   "file_extension": ".py",
   "mimetype": "text/x-python",
   "name": "python",
   "nbconvert_exporter": "python",
   "pygments_lexer": "ipython3",
   "version": "3.9.5"
  },
  "toc": {
   "base_numbering": 1,
   "nav_menu": {},
   "number_sections": true,
   "sideBar": true,
   "skip_h1_title": true,
   "title_cell": "Table of Contents",
   "title_sidebar": "Contents",
   "toc_cell": false,
   "toc_position": {
    "height": "calc(100% - 180px)",
    "left": "10px",
    "top": "150px",
    "width": "352.391px"
   },
   "toc_section_display": true,
   "toc_window_display": true
  }
 },
 "nbformat": 4,
 "nbformat_minor": 2
}
